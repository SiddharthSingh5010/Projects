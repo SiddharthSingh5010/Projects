{
 "cells": [
  {
   "cell_type": "code",
   "execution_count": 1,
   "id": "703bd751-7dd6-48a5-8a27-f1ac1581ca86",
   "metadata": {},
   "outputs": [],
   "source": [
    "import xgboost as xgb                       #XGBoost\n",
    "import optuna                               #Optuna for Hyperparameter Tuning\n",
    "import sidfunc as sf                        #SidFunc - my own library for simple functions\n",
    "import seaborn as sns                       #Seaborn\n",
    "import pandas as pd                         #Pandas for dataframe operations\n",
    "import numpy as np                          #Numpy\n",
    "import matplotlib.pyplot as plt             #Matplotlib for plotting\n",
    "from sklearn.model_selection import KFold   #KFold for splitting dataset\n",
    "from sklearn.metrics import accuracy_score  #To check accuracy score\n",
    "from warnings import filterwarnings\n",
    "from factor_analyzer import FactorAnalyzer\n",
    "from factor_analyzer.factor_analyzer import calculate_kmo\n",
    "from scipy.stats import zscore\n",
    "from sklearn.decomposition import PCA\n",
    "from factor_analyzer.factor_analyzer import calculate_bartlett_sphericity\n",
    "filterwarnings('ignore')\n",
    "%matplotlib inline\n",
    "sns.set_palette('deep')"
   ]
  },
  {
   "cell_type": "code",
   "execution_count": 2,
   "id": "5bba08f1-983b-40a4-b7a0-0e629f4593c0",
   "metadata": {},
   "outputs": [],
   "source": [
    "#Loading Training Data\n",
    "train = pd.read_csv('train.csv')"
   ]
  },
  {
   "cell_type": "markdown",
   "id": "c9ee2934-3ad8-4676-b95f-cf0ec6da6abf",
   "metadata": {},
   "source": [
    "# Performing EDA"
   ]
  },
  {
   "cell_type": "code",
   "execution_count": 3,
   "id": "425133fa-d47e-4a96-8e4e-d0553953dcda",
   "metadata": {},
   "outputs": [
    {
     "name": "stdout",
     "output_type": "stream",
     "text": [
      "<class 'pandas.core.frame.DataFrame'>\n",
      "RangeIndex: 614 entries, 0 to 613\n",
      "Data columns (total 13 columns):\n",
      " #   Column             Non-Null Count  Dtype  \n",
      "---  ------             --------------  -----  \n",
      " 0   Loan_ID            614 non-null    object \n",
      " 1   Gender             601 non-null    object \n",
      " 2   Married            611 non-null    object \n",
      " 3   Dependents         599 non-null    object \n",
      " 4   Education          614 non-null    object \n",
      " 5   Self_Employed      582 non-null    object \n",
      " 6   ApplicantIncome    614 non-null    int64  \n",
      " 7   CoapplicantIncome  614 non-null    float64\n",
      " 8   LoanAmount         592 non-null    float64\n",
      " 9   Loan_Amount_Term   600 non-null    float64\n",
      " 10  Credit_History     564 non-null    float64\n",
      " 11  Property_Area      614 non-null    object \n",
      " 12  Loan_Status        614 non-null    object \n",
      "dtypes: float64(4), int64(1), object(8)\n",
      "memory usage: 62.5+ KB\n"
     ]
    }
   ],
   "source": [
    "train.info()"
   ]
  },
  {
   "cell_type": "code",
   "execution_count": 4,
   "id": "36a6cc17-45b9-47a1-90fb-a600c9d6ad5f",
   "metadata": {},
   "outputs": [
    {
     "data": {
      "text/plain": [
       "Loan_ID               0\n",
       "Gender               13\n",
       "Married               3\n",
       "Dependents           15\n",
       "Education             0\n",
       "Self_Employed        32\n",
       "ApplicantIncome       0\n",
       "CoapplicantIncome     0\n",
       "LoanAmount           22\n",
       "Loan_Amount_Term     14\n",
       "Credit_History       50\n",
       "Property_Area         0\n",
       "Loan_Status           0\n",
       "dtype: int64"
      ]
     },
     "execution_count": 4,
     "metadata": {},
     "output_type": "execute_result"
    }
   ],
   "source": [
    "train.isna().sum()"
   ]
  },
  {
   "cell_type": "code",
   "execution_count": 5,
   "id": "ca1b2c4a-ddeb-41d7-9a1b-75c2d08a7c00",
   "metadata": {},
   "outputs": [
    {
     "data": {
      "text/html": [
       "<div>\n",
       "<style scoped>\n",
       "    .dataframe tbody tr th:only-of-type {\n",
       "        vertical-align: middle;\n",
       "    }\n",
       "\n",
       "    .dataframe tbody tr th {\n",
       "        vertical-align: top;\n",
       "    }\n",
       "\n",
       "    .dataframe thead th {\n",
       "        text-align: right;\n",
       "    }\n",
       "</style>\n",
       "<table border=\"1\" class=\"dataframe\">\n",
       "  <thead>\n",
       "    <tr style=\"text-align: right;\">\n",
       "      <th></th>\n",
       "      <th>ApplicantIncome</th>\n",
       "      <th>CoapplicantIncome</th>\n",
       "      <th>LoanAmount</th>\n",
       "      <th>Loan_Amount_Term</th>\n",
       "      <th>Credit_History</th>\n",
       "    </tr>\n",
       "    <tr>\n",
       "      <th>Loan_Status</th>\n",
       "      <th></th>\n",
       "      <th></th>\n",
       "      <th></th>\n",
       "      <th></th>\n",
       "      <th></th>\n",
       "    </tr>\n",
       "  </thead>\n",
       "  <tbody>\n",
       "    <tr>\n",
       "      <th>N</th>\n",
       "      <td>3833.5</td>\n",
       "      <td>268.0</td>\n",
       "      <td>129.0</td>\n",
       "      <td>360.0</td>\n",
       "      <td>1.0</td>\n",
       "    </tr>\n",
       "    <tr>\n",
       "      <th>Y</th>\n",
       "      <td>3812.5</td>\n",
       "      <td>1239.5</td>\n",
       "      <td>126.0</td>\n",
       "      <td>360.0</td>\n",
       "      <td>1.0</td>\n",
       "    </tr>\n",
       "  </tbody>\n",
       "</table>\n",
       "</div>"
      ],
      "text/plain": [
       "             ApplicantIncome  CoapplicantIncome  LoanAmount  Loan_Amount_Term  \\\n",
       "Loan_Status                                                                     \n",
       "N                     3833.5              268.0       129.0             360.0   \n",
       "Y                     3812.5             1239.5       126.0             360.0   \n",
       "\n",
       "             Credit_History  \n",
       "Loan_Status                  \n",
       "N                       1.0  \n",
       "Y                       1.0  "
      ]
     },
     "execution_count": 5,
     "metadata": {},
     "output_type": "execute_result"
    }
   ],
   "source": [
    "train.groupby('Loan_Status').median()"
   ]
  },
  {
   "cell_type": "code",
   "execution_count": 6,
   "id": "fc231456-41d4-4471-a597-00929f52a58a",
   "metadata": {},
   "outputs": [
    {
     "data": {
      "text/plain": [
       "<matplotlib.axes._subplots.AxesSubplot at 0x22500a70c70>"
      ]
     },
     "execution_count": 6,
     "metadata": {},
     "output_type": "execute_result"
    },
    {
     "data": {
      "image/png": "[encoded data removed]",
      "text/plain": [
       "<Figure size 432x288 with 1 Axes>"
      ]
     },
     "metadata": {
      "needs_background": "light"
     },
     "output_type": "display_data"
    }
   ],
   "source": [
    "sns.distplot(train[train['Loan_Status']=='Y']['LoanAmount'],color='r')\n",
    "sns.distplot(train[train['Loan_Status']=='N']['LoanAmount'],color='g')"
   ]
  },
  {
   "cell_type": "code",
   "execution_count": 7,
   "id": "891aa5a2-be5e-459d-b9cf-95e803f50618",
   "metadata": {},
   "outputs": [
    {
     "data": {
      "text/plain": [
       "<matplotlib.axes._subplots.AxesSubplot at 0x22500c2cdc0>"
      ]
     },
     "execution_count": 7,
     "metadata": {},
     "output_type": "execute_result"
    },
    {
     "data": {
      "image/png": "[encoded data removed]",
      "text/plain": [
       "<Figure size 432x288 with 1 Axes>"
      ]
     },
     "metadata": {
      "needs_background": "light"
     },
     "output_type": "display_data"
    }
   ],
   "source": [
    "sns.distplot(train[train['Loan_Status']=='Y']['ApplicantIncome'])\n",
    "sns.distplot(train[train['Loan_Status']=='N']['ApplicantIncome'])"
   ]
  },
  {
   "cell_type": "code",
   "execution_count": 8,
   "id": "a4d54bd8-4acd-43e1-9a9a-3f386a48ec0a",
   "metadata": {},
   "outputs": [
    {
     "data": {
      "text/html": [
       "<div>\n",
       "<style scoped>\n",
       "    .dataframe tbody tr th:only-of-type {\n",
       "        vertical-align: middle;\n",
       "    }\n",
       "\n",
       "    .dataframe tbody tr th {\n",
       "        vertical-align: top;\n",
       "    }\n",
       "\n",
       "    .dataframe thead th {\n",
       "        text-align: right;\n",
       "    }\n",
       "</style>\n",
       "<table border=\"1\" class=\"dataframe\">\n",
       "  <thead>\n",
       "    <tr style=\"text-align: right;\">\n",
       "      <th></th>\n",
       "      <th>count</th>\n",
       "      <th>unique</th>\n",
       "      <th>top</th>\n",
       "      <th>freq</th>\n",
       "      <th>mean</th>\n",
       "      <th>std</th>\n",
       "      <th>min</th>\n",
       "      <th>25%</th>\n",
       "      <th>50%</th>\n",
       "      <th>75%</th>\n",
       "      <th>max</th>\n",
       "    </tr>\n",
       "  </thead>\n",
       "  <tbody>\n",
       "    <tr>\n",
       "      <th>Loan_ID</th>\n",
       "      <td>614</td>\n",
       "      <td>614</td>\n",
       "      <td>LP002536</td>\n",
       "      <td>1</td>\n",
       "      <td>NaN</td>\n",
       "      <td>NaN</td>\n",
       "      <td>NaN</td>\n",
       "      <td>NaN</td>\n",
       "      <td>NaN</td>\n",
       "      <td>NaN</td>\n",
       "      <td>NaN</td>\n",
       "    </tr>\n",
       "    <tr>\n",
       "      <th>Gender</th>\n",
       "      <td>601</td>\n",
       "      <td>2</td>\n",
       "      <td>Male</td>\n",
       "      <td>489</td>\n",
       "      <td>NaN</td>\n",
       "      <td>NaN</td>\n",
       "      <td>NaN</td>\n",
       "      <td>NaN</td>\n",
       "      <td>NaN</td>\n",
       "      <td>NaN</td>\n",
       "      <td>NaN</td>\n",
       "    </tr>\n",
       "    <tr>\n",
       "      <th>Married</th>\n",
       "      <td>611</td>\n",
       "      <td>2</td>\n",
       "      <td>Yes</td>\n",
       "      <td>398</td>\n",
       "      <td>NaN</td>\n",
       "      <td>NaN</td>\n",
       "      <td>NaN</td>\n",
       "      <td>NaN</td>\n",
       "      <td>NaN</td>\n",
       "      <td>NaN</td>\n",
       "      <td>NaN</td>\n",
       "    </tr>\n",
       "    <tr>\n",
       "      <th>Dependents</th>\n",
       "      <td>599</td>\n",
       "      <td>4</td>\n",
       "      <td>0</td>\n",
       "      <td>345</td>\n",
       "      <td>NaN</td>\n",
       "      <td>NaN</td>\n",
       "      <td>NaN</td>\n",
       "      <td>NaN</td>\n",
       "      <td>NaN</td>\n",
       "      <td>NaN</td>\n",
       "      <td>NaN</td>\n",
       "    </tr>\n",
       "    <tr>\n",
       "      <th>Education</th>\n",
       "      <td>614</td>\n",
       "      <td>2</td>\n",
       "      <td>Graduate</td>\n",
       "      <td>480</td>\n",
       "      <td>NaN</td>\n",
       "      <td>NaN</td>\n",
       "      <td>NaN</td>\n",
       "      <td>NaN</td>\n",
       "      <td>NaN</td>\n",
       "      <td>NaN</td>\n",
       "      <td>NaN</td>\n",
       "    </tr>\n",
       "    <tr>\n",
       "      <th>Self_Employed</th>\n",
       "      <td>582</td>\n",
       "      <td>2</td>\n",
       "      <td>No</td>\n",
       "      <td>500</td>\n",
       "      <td>NaN</td>\n",
       "      <td>NaN</td>\n",
       "      <td>NaN</td>\n",
       "      <td>NaN</td>\n",
       "      <td>NaN</td>\n",
       "      <td>NaN</td>\n",
       "      <td>NaN</td>\n",
       "    </tr>\n",
       "    <tr>\n",
       "      <th>ApplicantIncome</th>\n",
       "      <td>614.0</td>\n",
       "      <td>NaN</td>\n",
       "      <td>NaN</td>\n",
       "      <td>NaN</td>\n",
       "      <td>5403.459283</td>\n",
       "      <td>6109.041673</td>\n",
       "      <td>150.0</td>\n",
       "      <td>2877.5</td>\n",
       "      <td>3812.5</td>\n",
       "      <td>5795.0</td>\n",
       "      <td>81000.0</td>\n",
       "    </tr>\n",
       "    <tr>\n",
       "      <th>CoapplicantIncome</th>\n",
       "      <td>614.0</td>\n",
       "      <td>NaN</td>\n",
       "      <td>NaN</td>\n",
       "      <td>NaN</td>\n",
       "      <td>1621.245798</td>\n",
       "      <td>2926.248369</td>\n",
       "      <td>0.0</td>\n",
       "      <td>0.0</td>\n",
       "      <td>1188.5</td>\n",
       "      <td>2297.25</td>\n",
       "      <td>41667.0</td>\n",
       "    </tr>\n",
       "    <tr>\n",
       "      <th>LoanAmount</th>\n",
       "      <td>592.0</td>\n",
       "      <td>NaN</td>\n",
       "      <td>NaN</td>\n",
       "      <td>NaN</td>\n",
       "      <td>146.412162</td>\n",
       "      <td>85.587325</td>\n",
       "      <td>9.0</td>\n",
       "      <td>100.0</td>\n",
       "      <td>128.0</td>\n",
       "      <td>168.0</td>\n",
       "      <td>700.0</td>\n",
       "    </tr>\n",
       "    <tr>\n",
       "      <th>Loan_Amount_Term</th>\n",
       "      <td>600.0</td>\n",
       "      <td>NaN</td>\n",
       "      <td>NaN</td>\n",
       "      <td>NaN</td>\n",
       "      <td>342.0</td>\n",
       "      <td>65.12041</td>\n",
       "      <td>12.0</td>\n",
       "      <td>360.0</td>\n",
       "      <td>360.0</td>\n",
       "      <td>360.0</td>\n",
       "      <td>480.0</td>\n",
       "    </tr>\n",
       "    <tr>\n",
       "      <th>Credit_History</th>\n",
       "      <td>564.0</td>\n",
       "      <td>NaN</td>\n",
       "      <td>NaN</td>\n",
       "      <td>NaN</td>\n",
       "      <td>0.842199</td>\n",
       "      <td>0.364878</td>\n",
       "      <td>0.0</td>\n",
       "      <td>1.0</td>\n",
       "      <td>1.0</td>\n",
       "      <td>1.0</td>\n",
       "      <td>1.0</td>\n",
       "    </tr>\n",
       "    <tr>\n",
       "      <th>Property_Area</th>\n",
       "      <td>614</td>\n",
       "      <td>3</td>\n",
       "      <td>Semiurban</td>\n",
       "      <td>233</td>\n",
       "      <td>NaN</td>\n",
       "      <td>NaN</td>\n",
       "      <td>NaN</td>\n",
       "      <td>NaN</td>\n",
       "      <td>NaN</td>\n",
       "      <td>NaN</td>\n",
       "      <td>NaN</td>\n",
       "    </tr>\n",
       "    <tr>\n",
       "      <th>Loan_Status</th>\n",
       "      <td>614</td>\n",
       "      <td>2</td>\n",
       "      <td>Y</td>\n",
       "      <td>422</td>\n",
       "      <td>NaN</td>\n",
       "      <td>NaN</td>\n",
       "      <td>NaN</td>\n",
       "      <td>NaN</td>\n",
       "      <td>NaN</td>\n",
       "      <td>NaN</td>\n",
       "      <td>NaN</td>\n",
       "    </tr>\n",
       "  </tbody>\n",
       "</table>\n",
       "</div>"
      ],
      "text/plain": [
       "                   count unique        top freq         mean          std  \\\n",
       "Loan_ID              614    614   LP002536    1          NaN          NaN   \n",
       "Gender               601      2       Male  489          NaN          NaN   \n",
       "Married              611      2        Yes  398          NaN          NaN   \n",
       "Dependents           599      4          0  345          NaN          NaN   \n",
       "Education            614      2   Graduate  480          NaN          NaN   \n",
       "Self_Employed        582      2         No  500          NaN          NaN   \n",
       "ApplicantIncome    614.0    NaN        NaN  NaN  5403.459283  6109.041673   \n",
       "CoapplicantIncome  614.0    NaN        NaN  NaN  1621.245798  2926.248369   \n",
       "LoanAmount         592.0    NaN        NaN  NaN   146.412162    85.587325   \n",
       "Loan_Amount_Term   600.0    NaN        NaN  NaN        342.0     65.12041   \n",
       "Credit_History     564.0    NaN        NaN  NaN     0.842199     0.364878   \n",
       "Property_Area        614      3  Semiurban  233          NaN          NaN   \n",
       "Loan_Status          614      2          Y  422          NaN          NaN   \n",
       "\n",
       "                     min     25%     50%      75%      max  \n",
       "Loan_ID              NaN     NaN     NaN      NaN      NaN  \n",
       "Gender               NaN     NaN     NaN      NaN      NaN  \n",
       "Married              NaN     NaN     NaN      NaN      NaN  \n",
       "Dependents           NaN     NaN     NaN      NaN      NaN  \n",
       "Education            NaN     NaN     NaN      NaN      NaN  \n",
       "Self_Employed        NaN     NaN     NaN      NaN      NaN  \n",
       "ApplicantIncome    150.0  2877.5  3812.5   5795.0  81000.0  \n",
       "CoapplicantIncome    0.0     0.0  1188.5  2297.25  41667.0  \n",
       "LoanAmount           9.0   100.0   128.0    168.0    700.0  \n",
       "Loan_Amount_Term    12.0   360.0   360.0    360.0    480.0  \n",
       "Credit_History       0.0     1.0     1.0      1.0      1.0  \n",
       "Property_Area        NaN     NaN     NaN      NaN      NaN  \n",
       "Loan_Status          NaN     NaN     NaN      NaN      NaN  "
      ]
     },
     "execution_count": 8,
     "metadata": {},
     "output_type": "execute_result"
    }
   ],
   "source": [
    "train.describe(include='all').T"
   ]
  },
  {
   "cell_type": "code",
   "execution_count": 9,
   "id": "fb40f3fc-7cc3-471f-ba88-aa07c273e740",
   "metadata": {},
   "outputs": [
    {
     "data": {
      "text/html": [
       "<div>\n",
       "<style scoped>\n",
       "    .dataframe tbody tr th:only-of-type {\n",
       "        vertical-align: middle;\n",
       "    }\n",
       "\n",
       "    .dataframe tbody tr th {\n",
       "        vertical-align: top;\n",
       "    }\n",
       "\n",
       "    .dataframe thead th {\n",
       "        text-align: right;\n",
       "    }\n",
       "</style>\n",
       "<table border=\"1\" class=\"dataframe\">\n",
       "  <thead>\n",
       "    <tr style=\"text-align: right;\">\n",
       "      <th></th>\n",
       "      <th>ApplicantIncome</th>\n",
       "      <th>CoapplicantIncome</th>\n",
       "      <th>LoanAmount</th>\n",
       "      <th>Loan_Amount_Term</th>\n",
       "      <th>Credit_History</th>\n",
       "    </tr>\n",
       "  </thead>\n",
       "  <tbody>\n",
       "    <tr>\n",
       "      <th>0</th>\n",
       "      <td>5849</td>\n",
       "      <td>0.0</td>\n",
       "      <td>NaN</td>\n",
       "      <td>360.0</td>\n",
       "      <td>1.0</td>\n",
       "    </tr>\n",
       "    <tr>\n",
       "      <th>1</th>\n",
       "      <td>4583</td>\n",
       "      <td>1508.0</td>\n",
       "      <td>128.0</td>\n",
       "      <td>360.0</td>\n",
       "      <td>1.0</td>\n",
       "    </tr>\n",
       "    <tr>\n",
       "      <th>2</th>\n",
       "      <td>3000</td>\n",
       "      <td>0.0</td>\n",
       "      <td>66.0</td>\n",
       "      <td>360.0</td>\n",
       "      <td>1.0</td>\n",
       "    </tr>\n",
       "    <tr>\n",
       "      <th>3</th>\n",
       "      <td>2583</td>\n",
       "      <td>2358.0</td>\n",
       "      <td>120.0</td>\n",
       "      <td>360.0</td>\n",
       "      <td>1.0</td>\n",
       "    </tr>\n",
       "    <tr>\n",
       "      <th>4</th>\n",
       "      <td>6000</td>\n",
       "      <td>0.0</td>\n",
       "      <td>141.0</td>\n",
       "      <td>360.0</td>\n",
       "      <td>1.0</td>\n",
       "    </tr>\n",
       "  </tbody>\n",
       "</table>\n",
       "</div>"
      ],
      "text/plain": [
       "   ApplicantIncome  CoapplicantIncome  LoanAmount  Loan_Amount_Term  \\\n",
       "0             5849                0.0         NaN             360.0   \n",
       "1             4583             1508.0       128.0             360.0   \n",
       "2             3000                0.0        66.0             360.0   \n",
       "3             2583             2358.0       120.0             360.0   \n",
       "4             6000                0.0       141.0             360.0   \n",
       "\n",
       "   Credit_History  \n",
       "0             1.0  \n",
       "1             1.0  \n",
       "2             1.0  \n",
       "3             1.0  \n",
       "4             1.0  "
      ]
     },
     "execution_count": 9,
     "metadata": {},
     "output_type": "execute_result"
    }
   ],
   "source": [
    "#Numeric Data Study\n",
    "train.select_dtypes(exclude='object').head()"
   ]
  },
  {
   "cell_type": "code",
   "execution_count": 10,
   "id": "72c00963-c8f3-466c-8a0b-bfe8f68608f6",
   "metadata": {},
   "outputs": [
    {
     "data": {
      "image/png": "[encoded data removed]",
      "text/plain": [
       "<Figure size 720x720 with 5 Axes>"
      ]
     },
     "metadata": {
      "needs_background": "light"
     },
     "output_type": "display_data"
    }
   ],
   "source": [
    "sf.plotmultiple(list(train.select_dtypes(exclude='object').columns),train.select_dtypes(exclude='object'),(10,10),'hist');"
   ]
  },
  {
   "cell_type": "code",
   "execution_count": 11,
   "id": "323a2fee-4f7b-41cb-81f5-47aa70fcb30c",
   "metadata": {},
   "outputs": [
    {
     "data": {
      "image/png": "[encoded data removed]",
      "text/plain": [
       "<Figure size 720x720 with 5 Axes>"
      ]
     },
     "metadata": {
      "needs_background": "light"
     },
     "output_type": "display_data"
    }
   ],
   "source": [
    "sf.plotmultiple(list(train.select_dtypes(exclude='object').columns),train.select_dtypes(exclude='object'),(10,10),'box');"
   ]
  },
  {
   "cell_type": "code",
   "execution_count": 12,
   "id": "3103ea86-2885-4159-94d1-b2367c164fa1",
   "metadata": {},
   "outputs": [
    {
     "data": {
      "text/html": [
       "<div>\n",
       "<style scoped>\n",
       "    .dataframe tbody tr th:only-of-type {\n",
       "        vertical-align: middle;\n",
       "    }\n",
       "\n",
       "    .dataframe tbody tr th {\n",
       "        vertical-align: top;\n",
       "    }\n",
       "\n",
       "    .dataframe thead th {\n",
       "        text-align: right;\n",
       "    }\n",
       "</style>\n",
       "<table border=\"1\" class=\"dataframe\">\n",
       "  <thead>\n",
       "    <tr style=\"text-align: right;\">\n",
       "      <th></th>\n",
       "      <th>Gender</th>\n",
       "      <th>Married</th>\n",
       "      <th>Dependents</th>\n",
       "      <th>Education</th>\n",
       "      <th>Self_Employed</th>\n",
       "      <th>Property_Area</th>\n",
       "      <th>Loan_Status</th>\n",
       "    </tr>\n",
       "  </thead>\n",
       "  <tbody>\n",
       "    <tr>\n",
       "      <th>0</th>\n",
       "      <td>Male</td>\n",
       "      <td>No</td>\n",
       "      <td>0</td>\n",
       "      <td>Graduate</td>\n",
       "      <td>No</td>\n",
       "      <td>Urban</td>\n",
       "      <td>Y</td>\n",
       "    </tr>\n",
       "    <tr>\n",
       "      <th>1</th>\n",
       "      <td>Male</td>\n",
       "      <td>Yes</td>\n",
       "      <td>1</td>\n",
       "      <td>Graduate</td>\n",
       "      <td>No</td>\n",
       "      <td>Rural</td>\n",
       "      <td>N</td>\n",
       "    </tr>\n",
       "    <tr>\n",
       "      <th>2</th>\n",
       "      <td>Male</td>\n",
       "      <td>Yes</td>\n",
       "      <td>0</td>\n",
       "      <td>Graduate</td>\n",
       "      <td>Yes</td>\n",
       "      <td>Urban</td>\n",
       "      <td>Y</td>\n",
       "    </tr>\n",
       "    <tr>\n",
       "      <th>3</th>\n",
       "      <td>Male</td>\n",
       "      <td>Yes</td>\n",
       "      <td>0</td>\n",
       "      <td>Not Graduate</td>\n",
       "      <td>No</td>\n",
       "      <td>Urban</td>\n",
       "      <td>Y</td>\n",
       "    </tr>\n",
       "    <tr>\n",
       "      <th>4</th>\n",
       "      <td>Male</td>\n",
       "      <td>No</td>\n",
       "      <td>0</td>\n",
       "      <td>Graduate</td>\n",
       "      <td>No</td>\n",
       "      <td>Urban</td>\n",
       "      <td>Y</td>\n",
       "    </tr>\n",
       "  </tbody>\n",
       "</table>\n",
       "</div>"
      ],
      "text/plain": [
       "  Gender Married Dependents     Education Self_Employed Property_Area  \\\n",
       "0   Male      No          0      Graduate            No         Urban   \n",
       "1   Male     Yes          1      Graduate            No         Rural   \n",
       "2   Male     Yes          0      Graduate           Yes         Urban   \n",
       "3   Male     Yes          0  Not Graduate            No         Urban   \n",
       "4   Male      No          0      Graduate            No         Urban   \n",
       "\n",
       "  Loan_Status  \n",
       "0           Y  \n",
       "1           N  \n",
       "2           Y  \n",
       "3           Y  \n",
       "4           Y  "
      ]
     },
     "execution_count": 12,
     "metadata": {},
     "output_type": "execute_result"
    }
   ],
   "source": [
    "#Categorical data study\n",
    "train.select_dtypes('object').drop('Loan_ID',axis=1).head()"
   ]
  },
  {
   "cell_type": "code",
   "execution_count": 13,
   "id": "a21e19b8-6ed9-4586-92ea-9798b92d660f",
   "metadata": {},
   "outputs": [
    {
     "data": {
      "image/png": "[encoded data removed]",
      "text/plain": [
       "<Figure size 1440x2160 with 7 Axes>"
      ]
     },
     "metadata": {
      "needs_background": "light"
     },
     "output_type": "display_data"
    }
   ],
   "source": [
    "sf.plotmultiple(list(train.select_dtypes('object').drop('Loan_ID',axis=1).columns),train.select_dtypes('object').drop('Loan_ID',axis=1),(20,30),'count',orient='h');"
   ]
  },
  {
   "cell_type": "code",
   "execution_count": 14,
   "id": "bbd9becc-2947-42d7-b8c8-5700ed2951b4",
   "metadata": {},
   "outputs": [
    {
     "data": {
      "image/png": "[encoded data removed]",
      "text/plain": [
       "<Figure size 720x576 with 2 Axes>"
      ]
     },
     "metadata": {
      "needs_background": "light"
     },
     "output_type": "display_data"
    }
   ],
   "source": [
    "plt.figure(figsize=(10,8))\n",
    "sns.heatmap(train.isnull(),cmap='plasma');"
   ]
  },
  {
   "cell_type": "code",
   "execution_count": 15,
   "id": "177194ca-3929-495c-9628-8f403bd38b41",
   "metadata": {},
   "outputs": [
    {
     "data": {
      "text/plain": [
       "Y    422\n",
       "N    192\n",
       "Name: Loan_Status, dtype: int64"
      ]
     },
     "execution_count": 15,
     "metadata": {},
     "output_type": "execute_result"
    }
   ],
   "source": [
    "train['Loan_Status'].value_counts()"
   ]
  },
  {
   "cell_type": "code",
   "execution_count": 16,
   "id": "c0891937-035c-4ef5-b8bb-42c2e1a8dcb7",
   "metadata": {},
   "outputs": [
    {
     "data": {
      "image/png": "[encoded data removed]",
      "text/plain": [
       "<Figure size 432x288 with 2 Axes>"
      ]
     },
     "metadata": {
      "needs_background": "light"
     },
     "output_type": "display_data"
    }
   ],
   "source": [
    "sns.heatmap(train.corr(),annot=True);"
   ]
  },
  {
   "cell_type": "code",
   "execution_count": 17,
   "id": "4ef7c5ce-ccfc-4d8b-b806-427f43b33752",
   "metadata": {},
   "outputs": [
    {
     "data": {
      "image/png": "[encoded data removed]",
      "text/plain": [
       "<Figure size 1440x2520 with 7 Axes>"
      ]
     },
     "metadata": {
      "needs_background": "light"
     },
     "output_type": "display_data"
    }
   ],
   "source": [
    "sf.plotmultiple(list(train.select_dtypes('object').drop('Loan_ID',axis=1).columns),train.select_dtypes('object').drop('Loan_ID',axis=1),(20,35),'count',hue='Loan_Status',orient='h')"
   ]
  },
  {
   "cell_type": "code",
   "execution_count": 18,
   "id": "dd5e1565-5733-4548-ad7c-69117f8075d3",
   "metadata": {},
   "outputs": [
    {
     "data": {
      "image/png": "[encoded data removed]",
      "text/plain": [
       "<Figure size 432x288 with 1 Axes>"
      ]
     },
     "metadata": {
      "needs_background": "light"
     },
     "output_type": "display_data"
    }
   ],
   "source": [
    "sns.countplot(x='Loan_Status',data=train,hue='Credit_History');"
   ]
  },
  {
   "cell_type": "code",
   "execution_count": 19,
   "id": "09d47587-3c61-4de7-8d48-0a86435b754a",
   "metadata": {},
   "outputs": [
    {
     "data": {
      "image/png": "[encoded data removed]",
      "text/plain": [
       "<Figure size 432x288 with 1 Axes>"
      ]
     },
     "metadata": {
      "needs_background": "light"
     },
     "output_type": "display_data"
    }
   ],
   "source": [
    "sns.countplot(x='Loan_Status',data=train,hue='Loan_Amount_Term');"
   ]
  },
  {
   "cell_type": "code",
   "execution_count": 20,
   "id": "d5fea3b4-5443-4128-8541-509578c6fa0a",
   "metadata": {},
   "outputs": [
    {
     "data": {
      "image/png": "[encoded data removed]",
      "text/plain": [
       "<Figure size 432x288 with 1 Axes>"
      ]
     },
     "metadata": {
      "needs_background": "light"
     },
     "output_type": "display_data"
    }
   ],
   "source": [
    "sns.scatterplot(train['ApplicantIncome'],train['LoanAmount']);"
   ]
  },
  {
   "cell_type": "code",
   "execution_count": 21,
   "id": "f65aae19-e424-4c0f-9ebd-c994c4dc5819",
   "metadata": {},
   "outputs": [
    {
     "data": {
      "image/png": "[encoded data removed]",
      "text/plain": [
       "<Figure size 432x288 with 1 Axes>"
      ]
     },
     "metadata": {
      "needs_background": "light"
     },
     "output_type": "display_data"
    }
   ],
   "source": [
    "sns.distplot(train['LoanAmount']);"
   ]
  },
  {
   "cell_type": "code",
   "execution_count": 22,
   "id": "c53492cd-d8fb-4b28-bdcb-41c0c60d5e55",
   "metadata": {},
   "outputs": [
    {
     "data": {
      "image/png": "[encoded data removed]",
      "text/plain": [
       "<Figure size 432x288 with 1 Axes>"
      ]
     },
     "metadata": {
      "needs_background": "light"
     },
     "output_type": "display_data"
    }
   ],
   "source": [
    "sns.distplot(train['ApplicantIncome']);"
   ]
  },
  {
   "cell_type": "code",
   "execution_count": 23,
   "id": "4ef70ea0-5fda-483f-a38b-019e321cb1c6",
   "metadata": {},
   "outputs": [
    {
     "data": {
      "text/html": [
       "<div>\n",
       "<style scoped>\n",
       "    .dataframe tbody tr th:only-of-type {\n",
       "        vertical-align: middle;\n",
       "    }\n",
       "\n",
       "    .dataframe tbody tr th {\n",
       "        vertical-align: top;\n",
       "    }\n",
       "\n",
       "    .dataframe thead th {\n",
       "        text-align: right;\n",
       "    }\n",
       "</style>\n",
       "<table border=\"1\" class=\"dataframe\">\n",
       "  <thead>\n",
       "    <tr style=\"text-align: right;\">\n",
       "      <th></th>\n",
       "      <th>LoanAmount</th>\n",
       "      <th>ApplicantIncome</th>\n",
       "    </tr>\n",
       "  </thead>\n",
       "  <tbody>\n",
       "    <tr>\n",
       "      <th>count</th>\n",
       "      <td>592.000000</td>\n",
       "      <td>614.000000</td>\n",
       "    </tr>\n",
       "    <tr>\n",
       "      <th>mean</th>\n",
       "      <td>146.412162</td>\n",
       "      <td>5403.459283</td>\n",
       "    </tr>\n",
       "    <tr>\n",
       "      <th>std</th>\n",
       "      <td>85.587325</td>\n",
       "      <td>6109.041673</td>\n",
       "    </tr>\n",
       "    <tr>\n",
       "      <th>min</th>\n",
       "      <td>9.000000</td>\n",
       "      <td>150.000000</td>\n",
       "    </tr>\n",
       "    <tr>\n",
       "      <th>25%</th>\n",
       "      <td>100.000000</td>\n",
       "      <td>2877.500000</td>\n",
       "    </tr>\n",
       "    <tr>\n",
       "      <th>50%</th>\n",
       "      <td>128.000000</td>\n",
       "      <td>3812.500000</td>\n",
       "    </tr>\n",
       "    <tr>\n",
       "      <th>75%</th>\n",
       "      <td>168.000000</td>\n",
       "      <td>5795.000000</td>\n",
       "    </tr>\n",
       "    <tr>\n",
       "      <th>max</th>\n",
       "      <td>700.000000</td>\n",
       "      <td>81000.000000</td>\n",
       "    </tr>\n",
       "  </tbody>\n",
       "</table>\n",
       "</div>"
      ],
      "text/plain": [
       "       LoanAmount  ApplicantIncome\n",
       "count  592.000000       614.000000\n",
       "mean   146.412162      5403.459283\n",
       "std     85.587325      6109.041673\n",
       "min      9.000000       150.000000\n",
       "25%    100.000000      2877.500000\n",
       "50%    128.000000      3812.500000\n",
       "75%    168.000000      5795.000000\n",
       "max    700.000000     81000.000000"
      ]
     },
     "execution_count": 23,
     "metadata": {},
     "output_type": "execute_result"
    }
   ],
   "source": [
    "train[['LoanAmount','ApplicantIncome']].describe()"
   ]
  },
  {
   "cell_type": "code",
   "execution_count": 24,
   "id": "3c239525-32eb-477a-ba72-d66cb06bf27a",
   "metadata": {},
   "outputs": [
    {
     "data": {
      "image/png": "[encoded data removed]",
      "text/plain": [
       "<Figure size 432x288 with 1 Axes>"
      ]
     },
     "metadata": {
      "needs_background": "light"
     },
     "output_type": "display_data"
    }
   ],
   "source": [
    "sns.countplot(train['Gender'],hue=train['Married']);"
   ]
  },
  {
   "cell_type": "code",
   "execution_count": 25,
   "id": "e04f1c6a-1888-4eae-950b-a40c38f4c459",
   "metadata": {},
   "outputs": [
    {
     "data": {
      "image/png": "[encoded data removed]",
      "text/plain": [
       "<Figure size 432x288 with 1 Axes>"
      ]
     },
     "metadata": {
      "needs_background": "light"
     },
     "output_type": "display_data"
    }
   ],
   "source": [
    "sns.countplot(train['Married'],hue=train['Gender']);"
   ]
  },
  {
   "cell_type": "code",
   "execution_count": 26,
   "id": "9c637f82-d3f0-4bb2-816d-98ab6c3dbb4a",
   "metadata": {},
   "outputs": [
    {
     "data": {
      "text/html": [
       "<div>\n",
       "<style scoped>\n",
       "    .dataframe tbody tr th:only-of-type {\n",
       "        vertical-align: middle;\n",
       "    }\n",
       "\n",
       "    .dataframe tbody tr th {\n",
       "        vertical-align: top;\n",
       "    }\n",
       "\n",
       "    .dataframe thead th {\n",
       "        text-align: right;\n",
       "    }\n",
       "</style>\n",
       "<table border=\"1\" class=\"dataframe\">\n",
       "  <thead>\n",
       "    <tr style=\"text-align: right;\">\n",
       "      <th></th>\n",
       "      <th>ApplicantIncome</th>\n",
       "      <th>CoapplicantIncome</th>\n",
       "      <th>LoanAmount</th>\n",
       "      <th>Loan_Amount_Term</th>\n",
       "      <th>Credit_History</th>\n",
       "    </tr>\n",
       "    <tr>\n",
       "      <th>Self_Employed</th>\n",
       "      <th></th>\n",
       "      <th></th>\n",
       "      <th></th>\n",
       "      <th></th>\n",
       "      <th></th>\n",
       "    </tr>\n",
       "  </thead>\n",
       "  <tbody>\n",
       "    <tr>\n",
       "      <th>No</th>\n",
       "      <td>5049.748000</td>\n",
       "      <td>1580.989840</td>\n",
       "      <td>141.748963</td>\n",
       "      <td>343.263804</td>\n",
       "      <td>0.835853</td>\n",
       "    </tr>\n",
       "    <tr>\n",
       "      <th>Yes</th>\n",
       "      <td>7380.817073</td>\n",
       "      <td>1501.341463</td>\n",
       "      <td>172.000000</td>\n",
       "      <td>336.300000</td>\n",
       "      <td>0.840000</td>\n",
       "    </tr>\n",
       "  </tbody>\n",
       "</table>\n",
       "</div>"
      ],
      "text/plain": [
       "               ApplicantIncome  CoapplicantIncome  LoanAmount  \\\n",
       "Self_Employed                                                   \n",
       "No                 5049.748000        1580.989840  141.748963   \n",
       "Yes                7380.817073        1501.341463  172.000000   \n",
       "\n",
       "               Loan_Amount_Term  Credit_History  \n",
       "Self_Employed                                    \n",
       "No                   343.263804        0.835853  \n",
       "Yes                  336.300000        0.840000  "
      ]
     },
     "execution_count": 26,
     "metadata": {},
     "output_type": "execute_result"
    }
   ],
   "source": [
    "train.groupby('Self_Employed').mean()"
   ]
  },
  {
   "cell_type": "markdown",
   "id": "4d200f49-6a4d-438a-b0cb-db43833c16c3",
   "metadata": {},
   "source": [
    "# Processing Data:"
   ]
  },
  {
   "cell_type": "code",
   "execution_count": 27,
   "id": "16be99ee-cb54-4a85-ba16-b5a05b5d5aff",
   "metadata": {},
   "outputs": [],
   "source": [
    "def remove_outlier(col):\n",
    "    Q1,Q3=col.quantile([0.20,0.90])\n",
    "    IQR=Q3-Q1\n",
    "    lower_range= Q1-(1.5 * IQR)\n",
    "    upper_range= Q3+(1.5 * IQR)\n",
    "    return lower_range, upper_range   "
   ]
  },
  {
   "cell_type": "code",
   "execution_count": 28,
   "id": "0f77df30-ceb1-4520-86e2-a7796131313c",
   "metadata": {},
   "outputs": [],
   "source": [
    "#Logic : \n",
    "#From EDA, it is seen that Loan Amount correlated to Applicant Income, \n",
    "#So Grouping Loan Amount according to Applicant Incomes, and imputing it with mean of Loan Amount in that Applicant Income group.\n",
    "\n",
    "avgloanamount = train.groupby('ApplicantIncome').mean()['LoanAmount']\n",
    "def fill_loan_amt(LoanAmount,ApplicantIncome):\n",
    "    if np.isnan(LoanAmount):\n",
    "        try:\n",
    "            ab= avgloanamount[ApplicantIncome]\n",
    "        except:\n",
    "            ab=avgloanamount.mean()\n",
    "    else:\n",
    "        ab=LoanAmount\n",
    "    return ab"
   ]
  },
  {
   "cell_type": "code",
   "execution_count": 29,
   "id": "4349311b-66cf-45db-8531-3f63a00d5e14",
   "metadata": {},
   "outputs": [
    {
     "data": {
      "text/html": [
       "<div>\n",
       "<style scoped>\n",
       "    .dataframe tbody tr th:only-of-type {\n",
       "        vertical-align: middle;\n",
       "    }\n",
       "\n",
       "    .dataframe tbody tr th {\n",
       "        vertical-align: top;\n",
       "    }\n",
       "\n",
       "    .dataframe thead th {\n",
       "        text-align: right;\n",
       "    }\n",
       "</style>\n",
       "<table border=\"1\" class=\"dataframe\">\n",
       "  <thead>\n",
       "    <tr style=\"text-align: right;\">\n",
       "      <th></th>\n",
       "      <th>ApplicantIncome</th>\n",
       "      <th>CoapplicantIncome</th>\n",
       "      <th>LoanAmount</th>\n",
       "      <th>Loan_Amount_Term</th>\n",
       "      <th>Credit_History</th>\n",
       "    </tr>\n",
       "    <tr>\n",
       "      <th>Loan_Status</th>\n",
       "      <th></th>\n",
       "      <th></th>\n",
       "      <th></th>\n",
       "      <th></th>\n",
       "      <th></th>\n",
       "    </tr>\n",
       "  </thead>\n",
       "  <tbody>\n",
       "    <tr>\n",
       "      <th>N</th>\n",
       "      <td>3833.5</td>\n",
       "      <td>268.0</td>\n",
       "      <td>129.0</td>\n",
       "      <td>360.0</td>\n",
       "      <td>1.0</td>\n",
       "    </tr>\n",
       "    <tr>\n",
       "      <th>Y</th>\n",
       "      <td>3812.5</td>\n",
       "      <td>1239.5</td>\n",
       "      <td>126.0</td>\n",
       "      <td>360.0</td>\n",
       "      <td>1.0</td>\n",
       "    </tr>\n",
       "  </tbody>\n",
       "</table>\n",
       "</div>"
      ],
      "text/plain": [
       "             ApplicantIncome  CoapplicantIncome  LoanAmount  Loan_Amount_Term  \\\n",
       "Loan_Status                                                                     \n",
       "N                     3833.5              268.0       129.0             360.0   \n",
       "Y                     3812.5             1239.5       126.0             360.0   \n",
       "\n",
       "             Credit_History  \n",
       "Loan_Status                  \n",
       "N                       1.0  \n",
       "Y                       1.0  "
      ]
     },
     "execution_count": 29,
     "metadata": {},
     "output_type": "execute_result"
    }
   ],
   "source": [
    "train.groupby('Loan_Status').median()"
   ]
  },
  {
   "cell_type": "code",
   "execution_count": 30,
   "id": "b2f819ae-ec7a-4c47-a88a-24869ee5515c",
   "metadata": {},
   "outputs": [
    {
     "data": {
      "text/plain": [
       "<matplotlib.axes._subplots.AxesSubplot at 0x22501350340>"
      ]
     },
     "execution_count": 30,
     "metadata": {},
     "output_type": "execute_result"
    },
    {
     "data": {
      "image/png": "[encoded data removed]",
      "text/plain": [
       "<Figure size 432x288 with 1 Axes>"
      ]
     },
     "metadata": {
      "needs_background": "light"
     },
     "output_type": "display_data"
    }
   ],
   "source": [
    "train['LoanAmount'].plot.hist()"
   ]
  },
  {
   "cell_type": "code",
   "execution_count": 31,
   "id": "483200d0-bea0-428d-88d2-0175e52f2817",
   "metadata": {},
   "outputs": [],
   "source": [
    "#Logic :\n",
    "#As we can see most of the loan Amount fall in range of 80-200\n",
    "#Converting loan amount to categorical variable\n",
    "\n",
    "def fill_loan_amt_cat(LoanAmount):\n",
    "    a=0\n",
    "    if LoanAmount<80:\n",
    "        a=0\n",
    "    elif LoanAmount>80 and LoanAmount<200:\n",
    "        a=1\n",
    "    elif LoanAmount>200 and LoanAmount<500:\n",
    "        a=2\n",
    "    elif LoanAmount>500:\n",
    "        a=3\n",
    "    return a"
   ]
  },
  {
   "cell_type": "code",
   "execution_count": 32,
   "id": "5ff1304b-3c78-4451-ac16-01fa078131de",
   "metadata": {},
   "outputs": [
    {
     "data": {
      "text/plain": [
       "<matplotlib.axes._subplots.AxesSubplot at 0x22500da5fd0>"
      ]
     },
     "execution_count": 32,
     "metadata": {},
     "output_type": "execute_result"
    },
    {
     "data": {
      "image/png": "[encoded data removed]",
      "text/plain": [
       "<Figure size 432x288 with 1 Axes>"
      ]
     },
     "metadata": {
      "needs_background": "light"
     },
     "output_type": "display_data"
    }
   ],
   "source": [
    "train['ApplicantIncome'].plot.hist()"
   ]
  },
  {
   "cell_type": "code",
   "execution_count": 33,
   "id": "6cc018ff-e849-47f3-af7a-13ce71bc3838",
   "metadata": {},
   "outputs": [],
   "source": [
    "#Logic :\n",
    "#As we can see most of the Applicant Income fall in range of 0-20000\n",
    "#Converting loan amount to categorical variable\n",
    "\n",
    "def fill_applicantincome_cat(ApplicantIncome):\n",
    "    a=0\n",
    "    if ApplicantIncome<5000:\n",
    "        a=0\n",
    "    elif ApplicantIncome>5000 and ApplicantIncome<10000:\n",
    "        a=1\n",
    "    elif ApplicantIncome>10000 and ApplicantIncome<20000:\n",
    "        a=2\n",
    "    elif ApplicantIncome>20000:\n",
    "        a=3\n",
    "    return a"
   ]
  },
  {
   "cell_type": "code",
   "execution_count": 34,
   "id": "c3cb4305-457c-45ba-9e27-cd80fac95b68",
   "metadata": {},
   "outputs": [],
   "source": [
    "#Logic :\n",
    "#As we can see from EDA, Mode of Male being married is comparitively very high.\n",
    "\n",
    "def fill_gender(Gender,Married):\n",
    "    if np.isnan(Gender):\n",
    "        if Married ==1:\n",
    "            return (1)\n",
    "        else:\n",
    "            return (0)\n",
    "    else:\n",
    "        return Gender"
   ]
  },
  {
   "cell_type": "code",
   "execution_count": 35,
   "id": "3d38b0ce-d926-4d51-a508-ff5b6abec00c",
   "metadata": {},
   "outputs": [],
   "source": [
    "#Logic :\n",
    "#As we can see from EDA, Mode of Male being married is comparitively very high.\n",
    "\n",
    "def fill_married(Married,Gender):\n",
    "    if np.isnan(Married):\n",
    "        if Gender ==0:\n",
    "            return (1)\n",
    "        else:\n",
    "            return (0)\n",
    "    else:\n",
    "        return Married"
   ]
  },
  {
   "cell_type": "code",
   "execution_count": 36,
   "id": "90f226b6-256b-4cb4-9e89-5cfb582bdfe7",
   "metadata": {},
   "outputs": [],
   "source": [
    "#Logic :\n",
    "#As we can see from EDA, Treating Self_Employe in accordance with Applicant Income.\n",
    "\n",
    "def fill_se(Self_Employed,ApplicantIncome):\n",
    "    if np.isnan(Self_Employed):\n",
    "        if ApplicantIncome > 7200:\n",
    "            return (1)\n",
    "        else:\n",
    "            return (0)\n",
    "    else:\n",
    "        return Self_Employed"
   ]
  },
  {
   "cell_type": "code",
   "execution_count": 37,
   "id": "e258e81f-5440-4550-b62f-149e406740ed",
   "metadata": {},
   "outputs": [],
   "source": [
    "#Logic :\n",
    "#As we can see from EDA, If Co-applicant Income present then 1 else 0.\n",
    "\n",
    "def fill_CoapplicantIncome(CoapplicantIncome):\n",
    "    if CoapplicantIncome ==0:\n",
    "         return (1)\n",
    "    else:\n",
    "        return (0)"
   ]
  },
  {
   "cell_type": "code",
   "execution_count": 46,
   "id": "04c1f936-6dae-4806-9e3a-84c13ff95f5f",
   "metadata": {},
   "outputs": [],
   "source": [
    "#Declaring Function to Process Data\n",
    "def processdata(df,train=True):\n",
    "    \n",
    "    if train==True:\n",
    "        df = df[df['ApplicantIncome'] < 50000] #Since most of the points fall withing 50,000\n",
    "        df = df[df['LoanAmount'] < 500] #Since most of the points fall withing 500\n",
    "    \n",
    "    df['Gender']=df['Gender'].replace(to_replace='Male',value=0)\n",
    "    df['Gender']=df['Gender'].replace(to_replace='Female',value=1)\n",
    "    df['Married']=df['Married'].replace(to_replace='No',value=0)\n",
    "    df['Married']=df['Married'].replace(to_replace='Yes',value=1)\n",
    "    df['Education']=df['Education'].replace(to_replace='Not Graduate',value=0)\n",
    "    df['Education']=df['Education'].replace(to_replace='Graduate',value=1)\n",
    "    df['Self_Employed']=df['Self_Employed'].replace(to_replace='No',value=0)\n",
    "    df['Self_Employed']=df['Self_Employed'].replace(to_replace='Yes',value=1)\n",
    "    df['Property_Area']=df['Property_Area'].replace(to_replace='Semiurban',value=0)\n",
    "    df['Property_Area']=df['Property_Area'].replace(to_replace='Urban',value=1)\n",
    "    df['Property_Area']=df['Property_Area'].replace(to_replace='Rural',value=2)\n",
    "    df['Loan_Amount_Term']=df['Loan_Amount_Term'].replace(to_replace=360.0,value=1)\n",
    "    df['Loan_Amount_Term']=df['Loan_Amount_Term'].replace(to_replace=180.0,value=0)\n",
    "    df['Loan_Amount_Term']=df['Loan_Amount_Term'].replace(to_replace=480.0,value=0)\n",
    "    df['Loan_Amount_Term']=df['Loan_Amount_Term'].replace(to_replace=300.0,value=0)\n",
    "    df['Loan_Amount_Term']=df['Loan_Amount_Term'].replace(to_replace=84.0,value=0)\n",
    "    df['Loan_Amount_Term']=df['Loan_Amount_Term'].replace(to_replace=240.0,value=0)\n",
    "    df['Loan_Amount_Term']=df['Loan_Amount_Term'].replace(to_replace=120.0,value=0)\n",
    "    df['Loan_Amount_Term']=df['Loan_Amount_Term'].replace(to_replace=36.0,value=0)\n",
    "    df['Loan_Amount_Term']=df['Loan_Amount_Term'].replace(to_replace=60.0,value=0)\n",
    "    df['Loan_Amount_Term']=df['Loan_Amount_Term'].replace(to_replace=12.0,value=0)\n",
    "    df['Dependents']=df['Dependents'].replace(to_replace='3+',value='3')\n",
    "    \n",
    "    #Missing_Values_Treatment\n",
    "    df['Married'] = df.apply(lambda x: fill_gender(x['Married'], x['Gender']), axis=1)\n",
    "    df['Gender'] = df.apply(lambda x: fill_gender(x['Gender'], x['Married']), axis=1)\n",
    "    df['LoanAmount'] = df.apply(lambda x: fill_loan_amt(x['LoanAmount'], x['ApplicantIncome']), axis=1)\n",
    "    df['LoanAmount'] = df['LoanAmount'].fillna(136.9586777)\n",
    "    #df['CoapplicantIncome'] = df.apply(lambda x: fill_CoapplicantIncome(x['CoapplicantIncome']), axis=1)\n",
    "    df['Dependents'] = df['Dependents'].fillna(1)\n",
    "    df['Self_Employed'] = df.apply(lambda x: fill_se(x['Self_Employed'], x['ApplicantIncome']), axis=1)\n",
    "    df['Loan_Amount_Term'] = df['Loan_Amount_Term'].fillna(0)\n",
    "    df['Credit_History'] = df['Credit_History'].fillna(-999)\n",
    "    #df['LoanAmount'] = df.apply(lambda x: fill_loan_amt_cat(x['LoanAmount']), axis=1)\n",
    "    #df['ApplicantIncome'] = df.apply(lambda x: fill_applicantincome_cat(x['ApplicantIncome']), axis=1)\n",
    "    #Outlier Treatment\n",
    "    for i in ['LoanAmount','CoapplicantIncome','ApplicantIncome']:\n",
    "        LL, UL = remove_outlier(df[i])\n",
    "        df[i] = np.where(df[i] > UL, UL, df[i])\n",
    "        df[i] = np.where(df[i] < LL, LL, df[i])\n",
    "    return df"
   ]
  },
  {
   "cell_type": "code",
   "execution_count": 47,
   "id": "0fb30e2e-9391-4db6-965f-d8e6616adfe0",
   "metadata": {},
   "outputs": [],
   "source": [
    "#Processing Training Data\n",
    "train=processdata(train.iloc[0:500,:],train=True)\n",
    "train.reset_index(inplace=True,drop=True)"
   ]
  },
  {
   "cell_type": "code",
   "execution_count": 48,
   "id": "9e76f155-b8f8-4000-9873-b7f2e8741a6e",
   "metadata": {},
   "outputs": [
    {
     "data": {
      "text/html": [
       "<div>\n",
       "<style scoped>\n",
       "    .dataframe tbody tr th:only-of-type {\n",
       "        vertical-align: middle;\n",
       "    }\n",
       "\n",
       "    .dataframe tbody tr th {\n",
       "        vertical-align: top;\n",
       "    }\n",
       "\n",
       "    .dataframe thead th {\n",
       "        text-align: right;\n",
       "    }\n",
       "</style>\n",
       "<table border=\"1\" class=\"dataframe\">\n",
       "  <thead>\n",
       "    <tr style=\"text-align: right;\">\n",
       "      <th></th>\n",
       "      <th>Loan_ID</th>\n",
       "      <th>Gender</th>\n",
       "      <th>Married</th>\n",
       "      <th>Dependents</th>\n",
       "      <th>Education</th>\n",
       "      <th>Self_Employed</th>\n",
       "      <th>ApplicantIncome</th>\n",
       "      <th>CoapplicantIncome</th>\n",
       "      <th>LoanAmount</th>\n",
       "      <th>Loan_Amount_Term</th>\n",
       "      <th>Credit_History</th>\n",
       "      <th>Property_Area</th>\n",
       "      <th>Loan_Status</th>\n",
       "    </tr>\n",
       "  </thead>\n",
       "  <tbody>\n",
       "    <tr>\n",
       "      <th>0</th>\n",
       "      <td>LP001003</td>\n",
       "      <td>0.0</td>\n",
       "      <td>1.0</td>\n",
       "      <td>1</td>\n",
       "      <td>1</td>\n",
       "      <td>0.0</td>\n",
       "      <td>4583.0</td>\n",
       "      <td>1508.0</td>\n",
       "      <td>128.0</td>\n",
       "      <td>1.0</td>\n",
       "      <td>1.0</td>\n",
       "      <td>2</td>\n",
       "      <td>N</td>\n",
       "    </tr>\n",
       "    <tr>\n",
       "      <th>1</th>\n",
       "      <td>LP001005</td>\n",
       "      <td>0.0</td>\n",
       "      <td>1.0</td>\n",
       "      <td>0</td>\n",
       "      <td>1</td>\n",
       "      <td>1.0</td>\n",
       "      <td>3000.0</td>\n",
       "      <td>0.0</td>\n",
       "      <td>66.0</td>\n",
       "      <td>1.0</td>\n",
       "      <td>1.0</td>\n",
       "      <td>1</td>\n",
       "      <td>Y</td>\n",
       "    </tr>\n",
       "    <tr>\n",
       "      <th>2</th>\n",
       "      <td>LP001006</td>\n",
       "      <td>0.0</td>\n",
       "      <td>1.0</td>\n",
       "      <td>0</td>\n",
       "      <td>0</td>\n",
       "      <td>0.0</td>\n",
       "      <td>2583.0</td>\n",
       "      <td>2358.0</td>\n",
       "      <td>120.0</td>\n",
       "      <td>1.0</td>\n",
       "      <td>1.0</td>\n",
       "      <td>1</td>\n",
       "      <td>Y</td>\n",
       "    </tr>\n",
       "    <tr>\n",
       "      <th>3</th>\n",
       "      <td>LP001008</td>\n",
       "      <td>0.0</td>\n",
       "      <td>0.0</td>\n",
       "      <td>0</td>\n",
       "      <td>1</td>\n",
       "      <td>0.0</td>\n",
       "      <td>6000.0</td>\n",
       "      <td>0.0</td>\n",
       "      <td>141.0</td>\n",
       "      <td>1.0</td>\n",
       "      <td>1.0</td>\n",
       "      <td>1</td>\n",
       "      <td>Y</td>\n",
       "    </tr>\n",
       "    <tr>\n",
       "      <th>4</th>\n",
       "      <td>LP001011</td>\n",
       "      <td>0.0</td>\n",
       "      <td>1.0</td>\n",
       "      <td>2</td>\n",
       "      <td>1</td>\n",
       "      <td>1.0</td>\n",
       "      <td>5417.0</td>\n",
       "      <td>4196.0</td>\n",
       "      <td>267.0</td>\n",
       "      <td>1.0</td>\n",
       "      <td>1.0</td>\n",
       "      <td>1</td>\n",
       "      <td>Y</td>\n",
       "    </tr>\n",
       "  </tbody>\n",
       "</table>\n",
       "</div>"
      ],
      "text/plain": [
       "    Loan_ID  Gender  Married Dependents  Education  Self_Employed  \\\n",
       "0  LP001003     0.0      1.0          1          1            0.0   \n",
       "1  LP001005     0.0      1.0          0          1            1.0   \n",
       "2  LP001006     0.0      1.0          0          0            0.0   \n",
       "3  LP001008     0.0      0.0          0          1            0.0   \n",
       "4  LP001011     0.0      1.0          2          1            1.0   \n",
       "\n",
       "   ApplicantIncome  CoapplicantIncome  LoanAmount  Loan_Amount_Term  \\\n",
       "0           4583.0             1508.0       128.0               1.0   \n",
       "1           3000.0                0.0        66.0               1.0   \n",
       "2           2583.0             2358.0       120.0               1.0   \n",
       "3           6000.0                0.0       141.0               1.0   \n",
       "4           5417.0             4196.0       267.0               1.0   \n",
       "\n",
       "   Credit_History  Property_Area Loan_Status  \n",
       "0             1.0              2           N  \n",
       "1             1.0              1           Y  \n",
       "2             1.0              1           Y  \n",
       "3             1.0              1           Y  \n",
       "4             1.0              1           Y  "
      ]
     },
     "execution_count": 48,
     "metadata": {},
     "output_type": "execute_result"
    }
   ],
   "source": [
    "train.head()"
   ]
  },
  {
   "cell_type": "code",
   "execution_count": 49,
   "id": "7b36b7af-45ae-44a8-8b3f-337fddca9d72",
   "metadata": {},
   "outputs": [
    {
     "data": {
      "text/plain": [
       "Loan_ID              0\n",
       "Gender               0\n",
       "Married              0\n",
       "Dependents           0\n",
       "Education            0\n",
       "Self_Employed        0\n",
       "ApplicantIncome      0\n",
       "CoapplicantIncome    0\n",
       "LoanAmount           0\n",
       "Loan_Amount_Term     0\n",
       "Credit_History       0\n",
       "Property_Area        0\n",
       "Loan_Status          0\n",
       "dtype: int64"
      ]
     },
     "execution_count": 49,
     "metadata": {},
     "output_type": "execute_result"
    }
   ],
   "source": [
    "train.isna().sum()"
   ]
  },
  {
   "cell_type": "code",
   "execution_count": 50,
   "id": "b248145a-e9ae-4c9b-9007-2713a3657ea4",
   "metadata": {},
   "outputs": [
    {
     "data": {
      "text/plain": [
       "<seaborn.axisgrid.PairGrid at 0x22500dd0bb0>"
      ]
     },
     "execution_count": 50,
     "metadata": {},
     "output_type": "execute_result"
    },
    {
     "data": {
      "image/png": "[encoded data removed]",
      "text/plain": [
       "<Figure size 540x540 with 12 Axes>"
      ]
     },
     "metadata": {
      "needs_background": "light"
     },
     "output_type": "display_data"
    }
   ],
   "source": [
    "sns.pairplot(train[['ApplicantIncome','CoapplicantIncome','LoanAmount']])"
   ]
  },
  {
   "cell_type": "code",
   "execution_count": 51,
   "id": "694130bd-760e-4222-9623-673d082bdf45",
   "metadata": {},
   "outputs": [
    {
     "data": {
      "text/plain": [
       "<matplotlib.axes._subplots.AxesSubplot at 0x22500c09d30>"
      ]
     },
     "execution_count": 51,
     "metadata": {},
     "output_type": "execute_result"
    },
    {
     "data": {
      "image/png": "[encoded data removed]",
      "text/plain": [
       "<Figure size 432x288 with 2 Axes>"
      ]
     },
     "metadata": {
      "needs_background": "light"
     },
     "output_type": "display_data"
    }
   ],
   "source": [
    "sns.heatmap(train[['ApplicantIncome','CoapplicantIncome','LoanAmount']].corr(),annot=True)"
   ]
  },
  {
   "cell_type": "code",
   "execution_count": 54,
   "id": "24b829dc-771f-48c5-bdba-441e5df76cf3",
   "metadata": {},
   "outputs": [
    {
     "data": {
      "image/png": "[encoded data removed]",
      "text/plain": [
       "<Figure size 1440x1440 with 3 Axes>"
      ]
     },
     "metadata": {
      "needs_background": "light"
     },
     "output_type": "display_data"
    }
   ],
   "source": [
    "sf.plotmultiple(['ApplicantIncome','CoapplicantIncome','LoanAmount'],train,(20,20),'box')"
   ]
  },
  {
   "cell_type": "code",
   "execution_count": 52,
   "id": "bf954778-52c1-4c27-b9dd-90dc1de6e8d4",
   "metadata": {},
   "outputs": [
    {
     "data": {
      "text/plain": [
       "3.611753248187767e-61"
      ]
     },
     "execution_count": 52,
     "metadata": {},
     "output_type": "execute_result"
    }
   ],
   "source": [
    "chi_square_value,p_value=calculate_bartlett_sphericity(train[['ApplicantIncome','CoapplicantIncome','LoanAmount']])\n",
    "p_value"
   ]
  },
  {
   "cell_type": "code",
   "execution_count": 53,
   "id": "c8eaf377-ec4f-4abd-9cf8-6b4b5c3189d7",
   "metadata": {},
   "outputs": [
    {
     "data": {
      "text/plain": [
       "0.34201847964223564"
      ]
     },
     "execution_count": 53,
     "metadata": {},
     "output_type": "execute_result"
    }
   ],
   "source": [
    "kmo_all,kmo_model=calculate_kmo(train[['ApplicantIncome','CoapplicantIncome','LoanAmount']])\n",
    "kmo_model"
   ]
  },
  {
   "cell_type": "code",
   "execution_count": 55,
   "id": "a9877efa-df83-4305-af56-9e1357aa3cd1",
   "metadata": {},
   "outputs": [],
   "source": [
    "df_num_scaled_TRAIN=train[['ApplicantIncome','CoapplicantIncome','LoanAmount']].apply(zscore)"
   ]
  },
  {
   "cell_type": "code",
   "execution_count": 56,
   "id": "a7a952f3-a055-4efa-b2b4-a70bb6c28a8c",
   "metadata": {},
   "outputs": [
    {
     "data": {
      "text/plain": [
       "array([[-0.15403502, -1.41264744, -0.51933895, ..., -0.15896596,\n",
       "        -1.08757726,  1.55031925],\n",
       "       [ 0.02444415, -0.55550052,  0.71961212, ...,  0.61258655,\n",
       "        -0.48013178,  1.27754863],\n",
       "       [ 0.06112663,  0.05439028, -0.0199769 , ...,  0.58171978,\n",
       "        -0.27442387,  0.23133468]])"
      ]
     },
     "execution_count": 56,
     "metadata": {},
     "output_type": "execute_result"
    }
   ],
   "source": [
    "# NOTE - we are generating only 8 PCA dimensions (dimensionality reduction from 33 to 8)\n",
    "pca_TRAIN = PCA(n_components=3, random_state=123)\n",
    "df_pca_TRAIN = pca_TRAIN.fit_transform(df_num_scaled_TRAIN)\n",
    "df_pca_TRAIN.transpose() # Component output"
   ]
  },
  {
   "cell_type": "code",
   "execution_count": 57,
   "id": "e8925e37-a7e5-4289-b84d-9c26e50d0f91",
   "metadata": {},
   "outputs": [
    {
     "data": {
      "text/plain": [
       "array([[ 0.62219974,  0.25737395,  0.73934169],\n",
       "       [-0.50324367,  0.85492401,  0.12589972],\n",
       "       [ 0.59967766,  0.4504038 , -0.66145531]])"
      ]
     },
     "execution_count": 57,
     "metadata": {},
     "output_type": "execute_result"
    }
   ],
   "source": [
    "pca_TRAIN.components_"
   ]
  },
  {
   "cell_type": "code",
   "execution_count": 58,
   "id": "a7ce72ed-f590-43f0-8542-188181d4be2b",
   "metadata": {},
   "outputs": [
    {
     "data": {
      "text/plain": [
       "array([0.5149769 , 0.38033157, 0.10469153])"
      ]
     },
     "execution_count": 58,
     "metadata": {},
     "output_type": "execute_result"
    }
   ],
   "source": [
    "pca_TRAIN.explained_variance_ratio_"
   ]
  },
  {
   "cell_type": "code",
   "execution_count": 59,
   "id": "326be126-5059-4f6b-8f50-842d2f0090ee",
   "metadata": {},
   "outputs": [
    {
     "data": {
      "text/html": [
       "<div>\n",
       "<style scoped>\n",
       "    .dataframe tbody tr th:only-of-type {\n",
       "        vertical-align: middle;\n",
       "    }\n",
       "\n",
       "    .dataframe tbody tr th {\n",
       "        vertical-align: top;\n",
       "    }\n",
       "\n",
       "    .dataframe thead th {\n",
       "        text-align: right;\n",
       "    }\n",
       "</style>\n",
       "<table border=\"1\" class=\"dataframe\">\n",
       "  <thead>\n",
       "    <tr style=\"text-align: right;\">\n",
       "      <th></th>\n",
       "      <th>ApplicantIncome</th>\n",
       "      <th>CoapplicantIncome</th>\n",
       "      <th>LoanAmount</th>\n",
       "    </tr>\n",
       "  </thead>\n",
       "  <tbody>\n",
       "    <tr>\n",
       "      <th>0</th>\n",
       "      <td>-0.154035</td>\n",
       "      <td>0.024444</td>\n",
       "      <td>0.061127</td>\n",
       "    </tr>\n",
       "    <tr>\n",
       "      <th>1</th>\n",
       "      <td>-1.412647</td>\n",
       "      <td>-0.555501</td>\n",
       "      <td>0.054390</td>\n",
       "    </tr>\n",
       "    <tr>\n",
       "      <th>2</th>\n",
       "      <td>-0.519339</td>\n",
       "      <td>0.719612</td>\n",
       "      <td>-0.019977</td>\n",
       "    </tr>\n",
       "    <tr>\n",
       "      <th>3</th>\n",
       "      <td>0.064944</td>\n",
       "      <td>-0.875709</td>\n",
       "      <td>-0.182152</td>\n",
       "    </tr>\n",
       "    <tr>\n",
       "      <th>4</th>\n",
       "      <td>2.041859</td>\n",
       "      <td>1.428958</td>\n",
       "      <td>-0.603442</td>\n",
       "    </tr>\n",
       "  </tbody>\n",
       "</table>\n",
       "</div>"
      ],
      "text/plain": [
       "   ApplicantIncome  CoapplicantIncome  LoanAmount\n",
       "0        -0.154035           0.024444    0.061127\n",
       "1        -1.412647          -0.555501    0.054390\n",
       "2        -0.519339           0.719612   -0.019977\n",
       "3         0.064944          -0.875709   -0.182152\n",
       "4         2.041859           1.428958   -0.603442"
      ]
     },
     "execution_count": 59,
     "metadata": {},
     "output_type": "execute_result"
    }
   ],
   "source": [
    "df_pca_TRAIN = pd.DataFrame(df_pca_TRAIN,columns=['ApplicantIncome','CoapplicantIncome','LoanAmount'])\n",
    "df_pca_TRAIN.head()"
   ]
  },
  {
   "cell_type": "code",
   "execution_count": 93,
   "id": "1e9e4868-f223-4280-b313-2df8522b55ae",
   "metadata": {},
   "outputs": [
    {
     "data": {
      "text/plain": [
       "<matplotlib.axes._subplots.AxesSubplot at 0x225025f4700>"
      ]
     },
     "execution_count": 93,
     "metadata": {},
     "output_type": "execute_result"
    },
    {
     "data": {
      "image/png": "[encoded data removed]",
      "text/plain": [
       "<Figure size 432x288 with 2 Axes>"
      ]
     },
     "metadata": {
      "needs_background": "light"
     },
     "output_type": "display_data"
    }
   ],
   "source": [
    "#Treated multicollinearity\n",
    "sns.heatmap(df_pca_TRAIN.corr(),annot=True)"
   ]
  },
  {
   "cell_type": "code",
   "execution_count": 60,
   "id": "0cb4fd82-c50c-4ee1-b90c-7e84e86b3bd5",
   "metadata": {},
   "outputs": [],
   "source": [
    "df_train = pd.concat([train.drop(['ApplicantIncome','CoapplicantIncome','LoanAmount'],axis=1), df_pca_TRAIN], axis=1)"
   ]
  },
  {
   "cell_type": "markdown",
   "id": "c77e6771-25c6-4d38-940a-015337bb1097",
   "metadata": {},
   "source": [
    "# Model Building"
   ]
  },
  {
   "cell_type": "code",
   "execution_count": 61,
   "id": "ed5f78de-76b0-48aa-90c3-c85c32dc94b7",
   "metadata": {},
   "outputs": [],
   "source": [
    "#Dividing into Dependent and Independent variables\n",
    "X_train = df_train.drop(['Loan_Status','Loan_ID'],axis=1)\n",
    "y_train = df_train['Loan_Status']"
   ]
  },
  {
   "cell_type": "code",
   "execution_count": 62,
   "id": "20c9e928-78b0-4004-9f55-460f8b5f0759",
   "metadata": {},
   "outputs": [],
   "source": [
    "#Declaring Optuna Objective function for hyperparameter tuning.\n",
    "def objective(trial):\n",
    "    params = {\n",
    "        'n_estimators': trial.suggest_int('n_estimators', 350, 1000),\n",
    "        'max_depth': trial.suggest_int('max_depth', 6, 13),\n",
    "        'learning_rate': trial.suggest_uniform('learning_rate', 0.009, 0.10),\n",
    "        'subsample': trial.suggest_uniform('subsample', 0.50, 1),\n",
    "        'colsample_bytree': trial.suggest_uniform('colsample_bytree', 0.50, 1),\n",
    "        'gamma': trial.suggest_int('gamma', 0, 0.05),\n",
    "        'missing': -999,\n",
    "       }\n",
    "        \n",
    "    clf = xgb.XGBClassifier(**params) #Using XGBoost Classifier\n",
    "    auccuracies = []\n",
    "    auccuracies2= []\n",
    "    X_train_k = X_train.values\n",
    "    y_train_k = y_train.values\n",
    "    kf = KFold(n_splits=3,random_state=2000,shuffle=True)\n",
    "    for train_idx, valid_idx in kf.split(X_train_k,y_train_k):\n",
    "        clf.fit(X_train_k[train_idx, :], y_train_k[train_idx])\n",
    "        pred = clf.predict(X_train_k[valid_idx, :])\n",
    "        accuracy = accuracy_score(y_train_k[valid_idx],pred)\n",
    "        auccuracies.append(accuracy)\n",
    "    print(f'Trial done: Accuracy values on folds: {auccuracies}')\n",
    "    return np.average(auccuracies)"
   ]
  },
  {
   "cell_type": "code",
   "execution_count": 63,
   "id": "ef564adb-9b8e-4f2e-a787-f94c2b65bc6b",
   "metadata": {},
   "outputs": [
    {
     "name": "stderr",
     "output_type": "stream",
     "text": [
      "\u001b[32m[I 2021-10-04 16:37:27,220]\u001b[0m A new study created in memory with name: no-name-89ed8b67-c0ab-49c8-a472-be62a74433ff\u001b[0m\n"
     ]
    },
    {
     "name": "stdout",
     "output_type": "stream",
     "text": [
      "[16:37:27] WARNING: C:/Users/Administrator/workspace/xgboost-win64_release_1.4.0/src/learner.cc:1095: Starting in XGBoost 1.3.0, the default evaluation metric used with the objective 'binary:logistic' was changed from 'error' to 'logloss'. Explicitly set eval_metric if you'd like to restore the old behavior.\n",
      "[16:37:27] WARNING: C:/Users/Administrator/workspace/xgboost-win64_release_1.4.0/src/learner.cc:1095: Starting in XGBoost 1.3.0, the default evaluation metric used with the objective 'binary:logistic' was changed from 'error' to 'logloss'. Explicitly set eval_metric if you'd like to restore the old behavior.\n",
      "[16:37:28] WARNING: C:/Users/Administrator/workspace/xgboost-win64_release_1.4.0/src/learner.cc:1095: Starting in XGBoost 1.3.0, the default evaluation metric used with the objective 'binary:logistic' was changed from 'error' to 'logloss'. Explicitly set eval_metric if you'd like to restore the old behavior.\n"
     ]
    },
    {
     "name": "stderr",
     "output_type": "stream",
     "text": [
      "\u001b[32m[I 2021-10-04 16:37:29,245]\u001b[0m Trial 0 finished with value: 0.7747790780988776 and parameters: {'n_estimators': 758, 'max_depth': 13, 'learning_rate': 0.09199304594680212, 'subsample': 0.812010761373025, 'colsample_bytree': 0.8888873406120703, 'gamma': 0}. Best is trial 0 with value: 0.7747790780988776.\u001b[0m\n"
     ]
    },
    {
     "name": "stdout",
     "output_type": "stream",
     "text": [
      "Trial done: Accuracy values on folds: [0.7547169811320755, 0.7911392405063291, 0.7784810126582279]\n",
      "[16:37:29] WARNING: C:/Users/Administrator/workspace/xgboost-win64_release_1.4.0/src/learner.cc:1095: Starting in XGBoost 1.3.0, the default evaluation metric used with the objective 'binary:logistic' was changed from 'error' to 'logloss'. Explicitly set eval_metric if you'd like to restore the old behavior.\n",
      "[16:37:29] WARNING: C:/Users/Administrator/workspace/xgboost-win64_release_1.4.0/src/learner.cc:1095: Starting in XGBoost 1.3.0, the default evaluation metric used with the objective 'binary:logistic' was changed from 'error' to 'logloss'. Explicitly set eval_metric if you'd like to restore the old behavior.\n",
      "[16:37:30] WARNING: C:/Users/Administrator/workspace/xgboost-win64_release_1.4.0/src/learner.cc:1095: Starting in XGBoost 1.3.0, the default evaluation metric used with the objective 'binary:logistic' was changed from 'error' to 'logloss'. Explicitly set eval_metric if you'd like to restore the old behavior.\n"
     ]
    },
    {
     "name": "stderr",
     "output_type": "stream",
     "text": [
      "\u001b[32m[I 2021-10-04 16:37:30,662]\u001b[0m Trial 1 finished with value: 0.7895204734230289 and parameters: {'n_estimators': 425, 'max_depth': 9, 'learning_rate': 0.023348125787199685, 'subsample': 0.675435581187674, 'colsample_bytree': 0.5665749091159841, 'gamma': 0}. Best is trial 1 with value: 0.7895204734230289.\u001b[0m\n"
     ]
    },
    {
     "name": "stdout",
     "output_type": "stream",
     "text": [
      "Trial done: Accuracy values on folds: [0.7672955974842768, 0.7974683544303798, 0.8037974683544303]\n",
      "[16:37:30] WARNING: C:/Users/Administrator/workspace/xgboost-win64_release_1.4.0/src/learner.cc:1095: Starting in XGBoost 1.3.0, the default evaluation metric used with the objective 'binary:logistic' was changed from 'error' to 'logloss'. Explicitly set eval_metric if you'd like to restore the old behavior.\n",
      "[16:37:31] WARNING: C:/Users/Administrator/workspace/xgboost-win64_release_1.4.0/src/learner.cc:1095: Starting in XGBoost 1.3.0, the default evaluation metric used with the objective 'binary:logistic' was changed from 'error' to 'logloss'. Explicitly set eval_metric if you'd like to restore the old behavior.\n",
      "[16:37:31] WARNING: C:/Users/Administrator/workspace/xgboost-win64_release_1.4.0/src/learner.cc:1095: Starting in XGBoost 1.3.0, the default evaluation metric used with the objective 'binary:logistic' was changed from 'error' to 'logloss'. Explicitly set eval_metric if you'd like to restore the old behavior.\n"
     ]
    },
    {
     "name": "stderr",
     "output_type": "stream",
     "text": [
      "\u001b[32m[I 2021-10-04 16:37:32,091]\u001b[0m Trial 2 finished with value: 0.781081654857628 and parameters: {'n_estimators': 415, 'max_depth': 8, 'learning_rate': 0.057494747551691545, 'subsample': 0.9251085844166633, 'colsample_bytree': 0.6653052469813643, 'gamma': 0}. Best is trial 1 with value: 0.7895204734230289.\u001b[0m\n"
     ]
    },
    {
     "name": "stdout",
     "output_type": "stream",
     "text": [
      "Trial done: Accuracy values on folds: [0.7672955974842768, 0.7784810126582279, 0.7974683544303798]\n",
      "[16:37:32] WARNING: C:/Users/Administrator/workspace/xgboost-win64_release_1.4.0/src/learner.cc:1095: Starting in XGBoost 1.3.0, the default evaluation metric used with the objective 'binary:logistic' was changed from 'error' to 'logloss'. Explicitly set eval_metric if you'd like to restore the old behavior.\n",
      "[16:37:32] WARNING: C:/Users/Administrator/workspace/xgboost-win64_release_1.4.0/src/learner.cc:1095: Starting in XGBoost 1.3.0, the default evaluation metric used with the objective 'binary:logistic' was changed from 'error' to 'logloss'. Explicitly set eval_metric if you'd like to restore the old behavior.\n",
      "[16:37:33] WARNING: C:/Users/Administrator/workspace/xgboost-win64_release_1.4.0/src/learner.cc:1095: Starting in XGBoost 1.3.0, the default evaluation metric used with the objective 'binary:logistic' was changed from 'error' to 'logloss'. Explicitly set eval_metric if you'd like to restore the old behavior.\n"
     ]
    },
    {
     "name": "stderr",
     "output_type": "stream",
     "text": [
      "\u001b[32m[I 2021-10-04 16:37:34,722]\u001b[0m Trial 3 finished with value: 0.7895204734230289 and parameters: {'n_estimators': 942, 'max_depth': 11, 'learning_rate': 0.02409179082363148, 'subsample': 0.6913995949085825, 'colsample_bytree': 0.5637759384333988, 'gamma': 0}. Best is trial 1 with value: 0.7895204734230289.\u001b[0m\n"
     ]
    },
    {
     "name": "stdout",
     "output_type": "stream",
     "text": [
      "Trial done: Accuracy values on folds: [0.7672955974842768, 0.7911392405063291, 0.810126582278481]\n",
      "[16:37:34] WARNING: C:/Users/Administrator/workspace/xgboost-win64_release_1.4.0/src/learner.cc:1095: Starting in XGBoost 1.3.0, the default evaluation metric used with the objective 'binary:logistic' was changed from 'error' to 'logloss'. Explicitly set eval_metric if you'd like to restore the old behavior.\n",
      "[16:37:35] WARNING: C:/Users/Administrator/workspace/xgboost-win64_release_1.4.0/src/learner.cc:1095: Starting in XGBoost 1.3.0, the default evaluation metric used with the objective 'binary:logistic' was changed from 'error' to 'logloss'. Explicitly set eval_metric if you'd like to restore the old behavior.\n",
      "[16:37:36] WARNING: C:/Users/Administrator/workspace/xgboost-win64_release_1.4.0/src/learner.cc:1095: Starting in XGBoost 1.3.0, the default evaluation metric used with the objective 'binary:logistic' was changed from 'error' to 'logloss'. Explicitly set eval_metric if you'd like to restore the old behavior.\n"
     ]
    },
    {
     "name": "stderr",
     "output_type": "stream",
     "text": [
      "\u001b[32m[I 2021-10-04 16:37:37,102]\u001b[0m Trial 4 finished with value: 0.7684765013401268 and parameters: {'n_estimators': 706, 'max_depth': 10, 'learning_rate': 0.024107319815394716, 'subsample': 0.9999680891432936, 'colsample_bytree': 0.917238662470729, 'gamma': 0}. Best is trial 1 with value: 0.7895204734230289.\u001b[0m\n"
     ]
    },
    {
     "name": "stdout",
     "output_type": "stream",
     "text": [
      "Trial done: Accuracy values on folds: [0.7421383647798742, 0.7784810126582279, 0.7848101265822784]\n",
      "[16:37:37] WARNING: C:/Users/Administrator/workspace/xgboost-win64_release_1.4.0/src/learner.cc:1095: Starting in XGBoost 1.3.0, the default evaluation metric used with the objective 'binary:logistic' was changed from 'error' to 'logloss'. Explicitly set eval_metric if you'd like to restore the old behavior.\n",
      "[16:37:37] WARNING: C:/Users/Administrator/workspace/xgboost-win64_release_1.4.0/src/learner.cc:1095: Starting in XGBoost 1.3.0, the default evaluation metric used with the objective 'binary:logistic' was changed from 'error' to 'logloss'. Explicitly set eval_metric if you'd like to restore the old behavior.\n",
      "[16:37:38] WARNING: C:/Users/Administrator/workspace/xgboost-win64_release_1.4.0/src/learner.cc:1095: Starting in XGBoost 1.3.0, the default evaluation metric used with the objective 'binary:logistic' was changed from 'error' to 'logloss'. Explicitly set eval_metric if you'd like to restore the old behavior.\n"
     ]
    },
    {
     "name": "stderr",
     "output_type": "stream",
     "text": [
      "\u001b[32m[I 2021-10-04 16:37:39,131]\u001b[0m Trial 5 finished with value: 0.7789852187989279 and parameters: {'n_estimators': 649, 'max_depth': 13, 'learning_rate': 0.029986907245542788, 'subsample': 0.8625711237890388, 'colsample_bytree': 0.519146246703776, 'gamma': 0}. Best is trial 1 with value: 0.7895204734230289.\u001b[0m\n"
     ]
    },
    {
     "name": "stdout",
     "output_type": "stream",
     "text": [
      "Trial done: Accuracy values on folds: [0.7610062893081762, 0.7658227848101266, 0.810126582278481]\n",
      "[16:37:39] WARNING: C:/Users/Administrator/workspace/xgboost-win64_release_1.4.0/src/learner.cc:1095: Starting in XGBoost 1.3.0, the default evaluation metric used with the objective 'binary:logistic' was changed from 'error' to 'logloss'. Explicitly set eval_metric if you'd like to restore the old behavior.\n",
      "[16:37:39] WARNING: C:/Users/Administrator/workspace/xgboost-win64_release_1.4.0/src/learner.cc:1095: Starting in XGBoost 1.3.0, the default evaluation metric used with the objective 'binary:logistic' was changed from 'error' to 'logloss'. Explicitly set eval_metric if you'd like to restore the old behavior.\n",
      "[16:37:40] WARNING: C:/Users/Administrator/workspace/xgboost-win64_release_1.4.0/src/learner.cc:1095: Starting in XGBoost 1.3.0, the default evaluation metric used with the objective 'binary:logistic' was changed from 'error' to 'logloss'. Explicitly set eval_metric if you'd like to restore the old behavior.\n"
     ]
    },
    {
     "name": "stderr",
     "output_type": "stream",
     "text": [
      "\u001b[32m[I 2021-10-04 16:37:41,159]\u001b[0m Trial 6 finished with value: 0.768436695592177 and parameters: {'n_estimators': 807, 'max_depth': 10, 'learning_rate': 0.06531827913652433, 'subsample': 0.8287625312671849, 'colsample_bytree': 0.5696237170674159, 'gamma': 0}. Best is trial 1 with value: 0.7895204734230289.\u001b[0m\n"
     ]
    },
    {
     "name": "stdout",
     "output_type": "stream",
     "text": [
      "Trial done: Accuracy values on folds: [0.7610062893081762, 0.7658227848101266, 0.7784810126582279]\n",
      "[16:37:41] WARNING: C:/Users/Administrator/workspace/xgboost-win64_release_1.4.0/src/learner.cc:1095: Starting in XGBoost 1.3.0, the default evaluation metric used with the objective 'binary:logistic' was changed from 'error' to 'logloss'. Explicitly set eval_metric if you'd like to restore the old behavior.\n",
      "[16:37:41] WARNING: C:/Users/Administrator/workspace/xgboost-win64_release_1.4.0/src/learner.cc:1095: Starting in XGBoost 1.3.0, the default evaluation metric used with the objective 'binary:logistic' was changed from 'error' to 'logloss'. Explicitly set eval_metric if you'd like to restore the old behavior.\n",
      "[16:37:42] WARNING: C:/Users/Administrator/workspace/xgboost-win64_release_1.4.0/src/learner.cc:1095: Starting in XGBoost 1.3.0, the default evaluation metric used with the objective 'binary:logistic' was changed from 'error' to 'logloss'. Explicitly set eval_metric if you'd like to restore the old behavior.\n"
     ]
    },
    {
     "name": "stderr",
     "output_type": "stream",
     "text": [
      "\u001b[32m[I 2021-10-04 16:37:43,454]\u001b[0m Trial 7 finished with value: 0.7747392723509275 and parameters: {'n_estimators': 951, 'max_depth': 6, 'learning_rate': 0.08436197163228956, 'subsample': 0.930231576475864, 'colsample_bytree': 0.659504094812491, 'gamma': 0}. Best is trial 1 with value: 0.7895204734230289.\u001b[0m\n"
     ]
    },
    {
     "name": "stdout",
     "output_type": "stream",
     "text": [
      "Trial done: Accuracy values on folds: [0.7735849056603774, 0.7784810126582279, 0.7721518987341772]\n",
      "[16:37:43] WARNING: C:/Users/Administrator/workspace/xgboost-win64_release_1.4.0/src/learner.cc:1095: Starting in XGBoost 1.3.0, the default evaluation metric used with the objective 'binary:logistic' was changed from 'error' to 'logloss'. Explicitly set eval_metric if you'd like to restore the old behavior.\n",
      "[16:37:44] WARNING: C:/Users/Administrator/workspace/xgboost-win64_release_1.4.0/src/learner.cc:1095: Starting in XGBoost 1.3.0, the default evaluation metric used with the objective 'binary:logistic' was changed from 'error' to 'logloss'. Explicitly set eval_metric if you'd like to restore the old behavior.\n",
      "[16:37:44] WARNING: C:/Users/Administrator/workspace/xgboost-win64_release_1.4.0/src/learner.cc:1095: Starting in XGBoost 1.3.0, the default evaluation metric used with the objective 'binary:logistic' was changed from 'error' to 'logloss'. Explicitly set eval_metric if you'd like to restore the old behavior.\n"
     ]
    },
    {
     "name": "stderr",
     "output_type": "stream",
     "text": [
      "\u001b[32m[I 2021-10-04 16:37:45,220]\u001b[0m Trial 8 finished with value: 0.7705596688161771 and parameters: {'n_estimators': 691, 'max_depth': 9, 'learning_rate': 0.09138682041725256, 'subsample': 0.519798470255141, 'colsample_bytree': 0.9546911835213074, 'gamma': 0}. Best is trial 1 with value: 0.7895204734230289.\u001b[0m\n"
     ]
    },
    {
     "name": "stdout",
     "output_type": "stream",
     "text": [
      "Trial done: Accuracy values on folds: [0.7547169811320755, 0.7911392405063291, 0.7658227848101266]\n",
      "[16:37:45] WARNING: C:/Users/Administrator/workspace/xgboost-win64_release_1.4.0/src/learner.cc:1095: Starting in XGBoost 1.3.0, the default evaluation metric used with the objective 'binary:logistic' was changed from 'error' to 'logloss'. Explicitly set eval_metric if you'd like to restore the old behavior.\n",
      "[16:37:45] WARNING: C:/Users/Administrator/workspace/xgboost-win64_release_1.4.0/src/learner.cc:1095: Starting in XGBoost 1.3.0, the default evaluation metric used with the objective 'binary:logistic' was changed from 'error' to 'logloss'. Explicitly set eval_metric if you'd like to restore the old behavior.\n",
      "[16:37:46] WARNING: C:/Users/Administrator/workspace/xgboost-win64_release_1.4.0/src/learner.cc:1095: Starting in XGBoost 1.3.0, the default evaluation metric used with the objective 'binary:logistic' was changed from 'error' to 'logloss'. Explicitly set eval_metric if you'd like to restore the old behavior.\n"
     ]
    },
    {
     "name": "stderr",
     "output_type": "stream",
     "text": [
      "\u001b[32m[I 2021-10-04 16:37:47,327]\u001b[0m Trial 9 finished with value: 0.7852877955576786 and parameters: {'n_estimators': 681, 'max_depth': 9, 'learning_rate': 0.01900984350442344, 'subsample': 0.5777581273887848, 'colsample_bytree': 0.574124593982553, 'gamma': 0}. Best is trial 1 with value: 0.7895204734230289.\u001b[0m\n"
     ]
    },
    {
     "name": "stdout",
     "output_type": "stream",
     "text": [
      "Trial done: Accuracy values on folds: [0.7735849056603774, 0.7784810126582279, 0.8037974683544303]\n",
      "[16:37:47] WARNING: C:/Users/Administrator/workspace/xgboost-win64_release_1.4.0/src/learner.cc:1095: Starting in XGBoost 1.3.0, the default evaluation metric used with the objective 'binary:logistic' was changed from 'error' to 'logloss'. Explicitly set eval_metric if you'd like to restore the old behavior.\n",
      "[16:37:47] WARNING: C:/Users/Administrator/workspace/xgboost-win64_release_1.4.0/src/learner.cc:1095: Starting in XGBoost 1.3.0, the default evaluation metric used with the objective 'binary:logistic' was changed from 'error' to 'logloss'. Explicitly set eval_metric if you'd like to restore the old behavior.\n",
      "[16:37:48] WARNING: C:/Users/Administrator/workspace/xgboost-win64_release_1.4.0/src/learner.cc:1095: Starting in XGBoost 1.3.0, the default evaluation metric used with the objective 'binary:logistic' was changed from 'error' to 'logloss'. Explicitly set eval_metric if you'd like to restore the old behavior.\n"
     ]
    },
    {
     "name": "stderr",
     "output_type": "stream",
     "text": [
      "\u001b[32m[I 2021-10-04 16:37:48,570]\u001b[0m Trial 10 finished with value: 0.7832046280816284 and parameters: {'n_estimators': 352, 'max_depth': 6, 'learning_rate': 0.04192968325491654, 'subsample': 0.6996678806634384, 'colsample_bytree': 0.8068035393624904, 'gamma': 0}. Best is trial 1 with value: 0.7895204734230289.\u001b[0m\n"
     ]
    },
    {
     "name": "stdout",
     "output_type": "stream",
     "text": [
      "Trial done: Accuracy values on folds: [0.7610062893081762, 0.7784810126582279, 0.810126582278481]\n",
      "[16:37:48] WARNING: C:/Users/Administrator/workspace/xgboost-win64_release_1.4.0/src/learner.cc:1095: Starting in XGBoost 1.3.0, the default evaluation metric used with the objective 'binary:logistic' was changed from 'error' to 'logloss'. Explicitly set eval_metric if you'd like to restore the old behavior.\n",
      "[16:37:49] WARNING: C:/Users/Administrator/workspace/xgboost-win64_release_1.4.0/src/learner.cc:1095: Starting in XGBoost 1.3.0, the default evaluation metric used with the objective 'binary:logistic' was changed from 'error' to 'logloss'. Explicitly set eval_metric if you'd like to restore the old behavior.\n",
      "[16:37:49] WARNING: C:/Users/Administrator/workspace/xgboost-win64_release_1.4.0/src/learner.cc:1095: Starting in XGBoost 1.3.0, the default evaluation metric used with the objective 'binary:logistic' was changed from 'error' to 'logloss'. Explicitly set eval_metric if you'd like to restore the old behavior.\n"
     ]
    },
    {
     "name": "stderr",
     "output_type": "stream",
     "text": [
      "\u001b[32m[I 2021-10-04 16:37:50,519]\u001b[0m Trial 11 finished with value: 0.7916169094817292 and parameters: {'n_estimators': 519, 'max_depth': 12, 'learning_rate': 0.01292387848535922, 'subsample': 0.6777222562632009, 'colsample_bytree': 0.6777798694929549, 'gamma': 0}. Best is trial 11 with value: 0.7916169094817292.\u001b[0m\n"
     ]
    },
    {
     "name": "stdout",
     "output_type": "stream",
     "text": [
      "Trial done: Accuracy values on folds: [0.7735849056603774, 0.7974683544303798, 0.8037974683544303]\n",
      "[16:37:50] WARNING: C:/Users/Administrator/workspace/xgboost-win64_release_1.4.0/src/learner.cc:1095: Starting in XGBoost 1.3.0, the default evaluation metric used with the objective 'binary:logistic' was changed from 'error' to 'logloss'. Explicitly set eval_metric if you'd like to restore the old behavior.\n",
      "[16:37:51] WARNING: C:/Users/Administrator/workspace/xgboost-win64_release_1.4.0/src/learner.cc:1095: Starting in XGBoost 1.3.0, the default evaluation metric used with the objective 'binary:logistic' was changed from 'error' to 'logloss'. Explicitly set eval_metric if you'd like to restore the old behavior.\n",
      "[16:37:51] WARNING: C:/Users/Administrator/workspace/xgboost-win64_release_1.4.0/src/learner.cc:1095: Starting in XGBoost 1.3.0, the default evaluation metric used with the objective 'binary:logistic' was changed from 'error' to 'logloss'. Explicitly set eval_metric if you'd like to restore the old behavior.\n"
     ]
    },
    {
     "name": "stderr",
     "output_type": "stream",
     "text": [
      "\u001b[32m[I 2021-10-04 16:37:52,460]\u001b[0m Trial 12 finished with value: 0.7853010641403285 and parameters: {'n_estimators': 505, 'max_depth': 12, 'learning_rate': 0.012698349599742703, 'subsample': 0.630021443523614, 'colsample_bytree': 0.6968876827632183, 'gamma': 0}. Best is trial 11 with value: 0.7916169094817292.\u001b[0m\n"
     ]
    },
    {
     "name": "stdout",
     "output_type": "stream",
     "text": [
      "Trial done: Accuracy values on folds: [0.7672955974842768, 0.7911392405063291, 0.7974683544303798]\n",
      "[16:37:52] WARNING: C:/Users/Administrator/workspace/xgboost-win64_release_1.4.0/src/learner.cc:1095: Starting in XGBoost 1.3.0, the default evaluation metric used with the objective 'binary:logistic' was changed from 'error' to 'logloss'. Explicitly set eval_metric if you'd like to restore the old behavior.\n",
      "[16:37:53] WARNING: C:/Users/Administrator/workspace/xgboost-win64_release_1.4.0/src/learner.cc:1095: Starting in XGBoost 1.3.0, the default evaluation metric used with the objective 'binary:logistic' was changed from 'error' to 'logloss'. Explicitly set eval_metric if you'd like to restore the old behavior.\n",
      "[16:37:53] WARNING: C:/Users/Administrator/workspace/xgboost-win64_release_1.4.0/src/learner.cc:1095: Starting in XGBoost 1.3.0, the default evaluation metric used with the objective 'binary:logistic' was changed from 'error' to 'logloss'. Explicitly set eval_metric if you'd like to restore the old behavior.\n"
     ]
    },
    {
     "name": "stderr",
     "output_type": "stream",
     "text": [
      "\u001b[32m[I 2021-10-04 16:37:54,109]\u001b[0m Trial 13 finished with value: 0.7873975001990288 and parameters: {'n_estimators': 543, 'max_depth': 8, 'learning_rate': 0.037870555000220386, 'subsample': 0.7367098072057271, 'colsample_bytree': 0.7745667477604175, 'gamma': 0}. Best is trial 11 with value: 0.7916169094817292.\u001b[0m\n"
     ]
    },
    {
     "name": "stdout",
     "output_type": "stream",
     "text": [
      "Trial done: Accuracy values on folds: [0.7735849056603774, 0.7911392405063291, 0.7974683544303798]\n",
      "[16:37:54] WARNING: C:/Users/Administrator/workspace/xgboost-win64_release_1.4.0/src/learner.cc:1095: Starting in XGBoost 1.3.0, the default evaluation metric used with the objective 'binary:logistic' was changed from 'error' to 'logloss'. Explicitly set eval_metric if you'd like to restore the old behavior.\n",
      "[16:37:54] WARNING: C:/Users/Administrator/workspace/xgboost-win64_release_1.4.0/src/learner.cc:1095: Starting in XGBoost 1.3.0, the default evaluation metric used with the objective 'binary:logistic' was changed from 'error' to 'logloss'. Explicitly set eval_metric if you'd like to restore the old behavior.\n",
      "[16:37:55] WARNING: C:/Users/Administrator/workspace/xgboost-win64_release_1.4.0/src/learner.cc:1095: Starting in XGBoost 1.3.0, the default evaluation metric used with the objective 'binary:logistic' was changed from 'error' to 'logloss'. Explicitly set eval_metric if you'd like to restore the old behavior.\n"
     ]
    },
    {
     "name": "stderr",
     "output_type": "stream",
     "text": [
      "\u001b[32m[I 2021-10-04 16:37:55,797]\u001b[0m Trial 14 finished with value: 0.7873975001990288 and parameters: {'n_estimators': 488, 'max_depth': 11, 'learning_rate': 0.009277983418034296, 'subsample': 0.6169585306662587, 'colsample_bytree': 0.6299330531382522, 'gamma': 0}. Best is trial 11 with value: 0.7916169094817292.\u001b[0m\n"
     ]
    },
    {
     "name": "stdout",
     "output_type": "stream",
     "text": [
      "Trial done: Accuracy values on folds: [0.7735849056603774, 0.7911392405063291, 0.7974683544303798]\n",
      "[16:37:55] WARNING: C:/Users/Administrator/workspace/xgboost-win64_release_1.4.0/src/learner.cc:1095: Starting in XGBoost 1.3.0, the default evaluation metric used with the objective 'binary:logistic' was changed from 'error' to 'logloss'. Explicitly set eval_metric if you'd like to restore the old behavior.\n",
      "[16:37:56] WARNING: C:/Users/Administrator/workspace/xgboost-win64_release_1.4.0/src/learner.cc:1095: Starting in XGBoost 1.3.0, the default evaluation metric used with the objective 'binary:logistic' was changed from 'error' to 'logloss'. Explicitly set eval_metric if you'd like to restore the old behavior.\n",
      "[16:37:57] WARNING: C:/Users/Administrator/workspace/xgboost-win64_release_1.4.0/src/learner.cc:1095: Starting in XGBoost 1.3.0, the default evaluation metric used with the objective 'binary:logistic' was changed from 'error' to 'logloss'. Explicitly set eval_metric if you'd like to restore the old behavior.\n"
     ]
    },
    {
     "name": "stderr",
     "output_type": "stream",
     "text": [
      "\u001b[32m[I 2021-10-04 16:37:57,606]\u001b[0m Trial 15 finished with value: 0.7769153199055276 and parameters: {'n_estimators': 574, 'max_depth': 8, 'learning_rate': 0.04466459992921594, 'subsample': 0.6651659549922224, 'colsample_bytree': 0.742330706081336, 'gamma': 0}. Best is trial 11 with value: 0.7916169094817292.\u001b[0m\n"
     ]
    },
    {
     "name": "stdout",
     "output_type": "stream",
     "text": [
      "Trial done: Accuracy values on folds: [0.7421383647798742, 0.7911392405063291, 0.7974683544303798]\n",
      "[16:37:57] WARNING: C:/Users/Administrator/workspace/xgboost-win64_release_1.4.0/src/learner.cc:1095: Starting in XGBoost 1.3.0, the default evaluation metric used with the objective 'binary:logistic' was changed from 'error' to 'logloss'. Explicitly set eval_metric if you'd like to restore the old behavior.\n",
      "[16:37:58] WARNING: C:/Users/Administrator/workspace/xgboost-win64_release_1.4.0/src/learner.cc:1095: Starting in XGBoost 1.3.0, the default evaluation metric used with the objective 'binary:logistic' was changed from 'error' to 'logloss'. Explicitly set eval_metric if you'd like to restore the old behavior.\n",
      "[16:37:58] WARNING: C:/Users/Administrator/workspace/xgboost-win64_release_1.4.0/src/learner.cc:1095: Starting in XGBoost 1.3.0, the default evaluation metric used with the objective 'binary:logistic' was changed from 'error' to 'logloss'. Explicitly set eval_metric if you'd like to restore the old behavior.\n"
     ]
    },
    {
     "name": "stderr",
     "output_type": "stream",
     "text": [
      "\u001b[32m[I 2021-10-04 16:37:59,085]\u001b[0m Trial 16 finished with value: 0.7789852187989279 and parameters: {'n_estimators': 449, 'max_depth': 11, 'learning_rate': 0.07228199240314212, 'subsample': 0.7624406017630183, 'colsample_bytree': 0.5050340428505944, 'gamma': 0}. Best is trial 11 with value: 0.7916169094817292.\u001b[0m\n"
     ]
    },
    {
     "name": "stdout",
     "output_type": "stream",
     "text": [
      "Trial done: Accuracy values on folds: [0.7610062893081762, 0.7848101265822784, 0.7911392405063291]\n",
      "[16:37:59] WARNING: C:/Users/Administrator/workspace/xgboost-win64_release_1.4.0/src/learner.cc:1095: Starting in XGBoost 1.3.0, the default evaluation metric used with the objective 'binary:logistic' was changed from 'error' to 'logloss'. Explicitly set eval_metric if you'd like to restore the old behavior.\n",
      "[16:37:59] WARNING: C:/Users/Administrator/workspace/xgboost-win64_release_1.4.0/src/learner.cc:1095: Starting in XGBoost 1.3.0, the default evaluation metric used with the objective 'binary:logistic' was changed from 'error' to 'logloss'. Explicitly set eval_metric if you'd like to restore the old behavior.\n",
      "[16:37:59] WARNING: C:/Users/Administrator/workspace/xgboost-win64_release_1.4.0/src/learner.cc:1095: Starting in XGBoost 1.3.0, the default evaluation metric used with the objective 'binary:logistic' was changed from 'error' to 'logloss'. Explicitly set eval_metric if you'd like to restore the old behavior.\n"
     ]
    },
    {
     "name": "stderr",
     "output_type": "stream",
     "text": [
      "\u001b[32m[I 2021-10-04 16:38:00,372]\u001b[0m Trial 17 finished with value: 0.7916301780643792 and parameters: {'n_estimators': 354, 'max_depth': 12, 'learning_rate': 0.032471958148778776, 'subsample': 0.5354909664916038, 'colsample_bytree': 0.8360538111920195, 'gamma': 0}. Best is trial 17 with value: 0.7916301780643792.\u001b[0m\n"
     ]
    },
    {
     "name": "stdout",
     "output_type": "stream",
     "text": [
      "Trial done: Accuracy values on folds: [0.7672955974842768, 0.8037974683544303, 0.8037974683544303]\n",
      "[16:38:00] WARNING: C:/Users/Administrator/workspace/xgboost-win64_release_1.4.0/src/learner.cc:1095: Starting in XGBoost 1.3.0, the default evaluation metric used with the objective 'binary:logistic' was changed from 'error' to 'logloss'. Explicitly set eval_metric if you'd like to restore the old behavior.\n",
      "[16:38:00] WARNING: C:/Users/Administrator/workspace/xgboost-win64_release_1.4.0/src/learner.cc:1095: Starting in XGBoost 1.3.0, the default evaluation metric used with the objective 'binary:logistic' was changed from 'error' to 'logloss'. Explicitly set eval_metric if you'd like to restore the old behavior.\n",
      "[16:38:01] WARNING: C:/Users/Administrator/workspace/xgboost-win64_release_1.4.0/src/learner.cc:1095: Starting in XGBoost 1.3.0, the default evaluation metric used with the objective 'binary:logistic' was changed from 'error' to 'logloss'. Explicitly set eval_metric if you'd like to restore the old behavior.\n"
     ]
    },
    {
     "name": "stderr",
     "output_type": "stream",
     "text": [
      "\u001b[32m[I 2021-10-04 16:38:01,517]\u001b[0m Trial 18 finished with value: 0.7789984873815778 and parameters: {'n_estimators': 352, 'max_depth': 12, 'learning_rate': 0.03368486632405473, 'subsample': 0.5124416942176485, 'colsample_bytree': 0.8435127964851163, 'gamma': 0}. Best is trial 17 with value: 0.7916301780643792.\u001b[0m\n"
     ]
    },
    {
     "name": "stdout",
     "output_type": "stream",
     "text": [
      "Trial done: Accuracy values on folds: [0.7547169811320755, 0.7784810126582279, 0.8037974683544303]\n",
      "[16:38:01] WARNING: C:/Users/Administrator/workspace/xgboost-win64_release_1.4.0/src/learner.cc:1095: Starting in XGBoost 1.3.0, the default evaluation metric used with the objective 'binary:logistic' was changed from 'error' to 'logloss'. Explicitly set eval_metric if you'd like to restore the old behavior.\n",
      "[16:38:02] WARNING: C:/Users/Administrator/workspace/xgboost-win64_release_1.4.0/src/learner.cc:1095: Starting in XGBoost 1.3.0, the default evaluation metric used with the objective 'binary:logistic' was changed from 'error' to 'logloss'. Explicitly set eval_metric if you'd like to restore the old behavior.\n",
      "[16:38:02] WARNING: C:/Users/Administrator/workspace/xgboost-win64_release_1.4.0/src/learner.cc:1095: Starting in XGBoost 1.3.0, the default evaluation metric used with the objective 'binary:logistic' was changed from 'error' to 'logloss'. Explicitly set eval_metric if you'd like to restore the old behavior.\n"
     ]
    },
    {
     "name": "stderr",
     "output_type": "stream",
     "text": [
      "\u001b[32m[I 2021-10-04 16:38:03,246]\u001b[0m Trial 19 finished with value: 0.7895204734230289 and parameters: {'n_estimators': 596, 'max_depth': 12, 'learning_rate': 0.04735515602468389, 'subsample': 0.5700806365134894, 'colsample_bytree': 0.7303482014223934, 'gamma': 0}. Best is trial 17 with value: 0.7916301780643792.\u001b[0m\n"
     ]
    },
    {
     "name": "stdout",
     "output_type": "stream",
     "text": [
      "Trial done: Accuracy values on folds: [0.7672955974842768, 0.8037974683544303, 0.7974683544303798]\n",
      "[16:38:03] WARNING: C:/Users/Administrator/workspace/xgboost-win64_release_1.4.0/src/learner.cc:1095: Starting in XGBoost 1.3.0, the default evaluation metric used with the objective 'binary:logistic' was changed from 'error' to 'logloss'. Explicitly set eval_metric if you'd like to restore the old behavior.\n",
      "[16:38:03] WARNING: C:/Users/Administrator/workspace/xgboost-win64_release_1.4.0/src/learner.cc:1095: Starting in XGBoost 1.3.0, the default evaluation metric used with the objective 'binary:logistic' was changed from 'error' to 'logloss'. Explicitly set eval_metric if you'd like to restore the old behavior.\n",
      "[16:38:04] WARNING: C:/Users/Administrator/workspace/xgboost-win64_release_1.4.0/src/learner.cc:1095: Starting in XGBoost 1.3.0, the default evaluation metric used with the objective 'binary:logistic' was changed from 'error' to 'logloss'. Explicitly set eval_metric if you'd like to restore the old behavior.\n"
     ]
    },
    {
     "name": "stderr",
     "output_type": "stream",
     "text": [
      "\u001b[32m[I 2021-10-04 16:38:04,545]\u001b[0m Trial 20 finished with value: 0.7832311652469283 and parameters: {'n_estimators': 408, 'max_depth': 13, 'learning_rate': 0.052380283391286114, 'subsample': 0.5701151815908185, 'colsample_bytree': 0.9967416626298176, 'gamma': 0}. Best is trial 17 with value: 0.7916301780643792.\u001b[0m\n"
     ]
    },
    {
     "name": "stdout",
     "output_type": "stream",
     "text": [
      "Trial done: Accuracy values on folds: [0.7484276729559748, 0.8037974683544303, 0.7974683544303798]\n",
      "[16:38:04] WARNING: C:/Users/Administrator/workspace/xgboost-win64_release_1.4.0/src/learner.cc:1095: Starting in XGBoost 1.3.0, the default evaluation metric used with the objective 'binary:logistic' was changed from 'error' to 'logloss'. Explicitly set eval_metric if you'd like to restore the old behavior.\n",
      "[16:38:05] WARNING: C:/Users/Administrator/workspace/xgboost-win64_release_1.4.0/src/learner.cc:1095: Starting in XGBoost 1.3.0, the default evaluation metric used with the objective 'binary:logistic' was changed from 'error' to 'logloss'. Explicitly set eval_metric if you'd like to restore the old behavior.\n",
      "[16:38:05] WARNING: C:/Users/Administrator/workspace/xgboost-win64_release_1.4.0/src/learner.cc:1095: Starting in XGBoost 1.3.0, the default evaluation metric used with the objective 'binary:logistic' was changed from 'error' to 'logloss'. Explicitly set eval_metric if you'd like to restore the old behavior.\n"
     ]
    },
    {
     "name": "stderr",
     "output_type": "stream",
     "text": [
      "\u001b[32m[I 2021-10-04 16:38:06,523]\u001b[0m Trial 21 finished with value: 0.7831648223336783 and parameters: {'n_estimators': 445, 'max_depth': 10, 'learning_rate': 0.019927190553917024, 'subsample': 0.7513759997870196, 'colsample_bytree': 0.6161618938102796, 'gamma': 0}. Best is trial 17 with value: 0.7916301780643792.\u001b[0m\n"
     ]
    },
    {
     "name": "stdout",
     "output_type": "stream",
     "text": [
      "Trial done: Accuracy values on folds: [0.779874213836478, 0.7784810126582279, 0.7911392405063291]\n",
      "[16:38:06] WARNING: C:/Users/Administrator/workspace/xgboost-win64_release_1.4.0/src/learner.cc:1095: Starting in XGBoost 1.3.0, the default evaluation metric used with the objective 'binary:logistic' was changed from 'error' to 'logloss'. Explicitly set eval_metric if you'd like to restore the old behavior.\n",
      "[16:38:07] WARNING: C:/Users/Administrator/workspace/xgboost-win64_release_1.4.0/src/learner.cc:1095: Starting in XGBoost 1.3.0, the default evaluation metric used with the objective 'binary:logistic' was changed from 'error' to 'logloss'. Explicitly set eval_metric if you'd like to restore the old behavior.\n",
      "[16:38:07] WARNING: C:/Users/Administrator/workspace/xgboost-win64_release_1.4.0/src/learner.cc:1095: Starting in XGBoost 1.3.0, the default evaluation metric used with the objective 'binary:logistic' was changed from 'error' to 'logloss'. Explicitly set eval_metric if you'd like to restore the old behavior.\n"
     ]
    },
    {
     "name": "stderr",
     "output_type": "stream",
     "text": [
      "\u001b[32m[I 2021-10-04 16:38:08,323]\u001b[0m Trial 22 finished with value: 0.7769020513228776 and parameters: {'n_estimators': 506, 'max_depth': 7, 'learning_rate': 0.03105845136912585, 'subsample': 0.6466365544004904, 'colsample_bytree': 0.8394046895241517, 'gamma': 0}. Best is trial 17 with value: 0.7916301780643792.\u001b[0m\n"
     ]
    },
    {
     "name": "stdout",
     "output_type": "stream",
     "text": [
      "Trial done: Accuracy values on folds: [0.7484276729559748, 0.7848101265822784, 0.7974683544303798]\n",
      "[16:38:08] WARNING: C:/Users/Administrator/workspace/xgboost-win64_release_1.4.0/src/learner.cc:1095: Starting in XGBoost 1.3.0, the default evaluation metric used with the objective 'binary:logistic' was changed from 'error' to 'logloss'. Explicitly set eval_metric if you'd like to restore the old behavior.\n",
      "[16:38:09] WARNING: C:/Users/Administrator/workspace/xgboost-win64_release_1.4.0/src/learner.cc:1095: Starting in XGBoost 1.3.0, the default evaluation metric used with the objective 'binary:logistic' was changed from 'error' to 'logloss'. Explicitly set eval_metric if you'd like to restore the old behavior.\n",
      "[16:38:10] WARNING: C:/Users/Administrator/workspace/xgboost-win64_release_1.4.0/src/learner.cc:1095: Starting in XGBoost 1.3.0, the default evaluation metric used with the objective 'binary:logistic' was changed from 'error' to 'logloss'. Explicitly set eval_metric if you'd like to restore the old behavior.\n"
     ]
    },
    {
     "name": "stderr",
     "output_type": "stream",
     "text": [
      "\u001b[32m[I 2021-10-04 16:38:11,237]\u001b[0m Trial 23 finished with value: 0.7874240373643288 and parameters: {'n_estimators': 958, 'max_depth': 11, 'learning_rate': 0.013629825011797964, 'subsample': 0.7028383780991747, 'colsample_bytree': 0.7870107695207973, 'gamma': 0}. Best is trial 17 with value: 0.7916301780643792.\u001b[0m\n"
     ]
    },
    {
     "name": "stdout",
     "output_type": "stream",
     "text": [
      "Trial done: Accuracy values on folds: [0.7610062893081762, 0.7911392405063291, 0.810126582278481]\n",
      "[16:38:11] WARNING: C:/Users/Administrator/workspace/xgboost-win64_release_1.4.0/src/learner.cc:1095: Starting in XGBoost 1.3.0, the default evaluation metric used with the objective 'binary:logistic' was changed from 'error' to 'logloss'. Explicitly set eval_metric if you'd like to restore the old behavior.\n",
      "[16:38:11] WARNING: C:/Users/Administrator/workspace/xgboost-win64_release_1.4.0/src/learner.cc:1095: Starting in XGBoost 1.3.0, the default evaluation metric used with the objective 'binary:logistic' was changed from 'error' to 'logloss'. Explicitly set eval_metric if you'd like to restore the old behavior.\n",
      "[16:38:12] WARNING: C:/Users/Administrator/workspace/xgboost-win64_release_1.4.0/src/learner.cc:1095: Starting in XGBoost 1.3.0, the default evaluation metric used with the objective 'binary:logistic' was changed from 'error' to 'logloss'. Explicitly set eval_metric if you'd like to restore the old behavior.\n"
     ]
    },
    {
     "name": "stderr",
     "output_type": "stream",
     "text": [
      "\u001b[32m[I 2021-10-04 16:38:12,573]\u001b[0m Trial 24 finished with value: 0.7873975001990288 and parameters: {'n_estimators': 390, 'max_depth': 12, 'learning_rate': 0.025085477503316564, 'subsample': 0.604837294013306, 'colsample_bytree': 0.7086824071358054, 'gamma': 0}. Best is trial 17 with value: 0.7916301780643792.\u001b[0m\n"
     ]
    },
    {
     "name": "stdout",
     "output_type": "stream",
     "text": [
      "Trial done: Accuracy values on folds: [0.7735849056603774, 0.7848101265822784, 0.8037974683544303]\n",
      "[16:38:12] WARNING: C:/Users/Administrator/workspace/xgboost-win64_release_1.4.0/src/learner.cc:1095: Starting in XGBoost 1.3.0, the default evaluation metric used with the objective 'binary:logistic' was changed from 'error' to 'logloss'. Explicitly set eval_metric if you'd like to restore the old behavior.\n",
      "[16:38:13] WARNING: C:/Users/Administrator/workspace/xgboost-win64_release_1.4.0/src/learner.cc:1095: Starting in XGBoost 1.3.0, the default evaluation metric used with the objective 'binary:logistic' was changed from 'error' to 'logloss'. Explicitly set eval_metric if you'd like to restore the old behavior.\n",
      "[16:38:13] WARNING: C:/Users/Administrator/workspace/xgboost-win64_release_1.4.0/src/learner.cc:1095: Starting in XGBoost 1.3.0, the default evaluation metric used with the objective 'binary:logistic' was changed from 'error' to 'logloss'. Explicitly set eval_metric if you'd like to restore the old behavior.\n"
     ]
    },
    {
     "name": "stderr",
     "output_type": "stream",
     "text": [
      "\u001b[32m[I 2021-10-04 16:38:14,261]\u001b[0m Trial 25 finished with value: 0.7873975001990288 and parameters: {'n_estimators': 474, 'max_depth': 9, 'learning_rate': 0.016239313901943258, 'subsample': 0.786919788573656, 'colsample_bytree': 0.6093771087133765, 'gamma': 0}. Best is trial 17 with value: 0.7916301780643792.\u001b[0m\n"
     ]
    },
    {
     "name": "stdout",
     "output_type": "stream",
     "text": [
      "Trial done: Accuracy values on folds: [0.7735849056603774, 0.7848101265822784, 0.8037974683544303]\n",
      "[16:38:14] WARNING: C:/Users/Administrator/workspace/xgboost-win64_release_1.4.0/src/learner.cc:1095: Starting in XGBoost 1.3.0, the default evaluation metric used with the objective 'binary:logistic' was changed from 'error' to 'logloss'. Explicitly set eval_metric if you'd like to restore the old behavior.\n",
      "[16:38:14] WARNING: C:/Users/Administrator/workspace/xgboost-win64_release_1.4.0/src/learner.cc:1095: Starting in XGBoost 1.3.0, the default evaluation metric used with the objective 'binary:logistic' was changed from 'error' to 'logloss'. Explicitly set eval_metric if you'd like to restore the old behavior.\n",
      "[16:38:15] WARNING: C:/Users/Administrator/workspace/xgboost-win64_release_1.4.0/src/learner.cc:1095: Starting in XGBoost 1.3.0, the default evaluation metric used with the objective 'binary:logistic' was changed from 'error' to 'logloss'. Explicitly set eval_metric if you'd like to restore the old behavior.\n"
     ]
    },
    {
     "name": "stderr",
     "output_type": "stream",
     "text": [
      "\u001b[32m[I 2021-10-04 16:38:15,957]\u001b[0m Trial 26 finished with value: 0.7810949234402781 and parameters: {'n_estimators': 599, 'max_depth': 10, 'learning_rate': 0.03563508751301278, 'subsample': 0.5326288824493929, 'colsample_bytree': 0.8553630330004557, 'gamma': 0}. Best is trial 17 with value: 0.7916301780643792.\u001b[0m\n"
     ]
    },
    {
     "name": "stdout",
     "output_type": "stream",
     "text": [
      "Trial done: Accuracy values on folds: [0.7610062893081762, 0.7848101265822784, 0.7974683544303798]\n",
      "[16:38:16] WARNING: C:/Users/Administrator/workspace/xgboost-win64_release_1.4.0/src/learner.cc:1095: Starting in XGBoost 1.3.0, the default evaluation metric used with the objective 'binary:logistic' was changed from 'error' to 'logloss'. Explicitly set eval_metric if you'd like to restore the old behavior.\n",
      "[16:38:16] WARNING: C:/Users/Administrator/workspace/xgboost-win64_release_1.4.0/src/learner.cc:1095: Starting in XGBoost 1.3.0, the default evaluation metric used with the objective 'binary:logistic' was changed from 'error' to 'logloss'. Explicitly set eval_metric if you'd like to restore the old behavior.\n",
      "[16:38:17] WARNING: C:/Users/Administrator/workspace/xgboost-win64_release_1.4.0/src/learner.cc:1095: Starting in XGBoost 1.3.0, the default evaluation metric used with the objective 'binary:logistic' was changed from 'error' to 'logloss'. Explicitly set eval_metric if you'd like to restore the old behavior.\n"
     ]
    },
    {
     "name": "stderr",
     "output_type": "stream",
     "text": [
      "\u001b[32m[I 2021-10-04 16:38:17,686]\u001b[0m Trial 27 finished with value: 0.7810949234402781 and parameters: {'n_estimators': 549, 'max_depth': 12, 'learning_rate': 0.026507423757643242, 'subsample': 0.6704615391411374, 'colsample_bytree': 0.6733623499694913, 'gamma': 0}. Best is trial 17 with value: 0.7916301780643792.\u001b[0m\n"
     ]
    },
    {
     "name": "stdout",
     "output_type": "stream",
     "text": [
      "Trial done: Accuracy values on folds: [0.7610062893081762, 0.7721518987341772, 0.810126582278481]\n",
      "[16:38:17] WARNING: C:/Users/Administrator/workspace/xgboost-win64_release_1.4.0/src/learner.cc:1095: Starting in XGBoost 1.3.0, the default evaluation metric used with the objective 'binary:logistic' was changed from 'error' to 'logloss'. Explicitly set eval_metric if you'd like to restore the old behavior.\n",
      "[16:38:18] WARNING: C:/Users/Administrator/workspace/xgboost-win64_release_1.4.0/src/learner.cc:1095: Starting in XGBoost 1.3.0, the default evaluation metric used with the objective 'binary:logistic' was changed from 'error' to 'logloss'. Explicitly set eval_metric if you'd like to restore the old behavior.\n",
      "[16:38:18] WARNING: C:/Users/Administrator/workspace/xgboost-win64_release_1.4.0/src/learner.cc:1095: Starting in XGBoost 1.3.0, the default evaluation metric used with the objective 'binary:logistic' was changed from 'error' to 'logloss'. Explicitly set eval_metric if you'd like to restore the old behavior.\n"
     ]
    },
    {
     "name": "stderr",
     "output_type": "stream",
     "text": [
      "\u001b[32m[I 2021-10-04 16:38:19,103]\u001b[0m Trial 28 finished with value: 0.789507204840379 and parameters: {'n_estimators': 396, 'max_depth': 11, 'learning_rate': 0.018221751591194046, 'subsample': 0.7152314592712408, 'colsample_bytree': 0.5363881131232026, 'gamma': 0}. Best is trial 17 with value: 0.7916301780643792.\u001b[0m\n"
     ]
    },
    {
     "name": "stdout",
     "output_type": "stream",
     "text": [
      "Trial done: Accuracy values on folds: [0.7735849056603774, 0.7911392405063291, 0.8037974683544303]\n",
      "[16:38:19] WARNING: C:/Users/Administrator/workspace/xgboost-win64_release_1.4.0/src/learner.cc:1095: Starting in XGBoost 1.3.0, the default evaluation metric used with the objective 'binary:logistic' was changed from 'error' to 'logloss'. Explicitly set eval_metric if you'd like to restore the old behavior.\n",
      "[16:38:20] WARNING: C:/Users/Administrator/workspace/xgboost-win64_release_1.4.0/src/learner.cc:1095: Starting in XGBoost 1.3.0, the default evaluation metric used with the objective 'binary:logistic' was changed from 'error' to 'logloss'. Explicitly set eval_metric if you'd like to restore the old behavior.\n",
      "[16:38:20] WARNING: C:/Users/Administrator/workspace/xgboost-win64_release_1.4.0/src/learner.cc:1095: Starting in XGBoost 1.3.0, the default evaluation metric used with the objective 'binary:logistic' was changed from 'error' to 'logloss'. Explicitly set eval_metric if you'd like to restore the old behavior.\n"
     ]
    },
    {
     "name": "stderr",
     "output_type": "stream",
     "text": [
      "\u001b[32m[I 2021-10-04 16:38:21,913]\u001b[0m Trial 29 finished with value: 0.7789852187989279 and parameters: {'n_estimators': 800, 'max_depth': 13, 'learning_rate': 0.010095512991261286, 'subsample': 0.8163461137568478, 'colsample_bytree': 0.8680286325372525, 'gamma': 0}. Best is trial 17 with value: 0.7916301780643792.\u001b[0m\n"
     ]
    },
    {
     "name": "stdout",
     "output_type": "stream",
     "text": [
      "Trial done: Accuracy values on folds: [0.7610062893081762, 0.759493670886076, 0.8164556962025317]\n",
      "[16:38:21] WARNING: C:/Users/Administrator/workspace/xgboost-win64_release_1.4.0/src/learner.cc:1095: Starting in XGBoost 1.3.0, the default evaluation metric used with the objective 'binary:logistic' was changed from 'error' to 'logloss'. Explicitly set eval_metric if you'd like to restore the old behavior.\n",
      "[16:38:22] WARNING: C:/Users/Administrator/workspace/xgboost-win64_release_1.4.0/src/learner.cc:1095: Starting in XGBoost 1.3.0, the default evaluation metric used with the objective 'binary:logistic' was changed from 'error' to 'logloss'. Explicitly set eval_metric if you'd like to restore the old behavior.\n",
      "[16:38:23] WARNING: C:/Users/Administrator/workspace/xgboost-win64_release_1.4.0/src/learner.cc:1095: Starting in XGBoost 1.3.0, the default evaluation metric used with the objective 'binary:logistic' was changed from 'error' to 'logloss'. Explicitly set eval_metric if you'd like to restore the old behavior.\n"
     ]
    },
    {
     "name": "stderr",
     "output_type": "stream",
     "text": [
      "\u001b[32m[I 2021-10-04 16:38:23,623]\u001b[0m Trial 30 finished with value: 0.7895337420056788 and parameters: {'n_estimators': 626, 'max_depth': 13, 'learning_rate': 0.041878334077949456, 'subsample': 0.5587302005752779, 'colsample_bytree': 0.7382684911586244, 'gamma': 0}. Best is trial 17 with value: 0.7916301780643792.\u001b[0m\n"
     ]
    },
    {
     "name": "stdout",
     "output_type": "stream",
     "text": [
      "Trial done: Accuracy values on folds: [0.7610062893081762, 0.8037974683544303, 0.8037974683544303]\n",
      "[16:38:23] WARNING: C:/Users/Administrator/workspace/xgboost-win64_release_1.4.0/src/learner.cc:1095: Starting in XGBoost 1.3.0, the default evaluation metric used with the objective 'binary:logistic' was changed from 'error' to 'logloss'. Explicitly set eval_metric if you'd like to restore the old behavior.\n",
      "[16:38:24] WARNING: C:/Users/Administrator/workspace/xgboost-win64_release_1.4.0/src/learner.cc:1095: Starting in XGBoost 1.3.0, the default evaluation metric used with the objective 'binary:logistic' was changed from 'error' to 'logloss'. Explicitly set eval_metric if you'd like to restore the old behavior.\n",
      "[16:38:25] WARNING: C:/Users/Administrator/workspace/xgboost-win64_release_1.4.0/src/learner.cc:1095: Starting in XGBoost 1.3.0, the default evaluation metric used with the objective 'binary:logistic' was changed from 'error' to 'logloss'. Explicitly set eval_metric if you'd like to restore the old behavior.\n"
     ]
    },
    {
     "name": "stderr",
     "output_type": "stream",
     "text": [
      "\u001b[32m[I 2021-10-04 16:38:25,852]\u001b[0m Trial 31 finished with value: 0.7811479977708782 and parameters: {'n_estimators': 882, 'max_depth': 13, 'learning_rate': 0.03919494999424405, 'subsample': 0.5494442793351151, 'colsample_bytree': 0.7650341922376512, 'gamma': 0}. Best is trial 17 with value: 0.7916301780643792.\u001b[0m\n"
     ]
    },
    {
     "name": "stdout",
     "output_type": "stream",
     "text": [
      "Trial done: Accuracy values on folds: [0.7358490566037735, 0.8164556962025317, 0.7911392405063291]\n",
      "[16:38:25] WARNING: C:/Users/Administrator/workspace/xgboost-win64_release_1.4.0/src/learner.cc:1095: Starting in XGBoost 1.3.0, the default evaluation metric used with the objective 'binary:logistic' was changed from 'error' to 'logloss'. Explicitly set eval_metric if you'd like to restore the old behavior.\n",
      "[16:38:26] WARNING: C:/Users/Administrator/workspace/xgboost-win64_release_1.4.0/src/learner.cc:1095: Starting in XGBoost 1.3.0, the default evaluation metric used with the objective 'binary:logistic' was changed from 'error' to 'logloss'. Explicitly set eval_metric if you'd like to restore the old behavior.\n",
      "[16:38:26] WARNING: C:/Users/Administrator/workspace/xgboost-win64_release_1.4.0/src/learner.cc:1095: Starting in XGBoost 1.3.0, the default evaluation metric used with the objective 'binary:logistic' was changed from 'error' to 'logloss'. Explicitly set eval_metric if you'd like to restore the old behavior.\n"
     ]
    },
    {
     "name": "stderr",
     "output_type": "stream",
     "text": [
      "\u001b[32m[I 2021-10-04 16:38:27,489]\u001b[0m Trial 32 finished with value: 0.7684632327574769 and parameters: {'n_estimators': 635, 'max_depth': 13, 'learning_rate': 0.049380028011684084, 'subsample': 0.5016293586449115, 'colsample_bytree': 0.8051984061834379, 'gamma': 0}. Best is trial 17 with value: 0.7916301780643792.\u001b[0m\n"
     ]
    },
    {
     "name": "stdout",
     "output_type": "stream",
     "text": [
      "Trial done: Accuracy values on folds: [0.7484276729559748, 0.7784810126582279, 0.7784810126582279]\n",
      "[16:38:27] WARNING: C:/Users/Administrator/workspace/xgboost-win64_release_1.4.0/src/learner.cc:1095: Starting in XGBoost 1.3.0, the default evaluation metric used with the objective 'binary:logistic' was changed from 'error' to 'logloss'. Explicitly set eval_metric if you'd like to restore the old behavior.\n",
      "[16:38:27] WARNING: C:/Users/Administrator/workspace/xgboost-win64_release_1.4.0/src/learner.cc:1095: Starting in XGBoost 1.3.0, the default evaluation metric used with the objective 'binary:logistic' was changed from 'error' to 'logloss'. Explicitly set eval_metric if you'd like to restore the old behavior.\n",
      "[16:38:28] WARNING: C:/Users/Administrator/workspace/xgboost-win64_release_1.4.0/src/learner.cc:1095: Starting in XGBoost 1.3.0, the default evaluation metric used with the objective 'binary:logistic' was changed from 'error' to 'logloss'. Explicitly set eval_metric if you'd like to restore the old behavior.\n"
     ]
    },
    {
     "name": "stderr",
     "output_type": "stream",
     "text": [
      "\u001b[32m[I 2021-10-04 16:38:28,815]\u001b[0m Trial 33 finished with value: 0.7832444338295783 and parameters: {'n_estimators': 444, 'max_depth': 12, 'learning_rate': 0.057971515817517576, 'subsample': 0.5945596074823342, 'colsample_bytree': 0.9068301538150202, 'gamma': 0}. Best is trial 17 with value: 0.7916301780643792.\u001b[0m\n"
     ]
    },
    {
     "name": "stdout",
     "output_type": "stream",
     "text": [
      "Trial done: Accuracy values on folds: [0.7421383647798742, 0.8227848101265823, 0.7848101265822784]\n",
      "[16:38:28] WARNING: C:/Users/Administrator/workspace/xgboost-win64_release_1.4.0/src/learner.cc:1095: Starting in XGBoost 1.3.0, the default evaluation metric used with the objective 'binary:logistic' was changed from 'error' to 'logloss'. Explicitly set eval_metric if you'd like to restore the old behavior.\n",
      "[16:38:29] WARNING: C:/Users/Administrator/workspace/xgboost-win64_release_1.4.0/src/learner.cc:1095: Starting in XGBoost 1.3.0, the default evaluation metric used with the objective 'binary:logistic' was changed from 'error' to 'logloss'. Explicitly set eval_metric if you'd like to restore the old behavior.\n",
      "[16:38:29] WARNING: C:/Users/Administrator/workspace/xgboost-win64_release_1.4.0/src/learner.cc:1095: Starting in XGBoost 1.3.0, the default evaluation metric used with the objective 'binary:logistic' was changed from 'error' to 'logloss'. Explicitly set eval_metric if you'd like to restore the old behavior.\n"
     ]
    },
    {
     "name": "stderr",
     "output_type": "stream",
     "text": [
      "\u001b[32m[I 2021-10-04 16:38:30,412]\u001b[0m Trial 34 finished with value: 0.7832046280816284 and parameters: {'n_estimators': 532, 'max_depth': 7, 'learning_rate': 0.029948459939026395, 'subsample': 0.6423365869669128, 'colsample_bytree': 0.6432436706046061, 'gamma': 0}. Best is trial 17 with value: 0.7916301780643792.\u001b[0m\n"
     ]
    },
    {
     "name": "stdout",
     "output_type": "stream",
     "text": [
      "Trial done: Accuracy values on folds: [0.7610062893081762, 0.7784810126582279, 0.810126582278481]\n",
      "[16:38:30] WARNING: C:/Users/Administrator/workspace/xgboost-win64_release_1.4.0/src/learner.cc:1095: Starting in XGBoost 1.3.0, the default evaluation metric used with the objective 'binary:logistic' was changed from 'error' to 'logloss'. Explicitly set eval_metric if you'd like to restore the old behavior.\n",
      "[16:38:31] WARNING: C:/Users/Administrator/workspace/xgboost-win64_release_1.4.0/src/learner.cc:1095: Starting in XGBoost 1.3.0, the default evaluation metric used with the objective 'binary:logistic' was changed from 'error' to 'logloss'. Explicitly set eval_metric if you'd like to restore the old behavior.\n",
      "[16:38:31] WARNING: C:/Users/Administrator/workspace/xgboost-win64_release_1.4.0/src/learner.cc:1095: Starting in XGBoost 1.3.0, the default evaluation metric used with the objective 'binary:logistic' was changed from 'error' to 'logloss'. Explicitly set eval_metric if you'd like to restore the old behavior.\n"
     ]
    },
    {
     "name": "stderr",
     "output_type": "stream",
     "text": [
      "\u001b[32m[I 2021-10-04 16:38:32,449]\u001b[0m Trial 35 finished with value: 0.7832046280816284 and parameters: {'n_estimators': 734, 'max_depth': 13, 'learning_rate': 0.02403748231127694, 'subsample': 0.546970790383481, 'colsample_bytree': 0.6968675850956955, 'gamma': 0}. Best is trial 17 with value: 0.7916301780643792.\u001b[0m\n"
     ]
    },
    {
     "name": "stdout",
     "output_type": "stream",
     "text": [
      "Trial done: Accuracy values on folds: [0.7610062893081762, 0.7784810126582279, 0.810126582278481]\n",
      "[16:38:32] WARNING: C:/Users/Administrator/workspace/xgboost-win64_release_1.4.0/src/learner.cc:1095: Starting in XGBoost 1.3.0, the default evaluation metric used with the objective 'binary:logistic' was changed from 'error' to 'logloss'. Explicitly set eval_metric if you'd like to restore the old behavior.\n",
      "[16:38:33] WARNING: C:/Users/Administrator/workspace/xgboost-win64_release_1.4.0/src/learner.cc:1095: Starting in XGBoost 1.3.0, the default evaluation metric used with the objective 'binary:logistic' was changed from 'error' to 'logloss'. Explicitly set eval_metric if you'd like to restore the old behavior.\n",
      "[16:38:33] WARNING: C:/Users/Administrator/workspace/xgboost-win64_release_1.4.0/src/learner.cc:1095: Starting in XGBoost 1.3.0, the default evaluation metric used with the objective 'binary:logistic' was changed from 'error' to 'logloss'. Explicitly set eval_metric if you'd like to restore the old behavior.\n"
     ]
    },
    {
     "name": "stderr",
     "output_type": "stream",
     "text": [
      "\u001b[32m[I 2021-10-04 16:38:34,389]\u001b[0m Trial 36 finished with value: 0.7853143327229786 and parameters: {'n_estimators': 635, 'max_depth': 11, 'learning_rate': 0.02228280210797778, 'subsample': 0.6693699571150871, 'colsample_bytree': 0.7274147733797901, 'gamma': 0}. Best is trial 17 with value: 0.7916301780643792.\u001b[0m\n"
     ]
    },
    {
     "name": "stdout",
     "output_type": "stream",
     "text": [
      "Trial done: Accuracy values on folds: [0.7610062893081762, 0.7911392405063291, 0.8037974683544303]\n",
      "[16:38:34] WARNING: C:/Users/Administrator/workspace/xgboost-win64_release_1.4.0/src/learner.cc:1095: Starting in XGBoost 1.3.0, the default evaluation metric used with the objective 'binary:logistic' was changed from 'error' to 'logloss'. Explicitly set eval_metric if you'd like to restore the old behavior.\n",
      "[16:38:34] WARNING: C:/Users/Administrator/workspace/xgboost-win64_release_1.4.0/src/learner.cc:1095: Starting in XGBoost 1.3.0, the default evaluation metric used with the objective 'binary:logistic' was changed from 'error' to 'logloss'. Explicitly set eval_metric if you'd like to restore the old behavior.\n",
      "[16:38:35] WARNING: C:/Users/Administrator/workspace/xgboost-win64_release_1.4.0/src/learner.cc:1095: Starting in XGBoost 1.3.0, the default evaluation metric used with the objective 'binary:logistic' was changed from 'error' to 'logloss'. Explicitly set eval_metric if you'd like to restore the old behavior.\n"
     ]
    },
    {
     "name": "stderr",
     "output_type": "stream",
     "text": [
      "\u001b[32m[I 2021-10-04 16:38:35,765]\u001b[0m Trial 37 finished with value: 0.7790117559642278 and parameters: {'n_estimators': 429, 'max_depth': 8, 'learning_rate': 0.06034771413482361, 'subsample': 0.8606344960291843, 'colsample_bytree': 0.5917781587261836, 'gamma': 0}. Best is trial 17 with value: 0.7916301780643792.\u001b[0m\n"
     ]
    },
    {
     "name": "stdout",
     "output_type": "stream",
     "text": [
      "Trial done: Accuracy values on folds: [0.7484276729559748, 0.7848101265822784, 0.8037974683544303]\n",
      "[16:38:35] WARNING: C:/Users/Administrator/workspace/xgboost-win64_release_1.4.0/src/learner.cc:1095: Starting in XGBoost 1.3.0, the default evaluation metric used with the objective 'binary:logistic' was changed from 'error' to 'logloss'. Explicitly set eval_metric if you'd like to restore the old behavior.\n",
      "[16:38:36] WARNING: C:/Users/Administrator/workspace/xgboost-win64_release_1.4.0/src/learner.cc:1095: Starting in XGBoost 1.3.0, the default evaluation metric used with the objective 'binary:logistic' was changed from 'error' to 'logloss'. Explicitly set eval_metric if you'd like to restore the old behavior.\n",
      "[16:38:36] WARNING: C:/Users/Administrator/workspace/xgboost-win64_release_1.4.0/src/learner.cc:1095: Starting in XGBoost 1.3.0, the default evaluation metric used with the objective 'binary:logistic' was changed from 'error' to 'logloss'. Explicitly set eval_metric if you'd like to restore the old behavior.\n"
     ]
    },
    {
     "name": "stderr",
     "output_type": "stream",
     "text": [
      "\u001b[32m[I 2021-10-04 16:38:37,021]\u001b[0m Trial 38 finished with value: 0.7874107687816787 and parameters: {'n_estimators': 385, 'max_depth': 10, 'learning_rate': 0.030228813648752163, 'subsample': 0.5902486306938806, 'colsample_bytree': 0.8141655886275203, 'gamma': 0}. Best is trial 17 with value: 0.7916301780643792.\u001b[0m\n"
     ]
    },
    {
     "name": "stdout",
     "output_type": "stream",
     "text": [
      "Trial done: Accuracy values on folds: [0.7672955974842768, 0.7848101265822784, 0.810126582278481]\n",
      "[16:38:37] WARNING: C:/Users/Administrator/workspace/xgboost-win64_release_1.4.0/src/learner.cc:1095: Starting in XGBoost 1.3.0, the default evaluation metric used with the objective 'binary:logistic' was changed from 'error' to 'logloss'. Explicitly set eval_metric if you'd like to restore the old behavior.\n",
      "[16:38:37] WARNING: C:/Users/Administrator/workspace/xgboost-win64_release_1.4.0/src/learner.cc:1095: Starting in XGBoost 1.3.0, the default evaluation metric used with the objective 'binary:logistic' was changed from 'error' to 'logloss'. Explicitly set eval_metric if you'd like to restore the old behavior.\n",
      "[16:38:38] WARNING: C:/Users/Administrator/workspace/xgboost-win64_release_1.4.0/src/learner.cc:1095: Starting in XGBoost 1.3.0, the default evaluation metric used with the objective 'binary:logistic' was changed from 'error' to 'logloss'. Explicitly set eval_metric if you'd like to restore the old behavior.\n"
     ]
    },
    {
     "name": "stderr",
     "output_type": "stream",
     "text": [
      "\u001b[32m[I 2021-10-04 16:38:38,648]\u001b[0m Trial 39 finished with value: 0.7811081920229282 and parameters: {'n_estimators': 600, 'max_depth': 12, 'learning_rate': 0.0480625547098839, 'subsample': 0.5570217571184319, 'colsample_bytree': 0.750672105565407, 'gamma': 0}. Best is trial 17 with value: 0.7916301780643792.\u001b[0m\n"
     ]
    },
    {
     "name": "stdout",
     "output_type": "stream",
     "text": [
      "Trial done: Accuracy values on folds: [0.7547169811320755, 0.7974683544303798, 0.7911392405063291]\n",
      "[16:38:38] WARNING: C:/Users/Administrator/workspace/xgboost-win64_release_1.4.0/src/learner.cc:1095: Starting in XGBoost 1.3.0, the default evaluation metric used with the objective 'binary:logistic' was changed from 'error' to 'logloss'. Explicitly set eval_metric if you'd like to restore the old behavior.\n",
      "[16:38:39] WARNING: C:/Users/Administrator/workspace/xgboost-win64_release_1.4.0/src/learner.cc:1095: Starting in XGBoost 1.3.0, the default evaluation metric used with the objective 'binary:logistic' was changed from 'error' to 'logloss'. Explicitly set eval_metric if you'd like to restore the old behavior.\n",
      "[16:38:39] WARNING: C:/Users/Administrator/workspace/xgboost-win64_release_1.4.0/src/learner.cc:1095: Starting in XGBoost 1.3.0, the default evaluation metric used with the objective 'binary:logistic' was changed from 'error' to 'logloss'. Explicitly set eval_metric if you'd like to restore the old behavior.\n"
     ]
    },
    {
     "name": "stderr",
     "output_type": "stream",
     "text": [
      "\u001b[32m[I 2021-10-04 16:38:40,405]\u001b[0m Trial 40 finished with value: 0.7558182734920256 and parameters: {'n_estimators': 721, 'max_depth': 12, 'learning_rate': 0.06591437401927014, 'subsample': 0.5275249822134443, 'colsample_bytree': 0.7178170682603678, 'gamma': 0}. Best is trial 17 with value: 0.7916301780643792.\u001b[0m\n"
     ]
    },
    {
     "name": "stdout",
     "output_type": "stream",
     "text": [
      "Trial done: Accuracy values on folds: [0.7421383647798742, 0.7658227848101266, 0.759493670886076]\n",
      "[16:38:40] WARNING: C:/Users/Administrator/workspace/xgboost-win64_release_1.4.0/src/learner.cc:1095: Starting in XGBoost 1.3.0, the default evaluation metric used with the objective 'binary:logistic' was changed from 'error' to 'logloss'. Explicitly set eval_metric if you'd like to restore the old behavior.\n",
      "[16:38:41] WARNING: C:/Users/Administrator/workspace/xgboost-win64_release_1.4.0/src/learner.cc:1095: Starting in XGBoost 1.3.0, the default evaluation metric used with the objective 'binary:logistic' was changed from 'error' to 'logloss'. Explicitly set eval_metric if you'd like to restore the old behavior.\n",
      "[16:38:42] WARNING: C:/Users/Administrator/workspace/xgboost-win64_release_1.4.0/src/learner.cc:1095: Starting in XGBoost 1.3.0, the default evaluation metric used with the objective 'binary:logistic' was changed from 'error' to 'logloss'. Explicitly set eval_metric if you'd like to restore the old behavior.\n"
     ]
    },
    {
     "name": "stderr",
     "output_type": "stream",
     "text": [
      "\u001b[32m[I 2021-10-04 16:38:42,768]\u001b[0m Trial 41 finished with value: 0.7811081920229282 and parameters: {'n_estimators': 849, 'max_depth': 9, 'learning_rate': 0.027280065367472774, 'subsample': 0.6822375885360424, 'colsample_bytree': 0.5448539047340702, 'gamma': 0}. Best is trial 17 with value: 0.7916301780643792.\u001b[0m\n"
     ]
    },
    {
     "name": "stdout",
     "output_type": "stream",
     "text": [
      "Trial done: Accuracy values on folds: [0.7547169811320755, 0.7911392405063291, 0.7974683544303798]\n",
      "[16:38:42] WARNING: C:/Users/Administrator/workspace/xgboost-win64_release_1.4.0/src/learner.cc:1095: Starting in XGBoost 1.3.0, the default evaluation metric used with the objective 'binary:logistic' was changed from 'error' to 'logloss'. Explicitly set eval_metric if you'd like to restore the old behavior.\n",
      "[16:38:43] WARNING: C:/Users/Administrator/workspace/xgboost-win64_release_1.4.0/src/learner.cc:1095: Starting in XGBoost 1.3.0, the default evaluation metric used with the objective 'binary:logistic' was changed from 'error' to 'logloss'. Explicitly set eval_metric if you'd like to restore the old behavior.\n",
      "[16:38:43] WARNING: C:/Users/Administrator/workspace/xgboost-win64_release_1.4.0/src/learner.cc:1095: Starting in XGBoost 1.3.0, the default evaluation metric used with the objective 'binary:logistic' was changed from 'error' to 'logloss'. Explicitly set eval_metric if you'd like to restore the old behavior.\n"
     ]
    },
    {
     "name": "stderr",
     "output_type": "stream",
     "text": [
      "\u001b[32m[I 2021-10-04 16:38:44,403]\u001b[0m Trial 42 finished with value: 0.7790117559642279 and parameters: {'n_estimators': 591, 'max_depth': 13, 'learning_rate': 0.04422160640357647, 'subsample': 0.5753881444390961, 'colsample_bytree': 0.6769127729530958, 'gamma': 0}. Best is trial 17 with value: 0.7916301780643792.\u001b[0m\n"
     ]
    },
    {
     "name": "stdout",
     "output_type": "stream",
     "text": [
      "Trial done: Accuracy values on folds: [0.7484276729559748, 0.7784810126582279, 0.810126582278481]\n",
      "[16:38:44] WARNING: C:/Users/Administrator/workspace/xgboost-win64_release_1.4.0/src/learner.cc:1095: Starting in XGBoost 1.3.0, the default evaluation metric used with the objective 'binary:logistic' was changed from 'error' to 'logloss'. Explicitly set eval_metric if you'd like to restore the old behavior.\n",
      "[16:38:45] WARNING: C:/Users/Administrator/workspace/xgboost-win64_release_1.4.0/src/learner.cc:1095: Starting in XGBoost 1.3.0, the default evaluation metric used with the objective 'binary:logistic' was changed from 'error' to 'logloss'. Explicitly set eval_metric if you'd like to restore the old behavior.\n",
      "[16:38:46] WARNING: C:/Users/Administrator/workspace/xgboost-win64_release_1.4.0/src/learner.cc:1095: Starting in XGBoost 1.3.0, the default evaluation metric used with the objective 'binary:logistic' was changed from 'error' to 'logloss'. Explicitly set eval_metric if you'd like to restore the old behavior.\n"
     ]
    },
    {
     "name": "stderr",
     "output_type": "stream",
     "text": [
      "\u001b[32m[I 2021-10-04 16:38:47,470]\u001b[0m Trial 43 finished with value: 0.7789852187989279 and parameters: {'n_estimators': 994, 'max_depth': 11, 'learning_rate': 0.015132018215992232, 'subsample': 0.7787408691228284, 'colsample_bytree': 0.5399682160670574, 'gamma': 0}. Best is trial 17 with value: 0.7916301780643792.\u001b[0m\n"
     ]
    },
    {
     "name": "stdout",
     "output_type": "stream",
     "text": [
      "Trial done: Accuracy values on folds: [0.7610062893081762, 0.7784810126582279, 0.7974683544303798]\n",
      "[16:38:47] WARNING: C:/Users/Administrator/workspace/xgboost-win64_release_1.4.0/src/learner.cc:1095: Starting in XGBoost 1.3.0, the default evaluation metric used with the objective 'binary:logistic' was changed from 'error' to 'logloss'. Explicitly set eval_metric if you'd like to restore the old behavior.\n",
      "[16:38:48] WARNING: C:/Users/Administrator/workspace/xgboost-win64_release_1.4.0/src/learner.cc:1095: Starting in XGBoost 1.3.0, the default evaluation metric used with the objective 'binary:logistic' was changed from 'error' to 'logloss'. Explicitly set eval_metric if you'd like to restore the old behavior.\n",
      "[16:38:48] WARNING: C:/Users/Administrator/workspace/xgboost-win64_release_1.4.0/src/learner.cc:1095: Starting in XGBoost 1.3.0, the default evaluation metric used with the objective 'binary:logistic' was changed from 'error' to 'logloss'. Explicitly set eval_metric if you'd like to restore the old behavior.\n"
     ]
    },
    {
     "name": "stderr",
     "output_type": "stream",
     "text": [
      "\u001b[32m[I 2021-10-04 16:38:49,556]\u001b[0m Trial 44 finished with value: 0.7748188838468275 and parameters: {'n_estimators': 767, 'max_depth': 12, 'learning_rate': 0.039693457921649605, 'subsample': 0.6213094079223052, 'colsample_bytree': 0.651576160572552, 'gamma': 0}. Best is trial 17 with value: 0.7916301780643792.\u001b[0m\n"
     ]
    },
    {
     "name": "stdout",
     "output_type": "stream",
     "text": [
      "Trial done: Accuracy values on folds: [0.7358490566037735, 0.7974683544303798, 0.7911392405063291]\n",
      "[16:38:49] WARNING: C:/Users/Administrator/workspace/xgboost-win64_release_1.4.0/src/learner.cc:1095: Starting in XGBoost 1.3.0, the default evaluation metric used with the objective 'binary:logistic' was changed from 'error' to 'logloss'. Explicitly set eval_metric if you'd like to restore the old behavior.\n",
      "[16:38:50] WARNING: C:/Users/Administrator/workspace/xgboost-win64_release_1.4.0/src/learner.cc:1095: Starting in XGBoost 1.3.0, the default evaluation metric used with the objective 'binary:logistic' was changed from 'error' to 'logloss'. Explicitly set eval_metric if you'd like to restore the old behavior.\n",
      "[16:38:50] WARNING: C:/Users/Administrator/workspace/xgboost-win64_release_1.4.0/src/learner.cc:1095: Starting in XGBoost 1.3.0, the default evaluation metric used with the objective 'binary:logistic' was changed from 'error' to 'logloss'. Explicitly set eval_metric if you'd like to restore the old behavior.\n"
     ]
    },
    {
     "name": "stderr",
     "output_type": "stream",
     "text": [
      "\u001b[32m[I 2021-10-04 16:38:50,834]\u001b[0m Trial 45 finished with value: 0.7811081920229282 and parameters: {'n_estimators': 369, 'max_depth': 11, 'learning_rate': 0.03399399384007562, 'subsample': 0.7248094290865246, 'colsample_bytree': 0.573965947480932, 'gamma': 0}. Best is trial 17 with value: 0.7916301780643792.\u001b[0m\n"
     ]
    },
    {
     "name": "stdout",
     "output_type": "stream",
     "text": [
      "Trial done: Accuracy values on folds: [0.7547169811320755, 0.7911392405063291, 0.7974683544303798]\n",
      "[16:38:50] WARNING: C:/Users/Administrator/workspace/xgboost-win64_release_1.4.0/src/learner.cc:1095: Starting in XGBoost 1.3.0, the default evaluation metric used with the objective 'binary:logistic' was changed from 'error' to 'logloss'. Explicitly set eval_metric if you'd like to restore the old behavior.\n",
      "[16:38:51] WARNING: C:/Users/Administrator/workspace/xgboost-win64_release_1.4.0/src/learner.cc:1095: Starting in XGBoost 1.3.0, the default evaluation metric used with the objective 'binary:logistic' was changed from 'error' to 'logloss'. Explicitly set eval_metric if you'd like to restore the old behavior.\n",
      "[16:38:51] WARNING: C:/Users/Administrator/workspace/xgboost-win64_release_1.4.0/src/learner.cc:1095: Starting in XGBoost 1.3.0, the default evaluation metric used with the objective 'binary:logistic' was changed from 'error' to 'logloss'. Explicitly set eval_metric if you'd like to restore the old behavior.\n"
     ]
    },
    {
     "name": "stderr",
     "output_type": "stream",
     "text": [
      "\u001b[32m[I 2021-10-04 16:38:52,463]\u001b[0m Trial 46 finished with value: 0.770599474564127 and parameters: {'n_estimators': 661, 'max_depth': 13, 'learning_rate': 0.09793467540938997, 'subsample': 0.6011382835552048, 'colsample_bytree': 0.7397757737833742, 'gamma': 0}. Best is trial 17 with value: 0.7916301780643792.\u001b[0m\n"
     ]
    },
    {
     "name": "stdout",
     "output_type": "stream",
     "text": [
      "Trial done: Accuracy values on folds: [0.7358490566037735, 0.810126582278481, 0.7658227848101266]\n",
      "[16:38:52] WARNING: C:/Users/Administrator/workspace/xgboost-win64_release_1.4.0/src/learner.cc:1095: Starting in XGBoost 1.3.0, the default evaluation metric used with the objective 'binary:logistic' was changed from 'error' to 'logloss'. Explicitly set eval_metric if you'd like to restore the old behavior.\n",
      "[16:38:53] WARNING: C:/Users/Administrator/workspace/xgboost-win64_release_1.4.0/src/learner.cc:1095: Starting in XGBoost 1.3.0, the default evaluation metric used with the objective 'binary:logistic' was changed from 'error' to 'logloss'. Explicitly set eval_metric if you'd like to restore the old behavior.\n",
      "[16:38:53] WARNING: C:/Users/Administrator/workspace/xgboost-win64_release_1.4.0/src/learner.cc:1095: Starting in XGBoost 1.3.0, the default evaluation metric used with the objective 'binary:logistic' was changed from 'error' to 'logloss'. Explicitly set eval_metric if you'd like to restore the old behavior.\n"
     ]
    },
    {
     "name": "stderr",
     "output_type": "stream",
     "text": [
      "\u001b[32m[I 2021-10-04 16:38:54,020]\u001b[0m Trial 47 finished with value: 0.7768622455749276 and parameters: {'n_estimators': 475, 'max_depth': 9, 'learning_rate': 0.0528474669131527, 'subsample': 0.9568047395712904, 'colsample_bytree': 0.7850416150116036, 'gamma': 0}. Best is trial 17 with value: 0.7916301780643792.\u001b[0m\n"
     ]
    },
    {
     "name": "stdout",
     "output_type": "stream",
     "text": [
      "Trial done: Accuracy values on folds: [0.7672955974842768, 0.7658227848101266, 0.7974683544303798]\n",
      "[16:38:54] WARNING: C:/Users/Administrator/workspace/xgboost-win64_release_1.4.0/src/learner.cc:1095: Starting in XGBoost 1.3.0, the default evaluation metric used with the objective 'binary:logistic' was changed from 'error' to 'logloss'. Explicitly set eval_metric if you'd like to restore the old behavior.\n",
      "[16:38:54] WARNING: C:/Users/Administrator/workspace/xgboost-win64_release_1.4.0/src/learner.cc:1095: Starting in XGBoost 1.3.0, the default evaluation metric used with the objective 'binary:logistic' was changed from 'error' to 'logloss'. Explicitly set eval_metric if you'd like to restore the old behavior.\n",
      "[16:38:55] WARNING: C:/Users/Administrator/workspace/xgboost-win64_release_1.4.0/src/learner.cc:1095: Starting in XGBoost 1.3.0, the default evaluation metric used with the objective 'binary:logistic' was changed from 'error' to 'logloss'. Explicitly set eval_metric if you'd like to restore the old behavior.\n"
     ]
    },
    {
     "name": "stderr",
     "output_type": "stream",
     "text": [
      "\u001b[32m[I 2021-10-04 16:38:55,647]\u001b[0m Trial 48 finished with value: 0.7769285884881777 and parameters: {'n_estimators': 565, 'max_depth': 12, 'learning_rate': 0.04638263609737718, 'subsample': 0.6503608768606928, 'colsample_bytree': 0.6895616586681323, 'gamma': 0}. Best is trial 17 with value: 0.7916301780643792.\u001b[0m\n"
     ]
    },
    {
     "name": "stdout",
     "output_type": "stream",
     "text": [
      "Trial done: Accuracy values on folds: [0.7358490566037735, 0.7974683544303798, 0.7974683544303798]\n",
      "[16:38:55] WARNING: C:/Users/Administrator/workspace/xgboost-win64_release_1.4.0/src/learner.cc:1095: Starting in XGBoost 1.3.0, the default evaluation metric used with the objective 'binary:logistic' was changed from 'error' to 'logloss'. Explicitly set eval_metric if you'd like to restore the old behavior.\n",
      "[16:38:56] WARNING: C:/Users/Administrator/workspace/xgboost-win64_release_1.4.0/src/learner.cc:1095: Starting in XGBoost 1.3.0, the default evaluation metric used with the objective 'binary:logistic' was changed from 'error' to 'logloss'. Explicitly set eval_metric if you'd like to restore the old behavior.\n",
      "[16:38:56] WARNING: C:/Users/Administrator/workspace/xgboost-win64_release_1.4.0/src/learner.cc:1095: Starting in XGBoost 1.3.0, the default evaluation metric used with the objective 'binary:logistic' was changed from 'error' to 'logloss'. Explicitly set eval_metric if you'd like to restore the old behavior.\n"
     ]
    },
    {
     "name": "stderr",
     "output_type": "stream",
     "text": [
      "\u001b[32m[I 2021-10-04 16:38:57,324]\u001b[0m Trial 49 finished with value: 0.7874107687816787 and parameters: {'n_estimators': 501, 'max_depth': 10, 'learning_rate': 0.022295810203137596, 'subsample': 0.6920809496524847, 'colsample_bytree': 0.5546088903785775, 'gamma': 0}. Best is trial 17 with value: 0.7916301780643792.\u001b[0m\n"
     ]
    },
    {
     "name": "stdout",
     "output_type": "stream",
     "text": [
      "Trial done: Accuracy values on folds: [0.7672955974842768, 0.7911392405063291, 0.8037974683544303]\n",
      "[16:38:57] WARNING: C:/Users/Administrator/workspace/xgboost-win64_release_1.4.0/src/learner.cc:1095: Starting in XGBoost 1.3.0, the default evaluation metric used with the objective 'binary:logistic' was changed from 'error' to 'logloss'. Explicitly set eval_metric if you'd like to restore the old behavior.\n",
      "[16:38:58] WARNING: C:/Users/Administrator/workspace/xgboost-win64_release_1.4.0/src/learner.cc:1095: Starting in XGBoost 1.3.0, the default evaluation metric used with the objective 'binary:logistic' was changed from 'error' to 'logloss'. Explicitly set eval_metric if you'd like to restore the old behavior.\n",
      "[16:38:59] WARNING: C:/Users/Administrator/workspace/xgboost-win64_release_1.4.0/src/learner.cc:1095: Starting in XGBoost 1.3.0, the default evaluation metric used with the objective 'binary:logistic' was changed from 'error' to 'logloss'. Explicitly set eval_metric if you'd like to restore the old behavior.\n"
     ]
    },
    {
     "name": "stderr",
     "output_type": "stream",
     "text": [
      "\u001b[32m[I 2021-10-04 16:38:59,906]\u001b[0m Trial 50 finished with value: 0.7789852187989279 and parameters: {'n_estimators': 886, 'max_depth': 11, 'learning_rate': 0.020842353140512474, 'subsample': 0.7355486985660409, 'colsample_bytree': 0.5120986500160147, 'gamma': 0}. Best is trial 17 with value: 0.7916301780643792.\u001b[0m\n"
     ]
    },
    {
     "name": "stdout",
     "output_type": "stream",
     "text": [
      "Trial done: Accuracy values on folds: [0.7610062893081762, 0.7784810126582279, 0.7974683544303798]\n",
      "[16:38:59] WARNING: C:/Users/Administrator/workspace/xgboost-win64_release_1.4.0/src/learner.cc:1095: Starting in XGBoost 1.3.0, the default evaluation metric used with the objective 'binary:logistic' was changed from 'error' to 'logloss'. Explicitly set eval_metric if you'd like to restore the old behavior.\n",
      "[16:39:00] WARNING: C:/Users/Administrator/workspace/xgboost-win64_release_1.4.0/src/learner.cc:1095: Starting in XGBoost 1.3.0, the default evaluation metric used with the objective 'binary:logistic' was changed from 'error' to 'logloss'. Explicitly set eval_metric if you'd like to restore the old behavior.\n",
      "[16:39:01] WARNING: C:/Users/Administrator/workspace/xgboost-win64_release_1.4.0/src/learner.cc:1095: Starting in XGBoost 1.3.0, the default evaluation metric used with the objective 'binary:logistic' was changed from 'error' to 'logloss'. Explicitly set eval_metric if you'd like to restore the old behavior.\n"
     ]
    },
    {
     "name": "stderr",
     "output_type": "stream",
     "text": [
      "\u001b[32m[I 2021-10-04 16:39:01,803]\u001b[0m Trial 51 finished with value: 0.7748056152641775 and parameters: {'n_estimators': 685, 'max_depth': 12, 'learning_rate': 0.04256100274157499, 'subsample': 0.6348081741022281, 'colsample_bytree': 0.5961453524355188, 'gamma': 0}. Best is trial 17 with value: 0.7916301780643792.\u001b[0m\n"
     ]
    },
    {
     "name": "stdout",
     "output_type": "stream",
     "text": [
      "Trial done: Accuracy values on folds: [0.7421383647798742, 0.7911392405063291, 0.7911392405063291]\n",
      "[16:39:01] WARNING: C:/Users/Administrator/workspace/xgboost-win64_release_1.4.0/src/learner.cc:1095: Starting in XGBoost 1.3.0, the default evaluation metric used with the objective 'binary:logistic' was changed from 'error' to 'logloss'. Explicitly set eval_metric if you'd like to restore the old behavior.\n",
      "[16:39:02] WARNING: C:/Users/Administrator/workspace/xgboost-win64_release_1.4.0/src/learner.cc:1095: Starting in XGBoost 1.3.0, the default evaluation metric used with the objective 'binary:logistic' was changed from 'error' to 'logloss'. Explicitly set eval_metric if you'd like to restore the old behavior.\n",
      "[16:39:02] WARNING: C:/Users/Administrator/workspace/xgboost-win64_release_1.4.0/src/learner.cc:1095: Starting in XGBoost 1.3.0, the default evaluation metric used with the objective 'binary:logistic' was changed from 'error' to 'logloss'. Explicitly set eval_metric if you'd like to restore the old behavior.\n"
     ]
    },
    {
     "name": "stderr",
     "output_type": "stream",
     "text": [
      "\u001b[32m[I 2021-10-04 16:39:03,573]\u001b[0m Trial 52 finished with value: 0.7916434466470291 and parameters: {'n_estimators': 616, 'max_depth': 12, 'learning_rate': 0.03536392172081605, 'subsample': 0.559465553313499, 'colsample_bytree': 0.7627600880325721, 'gamma': 0}. Best is trial 52 with value: 0.7916434466470291.\u001b[0m\n"
     ]
    },
    {
     "name": "stdout",
     "output_type": "stream",
     "text": [
      "Trial done: Accuracy values on folds: [0.7610062893081762, 0.810126582278481, 0.8037974683544303]\n",
      "[16:39:03] WARNING: C:/Users/Administrator/workspace/xgboost-win64_release_1.4.0/src/learner.cc:1095: Starting in XGBoost 1.3.0, the default evaluation metric used with the objective 'binary:logistic' was changed from 'error' to 'logloss'. Explicitly set eval_metric if you'd like to restore the old behavior.\n",
      "[16:39:04] WARNING: C:/Users/Administrator/workspace/xgboost-win64_release_1.4.0/src/learner.cc:1095: Starting in XGBoost 1.3.0, the default evaluation metric used with the objective 'binary:logistic' was changed from 'error' to 'logloss'. Explicitly set eval_metric if you'd like to restore the old behavior.\n",
      "[16:39:04] WARNING: C:/Users/Administrator/workspace/xgboost-win64_release_1.4.0/src/learner.cc:1095: Starting in XGBoost 1.3.0, the default evaluation metric used with the objective 'binary:logistic' was changed from 'error' to 'logloss'. Explicitly set eval_metric if you'd like to restore the old behavior.\n"
     ]
    },
    {
     "name": "stderr",
     "output_type": "stream",
     "text": [
      "\u001b[32m[I 2021-10-04 16:39:05,351]\u001b[0m Trial 53 finished with value: 0.7748188838468275 and parameters: {'n_estimators': 619, 'max_depth': 13, 'learning_rate': 0.03555692804711848, 'subsample': 0.5617849450847061, 'colsample_bytree': 0.8234127504650187, 'gamma': 0}. Best is trial 52 with value: 0.7916434466470291.\u001b[0m\n"
     ]
    },
    {
     "name": "stdout",
     "output_type": "stream",
     "text": [
      "Trial done: Accuracy values on folds: [0.7358490566037735, 0.7911392405063291, 0.7974683544303798]\n",
      "[16:39:05] WARNING: C:/Users/Administrator/workspace/xgboost-win64_release_1.4.0/src/learner.cc:1095: Starting in XGBoost 1.3.0, the default evaluation metric used with the objective 'binary:logistic' was changed from 'error' to 'logloss'. Explicitly set eval_metric if you'd like to restore the old behavior.\n",
      "[16:39:05] WARNING: C:/Users/Administrator/workspace/xgboost-win64_release_1.4.0/src/learner.cc:1095: Starting in XGBoost 1.3.0, the default evaluation metric used with the objective 'binary:logistic' was changed from 'error' to 'logloss'. Explicitly set eval_metric if you'd like to restore the old behavior.\n",
      "[16:39:06] WARNING: C:/Users/Administrator/workspace/xgboost-win64_release_1.4.0/src/learner.cc:1095: Starting in XGBoost 1.3.0, the default evaluation metric used with the objective 'binary:logistic' was changed from 'error' to 'logloss'. Explicitly set eval_metric if you'd like to restore the old behavior.\n"
     ]
    },
    {
     "name": "stderr",
     "output_type": "stream",
     "text": [
      "\u001b[32m[I 2021-10-04 16:39:06,898]\u001b[0m Trial 54 finished with value: 0.781121460605578 and parameters: {'n_estimators': 515, 'max_depth': 12, 'learning_rate': 0.029026720515627227, 'subsample': 0.5346235771326949, 'colsample_bytree': 0.8824663292833745, 'gamma': 0}. Best is trial 52 with value: 0.7916434466470291.\u001b[0m\n"
     ]
    },
    {
     "name": "stdout",
     "output_type": "stream",
     "text": [
      "Trial done: Accuracy values on folds: [0.7484276729559748, 0.7911392405063291, 0.8037974683544303]\n",
      "[16:39:06] WARNING: C:/Users/Administrator/workspace/xgboost-win64_release_1.4.0/src/learner.cc:1095: Starting in XGBoost 1.3.0, the default evaluation metric used with the objective 'binary:logistic' was changed from 'error' to 'logloss'. Explicitly set eval_metric if you'd like to restore the old behavior.\n",
      "[16:39:07] WARNING: C:/Users/Administrator/workspace/xgboost-win64_release_1.4.0/src/learner.cc:1095: Starting in XGBoost 1.3.0, the default evaluation metric used with the objective 'binary:logistic' was changed from 'error' to 'logloss'. Explicitly set eval_metric if you'd like to restore the old behavior.\n",
      "[16:39:07] WARNING: C:/Users/Administrator/workspace/xgboost-win64_release_1.4.0/src/learner.cc:1095: Starting in XGBoost 1.3.0, the default evaluation metric used with the objective 'binary:logistic' was changed from 'error' to 'logloss'. Explicitly set eval_metric if you'd like to restore the old behavior.\n"
     ]
    },
    {
     "name": "stderr",
     "output_type": "stream",
     "text": [
      "\u001b[32m[I 2021-10-04 16:39:08,354]\u001b[0m Trial 55 finished with value: 0.7895204734230289 and parameters: {'n_estimators': 460, 'max_depth': 10, 'learning_rate': 0.03256222040843119, 'subsample': 0.613663369104037, 'colsample_bytree': 0.7611719121393307, 'gamma': 0}. Best is trial 52 with value: 0.7916434466470291.\u001b[0m\n"
     ]
    },
    {
     "name": "stdout",
     "output_type": "stream",
     "text": [
      "Trial done: Accuracy values on folds: [0.7672955974842768, 0.7974683544303798, 0.8037974683544303]\n",
      "[16:39:08] WARNING: C:/Users/Administrator/workspace/xgboost-win64_release_1.4.0/src/learner.cc:1095: Starting in XGBoost 1.3.0, the default evaluation metric used with the objective 'binary:logistic' was changed from 'error' to 'logloss'. Explicitly set eval_metric if you'd like to restore the old behavior.\n",
      "[16:39:08] WARNING: C:/Users/Administrator/workspace/xgboost-win64_release_1.4.0/src/learner.cc:1095: Starting in XGBoost 1.3.0, the default evaluation metric used with the objective 'binary:logistic' was changed from 'error' to 'logloss'. Explicitly set eval_metric if you'd like to restore the old behavior.\n",
      "[16:39:09] WARNING: C:/Users/Administrator/workspace/xgboost-win64_release_1.4.0/src/learner.cc:1095: Starting in XGBoost 1.3.0, the default evaluation metric used with the objective 'binary:logistic' was changed from 'error' to 'logloss'. Explicitly set eval_metric if you'd like to restore the old behavior.\n"
     ]
    },
    {
     "name": "stderr",
     "output_type": "stream",
     "text": [
      "\u001b[32m[I 2021-10-04 16:39:09,982]\u001b[0m Trial 56 finished with value: 0.7832444338295783 and parameters: {'n_estimators': 575, 'max_depth': 13, 'learning_rate': 0.03827588744897033, 'subsample': 0.578731580913834, 'colsample_bytree': 0.7716863578641924, 'gamma': 0}. Best is trial 52 with value: 0.7916434466470291.\u001b[0m\n"
     ]
    },
    {
     "name": "stdout",
     "output_type": "stream",
     "text": [
      "Trial done: Accuracy values on folds: [0.7421383647798742, 0.8037974683544303, 0.8037974683544303]\n",
      "[16:39:10] WARNING: C:/Users/Administrator/workspace/xgboost-win64_release_1.4.0/src/learner.cc:1095: Starting in XGBoost 1.3.0, the default evaluation metric used with the objective 'binary:logistic' was changed from 'error' to 'logloss'. Explicitly set eval_metric if you'd like to restore the old behavior.\n",
      "[16:39:10] WARNING: C:/Users/Administrator/workspace/xgboost-win64_release_1.4.0/src/learner.cc:1095: Starting in XGBoost 1.3.0, the default evaluation metric used with the objective 'binary:logistic' was changed from 'error' to 'logloss'. Explicitly set eval_metric if you'd like to restore the old behavior.\n",
      "[16:39:10] WARNING: C:/Users/Administrator/workspace/xgboost-win64_release_1.4.0/src/learner.cc:1095: Starting in XGBoost 1.3.0, the default evaluation metric used with the objective 'binary:logistic' was changed from 'error' to 'logloss'. Explicitly set eval_metric if you'd like to restore the old behavior.\n"
     ]
    },
    {
     "name": "stderr",
     "output_type": "stream",
     "text": [
      "\u001b[32m[I 2021-10-04 16:39:11,225]\u001b[0m Trial 57 finished with value: 0.778998487381578 and parameters: {'n_estimators': 420, 'max_depth': 12, 'learning_rate': 0.05052524302119956, 'subsample': 0.511394239437579, 'colsample_bytree': 0.7966593094768937, 'gamma': 0}. Best is trial 52 with value: 0.7916434466470291.\u001b[0m\n"
     ]
    },
    {
     "name": "stdout",
     "output_type": "stream",
     "text": [
      "Trial done: Accuracy values on folds: [0.7547169811320755, 0.7911392405063291, 0.7911392405063291]\n",
      "[16:39:11] WARNING: C:/Users/Administrator/workspace/xgboost-win64_release_1.4.0/src/learner.cc:1095: Starting in XGBoost 1.3.0, the default evaluation metric used with the objective 'binary:logistic' was changed from 'error' to 'logloss'. Explicitly set eval_metric if you'd like to restore the old behavior.\n",
      "[16:39:11] WARNING: C:/Users/Administrator/workspace/xgboost-win64_release_1.4.0/src/learner.cc:1095: Starting in XGBoost 1.3.0, the default evaluation metric used with the objective 'binary:logistic' was changed from 'error' to 'logloss'. Explicitly set eval_metric if you'd like to restore the old behavior.\n",
      "[16:39:12] WARNING: C:/Users/Administrator/workspace/xgboost-win64_release_1.4.0/src/learner.cc:1095: Starting in XGBoost 1.3.0, the default evaluation metric used with the objective 'binary:logistic' was changed from 'error' to 'logloss'. Explicitly set eval_metric if you'd like to restore the old behavior.\n"
     ]
    },
    {
     "name": "stderr",
     "output_type": "stream",
     "text": [
      "\u001b[32m[I 2021-10-04 16:39:12,544]\u001b[0m Trial 58 finished with value: 0.7831913594989782 and parameters: {'n_estimators': 352, 'max_depth': 11, 'learning_rate': 0.017090249997721567, 'subsample': 0.7051800679392827, 'colsample_bytree': 0.6170750961808624, 'gamma': 0}. Best is trial 52 with value: 0.7916434466470291.\u001b[0m\n"
     ]
    },
    {
     "name": "stdout",
     "output_type": "stream",
     "text": [
      "Trial done: Accuracy values on folds: [0.7672955974842768, 0.7911392405063291, 0.7911392405063291]\n",
      "[16:39:12] WARNING: C:/Users/Administrator/workspace/xgboost-win64_release_1.4.0/src/learner.cc:1095: Starting in XGBoost 1.3.0, the default evaluation metric used with the objective 'binary:logistic' was changed from 'error' to 'logloss'. Explicitly set eval_metric if you'd like to restore the old behavior.\n",
      "[16:39:13] WARNING: C:/Users/Administrator/workspace/xgboost-win64_release_1.4.0/src/learner.cc:1095: Starting in XGBoost 1.3.0, the default evaluation metric used with the objective 'binary:logistic' was changed from 'error' to 'logloss'. Explicitly set eval_metric if you'd like to restore the old behavior.\n",
      "[16:39:13] WARNING: C:/Users/Administrator/workspace/xgboost-win64_release_1.4.0/src/learner.cc:1095: Starting in XGBoost 1.3.0, the default evaluation metric used with the objective 'binary:logistic' was changed from 'error' to 'logloss'. Explicitly set eval_metric if you'd like to restore the old behavior.\n"
     ]
    },
    {
     "name": "stderr",
     "output_type": "stream",
     "text": [
      "\u001b[32m[I 2021-10-04 16:39:14,684]\u001b[0m Trial 59 finished with value: 0.789493936257729 and parameters: {'n_estimators': 667, 'max_depth': 9, 'learning_rate': 0.011251328972413543, 'subsample': 0.6589485915930129, 'colsample_bytree': 0.5637740354800254, 'gamma': 0}. Best is trial 52 with value: 0.7916434466470291.\u001b[0m\n"
     ]
    },
    {
     "name": "stdout",
     "output_type": "stream",
     "text": [
      "Trial done: Accuracy values on folds: [0.779874213836478, 0.7911392405063291, 0.7974683544303798]\n",
      "[16:39:14] WARNING: C:/Users/Administrator/workspace/xgboost-win64_release_1.4.0/src/learner.cc:1095: Starting in XGBoost 1.3.0, the default evaluation metric used with the objective 'binary:logistic' was changed from 'error' to 'logloss'. Explicitly set eval_metric if you'd like to restore the old behavior.\n",
      "[16:39:15] WARNING: C:/Users/Administrator/workspace/xgboost-win64_release_1.4.0/src/learner.cc:1095: Starting in XGBoost 1.3.0, the default evaluation metric used with the objective 'binary:logistic' was changed from 'error' to 'logloss'. Explicitly set eval_metric if you'd like to restore the old behavior.\n",
      "[16:39:15] WARNING: C:/Users/Administrator/workspace/xgboost-win64_release_1.4.0/src/learner.cc:1095: Starting in XGBoost 1.3.0, the default evaluation metric used with the objective 'binary:logistic' was changed from 'error' to 'logloss'. Explicitly set eval_metric if you'd like to restore the old behavior.\n"
     ]
    },
    {
     "name": "stderr",
     "output_type": "stream",
     "text": [
      "\u001b[32m[I 2021-10-04 16:39:16,238]\u001b[0m Trial 60 finished with value: 0.7832178966642783 and parameters: {'n_estimators': 534, 'max_depth': 12, 'learning_rate': 0.03642984257702421, 'subsample': 0.5397056462663102, 'colsample_bytree': 0.7389981532516151, 'gamma': 0}. Best is trial 52 with value: 0.7916434466470291.\u001b[0m\n"
     ]
    },
    {
     "name": "stdout",
     "output_type": "stream",
     "text": [
      "Trial done: Accuracy values on folds: [0.7547169811320755, 0.7911392405063291, 0.8037974683544303]\n",
      "[16:39:16] WARNING: C:/Users/Administrator/workspace/xgboost-win64_release_1.4.0/src/learner.cc:1095: Starting in XGBoost 1.3.0, the default evaluation metric used with the objective 'binary:logistic' was changed from 'error' to 'logloss'. Explicitly set eval_metric if you'd like to restore the old behavior.\n",
      "[16:39:16] WARNING: C:/Users/Administrator/workspace/xgboost-win64_release_1.4.0/src/learner.cc:1095: Starting in XGBoost 1.3.0, the default evaluation metric used with the objective 'binary:logistic' was changed from 'error' to 'logloss'. Explicitly set eval_metric if you'd like to restore the old behavior.\n",
      "[16:39:17] WARNING: C:/Users/Administrator/workspace/xgboost-win64_release_1.4.0/src/learner.cc:1095: Starting in XGBoost 1.3.0, the default evaluation metric used with the objective 'binary:logistic' was changed from 'error' to 'logloss'. Explicitly set eval_metric if you'd like to restore the old behavior.\n"
     ]
    },
    {
     "name": "stderr",
     "output_type": "stream",
     "text": [
      "\u001b[32m[I 2021-10-04 16:39:17,617]\u001b[0m Trial 61 finished with value: 0.7832178966642783 and parameters: {'n_estimators': 451, 'max_depth': 8, 'learning_rate': 0.04054155687579838, 'subsample': 0.6139112345026636, 'colsample_bytree': 0.7513469674284416, 'gamma': 0}. Best is trial 52 with value: 0.7916434466470291.\u001b[0m\n"
     ]
    },
    {
     "name": "stdout",
     "output_type": "stream",
     "text": [
      "Trial done: Accuracy values on folds: [0.7547169811320755, 0.7911392405063291, 0.8037974683544303]\n",
      "[16:39:17] WARNING: C:/Users/Administrator/workspace/xgboost-win64_release_1.4.0/src/learner.cc:1095: Starting in XGBoost 1.3.0, the default evaluation metric used with the objective 'binary:logistic' was changed from 'error' to 'logloss'. Explicitly set eval_metric if you'd like to restore the old behavior.\n",
      "[16:39:18] WARNING: C:/Users/Administrator/workspace/xgboost-win64_release_1.4.0/src/learner.cc:1095: Starting in XGBoost 1.3.0, the default evaluation metric used with the objective 'binary:logistic' was changed from 'error' to 'logloss'. Explicitly set eval_metric if you'd like to restore the old behavior.\n",
      "[16:39:18] WARNING: C:/Users/Administrator/workspace/xgboost-win64_release_1.4.0/src/learner.cc:1095: Starting in XGBoost 1.3.0, the default evaluation metric used with the objective 'binary:logistic' was changed from 'error' to 'logloss'. Explicitly set eval_metric if you'd like to restore the old behavior.\n"
     ]
    },
    {
     "name": "stderr",
     "output_type": "stream",
     "text": [
      "\u001b[32m[I 2021-10-04 16:39:19,093]\u001b[0m Trial 62 finished with value: 0.7810949234402781 and parameters: {'n_estimators': 469, 'max_depth': 10, 'learning_rate': 0.031915608491207156, 'subsample': 0.5841949245033177, 'colsample_bytree': 0.9495201374694036, 'gamma': 0}. Best is trial 52 with value: 0.7916434466470291.\u001b[0m\n"
     ]
    },
    {
     "name": "stdout",
     "output_type": "stream",
     "text": [
      "Trial done: Accuracy values on folds: [0.7610062893081762, 0.7911392405063291, 0.7911392405063291]\n",
      "[16:39:19] WARNING: C:/Users/Administrator/workspace/xgboost-win64_release_1.4.0/src/learner.cc:1095: Starting in XGBoost 1.3.0, the default evaluation metric used with the objective 'binary:logistic' was changed from 'error' to 'logloss'. Explicitly set eval_metric if you'd like to restore the old behavior.\n",
      "[16:39:19] WARNING: C:/Users/Administrator/workspace/xgboost-win64_release_1.4.0/src/learner.cc:1095: Starting in XGBoost 1.3.0, the default evaluation metric used with the objective 'binary:logistic' was changed from 'error' to 'logloss'. Explicitly set eval_metric if you'd like to restore the old behavior.\n",
      "[16:39:20] WARNING: C:/Users/Administrator/workspace/xgboost-win64_release_1.4.0/src/learner.cc:1095: Starting in XGBoost 1.3.0, the default evaluation metric used with the objective 'binary:logistic' was changed from 'error' to 'logloss'. Explicitly set eval_metric if you'd like to restore the old behavior.\n"
     ]
    },
    {
     "name": "stderr",
     "output_type": "stream",
     "text": [
      "\u001b[32m[I 2021-10-04 16:39:20,459]\u001b[0m Trial 63 finished with value: 0.7916301780643792 and parameters: {'n_estimators': 415, 'max_depth': 10, 'learning_rate': 0.026639896106836154, 'subsample': 0.6243185549176046, 'colsample_bytree': 0.7136920351011901, 'gamma': 0}. Best is trial 52 with value: 0.7916434466470291.\u001b[0m\n"
     ]
    },
    {
     "name": "stdout",
     "output_type": "stream",
     "text": [
      "Trial done: Accuracy values on folds: [0.7672955974842768, 0.7974683544303798, 0.810126582278481]\n",
      "[16:39:20] WARNING: C:/Users/Administrator/workspace/xgboost-win64_release_1.4.0/src/learner.cc:1095: Starting in XGBoost 1.3.0, the default evaluation metric used with the objective 'binary:logistic' was changed from 'error' to 'logloss'. Explicitly set eval_metric if you'd like to restore the old behavior.\n",
      "[16:39:20] WARNING: C:/Users/Administrator/workspace/xgboost-win64_release_1.4.0/src/learner.cc:1095: Starting in XGBoost 1.3.0, the default evaluation metric used with the objective 'binary:logistic' was changed from 'error' to 'logloss'. Explicitly set eval_metric if you'd like to restore the old behavior.\n",
      "[16:39:21] WARNING: C:/Users/Administrator/workspace/xgboost-win64_release_1.4.0/src/learner.cc:1095: Starting in XGBoost 1.3.0, the default evaluation metric used with the objective 'binary:logistic' was changed from 'error' to 'logloss'. Explicitly set eval_metric if you'd like to restore the old behavior.\n"
     ]
    },
    {
     "name": "stderr",
     "output_type": "stream",
     "text": [
      "\u001b[32m[I 2021-10-04 16:39:21,773]\u001b[0m Trial 64 finished with value: 0.7916036408990791 and parameters: {'n_estimators': 410, 'max_depth': 13, 'learning_rate': 0.027123972318604504, 'subsample': 0.5660031699290136, 'colsample_bytree': 0.7129006934447389, 'gamma': 0}. Best is trial 52 with value: 0.7916434466470291.\u001b[0m\n"
     ]
    },
    {
     "name": "stdout",
     "output_type": "stream",
     "text": [
      "Trial done: Accuracy values on folds: [0.779874213836478, 0.7848101265822784, 0.810126582278481]\n",
      "[16:39:21] WARNING: C:/Users/Administrator/workspace/xgboost-win64_release_1.4.0/src/learner.cc:1095: Starting in XGBoost 1.3.0, the default evaluation metric used with the objective 'binary:logistic' was changed from 'error' to 'logloss'. Explicitly set eval_metric if you'd like to restore the old behavior.\n",
      "[16:39:22] WARNING: C:/Users/Administrator/workspace/xgboost-win64_release_1.4.0/src/learner.cc:1095: Starting in XGBoost 1.3.0, the default evaluation metric used with the objective 'binary:logistic' was changed from 'error' to 'logloss'. Explicitly set eval_metric if you'd like to restore the old behavior.\n",
      "[16:39:22] WARNING: C:/Users/Administrator/workspace/xgboost-win64_release_1.4.0/src/learner.cc:1095: Starting in XGBoost 1.3.0, the default evaluation metric used with the objective 'binary:logistic' was changed from 'error' to 'logloss'. Explicitly set eval_metric if you'd like to restore the old behavior.\n"
     ]
    },
    {
     "name": "stderr",
     "output_type": "stream",
     "text": [
      "\u001b[32m[I 2021-10-04 16:39:23,141]\u001b[0m Trial 65 finished with value: 0.7853010641403285 and parameters: {'n_estimators': 408, 'max_depth': 13, 'learning_rate': 0.027511564715845007, 'subsample': 0.6290359360314695, 'colsample_bytree': 0.7157397733308126, 'gamma': 0}. Best is trial 52 with value: 0.7916434466470291.\u001b[0m\n"
     ]
    },
    {
     "name": "stdout",
     "output_type": "stream",
     "text": [
      "Trial done: Accuracy values on folds: [0.7672955974842768, 0.7848101265822784, 0.8037974683544303]\n",
      "[16:39:23] WARNING: C:/Users/Administrator/workspace/xgboost-win64_release_1.4.0/src/learner.cc:1095: Starting in XGBoost 1.3.0, the default evaluation metric used with the objective 'binary:logistic' was changed from 'error' to 'logloss'. Explicitly set eval_metric if you'd like to restore the old behavior.\n",
      "[16:39:23] WARNING: C:/Users/Administrator/workspace/xgboost-win64_release_1.4.0/src/learner.cc:1095: Starting in XGBoost 1.3.0, the default evaluation metric used with the objective 'binary:logistic' was changed from 'error' to 'logloss'. Explicitly set eval_metric if you'd like to restore the old behavior.\n",
      "[16:39:24] WARNING: C:/Users/Administrator/workspace/xgboost-win64_release_1.4.0/src/learner.cc:1095: Starting in XGBoost 1.3.0, the default evaluation metric used with the objective 'binary:logistic' was changed from 'error' to 'logloss'. Explicitly set eval_metric if you'd like to restore the old behavior.\n"
     ]
    },
    {
     "name": "stderr",
     "output_type": "stream",
     "text": [
      "\u001b[32m[I 2021-10-04 16:39:24,818]\u001b[0m Trial 66 finished with value: 0.7832178966642783 and parameters: {'n_estimators': 620, 'max_depth': 13, 'learning_rate': 0.04339275775750307, 'subsample': 0.5637217301687939, 'colsample_bytree': 0.685487047964457, 'gamma': 0}. Best is trial 52 with value: 0.7916434466470291.\u001b[0m\n"
     ]
    },
    {
     "name": "stdout",
     "output_type": "stream",
     "text": [
      "Trial done: Accuracy values on folds: [0.7547169811320755, 0.7848101265822784, 0.810126582278481]\n",
      "[16:39:24] WARNING: C:/Users/Administrator/workspace/xgboost-win64_release_1.4.0/src/learner.cc:1095: Starting in XGBoost 1.3.0, the default evaluation metric used with the objective 'binary:logistic' was changed from 'error' to 'logloss'. Explicitly set eval_metric if you'd like to restore the old behavior.\n",
      "[16:39:25] WARNING: C:/Users/Administrator/workspace/xgboost-win64_release_1.4.0/src/learner.cc:1095: Starting in XGBoost 1.3.0, the default evaluation metric used with the objective 'binary:logistic' was changed from 'error' to 'logloss'. Explicitly set eval_metric if you'd like to restore the old behavior.\n",
      "[16:39:25] WARNING: C:/Users/Administrator/workspace/xgboost-win64_release_1.4.0/src/learner.cc:1095: Starting in XGBoost 1.3.0, the default evaluation metric used with the objective 'binary:logistic' was changed from 'error' to 'logloss'. Explicitly set eval_metric if you'd like to restore the old behavior.\n"
     ]
    },
    {
     "name": "stderr",
     "output_type": "stream",
     "text": [
      "\u001b[32m[I 2021-10-04 16:39:26,105]\u001b[0m Trial 67 finished with value: 0.7873709630337288 and parameters: {'n_estimators': 378, 'max_depth': 7, 'learning_rate': 0.025103143608750635, 'subsample': 0.5243936322385341, 'colsample_bytree': 0.6353497948415262, 'gamma': 0}. Best is trial 52 with value: 0.7916434466470291.\u001b[0m\n"
     ]
    },
    {
     "name": "stdout",
     "output_type": "stream",
     "text": [
      "Trial done: Accuracy values on folds: [0.7861635220125787, 0.7848101265822784, 0.7911392405063291]\n",
      "[16:39:26] WARNING: C:/Users/Administrator/workspace/xgboost-win64_release_1.4.0/src/learner.cc:1095: Starting in XGBoost 1.3.0, the default evaluation metric used with the objective 'binary:logistic' was changed from 'error' to 'logloss'. Explicitly set eval_metric if you'd like to restore the old behavior.\n",
      "[16:39:26] WARNING: C:/Users/Administrator/workspace/xgboost-win64_release_1.4.0/src/learner.cc:1095: Starting in XGBoost 1.3.0, the default evaluation metric used with the objective 'binary:logistic' was changed from 'error' to 'logloss'. Explicitly set eval_metric if you'd like to restore the old behavior.\n",
      "[16:39:27] WARNING: C:/Users/Administrator/workspace/xgboost-win64_release_1.4.0/src/learner.cc:1095: Starting in XGBoost 1.3.0, the default evaluation metric used with the objective 'binary:logistic' was changed from 'error' to 'logloss'. Explicitly set eval_metric if you'd like to restore the old behavior.\n"
     ]
    },
    {
     "name": "stderr",
     "output_type": "stream",
     "text": [
      "\u001b[32m[I 2021-10-04 16:39:27,623]\u001b[0m Trial 68 finished with value: 0.7832046280816284 and parameters: {'n_estimators': 457, 'max_depth': 10, 'learning_rate': 0.033275706630072024, 'subsample': 0.6116784679509906, 'colsample_bytree': 0.7600916126379288, 'gamma': 0}. Best is trial 52 with value: 0.7916434466470291.\u001b[0m\n"
     ]
    },
    {
     "name": "stdout",
     "output_type": "stream",
     "text": [
      "Trial done: Accuracy values on folds: [0.7610062893081762, 0.7911392405063291, 0.7974683544303798]\n",
      "[16:39:27] WARNING: C:/Users/Administrator/workspace/xgboost-win64_release_1.4.0/src/learner.cc:1095: Starting in XGBoost 1.3.0, the default evaluation metric used with the objective 'binary:logistic' was changed from 'error' to 'logloss'. Explicitly set eval_metric if you'd like to restore the old behavior.\n",
      "[16:39:28] WARNING: C:/Users/Administrator/workspace/xgboost-win64_release_1.4.0/src/learner.cc:1095: Starting in XGBoost 1.3.0, the default evaluation metric used with the objective 'binary:logistic' was changed from 'error' to 'logloss'. Explicitly set eval_metric if you'd like to restore the old behavior.\n",
      "[16:39:28] WARNING: C:/Users/Administrator/workspace/xgboost-win64_release_1.4.0/src/learner.cc:1095: Starting in XGBoost 1.3.0, the default evaluation metric used with the objective 'binary:logistic' was changed from 'error' to 'logloss'. Explicitly set eval_metric if you'd like to restore the old behavior.\n"
     ]
    },
    {
     "name": "stderr",
     "output_type": "stream",
     "text": [
      "\u001b[32m[I 2021-10-04 16:39:28,967]\u001b[0m Trial 69 finished with value: 0.7937133455404294 and parameters: {'n_estimators': 423, 'max_depth': 13, 'learning_rate': 0.01970071476923866, 'subsample': 0.5033483901495199, 'colsample_bytree': 0.6587564828260248, 'gamma': 0}. Best is trial 69 with value: 0.7937133455404294.\u001b[0m\n"
     ]
    },
    {
     "name": "stdout",
     "output_type": "stream",
     "text": [
      "Trial done: Accuracy values on folds: [0.779874213836478, 0.7911392405063291, 0.810126582278481]\n",
      "[16:39:29] WARNING: C:/Users/Administrator/workspace/xgboost-win64_release_1.4.0/src/learner.cc:1095: Starting in XGBoost 1.3.0, the default evaluation metric used with the objective 'binary:logistic' was changed from 'error' to 'logloss'. Explicitly set eval_metric if you'd like to restore the old behavior.\n",
      "[16:39:29] WARNING: C:/Users/Administrator/workspace/xgboost-win64_release_1.4.0/src/learner.cc:1095: Starting in XGBoost 1.3.0, the default evaluation metric used with the objective 'binary:logistic' was changed from 'error' to 'logloss'. Explicitly set eval_metric if you'd like to restore the old behavior.\n",
      "[16:39:29] WARNING: C:/Users/Administrator/workspace/xgboost-win64_release_1.4.0/src/learner.cc:1095: Starting in XGBoost 1.3.0, the default evaluation metric used with the objective 'binary:logistic' was changed from 'error' to 'logloss'. Explicitly set eval_metric if you'd like to restore the old behavior.\n"
     ]
    },
    {
     "name": "stderr",
     "output_type": "stream",
     "text": [
      "\u001b[32m[I 2021-10-04 16:39:30,415]\u001b[0m Trial 70 finished with value: 0.7937133455404294 and parameters: {'n_estimators': 427, 'max_depth': 13, 'learning_rate': 0.018995337308542883, 'subsample': 0.5074200816100554, 'colsample_bytree': 0.6542697054940249, 'gamma': 0}. Best is trial 69 with value: 0.7937133455404294.\u001b[0m\n"
     ]
    },
    {
     "name": "stdout",
     "output_type": "stream",
     "text": [
      "Trial done: Accuracy values on folds: [0.779874213836478, 0.7911392405063291, 0.810126582278481]\n",
      "[16:39:30] WARNING: C:/Users/Administrator/workspace/xgboost-win64_release_1.4.0/src/learner.cc:1095: Starting in XGBoost 1.3.0, the default evaluation metric used with the objective 'binary:logistic' was changed from 'error' to 'logloss'. Explicitly set eval_metric if you'd like to restore the old behavior.\n",
      "[16:39:30] WARNING: C:/Users/Administrator/workspace/xgboost-win64_release_1.4.0/src/learner.cc:1095: Starting in XGBoost 1.3.0, the default evaluation metric used with the objective 'binary:logistic' was changed from 'error' to 'logloss'. Explicitly set eval_metric if you'd like to restore the old behavior.\n",
      "[16:39:31] WARNING: C:/Users/Administrator/workspace/xgboost-win64_release_1.4.0/src/learner.cc:1095: Starting in XGBoost 1.3.0, the default evaluation metric used with the objective 'binary:logistic' was changed from 'error' to 'logloss'. Explicitly set eval_metric if you'd like to restore the old behavior.\n"
     ]
    },
    {
     "name": "stderr",
     "output_type": "stream",
     "text": [
      "\u001b[32m[I 2021-10-04 16:39:31,761]\u001b[0m Trial 71 finished with value: 0.7958230501817796 and parameters: {'n_estimators': 426, 'max_depth': 13, 'learning_rate': 0.01950710472736252, 'subsample': 0.5010039473456173, 'colsample_bytree': 0.66527883943862, 'gamma': 0}. Best is trial 71 with value: 0.7958230501817796.\u001b[0m\n"
     ]
    },
    {
     "name": "stdout",
     "output_type": "stream",
     "text": [
      "Trial done: Accuracy values on folds: [0.779874213836478, 0.7911392405063291, 0.8164556962025317]\n",
      "[16:39:31] WARNING: C:/Users/Administrator/workspace/xgboost-win64_release_1.4.0/src/learner.cc:1095: Starting in XGBoost 1.3.0, the default evaluation metric used with the objective 'binary:logistic' was changed from 'error' to 'logloss'. Explicitly set eval_metric if you'd like to restore the old behavior.\n",
      "[16:39:32] WARNING: C:/Users/Administrator/workspace/xgboost-win64_release_1.4.0/src/learner.cc:1095: Starting in XGBoost 1.3.0, the default evaluation metric used with the objective 'binary:logistic' was changed from 'error' to 'logloss'. Explicitly set eval_metric if you'd like to restore the old behavior.\n",
      "[16:39:32] WARNING: C:/Users/Administrator/workspace/xgboost-win64_release_1.4.0/src/learner.cc:1095: Starting in XGBoost 1.3.0, the default evaluation metric used with the objective 'binary:logistic' was changed from 'error' to 'logloss'. Explicitly set eval_metric if you'd like to restore the old behavior.\n"
     ]
    },
    {
     "name": "stderr",
     "output_type": "stream",
     "text": [
      "\u001b[32m[I 2021-10-04 16:39:33,169]\u001b[0m Trial 72 finished with value: 0.7937266141230793 and parameters: {'n_estimators': 437, 'max_depth': 13, 'learning_rate': 0.013199949944840635, 'subsample': 0.5018230091718615, 'colsample_bytree': 0.661963986378567, 'gamma': 0}. Best is trial 71 with value: 0.7958230501817796.\u001b[0m\n"
     ]
    },
    {
     "name": "stdout",
     "output_type": "stream",
     "text": [
      "Trial done: Accuracy values on folds: [0.7735849056603774, 0.8037974683544303, 0.8037974683544303]\n",
      "[16:39:33] WARNING: C:/Users/Administrator/workspace/xgboost-win64_release_1.4.0/src/learner.cc:1095: Starting in XGBoost 1.3.0, the default evaluation metric used with the objective 'binary:logistic' was changed from 'error' to 'logloss'. Explicitly set eval_metric if you'd like to restore the old behavior.\n",
      "[16:39:33] WARNING: C:/Users/Administrator/workspace/xgboost-win64_release_1.4.0/src/learner.cc:1095: Starting in XGBoost 1.3.0, the default evaluation metric used with the objective 'binary:logistic' was changed from 'error' to 'logloss'. Explicitly set eval_metric if you'd like to restore the old behavior.\n",
      "[16:39:34] WARNING: C:/Users/Administrator/workspace/xgboost-win64_release_1.4.0/src/learner.cc:1095: Starting in XGBoost 1.3.0, the default evaluation metric used with the objective 'binary:logistic' was changed from 'error' to 'logloss'. Explicitly set eval_metric if you'd like to restore the old behavior.\n"
     ]
    },
    {
     "name": "stderr",
     "output_type": "stream",
     "text": [
      "\u001b[32m[I 2021-10-04 16:39:34,545]\u001b[0m Trial 73 finished with value: 0.7937266141230793 and parameters: {'n_estimators': 428, 'max_depth': 13, 'learning_rate': 0.013505052402680537, 'subsample': 0.5047016190620276, 'colsample_bytree': 0.6671777019256424, 'gamma': 0}. Best is trial 71 with value: 0.7958230501817796.\u001b[0m\n"
     ]
    },
    {
     "name": "stdout",
     "output_type": "stream",
     "text": [
      "Trial done: Accuracy values on folds: [0.7735849056603774, 0.8037974683544303, 0.8037974683544303]\n",
      "[16:39:34] WARNING: C:/Users/Administrator/workspace/xgboost-win64_release_1.4.0/src/learner.cc:1095: Starting in XGBoost 1.3.0, the default evaluation metric used with the objective 'binary:logistic' was changed from 'error' to 'logloss'. Explicitly set eval_metric if you'd like to restore the old behavior.\n",
      "[16:39:35] WARNING: C:/Users/Administrator/workspace/xgboost-win64_release_1.4.0/src/learner.cc:1095: Starting in XGBoost 1.3.0, the default evaluation metric used with the objective 'binary:logistic' was changed from 'error' to 'logloss'. Explicitly set eval_metric if you'd like to restore the old behavior.\n",
      "[16:39:35] WARNING: C:/Users/Administrator/workspace/xgboost-win64_release_1.4.0/src/learner.cc:1095: Starting in XGBoost 1.3.0, the default evaluation metric used with the objective 'binary:logistic' was changed from 'error' to 'logloss'. Explicitly set eval_metric if you'd like to restore the old behavior.\n"
     ]
    },
    {
     "name": "stderr",
     "output_type": "stream",
     "text": [
      "\u001b[32m[I 2021-10-04 16:39:35,931]\u001b[0m Trial 74 finished with value: 0.7937266141230793 and parameters: {'n_estimators': 436, 'max_depth': 13, 'learning_rate': 0.014241935493935225, 'subsample': 0.5026522460371492, 'colsample_bytree': 0.6578077945805467, 'gamma': 0}. Best is trial 71 with value: 0.7958230501817796.\u001b[0m\n"
     ]
    },
    {
     "name": "stdout",
     "output_type": "stream",
     "text": [
      "Trial done: Accuracy values on folds: [0.7735849056603774, 0.8037974683544303, 0.8037974683544303]\n",
      "[16:39:36] WARNING: C:/Users/Administrator/workspace/xgboost-win64_release_1.4.0/src/learner.cc:1095: Starting in XGBoost 1.3.0, the default evaluation metric used with the objective 'binary:logistic' was changed from 'error' to 'logloss'. Explicitly set eval_metric if you'd like to restore the old behavior.\n",
      "[16:39:36] WARNING: C:/Users/Administrator/workspace/xgboost-win64_release_1.4.0/src/learner.cc:1095: Starting in XGBoost 1.3.0, the default evaluation metric used with the objective 'binary:logistic' was changed from 'error' to 'logloss'. Explicitly set eval_metric if you'd like to restore the old behavior.\n",
      "[16:39:36] WARNING: C:/Users/Administrator/workspace/xgboost-win64_release_1.4.0/src/learner.cc:1095: Starting in XGBoost 1.3.0, the default evaluation metric used with the objective 'binary:logistic' was changed from 'error' to 'logloss'. Explicitly set eval_metric if you'd like to restore the old behavior.\n"
     ]
    },
    {
     "name": "stderr",
     "output_type": "stream",
     "text": [
      "\u001b[32m[I 2021-10-04 16:39:37,366]\u001b[0m Trial 75 finished with value: 0.7895204734230289 and parameters: {'n_estimators': 433, 'max_depth': 13, 'learning_rate': 0.014214786138441925, 'subsample': 0.5080009809778511, 'colsample_bytree': 0.6625065177964942, 'gamma': 0}. Best is trial 71 with value: 0.7958230501817796.\u001b[0m\n"
     ]
    },
    {
     "name": "stdout",
     "output_type": "stream",
     "text": [
      "Trial done: Accuracy values on folds: [0.7672955974842768, 0.7974683544303798, 0.8037974683544303]\n",
      "[16:39:37] WARNING: C:/Users/Administrator/workspace/xgboost-win64_release_1.4.0/src/learner.cc:1095: Starting in XGBoost 1.3.0, the default evaluation metric used with the objective 'binary:logistic' was changed from 'error' to 'logloss'. Explicitly set eval_metric if you'd like to restore the old behavior.\n",
      "[16:39:37] WARNING: C:/Users/Administrator/workspace/xgboost-win64_release_1.4.0/src/learner.cc:1095: Starting in XGBoost 1.3.0, the default evaluation metric used with the objective 'binary:logistic' was changed from 'error' to 'logloss'. Explicitly set eval_metric if you'd like to restore the old behavior.\n",
      "[16:39:38] WARNING: C:/Users/Administrator/workspace/xgboost-win64_release_1.4.0/src/learner.cc:1095: Starting in XGBoost 1.3.0, the default evaluation metric used with the objective 'binary:logistic' was changed from 'error' to 'logloss'. Explicitly set eval_metric if you'd like to restore the old behavior.\n"
     ]
    },
    {
     "name": "stderr",
     "output_type": "stream",
     "text": [
      "\u001b[32m[I 2021-10-04 16:39:38,855]\u001b[0m Trial 76 finished with value: 0.789507204840379 and parameters: {'n_estimators': 497, 'max_depth': 13, 'learning_rate': 0.017747960300346068, 'subsample': 0.5006473358793169, 'colsample_bytree': 0.657972060991081, 'gamma': 0}. Best is trial 71 with value: 0.7958230501817796.\u001b[0m\n"
     ]
    },
    {
     "name": "stdout",
     "output_type": "stream",
     "text": [
      "Trial done: Accuracy values on folds: [0.7735849056603774, 0.7974683544303798, 0.7974683544303798]\n",
      "[16:39:38] WARNING: C:/Users/Administrator/workspace/xgboost-win64_release_1.4.0/src/learner.cc:1095: Starting in XGBoost 1.3.0, the default evaluation metric used with the objective 'binary:logistic' was changed from 'error' to 'logloss'. Explicitly set eval_metric if you'd like to restore the old behavior.\n",
      "[16:39:39] WARNING: C:/Users/Administrator/workspace/xgboost-win64_release_1.4.0/src/learner.cc:1095: Starting in XGBoost 1.3.0, the default evaluation metric used with the objective 'binary:logistic' was changed from 'error' to 'logloss'. Explicitly set eval_metric if you'd like to restore the old behavior.\n",
      "[16:39:39] WARNING: C:/Users/Administrator/workspace/xgboost-win64_release_1.4.0/src/learner.cc:1095: Starting in XGBoost 1.3.0, the default evaluation metric used with the objective 'binary:logistic' was changed from 'error' to 'logloss'. Explicitly set eval_metric if you'd like to restore the old behavior.\n"
     ]
    },
    {
     "name": "stderr",
     "output_type": "stream",
     "text": [
      "\u001b[32m[I 2021-10-04 16:39:40,110]\u001b[0m Trial 77 finished with value: 0.7916434466470292 and parameters: {'n_estimators': 372, 'max_depth': 13, 'learning_rate': 0.009143033890645497, 'subsample': 0.5197975056941548, 'colsample_bytree': 0.6422866829518226, 'gamma': 0}. Best is trial 71 with value: 0.7958230501817796.\u001b[0m\n"
     ]
    },
    {
     "name": "stdout",
     "output_type": "stream",
     "text": [
      "Trial done: Accuracy values on folds: [0.7610062893081762, 0.7974683544303798, 0.8164556962025317]\n",
      "[16:39:40] WARNING: C:/Users/Administrator/workspace/xgboost-win64_release_1.4.0/src/learner.cc:1095: Starting in XGBoost 1.3.0, the default evaluation metric used with the objective 'binary:logistic' was changed from 'error' to 'logloss'. Explicitly set eval_metric if you'd like to restore the old behavior.\n",
      "[16:39:40] WARNING: C:/Users/Administrator/workspace/xgboost-win64_release_1.4.0/src/learner.cc:1095: Starting in XGBoost 1.3.0, the default evaluation metric used with the objective 'binary:logistic' was changed from 'error' to 'logloss'. Explicitly set eval_metric if you'd like to restore the old behavior.\n",
      "[16:39:41] WARNING: C:/Users/Administrator/workspace/xgboost-win64_release_1.4.0/src/learner.cc:1095: Starting in XGBoost 1.3.0, the default evaluation metric used with the objective 'binary:logistic' was changed from 'error' to 'logloss'. Explicitly set eval_metric if you'd like to restore the old behavior.\n"
     ]
    },
    {
     "name": "stderr",
     "output_type": "stream",
     "text": [
      "\u001b[32m[I 2021-10-04 16:39:41,452]\u001b[0m Trial 78 finished with value: 0.789533742005679 and parameters: {'n_estimators': 369, 'max_depth': 13, 'learning_rate': 0.011679195002783416, 'subsample': 0.5204101818494951, 'colsample_bytree': 0.6215855664187506, 'gamma': 0}. Best is trial 71 with value: 0.7958230501817796.\u001b[0m\n"
     ]
    },
    {
     "name": "stdout",
     "output_type": "stream",
     "text": [
      "Trial done: Accuracy values on folds: [0.7610062893081762, 0.7974683544303798, 0.810126582278481]\n",
      "[16:39:41] WARNING: C:/Users/Administrator/workspace/xgboost-win64_release_1.4.0/src/learner.cc:1095: Starting in XGBoost 1.3.0, the default evaluation metric used with the objective 'binary:logistic' was changed from 'error' to 'logloss'. Explicitly set eval_metric if you'd like to restore the old behavior.\n",
      "[16:39:41] WARNING: C:/Users/Administrator/workspace/xgboost-win64_release_1.4.0/src/learner.cc:1095: Starting in XGBoost 1.3.0, the default evaluation metric used with the objective 'binary:logistic' was changed from 'error' to 'logloss'. Explicitly set eval_metric if you'd like to restore the old behavior.\n",
      "[16:39:42] WARNING: C:/Users/Administrator/workspace/xgboost-win64_release_1.4.0/src/learner.cc:1095: Starting in XGBoost 1.3.0, the default evaluation metric used with the objective 'binary:logistic' was changed from 'error' to 'logloss'. Explicitly set eval_metric if you'd like to restore the old behavior.\n"
     ]
    },
    {
     "name": "stderr",
     "output_type": "stream",
     "text": [
      "\u001b[32m[I 2021-10-04 16:39:42,876]\u001b[0m Trial 79 finished with value: 0.7937531512883793 and parameters: {'n_estimators': 397, 'max_depth': 13, 'learning_rate': 0.009661427307787887, 'subsample': 0.5179257083399823, 'colsample_bytree': 0.6456430385130472, 'gamma': 0}. Best is trial 71 with value: 0.7958230501817796.\u001b[0m\n"
     ]
    },
    {
     "name": "stdout",
     "output_type": "stream",
     "text": [
      "Trial done: Accuracy values on folds: [0.7610062893081762, 0.8037974683544303, 0.8164556962025317]\n",
      "[16:39:42] WARNING: C:/Users/Administrator/workspace/xgboost-win64_release_1.4.0/src/learner.cc:1095: Starting in XGBoost 1.3.0, the default evaluation metric used with the objective 'binary:logistic' was changed from 'error' to 'logloss'. Explicitly set eval_metric if you'd like to restore the old behavior.\n",
      "[16:39:43] WARNING: C:/Users/Administrator/workspace/xgboost-win64_release_1.4.0/src/learner.cc:1095: Starting in XGBoost 1.3.0, the default evaluation metric used with the objective 'binary:logistic' was changed from 'error' to 'logloss'. Explicitly set eval_metric if you'd like to restore the old behavior.\n",
      "[16:39:43] WARNING: C:/Users/Administrator/workspace/xgboost-win64_release_1.4.0/src/learner.cc:1095: Starting in XGBoost 1.3.0, the default evaluation metric used with the objective 'binary:logistic' was changed from 'error' to 'logloss'. Explicitly set eval_metric if you'd like to restore the old behavior.\n"
     ]
    },
    {
     "name": "stderr",
     "output_type": "stream",
     "text": [
      "\u001b[32m[I 2021-10-04 16:39:44,367]\u001b[0m Trial 80 finished with value: 0.7937531512883793 and parameters: {'n_estimators': 435, 'max_depth': 13, 'learning_rate': 0.009329001410774968, 'subsample': 0.5193884986345251, 'colsample_bytree': 0.6365280198243638, 'gamma': 0}. Best is trial 71 with value: 0.7958230501817796.\u001b[0m\n"
     ]
    },
    {
     "name": "stdout",
     "output_type": "stream",
     "text": [
      "Trial done: Accuracy values on folds: [0.7610062893081762, 0.8037974683544303, 0.8164556962025317]\n",
      "[16:39:44] WARNING: C:/Users/Administrator/workspace/xgboost-win64_release_1.4.0/src/learner.cc:1095: Starting in XGBoost 1.3.0, the default evaluation metric used with the objective 'binary:logistic' was changed from 'error' to 'logloss'. Explicitly set eval_metric if you'd like to restore the old behavior.\n",
      "[16:39:44] WARNING: C:/Users/Administrator/workspace/xgboost-win64_release_1.4.0/src/learner.cc:1095: Starting in XGBoost 1.3.0, the default evaluation metric used with the objective 'binary:logistic' was changed from 'error' to 'logloss'. Explicitly set eval_metric if you'd like to restore the old behavior.\n",
      "[16:39:45] WARNING: C:/Users/Administrator/workspace/xgboost-win64_release_1.4.0/src/learner.cc:1095: Starting in XGBoost 1.3.0, the default evaluation metric used with the objective 'binary:logistic' was changed from 'error' to 'logloss'. Explicitly set eval_metric if you'd like to restore the old behavior.\n"
     ]
    },
    {
     "name": "stderr",
     "output_type": "stream",
     "text": [
      "\u001b[32m[I 2021-10-04 16:39:45,685]\u001b[0m Trial 81 finished with value: 0.7979725605710798 and parameters: {'n_estimators': 390, 'max_depth': 13, 'learning_rate': 0.009390562586259853, 'subsample': 0.5157856680506653, 'colsample_bytree': 0.6471118645583238, 'gamma': 0}. Best is trial 81 with value: 0.7979725605710798.\u001b[0m\n"
     ]
    },
    {
     "name": "stdout",
     "output_type": "stream",
     "text": [
      "Trial done: Accuracy values on folds: [0.7610062893081762, 0.8037974683544303, 0.8291139240506329]\n",
      "[16:39:45] WARNING: C:/Users/Administrator/workspace/xgboost-win64_release_1.4.0/src/learner.cc:1095: Starting in XGBoost 1.3.0, the default evaluation metric used with the objective 'binary:logistic' was changed from 'error' to 'logloss'. Explicitly set eval_metric if you'd like to restore the old behavior.\n",
      "[16:39:46] WARNING: C:/Users/Administrator/workspace/xgboost-win64_release_1.4.0/src/learner.cc:1095: Starting in XGBoost 1.3.0, the default evaluation metric used with the objective 'binary:logistic' was changed from 'error' to 'logloss'. Explicitly set eval_metric if you'd like to restore the old behavior.\n",
      "[16:39:46] WARNING: C:/Users/Administrator/workspace/xgboost-win64_release_1.4.0/src/learner.cc:1095: Starting in XGBoost 1.3.0, the default evaluation metric used with the objective 'binary:logistic' was changed from 'error' to 'logloss'. Explicitly set eval_metric if you'd like to restore the old behavior.\n"
     ]
    },
    {
     "name": "stderr",
     "output_type": "stream",
     "text": [
      "\u001b[32m[I 2021-10-04 16:39:47,131]\u001b[0m Trial 82 finished with value: 0.789507204840379 and parameters: {'n_estimators': 434, 'max_depth': 13, 'learning_rate': 0.013023493501692882, 'subsample': 0.5427680066064255, 'colsample_bytree': 0.5969944705181497, 'gamma': 0}. Best is trial 81 with value: 0.7979725605710798.\u001b[0m\n"
     ]
    },
    {
     "name": "stdout",
     "output_type": "stream",
     "text": [
      "Trial done: Accuracy values on folds: [0.7735849056603774, 0.7911392405063291, 0.8037974683544303]\n",
      "[16:39:47] WARNING: C:/Users/Administrator/workspace/xgboost-win64_release_1.4.0/src/learner.cc:1095: Starting in XGBoost 1.3.0, the default evaluation metric used with the objective 'binary:logistic' was changed from 'error' to 'logloss'. Explicitly set eval_metric if you'd like to restore the old behavior.\n",
      "[16:39:47] WARNING: C:/Users/Administrator/workspace/xgboost-win64_release_1.4.0/src/learner.cc:1095: Starting in XGBoost 1.3.0, the default evaluation metric used with the objective 'binary:logistic' was changed from 'error' to 'logloss'. Explicitly set eval_metric if you'd like to restore the old behavior.\n",
      "[16:39:48] WARNING: C:/Users/Administrator/workspace/xgboost-win64_release_1.4.0/src/learner.cc:1095: Starting in XGBoost 1.3.0, the default evaluation metric used with the objective 'binary:logistic' was changed from 'error' to 'logloss'. Explicitly set eval_metric if you'd like to restore the old behavior.\n"
     ]
    },
    {
     "name": "stderr",
     "output_type": "stream",
     "text": [
      "\u001b[32m[I 2021-10-04 16:39:48,427]\u001b[0m Trial 83 finished with value: 0.7979460234057797 and parameters: {'n_estimators': 400, 'max_depth': 13, 'learning_rate': 0.019683711963082818, 'subsample': 0.5008969090576869, 'colsample_bytree': 0.6703454252183838, 'gamma': 0}. Best is trial 81 with value: 0.7979725605710798.\u001b[0m\n"
     ]
    },
    {
     "name": "stdout",
     "output_type": "stream",
     "text": [
      "Trial done: Accuracy values on folds: [0.7735849056603774, 0.8037974683544303, 0.8164556962025317]\n",
      "[16:39:48] WARNING: C:/Users/Administrator/workspace/xgboost-win64_release_1.4.0/src/learner.cc:1095: Starting in XGBoost 1.3.0, the default evaluation metric used with the objective 'binary:logistic' was changed from 'error' to 'logloss'. Explicitly set eval_metric if you'd like to restore the old behavior.\n",
      "[16:39:48] WARNING: C:/Users/Administrator/workspace/xgboost-win64_release_1.4.0/src/learner.cc:1095: Starting in XGBoost 1.3.0, the default evaluation metric used with the objective 'binary:logistic' was changed from 'error' to 'logloss'. Explicitly set eval_metric if you'd like to restore the old behavior.\n",
      "[16:39:49] WARNING: C:/Users/Administrator/workspace/xgboost-win64_release_1.4.0/src/learner.cc:1095: Starting in XGBoost 1.3.0, the default evaluation metric used with the objective 'binary:logistic' was changed from 'error' to 'logloss'. Explicitly set eval_metric if you'd like to restore the old behavior.\n"
     ]
    },
    {
     "name": "stderr",
     "output_type": "stream",
     "text": [
      "\u001b[32m[I 2021-10-04 16:39:49,741]\u001b[0m Trial 84 finished with value: 0.7916301780643792 and parameters: {'n_estimators': 397, 'max_depth': 13, 'learning_rate': 0.015279998315742314, 'subsample': 0.5173028982833725, 'colsample_bytree': 0.6711050604885261, 'gamma': 0}. Best is trial 81 with value: 0.7979725605710798.\u001b[0m\n"
     ]
    },
    {
     "name": "stdout",
     "output_type": "stream",
     "text": [
      "Trial done: Accuracy values on folds: [0.7672955974842768, 0.7974683544303798, 0.810126582278481]\n",
      "[16:39:49] WARNING: C:/Users/Administrator/workspace/xgboost-win64_release_1.4.0/src/learner.cc:1095: Starting in XGBoost 1.3.0, the default evaluation metric used with the objective 'binary:logistic' was changed from 'error' to 'logloss'. Explicitly set eval_metric if you'd like to restore the old behavior.\n",
      "[16:39:50] WARNING: C:/Users/Administrator/workspace/xgboost-win64_release_1.4.0/src/learner.cc:1095: Starting in XGBoost 1.3.0, the default evaluation metric used with the objective 'binary:logistic' was changed from 'error' to 'logloss'. Explicitly set eval_metric if you'd like to restore the old behavior.\n",
      "[16:39:50] WARNING: C:/Users/Administrator/workspace/xgboost-win64_release_1.4.0/src/learner.cc:1095: Starting in XGBoost 1.3.0, the default evaluation metric used with the objective 'binary:logistic' was changed from 'error' to 'logloss'. Explicitly set eval_metric if you'd like to restore the old behavior.\n"
     ]
    },
    {
     "name": "stderr",
     "output_type": "stream",
     "text": [
      "\u001b[32m[I 2021-10-04 16:39:51,230]\u001b[0m Trial 85 finished with value: 0.7874240373643288 and parameters: {'n_estimators': 483, 'max_depth': 13, 'learning_rate': 0.010960295384249018, 'subsample': 0.5010735672511802, 'colsample_bytree': 0.6329989219736784, 'gamma': 0}. Best is trial 81 with value: 0.7979725605710798.\u001b[0m\n"
     ]
    },
    {
     "name": "stdout",
     "output_type": "stream",
     "text": [
      "Trial done: Accuracy values on folds: [0.7610062893081762, 0.7911392405063291, 0.810126582278481]\n",
      "[16:39:51] WARNING: C:/Users/Administrator/workspace/xgboost-win64_release_1.4.0/src/learner.cc:1095: Starting in XGBoost 1.3.0, the default evaluation metric used with the objective 'binary:logistic' was changed from 'error' to 'logloss'. Explicitly set eval_metric if you'd like to restore the old behavior.\n",
      "[16:39:51] WARNING: C:/Users/Administrator/workspace/xgboost-win64_release_1.4.0/src/learner.cc:1095: Starting in XGBoost 1.3.0, the default evaluation metric used with the objective 'binary:logistic' was changed from 'error' to 'logloss'. Explicitly set eval_metric if you'd like to restore the old behavior.\n",
      "[16:39:52] WARNING: C:/Users/Administrator/workspace/xgboost-win64_release_1.4.0/src/learner.cc:1095: Starting in XGBoost 1.3.0, the default evaluation metric used with the objective 'binary:logistic' was changed from 'error' to 'logloss'. Explicitly set eval_metric if you'd like to restore the old behavior.\n"
     ]
    },
    {
     "name": "stderr",
     "output_type": "stream",
     "text": [
      "\u001b[32m[I 2021-10-04 16:39:52,553]\u001b[0m Trial 86 finished with value: 0.7831780909163283 and parameters: {'n_estimators': 395, 'max_depth': 13, 'learning_rate': 0.020993401409955887, 'subsample': 0.5348333760070976, 'colsample_bytree': 0.698235072825543, 'gamma': 0}. Best is trial 81 with value: 0.7979725605710798.\u001b[0m\n"
     ]
    },
    {
     "name": "stdout",
     "output_type": "stream",
     "text": [
      "Trial done: Accuracy values on folds: [0.7735849056603774, 0.7848101265822784, 0.7911392405063291]\n",
      "[16:39:52] WARNING: C:/Users/Administrator/workspace/xgboost-win64_release_1.4.0/src/learner.cc:1095: Starting in XGBoost 1.3.0, the default evaluation metric used with the objective 'binary:logistic' was changed from 'error' to 'logloss'. Explicitly set eval_metric if you'd like to restore the old behavior.\n",
      "[16:39:53] WARNING: C:/Users/Administrator/workspace/xgboost-win64_release_1.4.0/src/learner.cc:1095: Starting in XGBoost 1.3.0, the default evaluation metric used with the objective 'binary:logistic' was changed from 'error' to 'logloss'. Explicitly set eval_metric if you'd like to restore the old behavior.\n",
      "[16:39:53] WARNING: C:/Users/Administrator/workspace/xgboost-win64_release_1.4.0/src/learner.cc:1095: Starting in XGBoost 1.3.0, the default evaluation metric used with the objective 'binary:logistic' was changed from 'error' to 'logloss'. Explicitly set eval_metric if you'd like to restore the old behavior.\n"
     ]
    },
    {
     "name": "stderr",
     "output_type": "stream",
     "text": [
      "\u001b[32m[I 2021-10-04 16:39:54,092]\u001b[0m Trial 87 finished with value: 0.7916301780643792 and parameters: {'n_estimators': 446, 'max_depth': 13, 'learning_rate': 0.009024023314311722, 'subsample': 0.5509348148225816, 'colsample_bytree': 0.6475807782121628, 'gamma': 0}. Best is trial 81 with value: 0.7979725605710798.\u001b[0m\n"
     ]
    },
    {
     "name": "stdout",
     "output_type": "stream",
     "text": [
      "Trial done: Accuracy values on folds: [0.7672955974842768, 0.7848101265822784, 0.8227848101265823]\n",
      "[16:39:54] WARNING: C:/Users/Administrator/workspace/xgboost-win64_release_1.4.0/src/learner.cc:1095: Starting in XGBoost 1.3.0, the default evaluation metric used with the objective 'binary:logistic' was changed from 'error' to 'logloss'. Explicitly set eval_metric if you'd like to restore the old behavior.\n",
      "[16:39:54] WARNING: C:/Users/Administrator/workspace/xgboost-win64_release_1.4.0/src/learner.cc:1095: Starting in XGBoost 1.3.0, the default evaluation metric used with the objective 'binary:logistic' was changed from 'error' to 'logloss'. Explicitly set eval_metric if you'd like to restore the old behavior.\n",
      "[16:39:55] WARNING: C:/Users/Administrator/workspace/xgboost-win64_release_1.4.0/src/learner.cc:1095: Starting in XGBoost 1.3.0, the default evaluation metric used with the objective 'binary:logistic' was changed from 'error' to 'logloss'. Explicitly set eval_metric if you'd like to restore the old behavior.\n"
     ]
    },
    {
     "name": "stderr",
     "output_type": "stream",
     "text": [
      "\u001b[32m[I 2021-10-04 16:39:55,469]\u001b[0m Trial 88 finished with value: 0.7937266141230793 and parameters: {'n_estimators': 387, 'max_depth': 13, 'learning_rate': 0.01630617429056485, 'subsample': 0.5183641565011811, 'colsample_bytree': 0.680801574465734, 'gamma': 0}. Best is trial 81 with value: 0.7979725605710798.\u001b[0m\n"
     ]
    },
    {
     "name": "stdout",
     "output_type": "stream",
     "text": [
      "Trial done: Accuracy values on folds: [0.7735849056603774, 0.8037974683544303, 0.8037974683544303]\n",
      "[16:39:55] WARNING: C:/Users/Administrator/workspace/xgboost-win64_release_1.4.0/src/learner.cc:1095: Starting in XGBoost 1.3.0, the default evaluation metric used with the objective 'binary:logistic' was changed from 'error' to 'logloss'. Explicitly set eval_metric if you'd like to restore the old behavior.\n",
      "[16:39:55] WARNING: C:/Users/Administrator/workspace/xgboost-win64_release_1.4.0/src/learner.cc:1095: Starting in XGBoost 1.3.0, the default evaluation metric used with the objective 'binary:logistic' was changed from 'error' to 'logloss'. Explicitly set eval_metric if you'd like to restore the old behavior.\n",
      "[16:39:56] WARNING: C:/Users/Administrator/workspace/xgboost-win64_release_1.4.0/src/learner.cc:1095: Starting in XGBoost 1.3.0, the default evaluation metric used with the objective 'binary:logistic' was changed from 'error' to 'logloss'. Explicitly set eval_metric if you'd like to restore the old behavior.\n"
     ]
    },
    {
     "name": "stderr",
     "output_type": "stream",
     "text": [
      "\u001b[32m[I 2021-10-04 16:39:56,806]\u001b[0m Trial 89 finished with value: 0.7852877955576786 and parameters: {'n_estimators': 400, 'max_depth': 13, 'learning_rate': 0.015969516206604827, 'subsample': 0.5269400713917222, 'colsample_bytree': 0.6064066780903956, 'gamma': 0}. Best is trial 81 with value: 0.7979725605710798.\u001b[0m\n"
     ]
    },
    {
     "name": "stdout",
     "output_type": "stream",
     "text": [
      "Trial done: Accuracy values on folds: [0.7735849056603774, 0.7911392405063291, 0.7911392405063291]\n",
      "[16:39:56] WARNING: C:/Users/Administrator/workspace/xgboost-win64_release_1.4.0/src/learner.cc:1095: Starting in XGBoost 1.3.0, the default evaluation metric used with the objective 'binary:logistic' was changed from 'error' to 'logloss'. Explicitly set eval_metric if you'd like to restore the old behavior.\n",
      "[16:39:57] WARNING: C:/Users/Administrator/workspace/xgboost-win64_release_1.4.0/src/learner.cc:1095: Starting in XGBoost 1.3.0, the default evaluation metric used with the objective 'binary:logistic' was changed from 'error' to 'logloss'. Explicitly set eval_metric if you'd like to restore the old behavior.\n",
      "[16:39:57] WARNING: C:/Users/Administrator/workspace/xgboost-win64_release_1.4.0/src/learner.cc:1095: Starting in XGBoost 1.3.0, the default evaluation metric used with the objective 'binary:logistic' was changed from 'error' to 'logloss'. Explicitly set eval_metric if you'd like to restore the old behavior.\n"
     ]
    },
    {
     "name": "stderr",
     "output_type": "stream",
     "text": [
      "\u001b[32m[I 2021-10-04 16:39:57,931]\u001b[0m Trial 90 finished with value: 0.7811081920229282 and parameters: {'n_estimators': 388, 'max_depth': 13, 'learning_rate': 0.07989004250805465, 'subsample': 0.5195770405955357, 'colsample_bytree': 0.6851285966991606, 'gamma': 0}. Best is trial 81 with value: 0.7979725605710798.\u001b[0m\n"
     ]
    },
    {
     "name": "stdout",
     "output_type": "stream",
     "text": [
      "Trial done: Accuracy values on folds: [0.7547169811320755, 0.7974683544303798, 0.7911392405063291]\n",
      "[16:39:58] WARNING: C:/Users/Administrator/workspace/xgboost-win64_release_1.4.0/src/learner.cc:1095: Starting in XGBoost 1.3.0, the default evaluation metric used with the objective 'binary:logistic' was changed from 'error' to 'logloss'. Explicitly set eval_metric if you'd like to restore the old behavior.\n",
      "[16:39:58] WARNING: C:/Users/Administrator/workspace/xgboost-win64_release_1.4.0/src/learner.cc:1095: Starting in XGBoost 1.3.0, the default evaluation metric used with the objective 'binary:logistic' was changed from 'error' to 'logloss'. Explicitly set eval_metric if you'd like to restore the old behavior.\n",
      "[16:39:58] WARNING: C:/Users/Administrator/workspace/xgboost-win64_release_1.4.0/src/learner.cc:1095: Starting in XGBoost 1.3.0, the default evaluation metric used with the objective 'binary:logistic' was changed from 'error' to 'logloss'. Explicitly set eval_metric if you'd like to restore the old behavior.\n"
     ]
    },
    {
     "name": "stderr",
     "output_type": "stream",
     "text": [
      "\u001b[32m[I 2021-10-04 16:39:59,358]\u001b[0m Trial 91 finished with value: 0.7874107687816787 and parameters: {'n_estimators': 438, 'max_depth': 13, 'learning_rate': 0.013778199170082685, 'subsample': 0.5148522454206204, 'colsample_bytree': 0.6262018180384098, 'gamma': 0}. Best is trial 81 with value: 0.7979725605710798.\u001b[0m\n"
     ]
    },
    {
     "name": "stdout",
     "output_type": "stream",
     "text": [
      "Trial done: Accuracy values on folds: [0.7672955974842768, 0.7911392405063291, 0.8037974683544303]\n",
      "[16:39:59] WARNING: C:/Users/Administrator/workspace/xgboost-win64_release_1.4.0/src/learner.cc:1095: Starting in XGBoost 1.3.0, the default evaluation metric used with the objective 'binary:logistic' was changed from 'error' to 'logloss'. Explicitly set eval_metric if you'd like to restore the old behavior.\n",
      "[16:39:59] WARNING: C:/Users/Administrator/workspace/xgboost-win64_release_1.4.0/src/learner.cc:1095: Starting in XGBoost 1.3.0, the default evaluation metric used with the objective 'binary:logistic' was changed from 'error' to 'logloss'. Explicitly set eval_metric if you'd like to restore the old behavior.\n",
      "[16:40:00] WARNING: C:/Users/Administrator/workspace/xgboost-win64_release_1.4.0/src/learner.cc:1095: Starting in XGBoost 1.3.0, the default evaluation metric used with the objective 'binary:logistic' was changed from 'error' to 'logloss'. Explicitly set eval_metric if you'd like to restore the old behavior.\n"
     ]
    },
    {
     "name": "stderr",
     "output_type": "stream",
     "text": [
      "\u001b[32m[I 2021-10-04 16:40:00,625]\u001b[0m Trial 92 finished with value: 0.7873975001990288 and parameters: {'n_estimators': 363, 'max_depth': 13, 'learning_rate': 0.01777292598676244, 'subsample': 0.5427226339811453, 'colsample_bytree': 0.668613347283842, 'gamma': 0}. Best is trial 81 with value: 0.7979725605710798.\u001b[0m\n"
     ]
    },
    {
     "name": "stdout",
     "output_type": "stream",
     "text": [
      "Trial done: Accuracy values on folds: [0.7735849056603774, 0.7911392405063291, 0.7974683544303798]\n",
      "[16:40:00] WARNING: C:/Users/Administrator/workspace/xgboost-win64_release_1.4.0/src/learner.cc:1095: Starting in XGBoost 1.3.0, the default evaluation metric used with the objective 'binary:logistic' was changed from 'error' to 'logloss'. Explicitly set eval_metric if you'd like to restore the old behavior.\n",
      "[16:40:01] WARNING: C:/Users/Administrator/workspace/xgboost-win64_release_1.4.0/src/learner.cc:1095: Starting in XGBoost 1.3.0, the default evaluation metric used with the objective 'binary:logistic' was changed from 'error' to 'logloss'. Explicitly set eval_metric if you'd like to restore the old behavior.\n",
      "[16:40:01] WARNING: C:/Users/Administrator/workspace/xgboost-win64_release_1.4.0/src/learner.cc:1095: Starting in XGBoost 1.3.0, the default evaluation metric used with the objective 'binary:logistic' was changed from 'error' to 'logloss'. Explicitly set eval_metric if you'd like to restore the old behavior.\n"
     ]
    },
    {
     "name": "stderr",
     "output_type": "stream",
     "text": [
      "\u001b[32m[I 2021-10-04 16:40:02,007]\u001b[0m Trial 93 finished with value: 0.7937398827057294 and parameters: {'n_estimators': 415, 'max_depth': 13, 'learning_rate': 0.012333858915044058, 'subsample': 0.5008624277119531, 'colsample_bytree': 0.6990700170136213, 'gamma': 0}. Best is trial 81 with value: 0.7979725605710798.\u001b[0m\n"
     ]
    },
    {
     "name": "stdout",
     "output_type": "stream",
     "text": [
      "Trial done: Accuracy values on folds: [0.7672955974842768, 0.7974683544303798, 0.8164556962025317]\n",
      "[16:40:02] WARNING: C:/Users/Administrator/workspace/xgboost-win64_release_1.4.0/src/learner.cc:1095: Starting in XGBoost 1.3.0, the default evaluation metric used with the objective 'binary:logistic' was changed from 'error' to 'logloss'. Explicitly set eval_metric if you'd like to restore the old behavior.\n",
      "[16:40:02] WARNING: C:/Users/Administrator/workspace/xgboost-win64_release_1.4.0/src/learner.cc:1095: Starting in XGBoost 1.3.0, the default evaluation metric used with the objective 'binary:logistic' was changed from 'error' to 'logloss'. Explicitly set eval_metric if you'd like to restore the old behavior.\n",
      "[16:40:02] WARNING: C:/Users/Administrator/workspace/xgboost-win64_release_1.4.0/src/learner.cc:1095: Starting in XGBoost 1.3.0, the default evaluation metric used with the objective 'binary:logistic' was changed from 'error' to 'logloss'. Explicitly set eval_metric if you'd like to restore the old behavior.\n"
     ]
    },
    {
     "name": "stderr",
     "output_type": "stream",
     "text": [
      "\u001b[32m[I 2021-10-04 16:40:03,379]\u001b[0m Trial 94 finished with value: 0.7853143327229786 and parameters: {'n_estimators': 381, 'max_depth': 13, 'learning_rate': 0.013479177663181123, 'subsample': 0.5309419980949602, 'colsample_bytree': 0.6966811481434853, 'gamma': 0}. Best is trial 81 with value: 0.7979725605710798.\u001b[0m\n"
     ]
    },
    {
     "name": "stdout",
     "output_type": "stream",
     "text": [
      "Trial done: Accuracy values on folds: [0.7610062893081762, 0.7911392405063291, 0.8037974683544303]\n",
      "[16:40:03] WARNING: C:/Users/Administrator/workspace/xgboost-win64_release_1.4.0/src/learner.cc:1095: Starting in XGBoost 1.3.0, the default evaluation metric used with the objective 'binary:logistic' was changed from 'error' to 'logloss'. Explicitly set eval_metric if you'd like to restore the old behavior.\n",
      "[16:40:03] WARNING: C:/Users/Administrator/workspace/xgboost-win64_release_1.4.0/src/learner.cc:1095: Starting in XGBoost 1.3.0, the default evaluation metric used with the objective 'binary:logistic' was changed from 'error' to 'logloss'. Explicitly set eval_metric if you'd like to restore the old behavior.\n",
      "[16:40:04] WARNING: C:/Users/Administrator/workspace/xgboost-win64_release_1.4.0/src/learner.cc:1095: Starting in XGBoost 1.3.0, the default evaluation metric used with the objective 'binary:logistic' was changed from 'error' to 'logloss'. Explicitly set eval_metric if you'd like to restore the old behavior.\n"
     ]
    },
    {
     "name": "stderr",
     "output_type": "stream",
     "text": [
      "\u001b[32m[I 2021-10-04 16:40:04,904]\u001b[0m Trial 95 finished with value: 0.7958363187644296 and parameters: {'n_estimators': 461, 'max_depth': 13, 'learning_rate': 0.011114982115723492, 'subsample': 0.5511209444067457, 'colsample_bytree': 0.6397258053415635, 'gamma': 0}. Best is trial 81 with value: 0.7979725605710798.\u001b[0m\n"
     ]
    },
    {
     "name": "stdout",
     "output_type": "stream",
     "text": [
      "Trial done: Accuracy values on folds: [0.7735849056603774, 0.7974683544303798, 0.8164556962025317]\n",
      "[16:40:04] WARNING: C:/Users/Administrator/workspace/xgboost-win64_release_1.4.0/src/learner.cc:1095: Starting in XGBoost 1.3.0, the default evaluation metric used with the objective 'binary:logistic' was changed from 'error' to 'logloss'. Explicitly set eval_metric if you'd like to restore the old behavior.\n",
      "[16:40:05] WARNING: C:/Users/Administrator/workspace/xgboost-win64_release_1.4.0/src/learner.cc:1095: Starting in XGBoost 1.3.0, the default evaluation metric used with the objective 'binary:logistic' was changed from 'error' to 'logloss'. Explicitly set eval_metric if you'd like to restore the old behavior.\n",
      "[16:40:06] WARNING: C:/Users/Administrator/workspace/xgboost-win64_release_1.4.0/src/learner.cc:1095: Starting in XGBoost 1.3.0, the default evaluation metric used with the objective 'binary:logistic' was changed from 'error' to 'logloss'. Explicitly set eval_metric if you'd like to restore the old behavior.\n"
     ]
    },
    {
     "name": "stderr",
     "output_type": "stream",
     "text": [
      "\u001b[32m[I 2021-10-04 16:40:06,661]\u001b[0m Trial 96 finished with value: 0.7958230501817796 and parameters: {'n_estimators': 469, 'max_depth': 12, 'learning_rate': 0.011552698060153022, 'subsample': 0.549140324835253, 'colsample_bytree': 0.6412655218542953, 'gamma': 0}. Best is trial 81 with value: 0.7979725605710798.\u001b[0m\n"
     ]
    },
    {
     "name": "stdout",
     "output_type": "stream",
     "text": [
      "Trial done: Accuracy values on folds: [0.779874213836478, 0.7911392405063291, 0.8164556962025317]\n",
      "[16:40:06] WARNING: C:/Users/Administrator/workspace/xgboost-win64_release_1.4.0/src/learner.cc:1095: Starting in XGBoost 1.3.0, the default evaluation metric used with the objective 'binary:logistic' was changed from 'error' to 'logloss'. Explicitly set eval_metric if you'd like to restore the old behavior.\n",
      "[16:40:07] WARNING: C:/Users/Administrator/workspace/xgboost-win64_release_1.4.0/src/learner.cc:1095: Starting in XGBoost 1.3.0, the default evaluation metric used with the objective 'binary:logistic' was changed from 'error' to 'logloss'. Explicitly set eval_metric if you'd like to restore the old behavior.\n",
      "[16:40:07] WARNING: C:/Users/Administrator/workspace/xgboost-win64_release_1.4.0/src/learner.cc:1095: Starting in XGBoost 1.3.0, the default evaluation metric used with the objective 'binary:logistic' was changed from 'error' to 'logloss'. Explicitly set eval_metric if you'd like to restore the old behavior.\n"
     ]
    },
    {
     "name": "stderr",
     "output_type": "stream",
     "text": [
      "\u001b[32m[I 2021-10-04 16:40:08,553]\u001b[0m Trial 97 finished with value: 0.7937133455404294 and parameters: {'n_estimators': 471, 'max_depth': 12, 'learning_rate': 0.01119737191159903, 'subsample': 0.5514700949150253, 'colsample_bytree': 0.6397611800489222, 'gamma': 0}. Best is trial 81 with value: 0.7979725605710798.\u001b[0m\n"
     ]
    },
    {
     "name": "stdout",
     "output_type": "stream",
     "text": [
      "Trial done: Accuracy values on folds: [0.779874213836478, 0.7911392405063291, 0.810126582278481]\n",
      "[16:40:08] WARNING: C:/Users/Administrator/workspace/xgboost-win64_release_1.4.0/src/learner.cc:1095: Starting in XGBoost 1.3.0, the default evaluation metric used with the objective 'binary:logistic' was changed from 'error' to 'logloss'. Explicitly set eval_metric if you'd like to restore the old behavior.\n",
      "[16:40:09] WARNING: C:/Users/Administrator/workspace/xgboost-win64_release_1.4.0/src/learner.cc:1095: Starting in XGBoost 1.3.0, the default evaluation metric used with the objective 'binary:logistic' was changed from 'error' to 'logloss'. Explicitly set eval_metric if you'd like to restore the old behavior.\n",
      "[16:40:09] WARNING: C:/Users/Administrator/workspace/xgboost-win64_release_1.4.0/src/learner.cc:1095: Starting in XGBoost 1.3.0, the default evaluation metric used with the objective 'binary:logistic' was changed from 'error' to 'logloss'. Explicitly set eval_metric if you'd like to restore the old behavior.\n"
     ]
    },
    {
     "name": "stderr",
     "output_type": "stream",
     "text": [
      "\u001b[32m[I 2021-10-04 16:40:10,111]\u001b[0m Trial 98 finished with value: 0.789507204840379 and parameters: {'n_estimators': 487, 'max_depth': 12, 'learning_rate': 0.01648975906863624, 'subsample': 0.5339804004747244, 'colsample_bytree': 0.5877848405122531, 'gamma': 0}. Best is trial 81 with value: 0.7979725605710798.\u001b[0m\n"
     ]
    },
    {
     "name": "stdout",
     "output_type": "stream",
     "text": [
      "Trial done: Accuracy values on folds: [0.7735849056603774, 0.7974683544303798, 0.7974683544303798]\n",
      "[16:40:10] WARNING: C:/Users/Administrator/workspace/xgboost-win64_release_1.4.0/src/learner.cc:1095: Starting in XGBoost 1.3.0, the default evaluation metric used with the objective 'binary:logistic' was changed from 'error' to 'logloss'. Explicitly set eval_metric if you'd like to restore the old behavior.\n",
      "[16:40:10] WARNING: C:/Users/Administrator/workspace/xgboost-win64_release_1.4.0/src/learner.cc:1095: Starting in XGBoost 1.3.0, the default evaluation metric used with the objective 'binary:logistic' was changed from 'error' to 'logloss'. Explicitly set eval_metric if you'd like to restore the old behavior.\n",
      "[16:40:11] WARNING: C:/Users/Administrator/workspace/xgboost-win64_release_1.4.0/src/learner.cc:1095: Starting in XGBoost 1.3.0, the default evaluation metric used with the objective 'binary:logistic' was changed from 'error' to 'logloss'. Explicitly set eval_metric if you'd like to restore the old behavior.\n"
     ]
    },
    {
     "name": "stderr",
     "output_type": "stream",
     "text": [
      "\u001b[32m[I 2021-10-04 16:40:11,649]\u001b[0m Trial 99 finished with value: 0.789533742005679 and parameters: {'n_estimators': 458, 'max_depth': 12, 'learning_rate': 0.009012541854006973, 'subsample': 0.5459081702688401, 'colsample_bytree': 0.6138499628938219, 'gamma': 0}. Best is trial 81 with value: 0.7979725605710798.\u001b[0m\n"
     ]
    },
    {
     "name": "stdout",
     "output_type": "stream",
     "text": [
      "Trial done: Accuracy values on folds: [0.7610062893081762, 0.7974683544303798, 0.810126582278481]\n",
      "Number of finished trials: 100\n",
      "Best trial:\n",
      "  Value: 0.7979725605710798\n",
      "  Params: \n",
      "    n_estimators: 390\n",
      "    max_depth: 13\n",
      "    learning_rate: 0.009390562586259853\n",
      "    subsample: 0.5157856680506653\n",
      "    colsample_bytree: 0.6471118645583238\n",
      "    gamma: 0\n"
     ]
    }
   ],
   "source": [
    "study = optuna.create_study(direction=\"maximize\")\n",
    "study.optimize(objective, n_trials=100)\n",
    "print(\"Number of finished trials: {}\".format(len(study.trials)))\n",
    "print(\"Best trial:\")\n",
    "trial = study.best_trial\n",
    "print(\"  Value: {}\".format(trial.value))\n",
    "print(\"  Params: \")\n",
    "for key, value in trial.params.items():\n",
    "    print(\"    {}: {}\".format(key, value))"
   ]
  },
  {
   "cell_type": "code",
   "execution_count": 64,
   "id": "4108bcd0-d323-4818-8cca-de3fa3e04596",
   "metadata": {},
   "outputs": [],
   "source": [
    "#Best Parameter from Optuna Hyperparameter optimization\n",
    "best_param = study.best_params\n",
    "best_param['scale_pos_weight'] =0.48\n",
    "best_param['missing'] =-999"
   ]
  },
  {
   "cell_type": "code",
   "execution_count": 65,
   "id": "2d106689-4665-4066-a3fe-fc99348c26e2",
   "metadata": {},
   "outputs": [
    {
     "name": "stdout",
     "output_type": "stream",
     "text": [
      "[16:40:16] WARNING: C:/Users/Administrator/workspace/xgboost-win64_release_1.4.0/src/learner.cc:1095: Starting in XGBoost 1.3.0, the default evaluation metric used with the objective 'binary:logistic' was changed from 'error' to 'logloss'. Explicitly set eval_metric if you'd like to restore the old behavior.\n"
     ]
    },
    {
     "data": {
      "text/plain": [
       "XGBClassifier(base_score=0.5, booster='gbtree', colsample_bylevel=1,\n",
       "              colsample_bynode=1, colsample_bytree=0.6471118645583238, gamma=0,\n",
       "              gpu_id=-1, importance_type='gain', interaction_constraints='',\n",
       "              learning_rate=0.009390562586259853, max_delta_step=0,\n",
       "              max_depth=13, min_child_weight=1, missing=-999,\n",
       "              monotone_constraints='()', n_estimators=390, n_jobs=4,\n",
       "              num_parallel_tree=1, random_state=0, reg_alpha=0, reg_lambda=1,\n",
       "              scale_pos_weight=0.48, subsample=0.5157856680506653,\n",
       "              tree_method='exact', validate_parameters=1, verbosity=None)"
      ]
     },
     "execution_count": 65,
     "metadata": {},
     "output_type": "execute_result"
    }
   ],
   "source": [
    "#Fitting XGBoost model\n",
    "model = xgb.XGBClassifier(**best_param)\n",
    "model.fit(X_train.values,y_train.values)"
   ]
  },
  {
   "cell_type": "markdown",
   "id": "55742d2a-0bb9-46d3-b978-de9174c0bac6",
   "metadata": {},
   "source": [
    "# Making Predictions :"
   ]
  },
  {
   "cell_type": "code",
   "execution_count": 66,
   "id": "2b486e77-2686-4758-a546-adaafc42ff05",
   "metadata": {},
   "outputs": [],
   "source": [
    "Prediction = model.predict(df_train.drop(['Loan_Status','Loan_ID'],axis=1).values)"
   ]
  },
  {
   "cell_type": "code",
   "execution_count": 67,
   "id": "fd799d18-1e92-495a-b6e9-a1a78f782d05",
   "metadata": {},
   "outputs": [],
   "source": [
    "df_train['Predicted_Status']=Prediction"
   ]
  },
  {
   "cell_type": "code",
   "execution_count": 87,
   "id": "d64915ff-d098-4af4-a4b9-0b6f26595a6b",
   "metadata": {},
   "outputs": [
    {
     "data": {
      "text/plain": [
       "92.42105263157895"
      ]
     },
     "execution_count": 87,
     "metadata": {},
     "output_type": "execute_result"
    }
   ],
   "source": [
    "Accuracy_Train=accuracy_score(df_train['Loan_Status'],df_train['Predicted_Status'])\n",
    "Accuracy_Train*100"
   ]
  },
  {
   "cell_type": "markdown",
   "id": "53cbcd95-2218-480d-972f-b8f6d8dcdbdb",
   "metadata": {},
   "source": [
    "# Accuracy of Model :"
   ]
  },
  {
   "cell_type": "code",
   "execution_count": 69,
   "id": "8e4775db-c882-44cb-8e03-e6a034eb7389",
   "metadata": {},
   "outputs": [],
   "source": [
    "df_test=pd.read_csv('Train.csv')"
   ]
  },
  {
   "cell_type": "code",
   "execution_count": 70,
   "id": "4b956215-a49a-4d38-9bdc-88d11511b545",
   "metadata": {},
   "outputs": [],
   "source": [
    "df_test=df_test.iloc[501:615,:]"
   ]
  },
  {
   "cell_type": "code",
   "execution_count": 71,
   "id": "0f744566-7950-4b8d-b60b-31eaa7bb411d",
   "metadata": {},
   "outputs": [],
   "source": [
    "df_test=processdata(df_test).reset_index(drop=True)"
   ]
  },
  {
   "cell_type": "code",
   "execution_count": 72,
   "id": "a620d437-d520-431b-b33b-95f0da74a844",
   "metadata": {},
   "outputs": [],
   "source": [
    "df_num_scaled1=df_test[['ApplicantIncome','CoapplicantIncome','LoanAmount']].apply(zscore)\n",
    "pca1 = PCA(n_components=3, random_state=123)\n",
    "df_pca1 = pca1.fit_transform(df_num_scaled1)\n",
    "df_pca1 = pd.DataFrame(df_pca1,columns=['ApplicantIncome','CoapplicantIncome','LoanAmount'])\n",
    "df_test = pd.concat([df_test.drop(['ApplicantIncome','CoapplicantIncome','LoanAmount'],axis=1), df_pca1], axis=1)"
   ]
  },
  {
   "cell_type": "code",
   "execution_count": 73,
   "id": "fe33f617-33d0-4516-b113-37914d5703a3",
   "metadata": {},
   "outputs": [
    {
     "data": {
      "text/html": [
       "<div>\n",
       "<style scoped>\n",
       "    .dataframe tbody tr th:only-of-type {\n",
       "        vertical-align: middle;\n",
       "    }\n",
       "\n",
       "    .dataframe tbody tr th {\n",
       "        vertical-align: top;\n",
       "    }\n",
       "\n",
       "    .dataframe thead th {\n",
       "        text-align: right;\n",
       "    }\n",
       "</style>\n",
       "<table border=\"1\" class=\"dataframe\">\n",
       "  <thead>\n",
       "    <tr style=\"text-align: right;\">\n",
       "      <th></th>\n",
       "      <th>Loan_ID</th>\n",
       "      <th>Gender</th>\n",
       "      <th>Married</th>\n",
       "      <th>Dependents</th>\n",
       "      <th>Education</th>\n",
       "      <th>Self_Employed</th>\n",
       "      <th>Loan_Amount_Term</th>\n",
       "      <th>Credit_History</th>\n",
       "      <th>Property_Area</th>\n",
       "      <th>Loan_Status</th>\n",
       "      <th>ApplicantIncome</th>\n",
       "      <th>CoapplicantIncome</th>\n",
       "      <th>LoanAmount</th>\n",
       "    </tr>\n",
       "  </thead>\n",
       "  <tbody>\n",
       "    <tr>\n",
       "      <th>0</th>\n",
       "      <td>LP002606</td>\n",
       "      <td>1.0</td>\n",
       "      <td>0</td>\n",
       "      <td>0</td>\n",
       "      <td>1</td>\n",
       "      <td>0.0</td>\n",
       "      <td>1.0</td>\n",
       "      <td>1.0</td>\n",
       "      <td>0</td>\n",
       "      <td>Y</td>\n",
       "      <td>-0.908448</td>\n",
       "      <td>-0.579096</td>\n",
       "      <td>-0.266342</td>\n",
       "    </tr>\n",
       "    <tr>\n",
       "      <th>1</th>\n",
       "      <td>LP002615</td>\n",
       "      <td>0.0</td>\n",
       "      <td>1</td>\n",
       "      <td>2</td>\n",
       "      <td>1</td>\n",
       "      <td>0.0</td>\n",
       "      <td>1.0</td>\n",
       "      <td>1.0</td>\n",
       "      <td>0</td>\n",
       "      <td>Y</td>\n",
       "      <td>0.792988</td>\n",
       "      <td>1.832519</td>\n",
       "      <td>0.454927</td>\n",
       "    </tr>\n",
       "    <tr>\n",
       "      <th>2</th>\n",
       "      <td>LP002618</td>\n",
       "      <td>0.0</td>\n",
       "      <td>1</td>\n",
       "      <td>1</td>\n",
       "      <td>0</td>\n",
       "      <td>0.0</td>\n",
       "      <td>1.0</td>\n",
       "      <td>-999.0</td>\n",
       "      <td>2</td>\n",
       "      <td>N</td>\n",
       "      <td>0.035046</td>\n",
       "      <td>1.654967</td>\n",
       "      <td>0.758393</td>\n",
       "    </tr>\n",
       "    <tr>\n",
       "      <th>3</th>\n",
       "      <td>LP002619</td>\n",
       "      <td>0.0</td>\n",
       "      <td>1</td>\n",
       "      <td>0</td>\n",
       "      <td>0</td>\n",
       "      <td>0.0</td>\n",
       "      <td>0.0</td>\n",
       "      <td>1.0</td>\n",
       "      <td>0</td>\n",
       "      <td>Y</td>\n",
       "      <td>-0.458942</td>\n",
       "      <td>0.021959</td>\n",
       "      <td>-0.007684</td>\n",
       "    </tr>\n",
       "    <tr>\n",
       "      <th>4</th>\n",
       "      <td>LP002622</td>\n",
       "      <td>0.0</td>\n",
       "      <td>1</td>\n",
       "      <td>2</td>\n",
       "      <td>1</td>\n",
       "      <td>0.0</td>\n",
       "      <td>1.0</td>\n",
       "      <td>1.0</td>\n",
       "      <td>2</td>\n",
       "      <td>Y</td>\n",
       "      <td>0.726358</td>\n",
       "      <td>1.556896</td>\n",
       "      <td>-0.299057</td>\n",
       "    </tr>\n",
       "  </tbody>\n",
       "</table>\n",
       "</div>"
      ],
      "text/plain": [
       "    Loan_ID  Gender  Married Dependents  Education  Self_Employed  \\\n",
       "0  LP002606     1.0        0          0          1            0.0   \n",
       "1  LP002615     0.0        1          2          1            0.0   \n",
       "2  LP002618     0.0        1          1          0            0.0   \n",
       "3  LP002619     0.0        1          0          0            0.0   \n",
       "4  LP002622     0.0        1          2          1            0.0   \n",
       "\n",
       "   Loan_Amount_Term  Credit_History  Property_Area Loan_Status  \\\n",
       "0               1.0             1.0              0           Y   \n",
       "1               1.0             1.0              0           Y   \n",
       "2               1.0          -999.0              2           N   \n",
       "3               0.0             1.0              0           Y   \n",
       "4               1.0             1.0              2           Y   \n",
       "\n",
       "   ApplicantIncome  CoapplicantIncome  LoanAmount  \n",
       "0        -0.908448          -0.579096   -0.266342  \n",
       "1         0.792988           1.832519    0.454927  \n",
       "2         0.035046           1.654967    0.758393  \n",
       "3        -0.458942           0.021959   -0.007684  \n",
       "4         0.726358           1.556896   -0.299057  "
      ]
     },
     "execution_count": 73,
     "metadata": {},
     "output_type": "execute_result"
    }
   ],
   "source": [
    "df_test.head()"
   ]
  },
  {
   "cell_type": "code",
   "execution_count": 74,
   "id": "eed57316-48d3-4255-b749-a8a0ad85a87d",
   "metadata": {},
   "outputs": [],
   "source": [
    "Prediction_F = model.predict(df_test.drop(['Loan_Status','Loan_ID'],axis=1).values)\n",
    "df_test['Predicted_Status']=Prediction_F"
   ]
  },
  {
   "cell_type": "code",
   "execution_count": 88,
   "id": "fe1a6743-6a7b-4caa-a175-036050dcd80f",
   "metadata": {},
   "outputs": [
    {
     "data": {
      "text/plain": [
       "83.33333333333334"
      ]
     },
     "execution_count": 88,
     "metadata": {},
     "output_type": "execute_result"
    }
   ],
   "source": [
    "Accuracy_Test=accuracy_score(df_test['Predicted_Status'],df_test['Loan_Status'])\n",
    "Accuracy_Test*100"
   ]
  },
  {
   "cell_type": "code",
   "execution_count": 92,
   "id": "595d299c-e37a-46d4-9894-ed4eadedfd8a",
   "metadata": {},
   "outputs": [
    {
     "name": "stdout",
     "output_type": "stream",
     "text": [
      "Accuracy of Model :----- :\n",
      "On Train Dataset :  92.421\n",
      "On Test Dataset : 83.333\n"
     ]
    }
   ],
   "source": [
    "print('Accuracy of Model :----- :')\n",
    "print(\"On Train Dataset :  {}\".format(round(Accuracy_Train*100,3)))\n",
    "print(\"On Test Dataset : {}\".format(round(Accuracy_Test*100,3)))"
   ]
  }
 ],
 "metadata": {
  "kernelspec": {
   "display_name": "Python 3",
   "language": "python",
   "name": "python3"
  },
  "language_info": {
   "codemirror_mode": {
    "name": "ipython",
    "version": 3
   },
   "file_extension": ".py",
   "mimetype": "text/x-python",
   "name": "python",
   "nbconvert_exporter": "python",
   "pygments_lexer": "ipython3",
   "version": "3.8.8"
  }
 },
 "nbformat": 4,
 "nbformat_minor": 5
}

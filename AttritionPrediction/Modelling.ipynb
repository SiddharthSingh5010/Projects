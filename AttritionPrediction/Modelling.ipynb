{
 "cells": [
  {
   "cell_type": "code",
   "execution_count": 1,
   "id": "2fa1c34b-9db0-4683-9d62-0b7568d0d8c3",
   "metadata": {},
   "outputs": [],
   "source": [
    "import pandas as pd\n",
    "import numpy as np\n",
    "import seaborn as sns\n",
    "import matplotlib.pyplot as plt\n",
    "from sklearn.impute import KNNImputer\n",
    "import optuna                               \n",
    "%matplotlib inline\n",
    "sns.set_palette('deep')\n",
    "from sklearn.ensemble import RandomForestClassifier,RandomForestRegressor\n",
    "from sklearn.model_selection import train_test_split\n",
    "from sklearn.tree import DecisionTreeClassifier\n",
    "from warnings import filterwarnings\n",
    "import xgboost as xgb\n",
    "from sklearn.model_selection import KFold   \n",
    "from sklearn.metrics import accuracy_score\n",
    "filterwarnings('ignore')\n",
    "import time"
   ]
  },
  {
   "cell_type": "code",
   "execution_count": 2,
   "id": "642f42c3-8e35-4c4d-99ff-80fd4b3e89ee",
   "metadata": {},
   "outputs": [],
   "source": [
    "train=pd.read_csv('Train_Dataset.csv')"
   ]
  },
  {
   "cell_type": "code",
   "execution_count": 3,
   "id": "bf234459-f16f-445b-8850-84cffeff120b",
   "metadata": {},
   "outputs": [],
   "source": [
    "def fill_workexperience(Designation,WorkExperience):\n",
    "    if pd.isna(WorkExperience):\n",
    "        if Designation=='AVP':\n",
    "            ab=25.0\n",
    "        elif Designation=='Executive':\n",
    "            ab=6.0\n",
    "        elif Designation=='Manager':\n",
    "            ab=10.0\n",
    "        elif Designation=='Senior Manager':\n",
    "            ab=14.0\n",
    "        elif Designation=='VP':\n",
    "            ab=25.0\n",
    "    else:\n",
    "        ab=WorkExperience\n",
    "    return ab"
   ]
  },
  {
   "cell_type": "code",
   "execution_count": 4,
   "id": "8c0d44e8-679a-4594-bfe2-5df22639e58a",
   "metadata": {},
   "outputs": [],
   "source": [
    "def fill_age(Designation,Age):\n",
    "    if pd.isna(Age):\n",
    "        if Designation=='AVP':\n",
    "            ab=48\n",
    "        elif Designation=='Executive':\n",
    "            ab=31\n",
    "        elif Designation=='Manager':\n",
    "            ab=36\n",
    "        elif Designation=='Senior Manager':\n",
    "            ab=39\n",
    "        elif Designation=='VP':\n",
    "            ab=48\n",
    "    else:\n",
    "        ab=Age\n",
    "    return ab"
   ]
  },
  {
   "cell_type": "code",
   "execution_count": 5,
   "id": "278202a0-e9ac-429b-9220-937737f179e8",
   "metadata": {},
   "outputs": [],
   "source": [
    "def fill_lastpromotion(Designation,LastPromotion):\n",
    "    if pd.isna(LastPromotion):\n",
    "        if Designation=='AVP':\n",
    "            ab=3.0\n",
    "        elif Designation=='Executive':\n",
    "            ab=1.0\n",
    "        elif Designation=='Manager':\n",
    "            ab=1.0\n",
    "        elif Designation=='Senior Manager':\n",
    "            ab=2.0\n",
    "        elif Designation=='VP':\n",
    "            ab=3.0\n",
    "    else:\n",
    "        ab=LastPromotion\n",
    "    return ab"
   ]
  },
  {
   "cell_type": "code",
   "execution_count": 6,
   "id": "f2a265bd-eebc-4d8c-8b18-f91893284dfd",
   "metadata": {},
   "outputs": [],
   "source": [
    "def fill_currentprofile(Designation,CurrentProfile):\n",
    "    if pd.isna(CurrentProfile):\n",
    "        if Designation=='AVP':\n",
    "            ab=7.0\n",
    "        elif Designation=='Executive':\n",
    "            ab=2.0\n",
    "        elif Designation=='Manager':\n",
    "            ab=4.0\n",
    "        elif Designation=='Senior Manager':\n",
    "            ab=7.0\n",
    "        elif Designation=='VP':\n",
    "            ab=8.0\n",
    "    else:\n",
    "        ab=CurrentProfile\n",
    "    return ab"
   ]
  },
  {
   "cell_type": "code",
   "execution_count": 7,
   "id": "4c671deb-f4fe-48ad-8455-272205e8a445",
   "metadata": {},
   "outputs": [],
   "source": [
    "def fill_currentmi(Designation,MonthlyIncome):\n",
    "    if pd.isna(MonthlyIncome):\n",
    "        if Designation=='AVP':\n",
    "            ab=31307.0\n",
    "        elif Designation=='Executive':\n",
    "            ab=18145.0\n",
    "        elif Designation=='Manager':\n",
    "            ab=20765.0\n",
    "        elif Designation=='Senior Manager':\n",
    "            ab=25333.0\n",
    "        elif Designation=='VP':\n",
    "            ab=34609.5\n",
    "    else:\n",
    "        ab=MonthlyIncome\n",
    "    return ab"
   ]
  },
  {
   "cell_type": "code",
   "execution_count": 8,
   "id": "60099a80-9ddc-4b91-b4c8-87df2809ab31",
   "metadata": {},
   "outputs": [],
   "source": [
    "def remove_outliers(df):\n",
    "    df.drop(782,inplace=True)\n",
    "    df.drop([1157,1404,4351],inplace=True)\n",
    "    df=df[df['NumCompaniesWorked']<=10]\n",
    "    df=df[df['WorkExperience']<=32]\n",
    "    df=df[df['LastPromotion']<=8]\n",
    "    df.drop([1528,4781],inplace=True)"
   ]
  },
  {
   "cell_type": "code",
   "execution_count": 9,
   "id": "0fd7d9d4-c881-404a-b814-f14614e556f8",
   "metadata": {},
   "outputs": [],
   "source": [
    "def process_data(df):\n",
    "    df=df.dropna(how='all')\n",
    "    df.drop('EmployeeID',axis=1,inplace=True)\n",
    "    df['Gender']=df['Gender'].replace(to_replace='F',value='Female')\n",
    "    df['MaritalStatus']=df['MaritalStatus'].replace(to_replace='M',value='Married')\n",
    "    #df['Age']=df['Age'].fillna(value=df['Age'].mean())\n",
    "    df['Age']=df.apply(lambda x: fill_age(x['Designation'], x['Age']), axis=1)\n",
    "    df['Department']=df['Department'].fillna(value='Analytics')\n",
    "    df['HomeToWork']=df['HomeToWork'].fillna(value=df['HomeToWork'].median())\n",
    "    df['Gender']=df['Gender'].fillna(value='Male')\n",
    "    df['HourlnWeek']=df['HourlnWeek'].fillna(value=df['HourlnWeek'].median())\n",
    "    df['Designation']=df['Designation'].fillna(value='Executive')\n",
    "    df['SalaryHikelastYear']=df['SalaryHikelastYear'].fillna(value=df['SalaryHikelastYear'].median())\n",
    "    df['WorkExperience']=df.apply(lambda x: fill_workexperience(x['Designation'], x['WorkExperience']), axis=1)\n",
    "    df['LastPromotion']=df.apply(lambda x: fill_lastpromotion(x['Designation'], x['LastPromotion']), axis=1)\n",
    "    df['CurrentProfile']=df.apply(lambda x: fill_currentprofile(x['Designation'], x['CurrentProfile']), axis=1)\n",
    "    df['MonthlyIncome']=df.apply(lambda x: fill_currentmi(x['Designation'], x['MonthlyIncome']), axis=1)\n",
    "    df=pd.get_dummies(df,drop_first=True)\n",
    "    return df"
   ]
  },
  {
   "cell_type": "code",
   "execution_count": 10,
   "id": "71bddf14-5ecc-4994-a0c8-577e4179d7b5",
   "metadata": {},
   "outputs": [],
   "source": [
    "df_train=remove_outliers(train)"
   ]
  },
  {
   "cell_type": "code",
   "execution_count": 11,
   "id": "1b4ec4e5-02db-4db6-a9e4-1197f228867c",
   "metadata": {},
   "outputs": [],
   "source": [
    "df_train=process_data(train)"
   ]
  },
  {
   "cell_type": "code",
   "execution_count": 12,
   "id": "7b6e1102-acbc-4047-bc14-030a602d69a4",
   "metadata": {},
   "outputs": [
    {
     "data": {
      "text/html": [
       "<div>\n",
       "<style scoped>\n",
       "    .dataframe tbody tr th:only-of-type {\n",
       "        vertical-align: middle;\n",
       "    }\n",
       "\n",
       "    .dataframe tbody tr th {\n",
       "        vertical-align: top;\n",
       "    }\n",
       "\n",
       "    .dataframe thead th {\n",
       "        text-align: right;\n",
       "    }\n",
       "</style>\n",
       "<table border=\"1\" class=\"dataframe\">\n",
       "  <thead>\n",
       "    <tr style=\"text-align: right;\">\n",
       "      <th></th>\n",
       "      <th>Attrition</th>\n",
       "      <th>Age</th>\n",
       "      <th>HomeToWork</th>\n",
       "      <th>HourlnWeek</th>\n",
       "      <th>Involvement</th>\n",
       "      <th>WorkLifeBalance</th>\n",
       "      <th>JobSatisfaction</th>\n",
       "      <th>ESOPs</th>\n",
       "      <th>NumCompaniesWorked</th>\n",
       "      <th>OverTime</th>\n",
       "      <th>...</th>\n",
       "      <th>EducationField_Marketing Diploma</th>\n",
       "      <th>EducationField_Other</th>\n",
       "      <th>EducationField_Statistics</th>\n",
       "      <th>Gender_Male</th>\n",
       "      <th>Designation_Executive</th>\n",
       "      <th>Designation_Manager</th>\n",
       "      <th>Designation_Senior Manager</th>\n",
       "      <th>Designation_VP</th>\n",
       "      <th>MaritalStatus_Married</th>\n",
       "      <th>MaritalStatus_Single</th>\n",
       "    </tr>\n",
       "  </thead>\n",
       "  <tbody>\n",
       "    <tr>\n",
       "      <th>0</th>\n",
       "      <td>0.0</td>\n",
       "      <td>35.0</td>\n",
       "      <td>5.0</td>\n",
       "      <td>69.0</td>\n",
       "      <td>1.0</td>\n",
       "      <td>1.0</td>\n",
       "      <td>1.0</td>\n",
       "      <td>1.0</td>\n",
       "      <td>1.0</td>\n",
       "      <td>1.0</td>\n",
       "      <td>...</td>\n",
       "      <td>0</td>\n",
       "      <td>0</td>\n",
       "      <td>0</td>\n",
       "      <td>1</td>\n",
       "      <td>1</td>\n",
       "      <td>0</td>\n",
       "      <td>0</td>\n",
       "      <td>0</td>\n",
       "      <td>1</td>\n",
       "      <td>0</td>\n",
       "    </tr>\n",
       "    <tr>\n",
       "      <th>1</th>\n",
       "      <td>1.0</td>\n",
       "      <td>32.0</td>\n",
       "      <td>5.0</td>\n",
       "      <td>62.0</td>\n",
       "      <td>4.0</td>\n",
       "      <td>3.0</td>\n",
       "      <td>2.0</td>\n",
       "      <td>0.0</td>\n",
       "      <td>8.0</td>\n",
       "      <td>0.0</td>\n",
       "      <td>...</td>\n",
       "      <td>0</td>\n",
       "      <td>0</td>\n",
       "      <td>1</td>\n",
       "      <td>0</td>\n",
       "      <td>1</td>\n",
       "      <td>0</td>\n",
       "      <td>0</td>\n",
       "      <td>0</td>\n",
       "      <td>0</td>\n",
       "      <td>1</td>\n",
       "    </tr>\n",
       "    <tr>\n",
       "      <th>2</th>\n",
       "      <td>0.0</td>\n",
       "      <td>31.0</td>\n",
       "      <td>5.0</td>\n",
       "      <td>45.0</td>\n",
       "      <td>5.0</td>\n",
       "      <td>3.0</td>\n",
       "      <td>2.0</td>\n",
       "      <td>1.0</td>\n",
       "      <td>3.0</td>\n",
       "      <td>0.0</td>\n",
       "      <td>...</td>\n",
       "      <td>0</td>\n",
       "      <td>0</td>\n",
       "      <td>1</td>\n",
       "      <td>0</td>\n",
       "      <td>0</td>\n",
       "      <td>1</td>\n",
       "      <td>0</td>\n",
       "      <td>0</td>\n",
       "      <td>0</td>\n",
       "      <td>1</td>\n",
       "    </tr>\n",
       "    <tr>\n",
       "      <th>3</th>\n",
       "      <td>0.0</td>\n",
       "      <td>34.0</td>\n",
       "      <td>10.0</td>\n",
       "      <td>32.0</td>\n",
       "      <td>3.0</td>\n",
       "      <td>2.0</td>\n",
       "      <td>4.0</td>\n",
       "      <td>1.0</td>\n",
       "      <td>1.0</td>\n",
       "      <td>0.0</td>\n",
       "      <td>...</td>\n",
       "      <td>0</td>\n",
       "      <td>0</td>\n",
       "      <td>1</td>\n",
       "      <td>0</td>\n",
       "      <td>0</td>\n",
       "      <td>1</td>\n",
       "      <td>0</td>\n",
       "      <td>0</td>\n",
       "      <td>0</td>\n",
       "      <td>0</td>\n",
       "    </tr>\n",
       "    <tr>\n",
       "      <th>4</th>\n",
       "      <td>0.0</td>\n",
       "      <td>37.0</td>\n",
       "      <td>27.0</td>\n",
       "      <td>49.0</td>\n",
       "      <td>3.0</td>\n",
       "      <td>4.0</td>\n",
       "      <td>4.0</td>\n",
       "      <td>1.0</td>\n",
       "      <td>8.0</td>\n",
       "      <td>0.0</td>\n",
       "      <td>...</td>\n",
       "      <td>0</td>\n",
       "      <td>0</td>\n",
       "      <td>1</td>\n",
       "      <td>0</td>\n",
       "      <td>0</td>\n",
       "      <td>1</td>\n",
       "      <td>0</td>\n",
       "      <td>0</td>\n",
       "      <td>0</td>\n",
       "      <td>0</td>\n",
       "    </tr>\n",
       "  </tbody>\n",
       "</table>\n",
       "<p>5 rows × 31 columns</p>\n",
       "</div>"
      ],
      "text/plain": [
       "   Attrition   Age  HomeToWork  HourlnWeek  Involvement  WorkLifeBalance  \\\n",
       "0        0.0  35.0         5.0        69.0          1.0              1.0   \n",
       "1        1.0  32.0         5.0        62.0          4.0              3.0   \n",
       "2        0.0  31.0         5.0        45.0          5.0              3.0   \n",
       "3        0.0  34.0        10.0        32.0          3.0              2.0   \n",
       "4        0.0  37.0        27.0        49.0          3.0              4.0   \n",
       "\n",
       "   JobSatisfaction  ESOPs  NumCompaniesWorked  OverTime  ...  \\\n",
       "0              1.0    1.0                 1.0       1.0  ...   \n",
       "1              2.0    0.0                 8.0       0.0  ...   \n",
       "2              2.0    1.0                 3.0       0.0  ...   \n",
       "3              4.0    1.0                 1.0       0.0  ...   \n",
       "4              4.0    1.0                 8.0       0.0  ...   \n",
       "\n",
       "   EducationField_Marketing Diploma  EducationField_Other  \\\n",
       "0                                 0                     0   \n",
       "1                                 0                     0   \n",
       "2                                 0                     0   \n",
       "3                                 0                     0   \n",
       "4                                 0                     0   \n",
       "\n",
       "   EducationField_Statistics  Gender_Male  Designation_Executive  \\\n",
       "0                          0            1                      1   \n",
       "1                          1            0                      1   \n",
       "2                          1            0                      0   \n",
       "3                          1            0                      0   \n",
       "4                          1            0                      0   \n",
       "\n",
       "   Designation_Manager  Designation_Senior Manager  Designation_VP  \\\n",
       "0                    0                           0               0   \n",
       "1                    0                           0               0   \n",
       "2                    1                           0               0   \n",
       "3                    1                           0               0   \n",
       "4                    1                           0               0   \n",
       "\n",
       "   MaritalStatus_Married  MaritalStatus_Single  \n",
       "0                      1                     0  \n",
       "1                      0                     1  \n",
       "2                      0                     1  \n",
       "3                      0                     0  \n",
       "4                      0                     0  \n",
       "\n",
       "[5 rows x 31 columns]"
      ]
     },
     "execution_count": 12,
     "metadata": {},
     "output_type": "execute_result"
    }
   ],
   "source": [
    "df_train.head()"
   ]
  },
  {
   "cell_type": "code",
   "execution_count": 13,
   "id": "a365d8a3-c2e7-4c6c-bc99-e5fd8aa5e243",
   "metadata": {},
   "outputs": [],
   "source": [
    "X= df_train.drop('Attrition',axis=1)"
   ]
  },
  {
   "cell_type": "code",
   "execution_count": 14,
   "id": "9ded8277-2be1-4808-a149-377609a9ac53",
   "metadata": {},
   "outputs": [],
   "source": [
    "y= df_train['Attrition']"
   ]
  },
  {
   "cell_type": "markdown",
   "id": "c1511353-9db2-4b68-b5f8-2ca9688da4fd",
   "metadata": {},
   "source": [
    "## Random Forest Classifier"
   ]
  },
  {
   "cell_type": "code",
   "execution_count": 15,
   "id": "6432c8f3-2a2e-44e2-b834-be56c969ad67",
   "metadata": {},
   "outputs": [],
   "source": [
    "rf=RandomForestClassifier(n_estimators=500,max_depth =20)"
   ]
  },
  {
   "cell_type": "code",
   "execution_count": 16,
   "id": "1859bba5-7be2-4a95-9ebf-685dadf72fc8",
   "metadata": {},
   "outputs": [
    {
     "data": {
      "text/plain": [
       "RandomForestClassifier(max_depth=20, n_estimators=500)"
      ]
     },
     "execution_count": 16,
     "metadata": {},
     "output_type": "execute_result"
    }
   ],
   "source": [
    "rf.fit(X.values,y.values)"
   ]
  },
  {
   "cell_type": "markdown",
   "id": "83dab513-18db-4105-9f37-aa0bde9977e2",
   "metadata": {},
   "source": [
    "X,y=df_train.drop('Attrition',axis=1),df_train['Attrition']"
   ]
  },
  {
   "cell_type": "code",
   "execution_count": 17,
   "id": "29db0200-b22c-4020-ab8c-758a89004a8e",
   "metadata": {},
   "outputs": [],
   "source": [
    "X_train, X_test, y_train, y_test=train_test_split(X,y,test_size=0.30)"
   ]
  },
  {
   "cell_type": "code",
   "execution_count": 18,
   "id": "cc4db5ec-36ca-49cd-a3d3-1505d5f024a2",
   "metadata": {},
   "outputs": [
    {
     "data": {
      "text/plain": [
       "1.0"
      ]
     },
     "execution_count": 18,
     "metadata": {},
     "output_type": "execute_result"
    }
   ],
   "source": [
    "rf.score(X_train.values,y_train.values)"
   ]
  },
  {
   "cell_type": "code",
   "execution_count": 19,
   "id": "363f22e5-dd66-479c-9d4c-62230ba81ec5",
   "metadata": {},
   "outputs": [
    {
     "data": {
      "text/plain": [
       "1.0"
      ]
     },
     "execution_count": 19,
     "metadata": {},
     "output_type": "execute_result"
    }
   ],
   "source": [
    "rf.score(X_test.values,y_test.values)"
   ]
  },
  {
   "cell_type": "code",
   "execution_count": 27,
   "id": "c073c892-37e9-4a8a-8681-7ccd49ef8705",
   "metadata": {},
   "outputs": [
    {
     "data": {
      "text/html": [
       "<div>\n",
       "<style scoped>\n",
       "    .dataframe tbody tr th:only-of-type {\n",
       "        vertical-align: middle;\n",
       "    }\n",
       "\n",
       "    .dataframe tbody tr th {\n",
       "        vertical-align: top;\n",
       "    }\n",
       "\n",
       "    .dataframe thead th {\n",
       "        text-align: right;\n",
       "    }\n",
       "</style>\n",
       "<table border=\"1\" class=\"dataframe\">\n",
       "  <thead>\n",
       "    <tr style=\"text-align: right;\">\n",
       "      <th></th>\n",
       "      <th>0</th>\n",
       "    </tr>\n",
       "  </thead>\n",
       "  <tbody>\n",
       "    <tr>\n",
       "      <th>MonthlyIncome</th>\n",
       "      <td>0.092367</td>\n",
       "    </tr>\n",
       "    <tr>\n",
       "      <th>Age</th>\n",
       "      <td>0.087705</td>\n",
       "    </tr>\n",
       "    <tr>\n",
       "      <th>WorkExperience</th>\n",
       "      <td>0.077466</td>\n",
       "    </tr>\n",
       "    <tr>\n",
       "      <th>OverTime</th>\n",
       "      <td>0.072938</td>\n",
       "    </tr>\n",
       "    <tr>\n",
       "      <th>HomeToWork</th>\n",
       "      <td>0.069789</td>\n",
       "    </tr>\n",
       "    <tr>\n",
       "      <th>HourlnWeek</th>\n",
       "      <td>0.069353</td>\n",
       "    </tr>\n",
       "    <tr>\n",
       "      <th>CurrentProfile</th>\n",
       "      <td>0.056006</td>\n",
       "    </tr>\n",
       "    <tr>\n",
       "      <th>SalaryHikelastYear</th>\n",
       "      <td>0.055636</td>\n",
       "    </tr>\n",
       "    <tr>\n",
       "      <th>NumCompaniesWorked</th>\n",
       "      <td>0.052011</td>\n",
       "    </tr>\n",
       "    <tr>\n",
       "      <th>JobSatisfaction</th>\n",
       "      <td>0.049365</td>\n",
       "    </tr>\n",
       "    <tr>\n",
       "      <th>LastPromotion</th>\n",
       "      <td>0.039976</td>\n",
       "    </tr>\n",
       "    <tr>\n",
       "      <th>Involvement</th>\n",
       "      <td>0.038784</td>\n",
       "    </tr>\n",
       "    <tr>\n",
       "      <th>MaritalStatus_Single</th>\n",
       "      <td>0.034647</td>\n",
       "    </tr>\n",
       "    <tr>\n",
       "      <th>Designation_Executive</th>\n",
       "      <td>0.025881</td>\n",
       "    </tr>\n",
       "    <tr>\n",
       "      <th>Department_Sales</th>\n",
       "      <td>0.021026</td>\n",
       "    </tr>\n",
       "    <tr>\n",
       "      <th>TravelProfile_Yes</th>\n",
       "      <td>0.018465</td>\n",
       "    </tr>\n",
       "    <tr>\n",
       "      <th>Gender_Male</th>\n",
       "      <td>0.018198</td>\n",
       "    </tr>\n",
       "    <tr>\n",
       "      <th>EducationField_Statistics</th>\n",
       "      <td>0.015084</td>\n",
       "    </tr>\n",
       "    <tr>\n",
       "      <th>MaritalStatus_Married</th>\n",
       "      <td>0.013963</td>\n",
       "    </tr>\n",
       "    <tr>\n",
       "      <th>WorkLifeBalance</th>\n",
       "      <td>0.013215</td>\n",
       "    </tr>\n",
       "    <tr>\n",
       "      <th>EducationField_Engineer</th>\n",
       "      <td>0.013040</td>\n",
       "    </tr>\n",
       "    <tr>\n",
       "      <th>TravelProfile_Rarely</th>\n",
       "      <td>0.012844</td>\n",
       "    </tr>\n",
       "    <tr>\n",
       "      <th>EducationField_Marketing Diploma</th>\n",
       "      <td>0.012223</td>\n",
       "    </tr>\n",
       "    <tr>\n",
       "      <th>Designation_Manager</th>\n",
       "      <td>0.011057</td>\n",
       "    </tr>\n",
       "    <tr>\n",
       "      <th>Designation_Senior Manager</th>\n",
       "      <td>0.007571</td>\n",
       "    </tr>\n",
       "    <tr>\n",
       "      <th>EducationField_Other</th>\n",
       "      <td>0.006189</td>\n",
       "    </tr>\n",
       "    <tr>\n",
       "      <th>ESOPs</th>\n",
       "      <td>0.005396</td>\n",
       "    </tr>\n",
       "    <tr>\n",
       "      <th>Department_Marketing</th>\n",
       "      <td>0.004269</td>\n",
       "    </tr>\n",
       "    <tr>\n",
       "      <th>EducationField_MBA</th>\n",
       "      <td>0.004043</td>\n",
       "    </tr>\n",
       "    <tr>\n",
       "      <th>Designation_VP</th>\n",
       "      <td>0.001491</td>\n",
       "    </tr>\n",
       "  </tbody>\n",
       "</table>\n",
       "</div>"
      ],
      "text/plain": [
       "                                         0\n",
       "MonthlyIncome                     0.092367\n",
       "Age                               0.087705\n",
       "WorkExperience                    0.077466\n",
       "OverTime                          0.072938\n",
       "HomeToWork                        0.069789\n",
       "HourlnWeek                        0.069353\n",
       "CurrentProfile                    0.056006\n",
       "SalaryHikelastYear                0.055636\n",
       "NumCompaniesWorked                0.052011\n",
       "JobSatisfaction                   0.049365\n",
       "LastPromotion                     0.039976\n",
       "Involvement                       0.038784\n",
       "MaritalStatus_Single              0.034647\n",
       "Designation_Executive             0.025881\n",
       "Department_Sales                  0.021026\n",
       "TravelProfile_Yes                 0.018465\n",
       "Gender_Male                       0.018198\n",
       "EducationField_Statistics         0.015084\n",
       "MaritalStatus_Married             0.013963\n",
       "WorkLifeBalance                   0.013215\n",
       "EducationField_Engineer           0.013040\n",
       "TravelProfile_Rarely              0.012844\n",
       "EducationField_Marketing Diploma  0.012223\n",
       "Designation_Manager               0.011057\n",
       "Designation_Senior Manager        0.007571\n",
       "EducationField_Other              0.006189\n",
       "ESOPs                             0.005396\n",
       "Department_Marketing              0.004269\n",
       "EducationField_MBA                0.004043\n",
       "Designation_VP                    0.001491"
      ]
     },
     "execution_count": 27,
     "metadata": {},
     "output_type": "execute_result"
    }
   ],
   "source": [
    "pd.DataFrame(rf.feature_importances_,index=X.columns).sort_values(0,ascending=False)"
   ]
  },
  {
   "cell_type": "markdown",
   "id": "f9e841e9-a501-4dd4-b357-a17c3130e541",
   "metadata": {},
   "source": [
    "## Processing Testset and making prediction"
   ]
  },
  {
   "cell_type": "code",
   "execution_count": 20,
   "id": "3e6c23c5-9aaf-4b07-aa23-a9d8679dc85c",
   "metadata": {},
   "outputs": [],
   "source": [
    "test=pd.read_csv('Test_Dataset.csv')\n",
    "df_test=process_data(test)\n",
    "test['Attrition']=rf.predict(df_test.values)\n",
    "test[['EmployeeID','Attrition']].to_csv('Submit030322{}.csv'.format(time.time()),index=False)"
   ]
  },
  {
   "cell_type": "markdown",
   "id": "79bf4c85-1660-455b-8147-05305f8ea4cb",
   "metadata": {},
   "source": [
    "# Using XGBClassifier"
   ]
  },
  {
   "cell_type": "code",
   "execution_count": 21,
   "id": "c488f582-605c-4803-8454-b973e105b25f",
   "metadata": {},
   "outputs": [],
   "source": [
    "def objective(trial):\n",
    "    params = {\n",
    "        'n_estimators': trial.suggest_int('n_estimators', 350, 600),\n",
    "        'max_depth': trial.suggest_int('max_depth', 6, 25),\n",
    "       }\n",
    "        \n",
    "    clf = xgb.XGBClassifier(**params)\n",
    "    auccuracies=[]\n",
    "    X_train_k = X.values\n",
    "    y_train_k = y.values\n",
    "    kf = KFold(n_splits=3,random_state=2000,shuffle=True)\n",
    "    for train_idx, valid_idx in kf.split(X_train_k,y_train_k):\n",
    "        clf.fit(X_train_k[train_idx, :], y_train_k[train_idx])\n",
    "        pred = clf.predict(X_train_k[valid_idx, :])\n",
    "        accuracy = accuracy_score(y_train_k[valid_idx],pred)\n",
    "        auccuracies.append(accuracy)\n",
    "    print(f'Trial done: Accuracy values on folds: {accuracy}')\n",
    "    return np.average(auccuracies)"
   ]
  },
  {
   "cell_type": "code",
   "execution_count": 22,
   "id": "f7c1f7d7-202d-4e86-9a9e-a6b5c9f477df",
   "metadata": {},
   "outputs": [
    {
     "name": "stderr",
     "output_type": "stream",
     "text": [
      "\u001b[32m[I 2022-03-03 20:36:08,704]\u001b[0m A new study created in memory with name: no-name-b760e310-92ec-4188-a28e-8e4549202359\u001b[0m\n"
     ]
    },
    {
     "name": "stdout",
     "output_type": "stream",
     "text": [
      "[20:36:08] WARNING: C:/Users/Administrator/workspace/xgboost-win64_release_1.5.1/src/learner.cc:1115: Starting in XGBoost 1.3.0, the default evaluation metric used with the objective 'binary:logistic' was changed from 'error' to 'logloss'. Explicitly set eval_metric if you'd like to restore the old behavior.\n",
      "[20:36:09] WARNING: C:/Users/Administrator/workspace/xgboost-win64_release_1.5.1/src/learner.cc:1115: Starting in XGBoost 1.3.0, the default evaluation metric used with the objective 'binary:logistic' was changed from 'error' to 'logloss'. Explicitly set eval_metric if you'd like to restore the old behavior.\n",
      "[20:36:10] WARNING: C:/Users/Administrator/workspace/xgboost-win64_release_1.5.1/src/learner.cc:1115: Starting in XGBoost 1.3.0, the default evaluation metric used with the objective 'binary:logistic' was changed from 'error' to 'logloss'. Explicitly set eval_metric if you'd like to restore the old behavior.\n"
     ]
    },
    {
     "name": "stderr",
     "output_type": "stream",
     "text": [
      "\u001b[32m[I 2022-03-03 20:36:12,025]\u001b[0m Trial 0 finished with value: 0.9719852665401559 and parameters: {'n_estimators': 531, 'max_depth': 17}. Best is trial 0 with value: 0.9719852665401559.\u001b[0m\n"
     ]
    },
    {
     "name": "stdout",
     "output_type": "stream",
     "text": [
      "Trial done: Accuracy values on folds: 0.9715942028985507\n",
      "[20:36:12] WARNING: C:/Users/Administrator/workspace/xgboost-win64_release_1.5.1/src/learner.cc:1115: Starting in XGBoost 1.3.0, the default evaluation metric used with the objective 'binary:logistic' was changed from 'error' to 'logloss'. Explicitly set eval_metric if you'd like to restore the old behavior.\n",
      "[20:36:12] WARNING: C:/Users/Administrator/workspace/xgboost-win64_release_1.5.1/src/learner.cc:1115: Starting in XGBoost 1.3.0, the default evaluation metric used with the objective 'binary:logistic' was changed from 'error' to 'logloss'. Explicitly set eval_metric if you'd like to restore the old behavior.\n",
      "[20:36:13] WARNING: C:/Users/Administrator/workspace/xgboost-win64_release_1.5.1/src/learner.cc:1115: Starting in XGBoost 1.3.0, the default evaluation metric used with the objective 'binary:logistic' was changed from 'error' to 'logloss'. Explicitly set eval_metric if you'd like to restore the old behavior.\n"
     ]
    },
    {
     "name": "stderr",
     "output_type": "stream",
     "text": [
      "\u001b[32m[I 2022-03-03 20:36:14,567]\u001b[0m Trial 1 finished with value: 0.9719854904529196 and parameters: {'n_estimators': 362, 'max_depth': 13}. Best is trial 1 with value: 0.9719854904529196.\u001b[0m\n"
     ]
    },
    {
     "name": "stdout",
     "output_type": "stream",
     "text": [
      "Trial done: Accuracy values on folds: 0.9681159420289855\n",
      "[20:36:14] WARNING: C:/Users/Administrator/workspace/xgboost-win64_release_1.5.1/src/learner.cc:1115: Starting in XGBoost 1.3.0, the default evaluation metric used with the objective 'binary:logistic' was changed from 'error' to 'logloss'. Explicitly set eval_metric if you'd like to restore the old behavior.\n",
      "[20:36:15] WARNING: C:/Users/Administrator/workspace/xgboost-win64_release_1.5.1/src/learner.cc:1115: Starting in XGBoost 1.3.0, the default evaluation metric used with the objective 'binary:logistic' was changed from 'error' to 'logloss'. Explicitly set eval_metric if you'd like to restore the old behavior.\n",
      "[20:36:16] WARNING: C:/Users/Administrator/workspace/xgboost-win64_release_1.5.1/src/learner.cc:1115: Starting in XGBoost 1.3.0, the default evaluation metric used with the objective 'binary:logistic' was changed from 'error' to 'logloss'. Explicitly set eval_metric if you'd like to restore the old behavior.\n"
     ]
    },
    {
     "name": "stderr",
     "output_type": "stream",
     "text": [
      "\u001b[32m[I 2022-03-03 20:36:17,388]\u001b[0m Trial 2 finished with value: 0.9727578775309139 and parameters: {'n_estimators': 403, 'max_depth': 25}. Best is trial 2 with value: 0.9727578775309139.\u001b[0m\n"
     ]
    },
    {
     "name": "stdout",
     "output_type": "stream",
     "text": [
      "Trial done: Accuracy values on folds: 0.9710144927536232\n",
      "[20:36:17] WARNING: C:/Users/Administrator/workspace/xgboost-win64_release_1.5.1/src/learner.cc:1115: Starting in XGBoost 1.3.0, the default evaluation metric used with the objective 'binary:logistic' was changed from 'error' to 'logloss'. Explicitly set eval_metric if you'd like to restore the old behavior.\n",
      "[20:36:18] WARNING: C:/Users/Administrator/workspace/xgboost-win64_release_1.5.1/src/learner.cc:1115: Starting in XGBoost 1.3.0, the default evaluation metric used with the objective 'binary:logistic' was changed from 'error' to 'logloss'. Explicitly set eval_metric if you'd like to restore the old behavior.\n",
      "[20:36:19] WARNING: C:/Users/Administrator/workspace/xgboost-win64_release_1.5.1/src/learner.cc:1115: Starting in XGBoost 1.3.0, the default evaluation metric used with the objective 'binary:logistic' was changed from 'error' to 'logloss'. Explicitly set eval_metric if you'd like to restore the old behavior.\n"
     ]
    },
    {
     "name": "stderr",
     "output_type": "stream",
     "text": [
      "\u001b[32m[I 2022-03-03 20:36:20,476]\u001b[0m Trial 3 finished with value: 0.9710191949216584 and parameters: {'n_estimators': 469, 'max_depth': 17}. Best is trial 2 with value: 0.9727578775309139.\u001b[0m\n"
     ]
    },
    {
     "name": "stdout",
     "output_type": "stream",
     "text": [
      "Trial done: Accuracy values on folds: 0.9710144927536232\n",
      "[20:36:20] WARNING: C:/Users/Administrator/workspace/xgboost-win64_release_1.5.1/src/learner.cc:1115: Starting in XGBoost 1.3.0, the default evaluation metric used with the objective 'binary:logistic' was changed from 'error' to 'logloss'. Explicitly set eval_metric if you'd like to restore the old behavior.\n",
      "[20:36:21] WARNING: C:/Users/Administrator/workspace/xgboost-win64_release_1.5.1/src/learner.cc:1115: Starting in XGBoost 1.3.0, the default evaluation metric used with the objective 'binary:logistic' was changed from 'error' to 'logloss'. Explicitly set eval_metric if you'd like to restore the old behavior.\n",
      "[20:36:22] WARNING: C:/Users/Administrator/workspace/xgboost-win64_release_1.5.1/src/learner.cc:1115: Starting in XGBoost 1.3.0, the default evaluation metric used with the objective 'binary:logistic' was changed from 'error' to 'logloss'. Explicitly set eval_metric if you'd like to restore the old behavior.\n"
     ]
    },
    {
     "name": "stderr",
     "output_type": "stream",
     "text": [
      "\u001b[32m[I 2022-03-03 20:36:23,366]\u001b[0m Trial 4 finished with value: 0.9715982333282952 and parameters: {'n_estimators': 415, 'max_depth': 14}. Best is trial 2 with value: 0.9727578775309139.\u001b[0m\n"
     ]
    },
    {
     "name": "stdout",
     "output_type": "stream",
     "text": [
      "Trial done: Accuracy values on folds: 0.9681159420289855\n",
      "[20:36:23] WARNING: C:/Users/Administrator/workspace/xgboost-win64_release_1.5.1/src/learner.cc:1115: Starting in XGBoost 1.3.0, the default evaluation metric used with the objective 'binary:logistic' was changed from 'error' to 'logloss'. Explicitly set eval_metric if you'd like to restore the old behavior.\n",
      "[20:36:24] WARNING: C:/Users/Administrator/workspace/xgboost-win64_release_1.5.1/src/learner.cc:1115: Starting in XGBoost 1.3.0, the default evaluation metric used with the objective 'binary:logistic' was changed from 'error' to 'logloss'. Explicitly set eval_metric if you'd like to restore the old behavior.\n",
      "[20:36:25] WARNING: C:/Users/Administrator/workspace/xgboost-win64_release_1.5.1/src/learner.cc:1115: Starting in XGBoost 1.3.0, the default evaluation metric used with the objective 'binary:logistic' was changed from 'error' to 'logloss'. Explicitly set eval_metric if you'd like to restore the old behavior.\n"
     ]
    },
    {
     "name": "stderr",
     "output_type": "stream",
     "text": [
      "\u001b[32m[I 2022-03-03 20:36:26,808]\u001b[0m Trial 5 finished with value: 0.9731440150917203 and parameters: {'n_estimators': 523, 'max_depth': 21}. Best is trial 5 with value: 0.9731440150917203.\u001b[0m\n"
     ]
    },
    {
     "name": "stdout",
     "output_type": "stream",
     "text": [
      "Trial done: Accuracy values on folds: 0.9715942028985507\n",
      "[20:36:26] WARNING: C:/Users/Administrator/workspace/xgboost-win64_release_1.5.1/src/learner.cc:1115: Starting in XGBoost 1.3.0, the default evaluation metric used with the objective 'binary:logistic' was changed from 'error' to 'logloss'. Explicitly set eval_metric if you'd like to restore the old behavior.\n",
      "[20:36:28] WARNING: C:/Users/Administrator/workspace/xgboost-win64_release_1.5.1/src/learner.cc:1115: Starting in XGBoost 1.3.0, the default evaluation metric used with the objective 'binary:logistic' was changed from 'error' to 'logloss'. Explicitly set eval_metric if you'd like to restore the old behavior.\n",
      "[20:36:29] WARNING: C:/Users/Administrator/workspace/xgboost-win64_release_1.5.1/src/learner.cc:1115: Starting in XGBoost 1.3.0, the default evaluation metric used with the objective 'binary:logistic' was changed from 'error' to 'logloss'. Explicitly set eval_metric if you'd like to restore the old behavior.\n"
     ]
    },
    {
     "name": "stderr",
     "output_type": "stream",
     "text": [
      "\u001b[32m[I 2022-03-03 20:36:30,519]\u001b[0m Trial 6 finished with value: 0.9727577655745322 and parameters: {'n_estimators': 593, 'max_depth': 23}. Best is trial 5 with value: 0.9731440150917203.\u001b[0m\n"
     ]
    },
    {
     "name": "stdout",
     "output_type": "stream",
     "text": [
      "Trial done: Accuracy values on folds: 0.9710144927536232\n",
      "[20:36:30] WARNING: C:/Users/Administrator/workspace/xgboost-win64_release_1.5.1/src/learner.cc:1115: Starting in XGBoost 1.3.0, the default evaluation metric used with the objective 'binary:logistic' was changed from 'error' to 'logloss'. Explicitly set eval_metric if you'd like to restore the old behavior.\n",
      "[20:36:31] WARNING: C:/Users/Administrator/workspace/xgboost-win64_release_1.5.1/src/learner.cc:1115: Starting in XGBoost 1.3.0, the default evaluation metric used with the objective 'binary:logistic' was changed from 'error' to 'logloss'. Explicitly set eval_metric if you'd like to restore the old behavior.\n",
      "[20:36:32] WARNING: C:/Users/Administrator/workspace/xgboost-win64_release_1.5.1/src/learner.cc:1115: Starting in XGBoost 1.3.0, the default evaluation metric used with the objective 'binary:logistic' was changed from 'error' to 'logloss'. Explicitly set eval_metric if you'd like to restore the old behavior.\n"
     ]
    },
    {
     "name": "stderr",
     "output_type": "stream",
     "text": [
      "\u001b[32m[I 2022-03-03 20:36:33,837]\u001b[0m Trial 7 finished with value: 0.9715987931102043 and parameters: {'n_estimators': 519, 'max_depth': 17}. Best is trial 5 with value: 0.9731440150917203.\u001b[0m\n"
     ]
    },
    {
     "name": "stdout",
     "output_type": "stream",
     "text": [
      "Trial done: Accuracy values on folds: 0.9710144927536232\n",
      "[20:36:33] WARNING: C:/Users/Administrator/workspace/xgboost-win64_release_1.5.1/src/learner.cc:1115: Starting in XGBoost 1.3.0, the default evaluation metric used with the objective 'binary:logistic' was changed from 'error' to 'logloss'. Explicitly set eval_metric if you'd like to restore the old behavior.\n",
      "[20:36:34] WARNING: C:/Users/Administrator/workspace/xgboost-win64_release_1.5.1/src/learner.cc:1115: Starting in XGBoost 1.3.0, the default evaluation metric used with the objective 'binary:logistic' was changed from 'error' to 'logloss'. Explicitly set eval_metric if you'd like to restore the old behavior.\n",
      "[20:36:35] WARNING: C:/Users/Administrator/workspace/xgboost-win64_release_1.5.1/src/learner.cc:1115: Starting in XGBoost 1.3.0, the default evaluation metric used with the objective 'binary:logistic' was changed from 'error' to 'logloss'. Explicitly set eval_metric if you'd like to restore the old behavior.\n"
     ]
    },
    {
     "name": "stderr",
     "output_type": "stream",
     "text": [
      "\u001b[32m[I 2022-03-03 20:36:36,476]\u001b[0m Trial 8 finished with value: 0.9696659781349185 and parameters: {'n_estimators': 385, 'max_depth': 8}. Best is trial 5 with value: 0.9731440150917203.\u001b[0m\n"
     ]
    },
    {
     "name": "stdout",
     "output_type": "stream",
     "text": [
      "Trial done: Accuracy values on folds: 0.9669565217391304\n",
      "[20:36:36] WARNING: C:/Users/Administrator/workspace/xgboost-win64_release_1.5.1/src/learner.cc:1115: Starting in XGBoost 1.3.0, the default evaluation metric used with the objective 'binary:logistic' was changed from 'error' to 'logloss'. Explicitly set eval_metric if you'd like to restore the old behavior.\n",
      "[20:36:37] WARNING: C:/Users/Administrator/workspace/xgboost-win64_release_1.5.1/src/learner.cc:1115: Starting in XGBoost 1.3.0, the default evaluation metric used with the objective 'binary:logistic' was changed from 'error' to 'logloss'. Explicitly set eval_metric if you'd like to restore the old behavior.\n",
      "[20:36:38] WARNING: C:/Users/Administrator/workspace/xgboost-win64_release_1.5.1/src/learner.cc:1115: Starting in XGBoost 1.3.0, the default evaluation metric used with the objective 'binary:logistic' was changed from 'error' to 'logloss'. Explicitly set eval_metric if you'd like to restore the old behavior.\n"
     ]
    },
    {
     "name": "stderr",
     "output_type": "stream",
     "text": [
      "\u001b[32m[I 2022-03-03 20:36:39,640]\u001b[0m Trial 9 finished with value: 0.9715991289793496 and parameters: {'n_estimators': 474, 'max_depth': 13}. Best is trial 5 with value: 0.9731440150917203.\u001b[0m\n"
     ]
    },
    {
     "name": "stdout",
     "output_type": "stream",
     "text": [
      "Trial done: Accuracy values on folds: 0.9692753623188406\n",
      "Number of finished trials: 10\n",
      "Best trial:\n",
      "  Value: 0.9731440150917203\n",
      "  Params: \n",
      "    n_estimators: 523\n",
      "    max_depth: 21\n"
     ]
    }
   ],
   "source": [
    "study = optuna.create_study(direction=\"maximize\")\n",
    "study.optimize(objective, n_trials=10)\n",
    "print(\"Number of finished trials: {}\".format(len(study.trials)))\n",
    "print(\"Best trial:\")\n",
    "trial = study.best_trial\n",
    "print(\"  Value: {}\".format(trial.value))\n",
    "print(\"  Params: \")\n",
    "for key, value in trial.params.items():\n",
    "    print(\"    {}: {}\".format(key, value))"
   ]
  },
  {
   "cell_type": "code",
   "execution_count": 23,
   "id": "14b2c50b-df48-4ee5-895b-3de31ed2ec53",
   "metadata": {},
   "outputs": [],
   "source": [
    "#Best Parameter from Optuna Hyperparameter optimization\n",
    "best_param = study.best_params"
   ]
  },
  {
   "cell_type": "markdown",
   "id": "b11bd4e3-7586-495c-8a75-b73fd13b2516",
   "metadata": {},
   "source": [
    "### Dropping correlated features and fitting model"
   ]
  },
  {
   "cell_type": "code",
   "execution_count": 24,
   "id": "d81272c2-170b-47a0-a416-ae802fc7457f",
   "metadata": {},
   "outputs": [
    {
     "name": "stdout",
     "output_type": "stream",
     "text": [
      "[20:37:15] WARNING: C:/Users/Administrator/workspace/xgboost-win64_release_1.5.1/src/learner.cc:1115: Starting in XGBoost 1.3.0, the default evaluation metric used with the objective 'binary:logistic' was changed from 'error' to 'logloss'. Explicitly set eval_metric if you'd like to restore the old behavior.\n"
     ]
    },
    {
     "data": {
      "text/plain": [
       "XGBClassifier(base_score=0.5, booster='gbtree', colsample_bylevel=1,\n",
       "              colsample_bynode=1, colsample_bytree=1, enable_categorical=False,\n",
       "              gamma=0, gpu_id=-1, importance_type=None,\n",
       "              interaction_constraints='', learning_rate=0.300000012,\n",
       "              max_delta_step=0, max_depth=21, min_child_weight=1, missing=nan,\n",
       "              monotone_constraints='()', n_estimators=523, n_jobs=8,\n",
       "              num_parallel_tree=1, predictor='auto', random_state=0,\n",
       "              reg_alpha=0, reg_lambda=1, scale_pos_weight=1, subsample=1,\n",
       "              tree_method='exact', validate_parameters=1, verbosity=None)"
      ]
     },
     "execution_count": 24,
     "metadata": {},
     "output_type": "execute_result"
    }
   ],
   "source": [
    "#Fitting XGBoost model\n",
    "model = xgb.XGBClassifier(**best_param)\n",
    "model.fit(X.drop(['WorkExperience','MonthlyIncome'],axis=1),y)"
   ]
  },
  {
   "cell_type": "code",
   "execution_count": 25,
   "id": "f3a9c77e-b5fd-4c84-b341-8f0a957098be",
   "metadata": {},
   "outputs": [],
   "source": [
    "test=pd.read_csv('Test_Dataset.csv')\n",
    "df_test=process_data(test)\n",
    "test['Attrition']=model.predict(df_test.drop(['WorkExperience','MonthlyIncome'],axis=1).values)\n",
    "test[['EmployeeID','Attrition']].to_csv('Submit030322{}.csv'.format(time.time()),index=False)"
   ]
  }
 ],
 "metadata": {
  "kernelspec": {
   "display_name": "Python 3 (ipykernel)",
   "language": "python",
   "name": "python3"
  },
  "language_info": {
   "codemirror_mode": {
    "name": "ipython",
    "version": 3
   },
   "file_extension": ".py",
   "mimetype": "text/x-python",
   "name": "python",
   "nbconvert_exporter": "python",
   "pygments_lexer": "ipython3",
   "version": "3.9.7"
  }
 },
 "nbformat": 4,
 "nbformat_minor": 5
}

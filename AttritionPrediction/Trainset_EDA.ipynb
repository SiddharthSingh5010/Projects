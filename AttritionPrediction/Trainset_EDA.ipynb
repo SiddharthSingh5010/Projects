{
 "cells": [
  {
   "cell_type": "markdown",
   "id": "548288bb-4d87-4c00-9c83-e7b9f102acf6",
   "metadata": {},
   "source": [
    "# Importing Necessary Libraries"
   ]
  },
  {
   "cell_type": "code",
   "execution_count": 1,
   "id": "442a1cb1-aee6-4452-9d7e-01acf9cb6591",
   "metadata": {},
   "outputs": [],
   "source": [
    "import pandas as pd\n",
    "import numpy as np\n",
    "import seaborn as sns\n",
    "import matplotlib.pyplot as plt\n",
    "from sklearn.impute import KNNImputer\n",
    "import optuna                               #Optuna for Hyperparameter Tuning\n",
    "%matplotlib inline\n",
    "sns.set_palette('deep')\n",
    "from sklearn.ensemble import RandomForestClassifier,RandomForestRegressor\n",
    "from sklearn.model_selection import train_test_split\n",
    "from sklearn.tree import DecisionTreeClassifier\n",
    "from warnings import filterwarnings\n",
    "import xgboost as xgb\n",
    "from sklearn.model_selection import KFold   #KFold for splitting dataset\n",
    "from sklearn.metrics import accuracy_score  #To check accuracy score\n",
    "filterwarnings('ignore')\n",
    "import time"
   ]
  },
  {
   "cell_type": "markdown",
   "id": "0d18d548-a826-4938-a059-ec7ca6f92475",
   "metadata": {},
   "source": [
    "# Reading Train Data"
   ]
  },
  {
   "cell_type": "code",
   "execution_count": 2,
   "id": "8c74b932-ccdf-42b6-ba77-e573914095cd",
   "metadata": {},
   "outputs": [],
   "source": [
    "train=pd.read_csv('Train_Dataset.csv')"
   ]
  },
  {
   "cell_type": "markdown",
   "id": "b0d2314b-108a-4020-a1af-dc78affe23bb",
   "metadata": {},
   "source": [
    "## Checking Basic Info of Training Data"
   ]
  },
  {
   "cell_type": "code",
   "execution_count": 3,
   "id": "e7130b7c-8462-438e-b35f-3b85f3228c60",
   "metadata": {},
   "outputs": [
    {
     "data": {
      "text/plain": [
       "(7810, 22)"
      ]
     },
     "execution_count": 3,
     "metadata": {},
     "output_type": "execute_result"
    }
   ],
   "source": [
    "train.shape"
   ]
  },
  {
   "cell_type": "code",
   "execution_count": 4,
   "id": "d8812729-0c85-4a17-b28e-1d0350e6533f",
   "metadata": {},
   "outputs": [
    {
     "name": "stdout",
     "output_type": "stream",
     "text": [
      "<class 'pandas.core.frame.DataFrame'>\n",
      "RangeIndex: 7810 entries, 0 to 7809\n",
      "Data columns (total 22 columns):\n",
      " #   Column              Non-Null Count  Dtype  \n",
      "---  ------              --------------  -----  \n",
      " 0   EmployeeID          5180 non-null   float64\n",
      " 1   Attrition           5180 non-null   float64\n",
      " 2   Age                 4864 non-null   float64\n",
      " 3   TravelProfile       5180 non-null   object \n",
      " 4   Department          5056 non-null   object \n",
      " 5   HomeToWork          4925 non-null   float64\n",
      " 6   EducationField      5180 non-null   object \n",
      " 7   Gender              5134 non-null   object \n",
      " 8   HourlnWeek          4893 non-null   float64\n",
      " 9   Involvement         5180 non-null   float64\n",
      " 10  WorkLifeBalance     5180 non-null   float64\n",
      " 11  Designation         5142 non-null   object \n",
      " 12  JobSatisfaction     5180 non-null   float64\n",
      " 13  ESOPs               5180 non-null   float64\n",
      " 14  NumCompaniesWorked  5180 non-null   float64\n",
      " 15  OverTime            5180 non-null   float64\n",
      " 16  SalaryHikelastYear  5011 non-null   float64\n",
      " 17  WorkExperience      4993 non-null   float64\n",
      " 18  LastPromotion       5110 non-null   float64\n",
      " 19  CurrentProfile      4869 non-null   float64\n",
      " 20  MaritalStatus       5180 non-null   object \n",
      " 21  MonthlyIncome       5087 non-null   float64\n",
      "dtypes: float64(16), object(6)\n",
      "memory usage: 1.3+ MB\n"
     ]
    }
   ],
   "source": [
    "train.info()"
   ]
  },
  {
   "cell_type": "code",
   "execution_count": 5,
   "id": "6ec13e2b-f7ee-4536-af3e-280f73f54ba2",
   "metadata": {},
   "outputs": [
    {
     "data": {
      "text/plain": [
       "EmployeeID            2630\n",
       "Attrition             2630\n",
       "Age                   2946\n",
       "TravelProfile         2630\n",
       "Department            2754\n",
       "HomeToWork            2885\n",
       "EducationField        2630\n",
       "Gender                2676\n",
       "HourlnWeek            2917\n",
       "Involvement           2630\n",
       "WorkLifeBalance       2630\n",
       "Designation           2668\n",
       "JobSatisfaction       2630\n",
       "ESOPs                 2630\n",
       "NumCompaniesWorked    2630\n",
       "OverTime              2630\n",
       "SalaryHikelastYear    2799\n",
       "WorkExperience        2817\n",
       "LastPromotion         2700\n",
       "CurrentProfile        2941\n",
       "MaritalStatus         2630\n",
       "MonthlyIncome         2723\n",
       "dtype: int64"
      ]
     },
     "execution_count": 5,
     "metadata": {},
     "output_type": "execute_result"
    }
   ],
   "source": [
    "train.isna().sum()"
   ]
  },
  {
   "cell_type": "code",
   "execution_count": 6,
   "id": "9642e4b4-2070-4dd4-ad9c-06d1206ce9dc",
   "metadata": {},
   "outputs": [
    {
     "data": {
      "text/html": [
       "<div>\n",
       "<style scoped>\n",
       "    .dataframe tbody tr th:only-of-type {\n",
       "        vertical-align: middle;\n",
       "    }\n",
       "\n",
       "    .dataframe tbody tr th {\n",
       "        vertical-align: top;\n",
       "    }\n",
       "\n",
       "    .dataframe thead th {\n",
       "        text-align: right;\n",
       "    }\n",
       "</style>\n",
       "<table border=\"1\" class=\"dataframe\">\n",
       "  <thead>\n",
       "    <tr style=\"text-align: right;\">\n",
       "      <th></th>\n",
       "      <th>EmployeeID</th>\n",
       "      <th>Attrition</th>\n",
       "      <th>Age</th>\n",
       "      <th>TravelProfile</th>\n",
       "      <th>Department</th>\n",
       "      <th>HomeToWork</th>\n",
       "      <th>EducationField</th>\n",
       "      <th>Gender</th>\n",
       "      <th>HourlnWeek</th>\n",
       "      <th>Involvement</th>\n",
       "      <th>...</th>\n",
       "      <th>JobSatisfaction</th>\n",
       "      <th>ESOPs</th>\n",
       "      <th>NumCompaniesWorked</th>\n",
       "      <th>OverTime</th>\n",
       "      <th>SalaryHikelastYear</th>\n",
       "      <th>WorkExperience</th>\n",
       "      <th>LastPromotion</th>\n",
       "      <th>CurrentProfile</th>\n",
       "      <th>MaritalStatus</th>\n",
       "      <th>MonthlyIncome</th>\n",
       "    </tr>\n",
       "  </thead>\n",
       "  <tbody>\n",
       "    <tr>\n",
       "      <th>0</th>\n",
       "      <td>5110001.0</td>\n",
       "      <td>0.0</td>\n",
       "      <td>35.0</td>\n",
       "      <td>Rarely</td>\n",
       "      <td>Analytics</td>\n",
       "      <td>5.0</td>\n",
       "      <td>CA</td>\n",
       "      <td>Male</td>\n",
       "      <td>69.0</td>\n",
       "      <td>1.0</td>\n",
       "      <td>...</td>\n",
       "      <td>1.0</td>\n",
       "      <td>1.0</td>\n",
       "      <td>1.0</td>\n",
       "      <td>1.0</td>\n",
       "      <td>20.0</td>\n",
       "      <td>7.0</td>\n",
       "      <td>2.0</td>\n",
       "      <td>NaN</td>\n",
       "      <td>M</td>\n",
       "      <td>18932.0</td>\n",
       "    </tr>\n",
       "    <tr>\n",
       "      <th>1</th>\n",
       "      <td>5110002.0</td>\n",
       "      <td>1.0</td>\n",
       "      <td>32.0</td>\n",
       "      <td>Yes</td>\n",
       "      <td>Sales</td>\n",
       "      <td>5.0</td>\n",
       "      <td>Statistics</td>\n",
       "      <td>Female</td>\n",
       "      <td>62.0</td>\n",
       "      <td>4.0</td>\n",
       "      <td>...</td>\n",
       "      <td>2.0</td>\n",
       "      <td>0.0</td>\n",
       "      <td>8.0</td>\n",
       "      <td>0.0</td>\n",
       "      <td>20.0</td>\n",
       "      <td>4.0</td>\n",
       "      <td>1.0</td>\n",
       "      <td>NaN</td>\n",
       "      <td>Single</td>\n",
       "      <td>18785.0</td>\n",
       "    </tr>\n",
       "    <tr>\n",
       "      <th>2</th>\n",
       "      <td>5110003.0</td>\n",
       "      <td>0.0</td>\n",
       "      <td>31.0</td>\n",
       "      <td>Rarely</td>\n",
       "      <td>Analytics</td>\n",
       "      <td>5.0</td>\n",
       "      <td>Statistics</td>\n",
       "      <td>F</td>\n",
       "      <td>45.0</td>\n",
       "      <td>5.0</td>\n",
       "      <td>...</td>\n",
       "      <td>2.0</td>\n",
       "      <td>1.0</td>\n",
       "      <td>3.0</td>\n",
       "      <td>0.0</td>\n",
       "      <td>26.0</td>\n",
       "      <td>12.0</td>\n",
       "      <td>1.0</td>\n",
       "      <td>3.0</td>\n",
       "      <td>Single</td>\n",
       "      <td>22091.0</td>\n",
       "    </tr>\n",
       "    <tr>\n",
       "      <th>3</th>\n",
       "      <td>5110004.0</td>\n",
       "      <td>0.0</td>\n",
       "      <td>34.0</td>\n",
       "      <td>Yes</td>\n",
       "      <td>Sales</td>\n",
       "      <td>10.0</td>\n",
       "      <td>Statistics</td>\n",
       "      <td>Female</td>\n",
       "      <td>32.0</td>\n",
       "      <td>3.0</td>\n",
       "      <td>...</td>\n",
       "      <td>4.0</td>\n",
       "      <td>1.0</td>\n",
       "      <td>1.0</td>\n",
       "      <td>0.0</td>\n",
       "      <td>23.0</td>\n",
       "      <td>5.0</td>\n",
       "      <td>1.0</td>\n",
       "      <td>3.0</td>\n",
       "      <td>Divorsed</td>\n",
       "      <td>20302.0</td>\n",
       "    </tr>\n",
       "    <tr>\n",
       "      <th>4</th>\n",
       "      <td>5110005.0</td>\n",
       "      <td>0.0</td>\n",
       "      <td>37.0</td>\n",
       "      <td>No</td>\n",
       "      <td>Analytics</td>\n",
       "      <td>27.0</td>\n",
       "      <td>Statistics</td>\n",
       "      <td>Female</td>\n",
       "      <td>49.0</td>\n",
       "      <td>3.0</td>\n",
       "      <td>...</td>\n",
       "      <td>4.0</td>\n",
       "      <td>1.0</td>\n",
       "      <td>8.0</td>\n",
       "      <td>0.0</td>\n",
       "      <td>21.0</td>\n",
       "      <td>12.0</td>\n",
       "      <td>1.0</td>\n",
       "      <td>9.0</td>\n",
       "      <td>Divorsed</td>\n",
       "      <td>21674.0</td>\n",
       "    </tr>\n",
       "  </tbody>\n",
       "</table>\n",
       "<p>5 rows × 22 columns</p>\n",
       "</div>"
      ],
      "text/plain": [
       "   EmployeeID  Attrition   Age TravelProfile Department  HomeToWork  \\\n",
       "0   5110001.0        0.0  35.0        Rarely  Analytics         5.0   \n",
       "1   5110002.0        1.0  32.0           Yes      Sales         5.0   \n",
       "2   5110003.0        0.0  31.0        Rarely  Analytics         5.0   \n",
       "3   5110004.0        0.0  34.0           Yes      Sales        10.0   \n",
       "4   5110005.0        0.0  37.0            No  Analytics        27.0   \n",
       "\n",
       "  EducationField  Gender  HourlnWeek  Involvement  ...  JobSatisfaction ESOPs  \\\n",
       "0             CA    Male        69.0          1.0  ...              1.0   1.0   \n",
       "1     Statistics  Female        62.0          4.0  ...              2.0   0.0   \n",
       "2     Statistics       F        45.0          5.0  ...              2.0   1.0   \n",
       "3     Statistics  Female        32.0          3.0  ...              4.0   1.0   \n",
       "4     Statistics  Female        49.0          3.0  ...              4.0   1.0   \n",
       "\n",
       "   NumCompaniesWorked  OverTime  SalaryHikelastYear  WorkExperience  \\\n",
       "0                 1.0       1.0                20.0             7.0   \n",
       "1                 8.0       0.0                20.0             4.0   \n",
       "2                 3.0       0.0                26.0            12.0   \n",
       "3                 1.0       0.0                23.0             5.0   \n",
       "4                 8.0       0.0                21.0            12.0   \n",
       "\n",
       "   LastPromotion  CurrentProfile  MaritalStatus  MonthlyIncome  \n",
       "0            2.0             NaN              M        18932.0  \n",
       "1            1.0             NaN         Single        18785.0  \n",
       "2            1.0             3.0         Single        22091.0  \n",
       "3            1.0             3.0       Divorsed        20302.0  \n",
       "4            1.0             9.0       Divorsed        21674.0  \n",
       "\n",
       "[5 rows x 22 columns]"
      ]
     },
     "execution_count": 6,
     "metadata": {},
     "output_type": "execute_result"
    }
   ],
   "source": [
    "train.head()"
   ]
  },
  {
   "cell_type": "code",
   "execution_count": 7,
   "id": "220fcd14-d3f4-4cc3-8fb7-0c27a9689113",
   "metadata": {},
   "outputs": [
    {
     "data": {
      "text/html": [
       "<div>\n",
       "<style scoped>\n",
       "    .dataframe tbody tr th:only-of-type {\n",
       "        vertical-align: middle;\n",
       "    }\n",
       "\n",
       "    .dataframe tbody tr th {\n",
       "        vertical-align: top;\n",
       "    }\n",
       "\n",
       "    .dataframe thead th {\n",
       "        text-align: right;\n",
       "    }\n",
       "</style>\n",
       "<table border=\"1\" class=\"dataframe\">\n",
       "  <thead>\n",
       "    <tr style=\"text-align: right;\">\n",
       "      <th></th>\n",
       "      <th>EmployeeID</th>\n",
       "      <th>Attrition</th>\n",
       "      <th>Age</th>\n",
       "      <th>TravelProfile</th>\n",
       "      <th>Department</th>\n",
       "      <th>HomeToWork</th>\n",
       "      <th>EducationField</th>\n",
       "      <th>Gender</th>\n",
       "      <th>HourlnWeek</th>\n",
       "      <th>Involvement</th>\n",
       "      <th>...</th>\n",
       "      <th>JobSatisfaction</th>\n",
       "      <th>ESOPs</th>\n",
       "      <th>NumCompaniesWorked</th>\n",
       "      <th>OverTime</th>\n",
       "      <th>SalaryHikelastYear</th>\n",
       "      <th>WorkExperience</th>\n",
       "      <th>LastPromotion</th>\n",
       "      <th>CurrentProfile</th>\n",
       "      <th>MaritalStatus</th>\n",
       "      <th>MonthlyIncome</th>\n",
       "    </tr>\n",
       "  </thead>\n",
       "  <tbody>\n",
       "    <tr>\n",
       "      <th>7805</th>\n",
       "      <td>NaN</td>\n",
       "      <td>NaN</td>\n",
       "      <td>NaN</td>\n",
       "      <td>NaN</td>\n",
       "      <td>NaN</td>\n",
       "      <td>NaN</td>\n",
       "      <td>NaN</td>\n",
       "      <td>NaN</td>\n",
       "      <td>NaN</td>\n",
       "      <td>NaN</td>\n",
       "      <td>...</td>\n",
       "      <td>NaN</td>\n",
       "      <td>NaN</td>\n",
       "      <td>NaN</td>\n",
       "      <td>NaN</td>\n",
       "      <td>NaN</td>\n",
       "      <td>NaN</td>\n",
       "      <td>NaN</td>\n",
       "      <td>NaN</td>\n",
       "      <td>NaN</td>\n",
       "      <td>NaN</td>\n",
       "    </tr>\n",
       "    <tr>\n",
       "      <th>7806</th>\n",
       "      <td>NaN</td>\n",
       "      <td>NaN</td>\n",
       "      <td>NaN</td>\n",
       "      <td>NaN</td>\n",
       "      <td>NaN</td>\n",
       "      <td>NaN</td>\n",
       "      <td>NaN</td>\n",
       "      <td>NaN</td>\n",
       "      <td>NaN</td>\n",
       "      <td>NaN</td>\n",
       "      <td>...</td>\n",
       "      <td>NaN</td>\n",
       "      <td>NaN</td>\n",
       "      <td>NaN</td>\n",
       "      <td>NaN</td>\n",
       "      <td>NaN</td>\n",
       "      <td>NaN</td>\n",
       "      <td>NaN</td>\n",
       "      <td>NaN</td>\n",
       "      <td>NaN</td>\n",
       "      <td>NaN</td>\n",
       "    </tr>\n",
       "    <tr>\n",
       "      <th>7807</th>\n",
       "      <td>NaN</td>\n",
       "      <td>NaN</td>\n",
       "      <td>NaN</td>\n",
       "      <td>NaN</td>\n",
       "      <td>NaN</td>\n",
       "      <td>NaN</td>\n",
       "      <td>NaN</td>\n",
       "      <td>NaN</td>\n",
       "      <td>NaN</td>\n",
       "      <td>NaN</td>\n",
       "      <td>...</td>\n",
       "      <td>NaN</td>\n",
       "      <td>NaN</td>\n",
       "      <td>NaN</td>\n",
       "      <td>NaN</td>\n",
       "      <td>NaN</td>\n",
       "      <td>NaN</td>\n",
       "      <td>NaN</td>\n",
       "      <td>NaN</td>\n",
       "      <td>NaN</td>\n",
       "      <td>NaN</td>\n",
       "    </tr>\n",
       "    <tr>\n",
       "      <th>7808</th>\n",
       "      <td>NaN</td>\n",
       "      <td>NaN</td>\n",
       "      <td>NaN</td>\n",
       "      <td>NaN</td>\n",
       "      <td>NaN</td>\n",
       "      <td>NaN</td>\n",
       "      <td>NaN</td>\n",
       "      <td>NaN</td>\n",
       "      <td>NaN</td>\n",
       "      <td>NaN</td>\n",
       "      <td>...</td>\n",
       "      <td>NaN</td>\n",
       "      <td>NaN</td>\n",
       "      <td>NaN</td>\n",
       "      <td>NaN</td>\n",
       "      <td>NaN</td>\n",
       "      <td>NaN</td>\n",
       "      <td>NaN</td>\n",
       "      <td>NaN</td>\n",
       "      <td>NaN</td>\n",
       "      <td>NaN</td>\n",
       "    </tr>\n",
       "    <tr>\n",
       "      <th>7809</th>\n",
       "      <td>NaN</td>\n",
       "      <td>NaN</td>\n",
       "      <td>NaN</td>\n",
       "      <td>NaN</td>\n",
       "      <td>NaN</td>\n",
       "      <td>NaN</td>\n",
       "      <td>NaN</td>\n",
       "      <td>NaN</td>\n",
       "      <td>NaN</td>\n",
       "      <td>NaN</td>\n",
       "      <td>...</td>\n",
       "      <td>NaN</td>\n",
       "      <td>NaN</td>\n",
       "      <td>NaN</td>\n",
       "      <td>NaN</td>\n",
       "      <td>NaN</td>\n",
       "      <td>NaN</td>\n",
       "      <td>NaN</td>\n",
       "      <td>NaN</td>\n",
       "      <td>NaN</td>\n",
       "      <td>NaN</td>\n",
       "    </tr>\n",
       "  </tbody>\n",
       "</table>\n",
       "<p>5 rows × 22 columns</p>\n",
       "</div>"
      ],
      "text/plain": [
       "      EmployeeID  Attrition  Age TravelProfile Department  HomeToWork  \\\n",
       "7805         NaN        NaN  NaN           NaN        NaN         NaN   \n",
       "7806         NaN        NaN  NaN           NaN        NaN         NaN   \n",
       "7807         NaN        NaN  NaN           NaN        NaN         NaN   \n",
       "7808         NaN        NaN  NaN           NaN        NaN         NaN   \n",
       "7809         NaN        NaN  NaN           NaN        NaN         NaN   \n",
       "\n",
       "     EducationField Gender  HourlnWeek  Involvement  ...  JobSatisfaction  \\\n",
       "7805            NaN    NaN         NaN          NaN  ...              NaN   \n",
       "7806            NaN    NaN         NaN          NaN  ...              NaN   \n",
       "7807            NaN    NaN         NaN          NaN  ...              NaN   \n",
       "7808            NaN    NaN         NaN          NaN  ...              NaN   \n",
       "7809            NaN    NaN         NaN          NaN  ...              NaN   \n",
       "\n",
       "     ESOPs  NumCompaniesWorked  OverTime  SalaryHikelastYear  WorkExperience  \\\n",
       "7805   NaN                 NaN       NaN                 NaN             NaN   \n",
       "7806   NaN                 NaN       NaN                 NaN             NaN   \n",
       "7807   NaN                 NaN       NaN                 NaN             NaN   \n",
       "7808   NaN                 NaN       NaN                 NaN             NaN   \n",
       "7809   NaN                 NaN       NaN                 NaN             NaN   \n",
       "\n",
       "      LastPromotion  CurrentProfile  MaritalStatus  MonthlyIncome  \n",
       "7805            NaN             NaN            NaN            NaN  \n",
       "7806            NaN             NaN            NaN            NaN  \n",
       "7807            NaN             NaN            NaN            NaN  \n",
       "7808            NaN             NaN            NaN            NaN  \n",
       "7809            NaN             NaN            NaN            NaN  \n",
       "\n",
       "[5 rows x 22 columns]"
      ]
     },
     "execution_count": 7,
     "metadata": {},
     "output_type": "execute_result"
    }
   ],
   "source": [
    "train.tail()"
   ]
  },
  {
   "cell_type": "markdown",
   "id": "e55363b7-bbe6-4e00-9f66-a31f375571c7",
   "metadata": {},
   "source": [
    "## Removing records where all the fiels are Null"
   ]
  },
  {
   "cell_type": "code",
   "execution_count": 8,
   "id": "ae0a8299-cece-4908-81f7-99c3d9ab8f7c",
   "metadata": {},
   "outputs": [],
   "source": [
    "train=train.dropna(how='all')"
   ]
  },
  {
   "cell_type": "code",
   "execution_count": 9,
   "id": "0f73691c-7c26-4698-b284-03975cbbbbe9",
   "metadata": {},
   "outputs": [
    {
     "data": {
      "text/plain": [
       "(5180, 22)"
      ]
     },
     "execution_count": 9,
     "metadata": {},
     "output_type": "execute_result"
    }
   ],
   "source": [
    "train.shape"
   ]
  },
  {
   "cell_type": "markdown",
   "id": "1ee5ab13-78dc-43cc-88ba-377e54c680df",
   "metadata": {},
   "source": [
    "## Checking and replacing values"
   ]
  },
  {
   "cell_type": "code",
   "execution_count": 10,
   "id": "a05af139-bb03-4895-a09b-55c65e149d4a",
   "metadata": {},
   "outputs": [
    {
     "data": {
      "text/plain": [
       "Male      3094\n",
       "Female    1338\n",
       "F          702\n",
       "Name: Gender, dtype: int64"
      ]
     },
     "execution_count": 10,
     "metadata": {},
     "output_type": "execute_result"
    }
   ],
   "source": [
    "train['Gender'].value_counts()"
   ]
  },
  {
   "cell_type": "code",
   "execution_count": 11,
   "id": "236d4fc9-aec2-48b5-a90e-0642c6dc76ae",
   "metadata": {},
   "outputs": [],
   "source": [
    "train['Gender']=train['Gender'].replace(to_replace='F',value='Female')"
   ]
  },
  {
   "cell_type": "code",
   "execution_count": 12,
   "id": "3a817cc7-5fa8-4cbd-897c-1656a8525d61",
   "metadata": {},
   "outputs": [
    {
     "data": {
      "text/plain": [
       "Male      3094\n",
       "Female    2040\n",
       "Name: Gender, dtype: int64"
      ]
     },
     "execution_count": 12,
     "metadata": {},
     "output_type": "execute_result"
    }
   ],
   "source": [
    "train['Gender'].value_counts()"
   ]
  },
  {
   "cell_type": "code",
   "execution_count": 13,
   "id": "2fcc74fb-8485-418a-8b49-3688e36cee33",
   "metadata": {},
   "outputs": [
    {
     "data": {
      "text/plain": [
       "Single      1776\n",
       "Married     1614\n",
       "Divorsed    1016\n",
       "M            774\n",
       "Name: MaritalStatus, dtype: int64"
      ]
     },
     "execution_count": 13,
     "metadata": {},
     "output_type": "execute_result"
    }
   ],
   "source": [
    "train['MaritalStatus'].value_counts()"
   ]
  },
  {
   "cell_type": "code",
   "execution_count": 14,
   "id": "898657b7-316b-4426-a0da-fa0c1e08e687",
   "metadata": {},
   "outputs": [],
   "source": [
    "train['MaritalStatus']=train['MaritalStatus'].replace(to_replace='M',value='Married')"
   ]
  },
  {
   "cell_type": "code",
   "execution_count": 15,
   "id": "c5a21256-7a62-44b3-ad71-31fdbc9b93a2",
   "metadata": {},
   "outputs": [
    {
     "data": {
      "text/plain": [
       "Married     2388\n",
       "Single      1776\n",
       "Divorsed    1016\n",
       "Name: MaritalStatus, dtype: int64"
      ]
     },
     "execution_count": 15,
     "metadata": {},
     "output_type": "execute_result"
    }
   ],
   "source": [
    "train['MaritalStatus'].value_counts()"
   ]
  },
  {
   "cell_type": "markdown",
   "id": "426915e0-9232-4333-95f2-7dc05f5921fb",
   "metadata": {},
   "source": [
    "# Outliers Treatment"
   ]
  },
  {
   "cell_type": "code",
   "execution_count": 16,
   "id": "fbc945ea-2798-41a4-ac1a-e7f93440816d",
   "metadata": {},
   "outputs": [
    {
     "data": {
      "image/png": "[encoded data removed]",
      "text/plain": [
       "<Figure size 432x288 with 1 Axes>"
      ]
     },
     "metadata": {
      "needs_background": "light"
     },
     "output_type": "display_data"
    }
   ],
   "source": [
    "sns.boxplot(train['Age']);"
   ]
  },
  {
   "cell_type": "code",
   "execution_count": 17,
   "id": "5fefa171-b557-4215-95bc-d9aecf3d08ab",
   "metadata": {},
   "outputs": [
    {
     "data": {
      "image/png": "[encoded data removed]",
      "text/plain": [
       "<Figure size 432x288 with 1 Axes>"
      ]
     },
     "metadata": {
      "needs_background": "light"
     },
     "output_type": "display_data"
    }
   ],
   "source": [
    "sns.boxplot(train['HomeToWork']);"
   ]
  },
  {
   "cell_type": "code",
   "execution_count": 18,
   "id": "7799b3b6-b134-464a-a707-c93dd7b4216c",
   "metadata": {},
   "outputs": [
    {
     "data": {
      "text/html": [
       "<div>\n",
       "<style scoped>\n",
       "    .dataframe tbody tr th:only-of-type {\n",
       "        vertical-align: middle;\n",
       "    }\n",
       "\n",
       "    .dataframe tbody tr th {\n",
       "        vertical-align: top;\n",
       "    }\n",
       "\n",
       "    .dataframe thead th {\n",
       "        text-align: right;\n",
       "    }\n",
       "</style>\n",
       "<table border=\"1\" class=\"dataframe\">\n",
       "  <thead>\n",
       "    <tr style=\"text-align: right;\">\n",
       "      <th></th>\n",
       "      <th>EmployeeID</th>\n",
       "      <th>Attrition</th>\n",
       "      <th>Age</th>\n",
       "      <th>TravelProfile</th>\n",
       "      <th>Department</th>\n",
       "      <th>HomeToWork</th>\n",
       "      <th>EducationField</th>\n",
       "      <th>Gender</th>\n",
       "      <th>HourlnWeek</th>\n",
       "      <th>Involvement</th>\n",
       "      <th>...</th>\n",
       "      <th>JobSatisfaction</th>\n",
       "      <th>ESOPs</th>\n",
       "      <th>NumCompaniesWorked</th>\n",
       "      <th>OverTime</th>\n",
       "      <th>SalaryHikelastYear</th>\n",
       "      <th>WorkExperience</th>\n",
       "      <th>LastPromotion</th>\n",
       "      <th>CurrentProfile</th>\n",
       "      <th>MaritalStatus</th>\n",
       "      <th>MonthlyIncome</th>\n",
       "    </tr>\n",
       "  </thead>\n",
       "  <tbody>\n",
       "    <tr>\n",
       "      <th>782</th>\n",
       "      <td>5110783.0</td>\n",
       "      <td>0.0</td>\n",
       "      <td>52.0</td>\n",
       "      <td>No</td>\n",
       "      <td>Sales</td>\n",
       "      <td>121.0</td>\n",
       "      <td>Statistics</td>\n",
       "      <td>Male</td>\n",
       "      <td>40.0</td>\n",
       "      <td>3.0</td>\n",
       "      <td>...</td>\n",
       "      <td>1.0</td>\n",
       "      <td>1.0</td>\n",
       "      <td>2.0</td>\n",
       "      <td>0.0</td>\n",
       "      <td>20.0</td>\n",
       "      <td>16.0</td>\n",
       "      <td>0.0</td>\n",
       "      <td>0.0</td>\n",
       "      <td>Married</td>\n",
       "      <td>18482.0</td>\n",
       "    </tr>\n",
       "  </tbody>\n",
       "</table>\n",
       "<p>1 rows × 22 columns</p>\n",
       "</div>"
      ],
      "text/plain": [
       "     EmployeeID  Attrition   Age TravelProfile Department  HomeToWork  \\\n",
       "782   5110783.0        0.0  52.0            No      Sales       121.0   \n",
       "\n",
       "    EducationField Gender  HourlnWeek  Involvement  ...  JobSatisfaction  \\\n",
       "782     Statistics   Male        40.0          3.0  ...              1.0   \n",
       "\n",
       "    ESOPs  NumCompaniesWorked  OverTime  SalaryHikelastYear  WorkExperience  \\\n",
       "782   1.0                 2.0       0.0                20.0            16.0   \n",
       "\n",
       "     LastPromotion  CurrentProfile  MaritalStatus  MonthlyIncome  \n",
       "782            0.0             0.0        Married        18482.0  \n",
       "\n",
       "[1 rows x 22 columns]"
      ]
     },
     "execution_count": 18,
     "metadata": {},
     "output_type": "execute_result"
    }
   ],
   "source": [
    "train[train['HomeToWork']>110] #Record where HomeToWork is an outlier"
   ]
  },
  {
   "cell_type": "code",
   "execution_count": 19,
   "id": "1f4b1e12-3144-4b5f-b613-048d9597bc25",
   "metadata": {},
   "outputs": [],
   "source": [
    "train.drop(782,inplace=True) #Dropping HomeToWork Outlier"
   ]
  },
  {
   "cell_type": "code",
   "execution_count": 20,
   "id": "3334fb0d-767f-41a2-8f08-276a0bc37d37",
   "metadata": {},
   "outputs": [
    {
     "data": {
      "image/png": "[encoded data removed]",
      "text/plain": [
       "<Figure size 432x288 with 1 Axes>"
      ]
     },
     "metadata": {
      "needs_background": "light"
     },
     "output_type": "display_data"
    }
   ],
   "source": [
    "sns.boxplot(train['HomeToWork']);"
   ]
  },
  {
   "cell_type": "code",
   "execution_count": 21,
   "id": "cfa2bfa9-5256-43c1-a1a1-05101a11afe8",
   "metadata": {},
   "outputs": [
    {
     "data": {
      "image/png": "[encoded data removed]",
      "text/plain": [
       "<Figure size 432x288 with 1 Axes>"
      ]
     },
     "metadata": {
      "needs_background": "light"
     },
     "output_type": "display_data"
    }
   ],
   "source": [
    "sns.boxplot(train['HourlnWeek']);"
   ]
  },
  {
   "cell_type": "code",
   "execution_count": 22,
   "id": "7023cd78-260d-49f1-939b-e0868002f833",
   "metadata": {},
   "outputs": [
    {
     "data": {
      "text/html": [
       "<div>\n",
       "<style scoped>\n",
       "    .dataframe tbody tr th:only-of-type {\n",
       "        vertical-align: middle;\n",
       "    }\n",
       "\n",
       "    .dataframe tbody tr th {\n",
       "        vertical-align: top;\n",
       "    }\n",
       "\n",
       "    .dataframe thead th {\n",
       "        text-align: right;\n",
       "    }\n",
       "</style>\n",
       "<table border=\"1\" class=\"dataframe\">\n",
       "  <thead>\n",
       "    <tr style=\"text-align: right;\">\n",
       "      <th></th>\n",
       "      <th>EmployeeID</th>\n",
       "      <th>Attrition</th>\n",
       "      <th>Age</th>\n",
       "      <th>TravelProfile</th>\n",
       "      <th>Department</th>\n",
       "      <th>HomeToWork</th>\n",
       "      <th>EducationField</th>\n",
       "      <th>Gender</th>\n",
       "      <th>HourlnWeek</th>\n",
       "      <th>Involvement</th>\n",
       "      <th>...</th>\n",
       "      <th>JobSatisfaction</th>\n",
       "      <th>ESOPs</th>\n",
       "      <th>NumCompaniesWorked</th>\n",
       "      <th>OverTime</th>\n",
       "      <th>SalaryHikelastYear</th>\n",
       "      <th>WorkExperience</th>\n",
       "      <th>LastPromotion</th>\n",
       "      <th>CurrentProfile</th>\n",
       "      <th>MaritalStatus</th>\n",
       "      <th>MonthlyIncome</th>\n",
       "    </tr>\n",
       "  </thead>\n",
       "  <tbody>\n",
       "    <tr>\n",
       "      <th>1157</th>\n",
       "      <td>5111158.0</td>\n",
       "      <td>0.0</td>\n",
       "      <td>41.0</td>\n",
       "      <td>Rarely</td>\n",
       "      <td>Analytics</td>\n",
       "      <td>22.0</td>\n",
       "      <td>CA</td>\n",
       "      <td>Male</td>\n",
       "      <td>12.0</td>\n",
       "      <td>3.0</td>\n",
       "      <td>...</td>\n",
       "      <td>1.0</td>\n",
       "      <td>1.0</td>\n",
       "      <td>9.0</td>\n",
       "      <td>1.0</td>\n",
       "      <td>21.0</td>\n",
       "      <td>16.0</td>\n",
       "      <td>4.0</td>\n",
       "      <td>NaN</td>\n",
       "      <td>Married</td>\n",
       "      <td>18741.0</td>\n",
       "    </tr>\n",
       "    <tr>\n",
       "      <th>1404</th>\n",
       "      <td>5111405.0</td>\n",
       "      <td>0.0</td>\n",
       "      <td>59.0</td>\n",
       "      <td>Rarely</td>\n",
       "      <td>Sales</td>\n",
       "      <td>26.0</td>\n",
       "      <td>Statistics</td>\n",
       "      <td>Female</td>\n",
       "      <td>99.0</td>\n",
       "      <td>3.0</td>\n",
       "      <td>...</td>\n",
       "      <td>5.0</td>\n",
       "      <td>1.0</td>\n",
       "      <td>7.0</td>\n",
       "      <td>0.0</td>\n",
       "      <td>16.0</td>\n",
       "      <td>28.0</td>\n",
       "      <td>7.0</td>\n",
       "      <td>9.0</td>\n",
       "      <td>Single</td>\n",
       "      <td>22637.0</td>\n",
       "    </tr>\n",
       "    <tr>\n",
       "      <th>4351</th>\n",
       "      <td>5114352.0</td>\n",
       "      <td>0.0</td>\n",
       "      <td>40.0</td>\n",
       "      <td>Rarely</td>\n",
       "      <td>Analytics</td>\n",
       "      <td>NaN</td>\n",
       "      <td>CA</td>\n",
       "      <td>Male</td>\n",
       "      <td>10.0</td>\n",
       "      <td>3.0</td>\n",
       "      <td>...</td>\n",
       "      <td>1.0</td>\n",
       "      <td>0.0</td>\n",
       "      <td>8.0</td>\n",
       "      <td>1.0</td>\n",
       "      <td>20.0</td>\n",
       "      <td>15.0</td>\n",
       "      <td>3.0</td>\n",
       "      <td>7.0</td>\n",
       "      <td>Married</td>\n",
       "      <td>17741.0</td>\n",
       "    </tr>\n",
       "  </tbody>\n",
       "</table>\n",
       "<p>3 rows × 22 columns</p>\n",
       "</div>"
      ],
      "text/plain": [
       "      EmployeeID  Attrition   Age TravelProfile Department  HomeToWork  \\\n",
       "1157   5111158.0        0.0  41.0        Rarely  Analytics        22.0   \n",
       "1404   5111405.0        0.0  59.0        Rarely      Sales        26.0   \n",
       "4351   5114352.0        0.0  40.0        Rarely  Analytics         NaN   \n",
       "\n",
       "     EducationField  Gender  HourlnWeek  Involvement  ...  JobSatisfaction  \\\n",
       "1157             CA    Male        12.0          3.0  ...              1.0   \n",
       "1404     Statistics  Female        99.0          3.0  ...              5.0   \n",
       "4351             CA    Male        10.0          3.0  ...              1.0   \n",
       "\n",
       "     ESOPs  NumCompaniesWorked  OverTime  SalaryHikelastYear  WorkExperience  \\\n",
       "1157   1.0                 9.0       1.0                21.0            16.0   \n",
       "1404   1.0                 7.0       0.0                16.0            28.0   \n",
       "4351   0.0                 8.0       1.0                20.0            15.0   \n",
       "\n",
       "      LastPromotion  CurrentProfile  MaritalStatus  MonthlyIncome  \n",
       "1157            4.0             NaN        Married        18741.0  \n",
       "1404            7.0             9.0         Single        22637.0  \n",
       "4351            3.0             7.0        Married        17741.0  \n",
       "\n",
       "[3 rows x 22 columns]"
      ]
     },
     "execution_count": 22,
     "metadata": {},
     "output_type": "execute_result"
    }
   ],
   "source": [
    "#Records where HourInWeek is outlier\n",
    "train[(train['HourlnWeek']>90)|(train['HourlnWeek']<20)] "
   ]
  },
  {
   "cell_type": "code",
   "execution_count": 23,
   "id": "d857ad62-c8e1-498a-a73a-909afe7b53b7",
   "metadata": {},
   "outputs": [],
   "source": [
    "#Dropping HourInWeek outliers\n",
    "train.drop([1157,1404,4351],inplace=True)"
   ]
  },
  {
   "cell_type": "code",
   "execution_count": 24,
   "id": "f270010e-8343-4b12-aadc-b59205586723",
   "metadata": {},
   "outputs": [
    {
     "data": {
      "image/png": "[encoded data removed]",
      "text/plain": [
       "<Figure size 432x288 with 1 Axes>"
      ]
     },
     "metadata": {
      "needs_background": "light"
     },
     "output_type": "display_data"
    }
   ],
   "source": [
    "sns.boxplot(train['HourlnWeek']);"
   ]
  },
  {
   "cell_type": "code",
   "execution_count": 25,
   "id": "65444591-f124-421b-ac92-d95516787913",
   "metadata": {},
   "outputs": [
    {
     "data": {
      "image/png": "[encoded data removed]",
      "text/plain": [
       "<Figure size 432x288 with 1 Axes>"
      ]
     },
     "metadata": {
      "needs_background": "light"
     },
     "output_type": "display_data"
    }
   ],
   "source": [
    "sns.boxplot(train['Involvement']);"
   ]
  },
  {
   "cell_type": "code",
   "execution_count": 26,
   "id": "5efbf2a1-9d8d-4fdb-a76f-e72c6c11a4b6",
   "metadata": {},
   "outputs": [
    {
     "data": {
      "image/png": "[encoded data removed]",
      "text/plain": [
       "<Figure size 432x288 with 1 Axes>"
      ]
     },
     "metadata": {
      "needs_background": "light"
     },
     "output_type": "display_data"
    }
   ],
   "source": [
    "sns.boxplot(train['WorkLifeBalance']);"
   ]
  },
  {
   "cell_type": "code",
   "execution_count": 27,
   "id": "6cdfae92-8c34-4056-b051-c3bbf5f3d3bd",
   "metadata": {},
   "outputs": [
    {
     "data": {
      "image/png": "[encoded data removed]",
      "text/plain": [
       "<Figure size 432x288 with 1 Axes>"
      ]
     },
     "metadata": {
      "needs_background": "light"
     },
     "output_type": "display_data"
    }
   ],
   "source": [
    "sns.boxplot(train['JobSatisfaction']);"
   ]
  },
  {
   "cell_type": "code",
   "execution_count": 28,
   "id": "a6289656-0ec9-4e6f-9f3f-73facfd6f430",
   "metadata": {},
   "outputs": [
    {
     "data": {
      "image/png": "[encoded data removed]",
      "text/plain": [
       "<Figure size 432x288 with 1 Axes>"
      ]
     },
     "metadata": {
      "needs_background": "light"
     },
     "output_type": "display_data"
    }
   ],
   "source": [
    "sns.boxplot(train['ESOPs']);"
   ]
  },
  {
   "cell_type": "code",
   "execution_count": 29,
   "id": "b06a389a-399b-4b7b-81c0-97461f6abe10",
   "metadata": {},
   "outputs": [
    {
     "data": {
      "image/png": "[encoded data removed]",
      "text/plain": [
       "<Figure size 432x288 with 1 Axes>"
      ]
     },
     "metadata": {
      "needs_background": "light"
     },
     "output_type": "display_data"
    }
   ],
   "source": [
    "sns.boxplot(train['NumCompaniesWorked']);"
   ]
  },
  {
   "cell_type": "code",
   "execution_count": 30,
   "id": "537e7483-2053-492e-ae00-42519c554028",
   "metadata": {},
   "outputs": [],
   "source": [
    "#Taking only those records where NumCompaniesWorked is less than 10\n",
    "train=train[train['NumCompaniesWorked']<=10]"
   ]
  },
  {
   "cell_type": "code",
   "execution_count": 31,
   "id": "09122b38-8748-4a2b-81c9-5cfbd9bfe605",
   "metadata": {},
   "outputs": [
    {
     "data": {
      "image/png": "[encoded data removed]",
      "text/plain": [
       "<Figure size 432x288 with 1 Axes>"
      ]
     },
     "metadata": {
      "needs_background": "light"
     },
     "output_type": "display_data"
    }
   ],
   "source": [
    "sns.boxplot(train['NumCompaniesWorked']);"
   ]
  },
  {
   "cell_type": "code",
   "execution_count": 32,
   "id": "4185b61e-b24e-4953-a42e-072954bf2cb4",
   "metadata": {},
   "outputs": [
    {
     "data": {
      "image/png": "[encoded data removed]",
      "text/plain": [
       "<Figure size 432x288 with 1 Axes>"
      ]
     },
     "metadata": {
      "needs_background": "light"
     },
     "output_type": "display_data"
    }
   ],
   "source": [
    "sns.boxplot(train['OverTime']);"
   ]
  },
  {
   "cell_type": "code",
   "execution_count": 33,
   "id": "80035bf6-69ea-49e7-9338-ac815286b708",
   "metadata": {},
   "outputs": [
    {
     "data": {
      "image/png": "[encoded data removed]",
      "text/plain": [
       "<Figure size 432x288 with 1 Axes>"
      ]
     },
     "metadata": {
      "needs_background": "light"
     },
     "output_type": "display_data"
    }
   ],
   "source": [
    "sns.boxplot(train['SalaryHikelastYear']);"
   ]
  },
  {
   "cell_type": "code",
   "execution_count": 34,
   "id": "6f520129-c35f-4e3f-b7df-28f3badae879",
   "metadata": {},
   "outputs": [
    {
     "data": {
      "image/png": "[encoded data removed]",
      "text/plain": [
       "<Figure size 432x288 with 1 Axes>"
      ]
     },
     "metadata": {
      "needs_background": "light"
     },
     "output_type": "display_data"
    }
   ],
   "source": [
    "sns.boxplot(train['WorkExperience']);"
   ]
  },
  {
   "cell_type": "code",
   "execution_count": 35,
   "id": "2021b5c1-97f3-4c32-b07a-a3faf89a4224",
   "metadata": {},
   "outputs": [],
   "source": [
    "# Taking only those records where WorkExperience is less than 32\n",
    "train=train[train['WorkExperience']<=32]"
   ]
  },
  {
   "cell_type": "code",
   "execution_count": 36,
   "id": "dbb96270-1726-4a30-b90b-775160af10c2",
   "metadata": {},
   "outputs": [
    {
     "data": {
      "image/png": "[encoded data removed]",
      "text/plain": [
       "<Figure size 432x288 with 1 Axes>"
      ]
     },
     "metadata": {
      "needs_background": "light"
     },
     "output_type": "display_data"
    }
   ],
   "source": [
    "sns.boxplot(train['WorkExperience']);"
   ]
  },
  {
   "cell_type": "code",
   "execution_count": 37,
   "id": "d3797c35-c837-4e5f-b237-82f8bad5ca63",
   "metadata": {},
   "outputs": [
    {
     "data": {
      "image/png": "[encoded data removed]",
      "text/plain": [
       "<Figure size 432x288 with 1 Axes>"
      ]
     },
     "metadata": {
      "needs_background": "light"
     },
     "output_type": "display_data"
    }
   ],
   "source": [
    "sns.boxplot(train['LastPromotion']);"
   ]
  },
  {
   "cell_type": "code",
   "execution_count": 38,
   "id": "bd15b093-8cc6-4cad-ba1b-76b649819e9c",
   "metadata": {},
   "outputs": [],
   "source": [
    "# Takinly only those records where LastPromotion is less than 8\n",
    "train=train[train['LastPromotion']<=8]"
   ]
  },
  {
   "cell_type": "code",
   "execution_count": 39,
   "id": "4003a1bf-af2c-4a86-bf5f-8673d11be3b5",
   "metadata": {},
   "outputs": [
    {
     "data": {
      "image/png": "[encoded data removed]",
      "text/plain": [
       "<Figure size 432x288 with 1 Axes>"
      ]
     },
     "metadata": {
      "needs_background": "light"
     },
     "output_type": "display_data"
    }
   ],
   "source": [
    "sns.boxplot(train['LastPromotion']);"
   ]
  },
  {
   "cell_type": "code",
   "execution_count": 40,
   "id": "ea8cf406-00ed-4379-8df8-c1994b3fa8bf",
   "metadata": {},
   "outputs": [
    {
     "data": {
      "image/png": "[encoded data removed]",
      "text/plain": [
       "<Figure size 432x288 with 1 Axes>"
      ]
     },
     "metadata": {
      "needs_background": "light"
     },
     "output_type": "display_data"
    }
   ],
   "source": [
    "sns.boxplot(train['CurrentProfile']);"
   ]
  },
  {
   "cell_type": "code",
   "execution_count": 41,
   "id": "b46dd275-e3dd-45a8-a3cb-c959fd600ecf",
   "metadata": {},
   "outputs": [
    {
     "data": {
      "image/png": "[encoded data removed]",
      "text/plain": [
       "<Figure size 432x288 with 1 Axes>"
      ]
     },
     "metadata": {
      "needs_background": "light"
     },
     "output_type": "display_data"
    }
   ],
   "source": [
    "sns.boxplot(train['MonthlyIncome']);"
   ]
  },
  {
   "cell_type": "code",
   "execution_count": 42,
   "id": "a76e38c7-d755-46c2-bf02-c0a262999272",
   "metadata": {},
   "outputs": [
    {
     "data": {
      "text/html": [
       "<div>\n",
       "<style scoped>\n",
       "    .dataframe tbody tr th:only-of-type {\n",
       "        vertical-align: middle;\n",
       "    }\n",
       "\n",
       "    .dataframe tbody tr th {\n",
       "        vertical-align: top;\n",
       "    }\n",
       "\n",
       "    .dataframe thead th {\n",
       "        text-align: right;\n",
       "    }\n",
       "</style>\n",
       "<table border=\"1\" class=\"dataframe\">\n",
       "  <thead>\n",
       "    <tr style=\"text-align: right;\">\n",
       "      <th></th>\n",
       "      <th>EmployeeID</th>\n",
       "      <th>Attrition</th>\n",
       "      <th>Age</th>\n",
       "      <th>TravelProfile</th>\n",
       "      <th>Department</th>\n",
       "      <th>HomeToWork</th>\n",
       "      <th>EducationField</th>\n",
       "      <th>Gender</th>\n",
       "      <th>HourlnWeek</th>\n",
       "      <th>Involvement</th>\n",
       "      <th>...</th>\n",
       "      <th>JobSatisfaction</th>\n",
       "      <th>ESOPs</th>\n",
       "      <th>NumCompaniesWorked</th>\n",
       "      <th>OverTime</th>\n",
       "      <th>SalaryHikelastYear</th>\n",
       "      <th>WorkExperience</th>\n",
       "      <th>LastPromotion</th>\n",
       "      <th>CurrentProfile</th>\n",
       "      <th>MaritalStatus</th>\n",
       "      <th>MonthlyIncome</th>\n",
       "    </tr>\n",
       "  </thead>\n",
       "  <tbody>\n",
       "    <tr>\n",
       "      <th>1528</th>\n",
       "      <td>5111529.0</td>\n",
       "      <td>0.0</td>\n",
       "      <td>36.0</td>\n",
       "      <td>Rarely</td>\n",
       "      <td>Analytics</td>\n",
       "      <td>6.0</td>\n",
       "      <td>Statistics</td>\n",
       "      <td>Female</td>\n",
       "      <td>52.0</td>\n",
       "      <td>4.0</td>\n",
       "      <td>...</td>\n",
       "      <td>5.0</td>\n",
       "      <td>1.0</td>\n",
       "      <td>9.0</td>\n",
       "      <td>1.0</td>\n",
       "      <td>19.0</td>\n",
       "      <td>6.0</td>\n",
       "      <td>0.0</td>\n",
       "      <td>0.0</td>\n",
       "      <td>Divorsed</td>\n",
       "      <td>95000.0</td>\n",
       "    </tr>\n",
       "    <tr>\n",
       "      <th>4781</th>\n",
       "      <td>5114782.0</td>\n",
       "      <td>0.0</td>\n",
       "      <td>38.0</td>\n",
       "      <td>Rarely</td>\n",
       "      <td>Analytics</td>\n",
       "      <td>4.0</td>\n",
       "      <td>Engineer</td>\n",
       "      <td>Female</td>\n",
       "      <td>32.0</td>\n",
       "      <td>3.0</td>\n",
       "      <td>...</td>\n",
       "      <td>3.0</td>\n",
       "      <td>0.0</td>\n",
       "      <td>3.0</td>\n",
       "      <td>1.0</td>\n",
       "      <td>25.0</td>\n",
       "      <td>19.0</td>\n",
       "      <td>2.0</td>\n",
       "      <td>2.0</td>\n",
       "      <td>Single</td>\n",
       "      <td>1000.0</td>\n",
       "    </tr>\n",
       "  </tbody>\n",
       "</table>\n",
       "<p>2 rows × 22 columns</p>\n",
       "</div>"
      ],
      "text/plain": [
       "      EmployeeID  Attrition   Age TravelProfile Department  HomeToWork  \\\n",
       "1528   5111529.0        0.0  36.0        Rarely  Analytics         6.0   \n",
       "4781   5114782.0        0.0  38.0        Rarely  Analytics         4.0   \n",
       "\n",
       "     EducationField  Gender  HourlnWeek  Involvement  ...  JobSatisfaction  \\\n",
       "1528     Statistics  Female        52.0          4.0  ...              5.0   \n",
       "4781       Engineer  Female        32.0          3.0  ...              3.0   \n",
       "\n",
       "     ESOPs  NumCompaniesWorked  OverTime  SalaryHikelastYear  WorkExperience  \\\n",
       "1528   1.0                 9.0       1.0                19.0             6.0   \n",
       "4781   0.0                 3.0       1.0                25.0            19.0   \n",
       "\n",
       "      LastPromotion  CurrentProfile  MaritalStatus  MonthlyIncome  \n",
       "1528            0.0             0.0       Divorsed        95000.0  \n",
       "4781            2.0             2.0         Single         1000.0  \n",
       "\n",
       "[2 rows x 22 columns]"
      ]
     },
     "execution_count": 42,
     "metadata": {},
     "output_type": "execute_result"
    }
   ],
   "source": [
    "# Taking only those records where MonthlyIncome is less than 5000 and more than 80000\n",
    "train[(train['MonthlyIncome']>80000) | (train['MonthlyIncome']<5000)]"
   ]
  },
  {
   "cell_type": "code",
   "execution_count": 43,
   "id": "e4614efa-c273-4592-911f-a3089aa3cdc0",
   "metadata": {},
   "outputs": [],
   "source": [
    "train.drop([1528,4781],inplace=True)"
   ]
  },
  {
   "cell_type": "code",
   "execution_count": 44,
   "id": "680cc707-22e9-465d-b109-26d842eaac8c",
   "metadata": {},
   "outputs": [
    {
     "data": {
      "image/png": "[encoded data removed]",
      "text/plain": [
       "<Figure size 432x288 with 1 Axes>"
      ]
     },
     "metadata": {
      "needs_background": "light"
     },
     "output_type": "display_data"
    }
   ],
   "source": [
    "sns.boxplot(train['MonthlyIncome']);"
   ]
  },
  {
   "cell_type": "code",
   "execution_count": 45,
   "id": "1566af79-b83f-447b-9630-7fa54e6a8d85",
   "metadata": {},
   "outputs": [
    {
     "data": {
      "text/plain": [
       "(4527, 22)"
      ]
     },
     "execution_count": 45,
     "metadata": {},
     "output_type": "execute_result"
    }
   ],
   "source": [
    "train.shape"
   ]
  },
  {
   "cell_type": "code",
   "execution_count": 46,
   "id": "1a093164-9a31-4d5f-b9d9-501c604befb2",
   "metadata": {},
   "outputs": [],
   "source": [
    "df=train"
   ]
  },
  {
   "cell_type": "markdown",
   "id": "8b268203-6745-45f6-b6e0-f4bad1295f3e",
   "metadata": {},
   "source": [
    "# HEAT MAP "
   ]
  },
  {
   "cell_type": "code",
   "execution_count": 47,
   "id": "280a8e49-3164-4628-bf16-b3338b9f949e",
   "metadata": {},
   "outputs": [
    {
     "data": {
      "image/png": "[encoded data removed]",
      "text/plain": [
       "<Figure size 864x720 with 2 Axes>"
      ]
     },
     "metadata": {
      "needs_background": "light"
     },
     "output_type": "display_data"
    }
   ],
   "source": [
    "plt.figure(figsize=(12,10))\n",
    "sns.heatmap(df.corr(),annot=True);"
   ]
  },
  {
   "cell_type": "markdown",
   "id": "27f1904a-b28c-45bc-8d4b-885a974ebea8",
   "metadata": {},
   "source": [
    "# AGE Impute"
   ]
  },
  {
   "cell_type": "code",
   "execution_count": 48,
   "id": "cb2217c3-36f2-4b3e-a843-d4e22fa98475",
   "metadata": {},
   "outputs": [
    {
     "data": {
      "text/plain": [
       "count    4217.000000\n",
       "mean       36.398625\n",
       "std         9.082859\n",
       "min        18.000000\n",
       "25%        30.000000\n",
       "50%        35.000000\n",
       "75%        42.000000\n",
       "max        61.000000\n",
       "Name: Age, dtype: float64"
      ]
     },
     "execution_count": 48,
     "metadata": {},
     "output_type": "execute_result"
    }
   ],
   "source": [
    "df['Age'].describe()"
   ]
  },
  {
   "cell_type": "code",
   "execution_count": 49,
   "id": "2fe0207b-68e6-40b8-a2d3-04e79ef77f0a",
   "metadata": {},
   "outputs": [
    {
     "data": {
      "image/png": "[encoded data removed]",
      "text/plain": [
       "<Figure size 432x288 with 1 Axes>"
      ]
     },
     "metadata": {
      "needs_background": "light"
     },
     "output_type": "display_data"
    },
    {
     "data": {
      "image/png": "[encoded data removed]",
      "text/plain": [
       "<Figure size 432x288 with 1 Axes>"
      ]
     },
     "metadata": {
      "needs_background": "light"
     },
     "output_type": "display_data"
    },
    {
     "data": {
      "image/png": "[encoded data removed]",
      "text/plain": [
       "<Figure size 432x288 with 1 Axes>"
      ]
     },
     "metadata": {
      "needs_background": "light"
     },
     "output_type": "display_data"
    },
    {
     "data": {
      "image/png": "[encoded data removed]",
      "text/plain": [
       "<Figure size 432x288 with 1 Axes>"
      ]
     },
     "metadata": {
      "needs_background": "light"
     },
     "output_type": "display_data"
    },
    {
     "data": {
      "image/png": "[encoded data removed]",
      "text/plain": [
       "<Figure size 432x288 with 1 Axes>"
      ]
     },
     "metadata": {
      "needs_background": "light"
     },
     "output_type": "display_data"
    },
    {
     "data": {
      "image/png": "[encoded data removed]",
      "text/plain": [
       "<Figure size 432x288 with 1 Axes>"
      ]
     },
     "metadata": {
      "needs_background": "light"
     },
     "output_type": "display_data"
    }
   ],
   "source": [
    "for col in df.select_dtypes(include='object').columns:\n",
    "    plt.figure()\n",
    "    sns.barplot(data=df,y='Age',x=col)"
   ]
  },
  {
   "cell_type": "markdown",
   "id": "928231b2-f7ae-4ca0-bddd-f5a4fab7340c",
   "metadata": {},
   "source": [
    "### We are imputing Age ACCORDING TO DESIGNATIONS"
   ]
  },
  {
   "cell_type": "code",
   "execution_count": 50,
   "id": "7c4616f3-2cd4-4de1-b703-04f04288169a",
   "metadata": {},
   "outputs": [
    {
     "data": {
      "text/plain": [
       "Designation\n",
       "AVP               48.0\n",
       "Executive         31.0\n",
       "Manager           36.0\n",
       "Senior Manager    38.0\n",
       "VP                46.0\n",
       "Name: Age, dtype: float64"
      ]
     },
     "execution_count": 50,
     "metadata": {},
     "output_type": "execute_result"
    }
   ],
   "source": [
    "df.groupby('Designation').median()['Age']"
   ]
  },
  {
   "cell_type": "code",
   "execution_count": 51,
   "id": "d8146b63-2c16-43f9-981a-ff7fc3b42bf6",
   "metadata": {},
   "outputs": [],
   "source": [
    "def fill_age(Designation,Age):\n",
    "    if pd.isna(Age):\n",
    "        if Designation=='AVP':\n",
    "            ab=48\n",
    "        elif Designation=='Executive':\n",
    "            ab=31\n",
    "        elif Designation=='Manager':\n",
    "            ab=36\n",
    "        elif Designation=='Senior Manager':\n",
    "            ab=38\n",
    "        elif Designation=='VP':\n",
    "            ab=46\n",
    "    else:\n",
    "        ab=Age\n",
    "    return ab"
   ]
  },
  {
   "cell_type": "code",
   "execution_count": 52,
   "id": "a2c98870-0f3b-4f29-a198-cf5965d653c2",
   "metadata": {},
   "outputs": [],
   "source": [
    "df['Age']=df.apply(lambda x: fill_age(x['Designation'], x['Age']), axis=1)"
   ]
  },
  {
   "cell_type": "code",
   "execution_count": 53,
   "id": "fb9e9427-6c20-40b9-bf83-b4dcbd97308e",
   "metadata": {},
   "outputs": [
    {
     "data": {
      "text/plain": [
       "EmployeeID              0\n",
       "Attrition               0\n",
       "Age                     0\n",
       "TravelProfile           0\n",
       "Department            122\n",
       "HomeToWork            249\n",
       "EducationField          0\n",
       "Gender                 39\n",
       "HourlnWeek            278\n",
       "Involvement             0\n",
       "WorkLifeBalance         0\n",
       "Designation            38\n",
       "JobSatisfaction         0\n",
       "ESOPs                   0\n",
       "NumCompaniesWorked      0\n",
       "OverTime                0\n",
       "SalaryHikelastYear    160\n",
       "WorkExperience          0\n",
       "LastPromotion           0\n",
       "CurrentProfile        302\n",
       "MaritalStatus           0\n",
       "MonthlyIncome          86\n",
       "dtype: int64"
      ]
     },
     "execution_count": 53,
     "metadata": {},
     "output_type": "execute_result"
    }
   ],
   "source": [
    "df.isna().sum()"
   ]
  },
  {
   "cell_type": "markdown",
   "id": "b9a7508e-8b79-4e40-a31f-f4007e0cd64b",
   "metadata": {},
   "source": [
    "# Department Impute"
   ]
  },
  {
   "cell_type": "code",
   "execution_count": 54,
   "id": "53b9ed4c-27c8-400a-8617-2f07d99b3a75",
   "metadata": {},
   "outputs": [
    {
     "data": {
      "text/plain": [
       "122"
      ]
     },
     "execution_count": 54,
     "metadata": {},
     "output_type": "execute_result"
    }
   ],
   "source": [
    "df['Department'].isna().sum()"
   ]
  },
  {
   "cell_type": "code",
   "execution_count": 55,
   "id": "a1dc8310-97d1-4757-9df8-f75e2ac76d47",
   "metadata": {},
   "outputs": [
    {
     "data": {
      "text/plain": [
       "count          4405\n",
       "unique            3\n",
       "top       Analytics\n",
       "freq           2838\n",
       "Name: Department, dtype: object"
      ]
     },
     "execution_count": 55,
     "metadata": {},
     "output_type": "execute_result"
    }
   ],
   "source": [
    "df['Department'].describe()"
   ]
  },
  {
   "cell_type": "markdown",
   "id": "c1cb3916-4ded-46d6-8413-b6f029752233",
   "metadata": {},
   "source": [
    "### We are imputing Department with Mode -Analytics since 2% of Data is missing"
   ]
  },
  {
   "cell_type": "code",
   "execution_count": 56,
   "id": "9dbeffa1-c711-4e6d-af16-48963e703a72",
   "metadata": {},
   "outputs": [],
   "source": [
    "df['Department']=df['Department'].fillna(value='Analytics')"
   ]
  },
  {
   "cell_type": "code",
   "execution_count": 57,
   "id": "c8351db8-0a71-4064-88bb-1df6c5487db4",
   "metadata": {},
   "outputs": [
    {
     "data": {
      "text/plain": [
       "EmployeeID              0\n",
       "Attrition               0\n",
       "Age                     0\n",
       "TravelProfile           0\n",
       "Department              0\n",
       "HomeToWork            249\n",
       "EducationField          0\n",
       "Gender                 39\n",
       "HourlnWeek            278\n",
       "Involvement             0\n",
       "WorkLifeBalance         0\n",
       "Designation            38\n",
       "JobSatisfaction         0\n",
       "ESOPs                   0\n",
       "NumCompaniesWorked      0\n",
       "OverTime                0\n",
       "SalaryHikelastYear    160\n",
       "WorkExperience          0\n",
       "LastPromotion           0\n",
       "CurrentProfile        302\n",
       "MaritalStatus           0\n",
       "MonthlyIncome          86\n",
       "dtype: int64"
      ]
     },
     "execution_count": 57,
     "metadata": {},
     "output_type": "execute_result"
    }
   ],
   "source": [
    "df.isna().sum()"
   ]
  },
  {
   "cell_type": "markdown",
   "id": "6fe02749-2038-48e8-92a3-239315c46847",
   "metadata": {},
   "source": [
    "# HomeToWork Impute"
   ]
  },
  {
   "cell_type": "code",
   "execution_count": 58,
   "id": "50e9ec6a-d64d-494c-a674-34bcdc34064c",
   "metadata": {},
   "outputs": [
    {
     "data": {
      "text/plain": [
       "count    4278.000000\n",
       "mean       11.043712\n",
       "std         8.231977\n",
       "min         1.000000\n",
       "25%         5.000000\n",
       "50%         9.000000\n",
       "75%        16.000000\n",
       "max        36.000000\n",
       "Name: HomeToWork, dtype: float64"
      ]
     },
     "execution_count": 58,
     "metadata": {},
     "output_type": "execute_result"
    }
   ],
   "source": [
    "df['HomeToWork'].describe()"
   ]
  },
  {
   "cell_type": "code",
   "execution_count": 59,
   "id": "67ac8791-9ca0-4b06-8c92-da536fb555a2",
   "metadata": {},
   "outputs": [
    {
     "data": {
      "image/png": "[encoded data removed]",
      "text/plain": [
       "<Figure size 432x288 with 1 Axes>"
      ]
     },
     "metadata": {
      "needs_background": "light"
     },
     "output_type": "display_data"
    },
    {
     "data": {
      "image/png": "[encoded data removed]",
      "text/plain": [
       "<Figure size 432x288 with 1 Axes>"
      ]
     },
     "metadata": {
      "needs_background": "light"
     },
     "output_type": "display_data"
    },
    {
     "data": {
      "image/png": "[encoded data removed]",
      "text/plain": [
       "<Figure size 432x288 with 1 Axes>"
      ]
     },
     "metadata": {
      "needs_background": "light"
     },
     "output_type": "display_data"
    },
    {
     "data": {
      "image/png": "[encoded data removed]",
      "text/plain": [
       "<Figure size 432x288 with 1 Axes>"
      ]
     },
     "metadata": {
      "needs_background": "light"
     },
     "output_type": "display_data"
    },
    {
     "data": {
      "image/png": "[encoded data removed]",
      "text/plain": [
       "<Figure size 432x288 with 1 Axes>"
      ]
     },
     "metadata": {
      "needs_background": "light"
     },
     "output_type": "display_data"
    },
    {
     "data": {
      "image/png": "[encoded data removed]",
      "text/plain": [
       "<Figure size 432x288 with 1 Axes>"
      ]
     },
     "metadata": {
      "needs_background": "light"
     },
     "output_type": "display_data"
    }
   ],
   "source": [
    "for col in df.select_dtypes(include='object').columns:\n",
    "    plt.figure()\n",
    "    sns.barplot(data=df,y='HomeToWork',x=col)"
   ]
  },
  {
   "cell_type": "markdown",
   "id": "500de360-acac-4574-9c19-a60d6ec66164",
   "metadata": {},
   "source": [
    "### Impute HomeToWork with Median"
   ]
  },
  {
   "cell_type": "code",
   "execution_count": 60,
   "id": "4db1e119-76b6-46bc-9f12-b6296514396e",
   "metadata": {},
   "outputs": [],
   "source": [
    "df['HomeToWork']=df['HomeToWork'].fillna(value=df['HomeToWork'].median())"
   ]
  },
  {
   "cell_type": "code",
   "execution_count": 61,
   "id": "169938c1-a211-45bb-8c23-19478cb964a0",
   "metadata": {},
   "outputs": [
    {
     "data": {
      "text/plain": [
       "EmployeeID              0\n",
       "Attrition               0\n",
       "Age                     0\n",
       "TravelProfile           0\n",
       "Department              0\n",
       "HomeToWork              0\n",
       "EducationField          0\n",
       "Gender                 39\n",
       "HourlnWeek            278\n",
       "Involvement             0\n",
       "WorkLifeBalance         0\n",
       "Designation            38\n",
       "JobSatisfaction         0\n",
       "ESOPs                   0\n",
       "NumCompaniesWorked      0\n",
       "OverTime                0\n",
       "SalaryHikelastYear    160\n",
       "WorkExperience          0\n",
       "LastPromotion           0\n",
       "CurrentProfile        302\n",
       "MaritalStatus           0\n",
       "MonthlyIncome          86\n",
       "dtype: int64"
      ]
     },
     "execution_count": 61,
     "metadata": {},
     "output_type": "execute_result"
    }
   ],
   "source": [
    "df.isna().sum()"
   ]
  },
  {
   "cell_type": "markdown",
   "id": "3f756717-b67e-4223-9200-3481badd62f4",
   "metadata": {},
   "source": [
    "# Gender Impute"
   ]
  },
  {
   "cell_type": "code",
   "execution_count": 62,
   "id": "38ec6489-a620-444f-a74e-f84756d47b10",
   "metadata": {},
   "outputs": [
    {
     "data": {
      "text/plain": [
       "count     4488\n",
       "unique       2\n",
       "top       Male\n",
       "freq      2714\n",
       "Name: Gender, dtype: object"
      ]
     },
     "execution_count": 62,
     "metadata": {},
     "output_type": "execute_result"
    }
   ],
   "source": [
    "df['Gender'].describe()"
   ]
  },
  {
   "cell_type": "code",
   "execution_count": 63,
   "id": "19fc5c89-d803-42ca-9a5a-89178789843e",
   "metadata": {},
   "outputs": [
    {
     "data": {
      "text/plain": [
       "<AxesSubplot:xlabel='Gender', ylabel='count'>"
      ]
     },
     "execution_count": 63,
     "metadata": {},
     "output_type": "execute_result"
    },
    {
     "data": {
      "image/png": "[encoded data removed]",
      "text/plain": [
       "<Figure size 432x288 with 1 Axes>"
      ]
     },
     "metadata": {
      "needs_background": "light"
     },
     "output_type": "display_data"
    }
   ],
   "source": [
    "sns.countplot(data=df,x='Gender',hue='Designation')"
   ]
  },
  {
   "cell_type": "code",
   "execution_count": 64,
   "id": "48ef4055-852b-47bc-8804-9c7316677981",
   "metadata": {},
   "outputs": [
    {
     "data": {
      "text/plain": [
       "<AxesSubplot:xlabel='Gender', ylabel='count'>"
      ]
     },
     "execution_count": 64,
     "metadata": {},
     "output_type": "execute_result"
    },
    {
     "data": {
      "image/png": "[encoded data removed]",
      "text/plain": [
       "<Figure size 432x288 with 1 Axes>"
      ]
     },
     "metadata": {
      "needs_background": "light"
     },
     "output_type": "display_data"
    }
   ],
   "source": [
    "sns.countplot(data=df,x='Gender',hue='MaritalStatus')"
   ]
  },
  {
   "cell_type": "code",
   "execution_count": 65,
   "id": "b5127664-d0e3-4b44-ac8c-30b886d35d06",
   "metadata": {},
   "outputs": [
    {
     "data": {
      "text/plain": [
       "<AxesSubplot:xlabel='Gender', ylabel='count'>"
      ]
     },
     "execution_count": 65,
     "metadata": {},
     "output_type": "execute_result"
    },
    {
     "data": {
      "image/png": "[encoded data removed]",
      "text/plain": [
       "<Figure size 432x288 with 1 Axes>"
      ]
     },
     "metadata": {
      "needs_background": "light"
     },
     "output_type": "display_data"
    }
   ],
   "source": [
    "sns.countplot(data=df,x='Gender',hue='EducationField')"
   ]
  },
  {
   "cell_type": "markdown",
   "id": "52d7fbba-ffa4-4639-ab24-942cc41b4064",
   "metadata": {},
   "source": [
    "### We are imputing Gender with Male as the gender is equally distributed along different verticles and maximum frequency is for Male"
   ]
  },
  {
   "cell_type": "code",
   "execution_count": 66,
   "id": "92b20291-a6eb-471b-a27b-ee72c27de9b5",
   "metadata": {},
   "outputs": [],
   "source": [
    "df['Gender']=df['Gender'].fillna(value='Male')"
   ]
  },
  {
   "cell_type": "code",
   "execution_count": 67,
   "id": "d478c393-3706-42b7-921d-b7862a7ba8e0",
   "metadata": {},
   "outputs": [
    {
     "data": {
      "text/plain": [
       "EmployeeID              0\n",
       "Attrition               0\n",
       "Age                     0\n",
       "TravelProfile           0\n",
       "Department              0\n",
       "HomeToWork              0\n",
       "EducationField          0\n",
       "Gender                  0\n",
       "HourlnWeek            278\n",
       "Involvement             0\n",
       "WorkLifeBalance         0\n",
       "Designation            38\n",
       "JobSatisfaction         0\n",
       "ESOPs                   0\n",
       "NumCompaniesWorked      0\n",
       "OverTime                0\n",
       "SalaryHikelastYear    160\n",
       "WorkExperience          0\n",
       "LastPromotion           0\n",
       "CurrentProfile        302\n",
       "MaritalStatus           0\n",
       "MonthlyIncome          86\n",
       "dtype: int64"
      ]
     },
     "execution_count": 67,
     "metadata": {},
     "output_type": "execute_result"
    }
   ],
   "source": [
    "df.isna().sum()"
   ]
  },
  {
   "cell_type": "markdown",
   "id": "d12d15e6-6249-4df4-b859-83e83290e457",
   "metadata": {},
   "source": [
    "# HourInWeek Impute"
   ]
  },
  {
   "cell_type": "code",
   "execution_count": 68,
   "id": "38b4a7c2-9206-4cb5-af59-51608eb004ad",
   "metadata": {},
   "outputs": [
    {
     "data": {
      "text/plain": [
       "count    4249.000000\n",
       "mean       58.039303\n",
       "std        12.932976\n",
       "min        30.000000\n",
       "25%        49.000000\n",
       "50%        59.000000\n",
       "75%        67.000000\n",
       "max        89.000000\n",
       "Name: HourlnWeek, dtype: float64"
      ]
     },
     "execution_count": 68,
     "metadata": {},
     "output_type": "execute_result"
    }
   ],
   "source": [
    "df['HourlnWeek'].describe()"
   ]
  },
  {
   "cell_type": "code",
   "execution_count": 69,
   "id": "bafd8e95-6607-4102-a577-67fa120481f5",
   "metadata": {},
   "outputs": [
    {
     "data": {
      "image/png": "[encoded data removed]",
      "text/plain": [
       "<Figure size 432x288 with 1 Axes>"
      ]
     },
     "metadata": {
      "needs_background": "light"
     },
     "output_type": "display_data"
    },
    {
     "data": {
      "image/png": "[encoded data removed]",
      "text/plain": [
       "<Figure size 432x288 with 1 Axes>"
      ]
     },
     "metadata": {
      "needs_background": "light"
     },
     "output_type": "display_data"
    },
    {
     "data": {
      "image/png": "[encoded data removed]",
      "text/plain": [
       "<Figure size 432x288 with 1 Axes>"
      ]
     },
     "metadata": {
      "needs_background": "light"
     },
     "output_type": "display_data"
    },
    {
     "data": {
      "image/png": "[encoded data removed]",
      "text/plain": [
       "<Figure size 432x288 with 1 Axes>"
      ]
     },
     "metadata": {
      "needs_background": "light"
     },
     "output_type": "display_data"
    },
    {
     "data": {
      "image/png": "[encoded data removed]",
      "text/plain": [
       "<Figure size 432x288 with 1 Axes>"
      ]
     },
     "metadata": {
      "needs_background": "light"
     },
     "output_type": "display_data"
    },
    {
     "data": {
      "image/png": "[encoded data removed]",
      "text/plain": [
       "<Figure size 432x288 with 1 Axes>"
      ]
     },
     "metadata": {
      "needs_background": "light"
     },
     "output_type": "display_data"
    }
   ],
   "source": [
    "for col in df.select_dtypes(include='object').columns:\n",
    "    plt.figure()\n",
    "    sns.barplot(data=df,y='HourlnWeek',x=col)"
   ]
  },
  {
   "cell_type": "markdown",
   "id": "f6360b5e-1f94-4691-badf-01803f4bad05",
   "metadata": {},
   "source": [
    "### Imputing HourInWeek with Mean value"
   ]
  },
  {
   "cell_type": "code",
   "execution_count": 70,
   "id": "a7a58a2c-ba3f-4051-8e5b-22d3498f7f5c",
   "metadata": {},
   "outputs": [],
   "source": [
    "df['HourlnWeek']=df['HourlnWeek'].fillna(value=df['HourlnWeek'].mean())"
   ]
  },
  {
   "cell_type": "code",
   "execution_count": 71,
   "id": "e3601198-7e18-40c0-b0b2-f5b78cf51b38",
   "metadata": {},
   "outputs": [
    {
     "data": {
      "text/plain": [
       "EmployeeID              0\n",
       "Attrition               0\n",
       "Age                     0\n",
       "TravelProfile           0\n",
       "Department              0\n",
       "HomeToWork              0\n",
       "EducationField          0\n",
       "Gender                  0\n",
       "HourlnWeek              0\n",
       "Involvement             0\n",
       "WorkLifeBalance         0\n",
       "Designation            38\n",
       "JobSatisfaction         0\n",
       "ESOPs                   0\n",
       "NumCompaniesWorked      0\n",
       "OverTime                0\n",
       "SalaryHikelastYear    160\n",
       "WorkExperience          0\n",
       "LastPromotion           0\n",
       "CurrentProfile        302\n",
       "MaritalStatus           0\n",
       "MonthlyIncome          86\n",
       "dtype: int64"
      ]
     },
     "execution_count": 71,
     "metadata": {},
     "output_type": "execute_result"
    }
   ],
   "source": [
    "df.isna().sum()"
   ]
  },
  {
   "cell_type": "markdown",
   "id": "2a5138ba-708d-4b32-b9a4-24b8280b059e",
   "metadata": {},
   "source": [
    "# Designation Impute"
   ]
  },
  {
   "cell_type": "code",
   "execution_count": 72,
   "id": "6403d403-ba0a-4f54-a99d-1a114f9fdee8",
   "metadata": {},
   "outputs": [
    {
     "data": {
      "text/plain": [
       "count          4489\n",
       "unique            5\n",
       "top       Executive\n",
       "freq           2025\n",
       "Name: Designation, dtype: object"
      ]
     },
     "execution_count": 72,
     "metadata": {},
     "output_type": "execute_result"
    }
   ],
   "source": [
    "df['Designation'].describe()"
   ]
  },
  {
   "cell_type": "code",
   "execution_count": 73,
   "id": "77333dad-5d16-400f-b7fc-bd9f9d30fdec",
   "metadata": {},
   "outputs": [
    {
     "data": {
      "text/plain": [
       "<AxesSubplot:xlabel='Designation', ylabel='count'>"
      ]
     },
     "execution_count": 73,
     "metadata": {},
     "output_type": "execute_result"
    },
    {
     "data": {
      "image/png": "[encoded data removed]",
      "text/plain": [
       "<Figure size 432x288 with 1 Axes>"
      ]
     },
     "metadata": {
      "needs_background": "light"
     },
     "output_type": "display_data"
    }
   ],
   "source": [
    "sns.countplot(data=df,x='Designation',hue='Gender')"
   ]
  },
  {
   "cell_type": "code",
   "execution_count": 74,
   "id": "50726b34-73ad-49fe-9695-2f4198921128",
   "metadata": {},
   "outputs": [
    {
     "data": {
      "text/plain": [
       "<AxesSubplot:xlabel='Designation', ylabel='count'>"
      ]
     },
     "execution_count": 74,
     "metadata": {},
     "output_type": "execute_result"
    },
    {
     "data": {
      "image/png": "[encoded data removed]",
      "text/plain": [
       "<Figure size 432x288 with 1 Axes>"
      ]
     },
     "metadata": {
      "needs_background": "light"
     },
     "output_type": "display_data"
    }
   ],
   "source": [
    "sns.countplot(data=df,x='Designation',hue='EducationField')"
   ]
  },
  {
   "cell_type": "code",
   "execution_count": 75,
   "id": "790d893e-c6f2-49b7-9a82-cf4ce2ec6184",
   "metadata": {},
   "outputs": [
    {
     "data": {
      "text/plain": [
       "<AxesSubplot:xlabel='Designation', ylabel='count'>"
      ]
     },
     "execution_count": 75,
     "metadata": {},
     "output_type": "execute_result"
    },
    {
     "data": {
      "image/png": "[encoded data removed]",
      "text/plain": [
       "<Figure size 432x288 with 1 Axes>"
      ]
     },
     "metadata": {
      "needs_background": "light"
     },
     "output_type": "display_data"
    }
   ],
   "source": [
    "sns.countplot(data=df,x='Designation',hue='MaritalStatus')"
   ]
  },
  {
   "cell_type": "markdown",
   "id": "3d356ca2-656c-411b-9a0a-03b99731d7f6",
   "metadata": {},
   "source": [
    "### Imputing Designation with mode of Designation "
   ]
  },
  {
   "cell_type": "code",
   "execution_count": 76,
   "id": "8564f97e-cfb3-439e-96ea-9c01cd84ae35",
   "metadata": {},
   "outputs": [],
   "source": [
    "df['Designation']=df['Designation'].fillna(value='Executive')"
   ]
  },
  {
   "cell_type": "code",
   "execution_count": 77,
   "id": "c7ac6f8b-10c1-454f-a5e9-3aca695a8fd0",
   "metadata": {},
   "outputs": [
    {
     "data": {
      "text/plain": [
       "EmployeeID              0\n",
       "Attrition               0\n",
       "Age                     0\n",
       "TravelProfile           0\n",
       "Department              0\n",
       "HomeToWork              0\n",
       "EducationField          0\n",
       "Gender                  0\n",
       "HourlnWeek              0\n",
       "Involvement             0\n",
       "WorkLifeBalance         0\n",
       "Designation             0\n",
       "JobSatisfaction         0\n",
       "ESOPs                   0\n",
       "NumCompaniesWorked      0\n",
       "OverTime                0\n",
       "SalaryHikelastYear    160\n",
       "WorkExperience          0\n",
       "LastPromotion           0\n",
       "CurrentProfile        302\n",
       "MaritalStatus           0\n",
       "MonthlyIncome          86\n",
       "dtype: int64"
      ]
     },
     "execution_count": 77,
     "metadata": {},
     "output_type": "execute_result"
    }
   ],
   "source": [
    "df.isna().sum()"
   ]
  },
  {
   "cell_type": "markdown",
   "id": "99758c6d-a98e-4336-bd2b-e518a0117245",
   "metadata": {},
   "source": [
    "# SalaryHikeLastYear Impute"
   ]
  },
  {
   "cell_type": "code",
   "execution_count": 78,
   "id": "b9587875-0a8f-447f-bdbd-bbb3b9950deb",
   "metadata": {},
   "outputs": [
    {
     "data": {
      "text/plain": [
       "count    4367.000000\n",
       "mean       20.645523\n",
       "std         3.654491\n",
       "min        16.000000\n",
       "25%        18.000000\n",
       "50%        20.000000\n",
       "75%        23.000000\n",
       "max        31.000000\n",
       "Name: SalaryHikelastYear, dtype: float64"
      ]
     },
     "execution_count": 78,
     "metadata": {},
     "output_type": "execute_result"
    }
   ],
   "source": [
    "df['SalaryHikelastYear'].describe()"
   ]
  },
  {
   "cell_type": "code",
   "execution_count": 79,
   "id": "8de8bfde-56da-4507-87ab-aee994af3af3",
   "metadata": {},
   "outputs": [
    {
     "data": {
      "image/png": "[encoded data removed]",
      "text/plain": [
       "<Figure size 432x288 with 1 Axes>"
      ]
     },
     "metadata": {
      "needs_background": "light"
     },
     "output_type": "display_data"
    },
    {
     "data": {
      "image/png": "[encoded data removed]",
      "text/plain": [
       "<Figure size 432x288 with 1 Axes>"
      ]
     },
     "metadata": {
      "needs_background": "light"
     },
     "output_type": "display_data"
    },
    {
     "data": {
      "image/png": "[encoded data removed]",
      "text/plain": [
       "<Figure size 432x288 with 1 Axes>"
      ]
     },
     "metadata": {
      "needs_background": "light"
     },
     "output_type": "display_data"
    },
    {
     "data": {
      "image/png": "[encoded data removed]",
      "text/plain": [
       "<Figure size 432x288 with 1 Axes>"
      ]
     },
     "metadata": {
      "needs_background": "light"
     },
     "output_type": "display_data"
    },
    {
     "data": {
      "image/png": "[encoded data removed]",
      "text/plain": [
       "<Figure size 432x288 with 1 Axes>"
      ]
     },
     "metadata": {
      "needs_background": "light"
     },
     "output_type": "display_data"
    },
    {
     "data": {
      "image/png": "[encoded data removed]",
      "text/plain": [
       "<Figure size 432x288 with 1 Axes>"
      ]
     },
     "metadata": {
      "needs_background": "light"
     },
     "output_type": "display_data"
    }
   ],
   "source": [
    "for col in df.select_dtypes(include='object').columns:\n",
    "    plt.figure()\n",
    "    sns.barplot(data=df,y='SalaryHikelastYear',x=col)"
   ]
  },
  {
   "cell_type": "markdown",
   "id": "81f24097-898f-4f9d-affe-e39afd166753",
   "metadata": {},
   "source": [
    "### Imputing SalaryHikeLastYear with mean"
   ]
  },
  {
   "cell_type": "code",
   "execution_count": 80,
   "id": "e09c9620-2594-4a48-8452-fd39d9d8ba2f",
   "metadata": {},
   "outputs": [],
   "source": [
    "df['SalaryHikelastYear']=df['SalaryHikelastYear'].fillna(value=df['SalaryHikelastYear'].mean())"
   ]
  },
  {
   "cell_type": "code",
   "execution_count": 81,
   "id": "5499e981-59b6-41e2-9f33-ad400bffe0db",
   "metadata": {},
   "outputs": [
    {
     "data": {
      "text/plain": [
       "EmployeeID              0\n",
       "Attrition               0\n",
       "Age                     0\n",
       "TravelProfile           0\n",
       "Department              0\n",
       "HomeToWork              0\n",
       "EducationField          0\n",
       "Gender                  0\n",
       "HourlnWeek              0\n",
       "Involvement             0\n",
       "WorkLifeBalance         0\n",
       "Designation             0\n",
       "JobSatisfaction         0\n",
       "ESOPs                   0\n",
       "NumCompaniesWorked      0\n",
       "OverTime                0\n",
       "SalaryHikelastYear      0\n",
       "WorkExperience          0\n",
       "LastPromotion           0\n",
       "CurrentProfile        302\n",
       "MaritalStatus           0\n",
       "MonthlyIncome          86\n",
       "dtype: int64"
      ]
     },
     "execution_count": 81,
     "metadata": {},
     "output_type": "execute_result"
    }
   ],
   "source": [
    "df.isna().sum()"
   ]
  },
  {
   "cell_type": "markdown",
   "id": "37bd612c-e82b-4462-ba6e-7d63b8b3c032",
   "metadata": {},
   "source": [
    "# WorkExperience Impute"
   ]
  },
  {
   "cell_type": "code",
   "execution_count": 82,
   "id": "34532d6d-cace-42df-99c6-0f0cd528cb62",
   "metadata": {},
   "outputs": [
    {
     "data": {
      "text/plain": [
       "count    4527.000000\n",
       "mean       10.094323\n",
       "std         6.740908\n",
       "min         0.000000\n",
       "25%         6.000000\n",
       "50%         9.000000\n",
       "75%        13.000000\n",
       "max        32.000000\n",
       "Name: WorkExperience, dtype: float64"
      ]
     },
     "execution_count": 82,
     "metadata": {},
     "output_type": "execute_result"
    }
   ],
   "source": [
    "df['WorkExperience'].describe()"
   ]
  },
  {
   "cell_type": "code",
   "execution_count": 83,
   "id": "6d3b6ae1-9158-4295-9284-7f5dd005ee99",
   "metadata": {},
   "outputs": [
    {
     "data": {
      "image/png": "[encoded data removed]",
      "text/plain": [
       "<Figure size 432x288 with 1 Axes>"
      ]
     },
     "metadata": {
      "needs_background": "light"
     },
     "output_type": "display_data"
    },
    {
     "data": {
      "image/png": "[encoded data removed]",
      "text/plain": [
       "<Figure size 432x288 with 1 Axes>"
      ]
     },
     "metadata": {
      "needs_background": "light"
     },
     "output_type": "display_data"
    },
    {
     "data": {
      "image/png": "[encoded data removed]",
      "text/plain": [
       "<Figure size 432x288 with 1 Axes>"
      ]
     },
     "metadata": {
      "needs_background": "light"
     },
     "output_type": "display_data"
    },
    {
     "data": {
      "image/png": "[encoded data removed]",
      "text/plain": [
       "<Figure size 432x288 with 1 Axes>"
      ]
     },
     "metadata": {
      "needs_background": "light"
     },
     "output_type": "display_data"
    },
    {
     "data": {
      "image/png": "[encoded data removed]",
      "text/plain": [
       "<Figure size 432x288 with 1 Axes>"
      ]
     },
     "metadata": {
      "needs_background": "light"
     },
     "output_type": "display_data"
    },
    {
     "data": {
      "image/png": "[encoded data removed]",
      "text/plain": [
       "<Figure size 432x288 with 1 Axes>"
      ]
     },
     "metadata": {
      "needs_background": "light"
     },
     "output_type": "display_data"
    }
   ],
   "source": [
    "for col in df.select_dtypes(include='object').columns:\n",
    "    plt.figure()\n",
    "    sns.barplot(data=df,y='WorkExperience',x=col)"
   ]
  },
  {
   "cell_type": "code",
   "execution_count": 84,
   "id": "90edc7b8-722a-4c7d-9265-cec57997ad7b",
   "metadata": {},
   "outputs": [
    {
     "data": {
      "text/plain": [
       "Designation\n",
       "AVP               25.0\n",
       "Executive          6.0\n",
       "Manager           10.0\n",
       "Senior Manager    13.0\n",
       "VP                24.0\n",
       "Name: WorkExperience, dtype: float64"
      ]
     },
     "execution_count": 84,
     "metadata": {},
     "output_type": "execute_result"
    }
   ],
   "source": [
    "df.groupby('Designation').median()['WorkExperience']"
   ]
  },
  {
   "cell_type": "code",
   "execution_count": 85,
   "id": "e0546b2f-fe61-4920-8353-f342429275b6",
   "metadata": {},
   "outputs": [],
   "source": [
    "def fill_workexperience(Designation,WorkExperience):\n",
    "    if pd.isna(WorkExperience):\n",
    "        if Designation=='AVP':\n",
    "            ab=25.0\n",
    "        elif Designation=='Executive':\n",
    "            ab=6.0\n",
    "        elif Designation=='Manager':\n",
    "            ab=10.0\n",
    "        elif Designation=='Senior Manager':\n",
    "            ab=14.0\n",
    "        elif Designation=='VP':\n",
    "            ab=25.0\n",
    "    else:\n",
    "        ab=WorkExperience\n",
    "    return ab"
   ]
  },
  {
   "cell_type": "code",
   "execution_count": 86,
   "id": "beea972f-194b-487b-90bd-4568e7c33900",
   "metadata": {},
   "outputs": [],
   "source": [
    "df['WorkExperience']=df.apply(lambda x: fill_workexperience(x['Designation'], x['WorkExperience']), axis=1)"
   ]
  },
  {
   "cell_type": "code",
   "execution_count": 87,
   "id": "ef7bad3f-7e24-4ebc-9764-4f7021431eaa",
   "metadata": {},
   "outputs": [
    {
     "data": {
      "text/plain": [
       "EmployeeID              0\n",
       "Attrition               0\n",
       "Age                     0\n",
       "TravelProfile           0\n",
       "Department              0\n",
       "HomeToWork              0\n",
       "EducationField          0\n",
       "Gender                  0\n",
       "HourlnWeek              0\n",
       "Involvement             0\n",
       "WorkLifeBalance         0\n",
       "Designation             0\n",
       "JobSatisfaction         0\n",
       "ESOPs                   0\n",
       "NumCompaniesWorked      0\n",
       "OverTime                0\n",
       "SalaryHikelastYear      0\n",
       "WorkExperience          0\n",
       "LastPromotion           0\n",
       "CurrentProfile        302\n",
       "MaritalStatus           0\n",
       "MonthlyIncome          86\n",
       "dtype: int64"
      ]
     },
     "execution_count": 87,
     "metadata": {},
     "output_type": "execute_result"
    }
   ],
   "source": [
    "df.isna().sum()"
   ]
  },
  {
   "cell_type": "markdown",
   "id": "33aa2fea-5bab-4e55-bbb3-2b909765396b",
   "metadata": {},
   "source": [
    "# LastPromotion Impute"
   ]
  },
  {
   "cell_type": "code",
   "execution_count": 88,
   "id": "4fb8dd2e-5fc8-468c-9c9c-b9c26b762b97",
   "metadata": {},
   "outputs": [
    {
     "data": {
      "text/plain": [
       "count    4527.000000\n",
       "mean        1.888889\n",
       "std         2.073394\n",
       "min         0.000000\n",
       "25%         0.000000\n",
       "50%         1.000000\n",
       "75%         2.000000\n",
       "max         8.000000\n",
       "Name: LastPromotion, dtype: float64"
      ]
     },
     "execution_count": 88,
     "metadata": {},
     "output_type": "execute_result"
    }
   ],
   "source": [
    "df['LastPromotion'].describe()"
   ]
  },
  {
   "cell_type": "code",
   "execution_count": 89,
   "id": "4bb6e6cd-e751-48bf-8e3e-fa481f26a1ed",
   "metadata": {},
   "outputs": [
    {
     "data": {
      "image/png": "[encoded data removed]",
      "text/plain": [
       "<Figure size 432x288 with 1 Axes>"
      ]
     },
     "metadata": {
      "needs_background": "light"
     },
     "output_type": "display_data"
    },
    {
     "data": {
      "image/png": "[encoded data removed]",
      "text/plain": [
       "<Figure size 432x288 with 1 Axes>"
      ]
     },
     "metadata": {
      "needs_background": "light"
     },
     "output_type": "display_data"
    },
    {
     "data": {
      "image/png": "[encoded data removed]",
      "text/plain": [
       "<Figure size 432x288 with 1 Axes>"
      ]
     },
     "metadata": {
      "needs_background": "light"
     },
     "output_type": "display_data"
    },
    {
     "data": {
      "image/png": "[encoded data removed]",
      "text/plain": [
       "<Figure size 432x288 with 1 Axes>"
      ]
     },
     "metadata": {
      "needs_background": "light"
     },
     "output_type": "display_data"
    },
    {
     "data": {
      "image/png": "[encoded data removed]",
      "text/plain": [
       "<Figure size 432x288 with 1 Axes>"
      ]
     },
     "metadata": {
      "needs_background": "light"
     },
     "output_type": "display_data"
    },
    {
     "data": {
      "image/png": "[encoded data removed]",
      "text/plain": [
       "<Figure size 432x288 with 1 Axes>"
      ]
     },
     "metadata": {
      "needs_background": "light"
     },
     "output_type": "display_data"
    }
   ],
   "source": [
    "for col in df.select_dtypes(include='object').columns:\n",
    "    plt.figure()\n",
    "    sns.barplot(data=df,y='LastPromotion',x=col)"
   ]
  },
  {
   "cell_type": "code",
   "execution_count": 90,
   "id": "b7a1544a-732e-4982-95e0-d042c1fbef3f",
   "metadata": {},
   "outputs": [
    {
     "data": {
      "text/plain": [
       "Designation\n",
       "AVP               2.0\n",
       "Executive         1.0\n",
       "Manager           1.0\n",
       "Senior Manager    2.0\n",
       "VP                2.0\n",
       "Name: LastPromotion, dtype: float64"
      ]
     },
     "execution_count": 90,
     "metadata": {},
     "output_type": "execute_result"
    }
   ],
   "source": [
    "df.groupby('Designation').median()['LastPromotion']"
   ]
  },
  {
   "cell_type": "code",
   "execution_count": 91,
   "id": "cd8f51b2-31ce-445b-a9b7-f925a19cb03f",
   "metadata": {},
   "outputs": [],
   "source": [
    "def fill_lastpromotion(Designation,LastPromotion):\n",
    "    if pd.isna(LastPromotion):\n",
    "        if Designation=='AVP':\n",
    "            ab=2.0\n",
    "        elif Designation=='Executive':\n",
    "            ab=1.0\n",
    "        elif Designation=='Manager':\n",
    "            ab=1.0\n",
    "        elif Designation=='Senior Manager':\n",
    "            ab=2.0\n",
    "        elif Designation=='VP':\n",
    "            ab=2.0\n",
    "    else:\n",
    "        ab=LastPromotion\n",
    "    return ab"
   ]
  },
  {
   "cell_type": "code",
   "execution_count": 92,
   "id": "7a2f651d-3166-4e95-8985-63e7b229ff9e",
   "metadata": {},
   "outputs": [],
   "source": [
    "df['LastPromotion']=df.apply(lambda x: fill_lastpromotion(x['Designation'], x['LastPromotion']), axis=1)"
   ]
  },
  {
   "cell_type": "code",
   "execution_count": 93,
   "id": "e01801b7-9b10-4a49-a50f-16bcf56320ce",
   "metadata": {},
   "outputs": [
    {
     "data": {
      "text/plain": [
       "EmployeeID              0\n",
       "Attrition               0\n",
       "Age                     0\n",
       "TravelProfile           0\n",
       "Department              0\n",
       "HomeToWork              0\n",
       "EducationField          0\n",
       "Gender                  0\n",
       "HourlnWeek              0\n",
       "Involvement             0\n",
       "WorkLifeBalance         0\n",
       "Designation             0\n",
       "JobSatisfaction         0\n",
       "ESOPs                   0\n",
       "NumCompaniesWorked      0\n",
       "OverTime                0\n",
       "SalaryHikelastYear      0\n",
       "WorkExperience          0\n",
       "LastPromotion           0\n",
       "CurrentProfile        302\n",
       "MaritalStatus           0\n",
       "MonthlyIncome          86\n",
       "dtype: int64"
      ]
     },
     "execution_count": 93,
     "metadata": {},
     "output_type": "execute_result"
    }
   ],
   "source": [
    "df.isna().sum()"
   ]
  },
  {
   "cell_type": "markdown",
   "id": "9ec047dd-5be4-432f-b698-13e5bcd31486",
   "metadata": {},
   "source": [
    "# CurrentProfile Impute"
   ]
  },
  {
   "cell_type": "code",
   "execution_count": 94,
   "id": "7c4345b3-bb97-4563-ad5c-7cd7fd1522ef",
   "metadata": {},
   "outputs": [
    {
     "data": {
      "text/plain": [
       "count    4225.000000\n",
       "mean        3.960947\n",
       "std         3.348187\n",
       "min         0.000000\n",
       "25%         1.000000\n",
       "50%         3.000000\n",
       "75%         7.000000\n",
       "max        18.000000\n",
       "Name: CurrentProfile, dtype: float64"
      ]
     },
     "execution_count": 94,
     "metadata": {},
     "output_type": "execute_result"
    }
   ],
   "source": [
    "df['CurrentProfile'].describe()"
   ]
  },
  {
   "cell_type": "code",
   "execution_count": 95,
   "id": "f6e51e42-0171-4ae2-83ab-f7b9cdf1596e",
   "metadata": {},
   "outputs": [
    {
     "data": {
      "image/png": "[encoded data removed]",
      "text/plain": [
       "<Figure size 432x288 with 1 Axes>"
      ]
     },
     "metadata": {
      "needs_background": "light"
     },
     "output_type": "display_data"
    },
    {
     "data": {
      "image/png": "[encoded data removed]",
      "text/plain": [
       "<Figure size 432x288 with 1 Axes>"
      ]
     },
     "metadata": {
      "needs_background": "light"
     },
     "output_type": "display_data"
    },
    {
     "data": {
      "image/png": "[encoded data removed]",
      "text/plain": [
       "<Figure size 432x288 with 1 Axes>"
      ]
     },
     "metadata": {
      "needs_background": "light"
     },
     "output_type": "display_data"
    },
    {
     "data": {
      "image/png": "[encoded data removed]",
      "text/plain": [
       "<Figure size 432x288 with 1 Axes>"
      ]
     },
     "metadata": {
      "needs_background": "light"
     },
     "output_type": "display_data"
    },
    {
     "data": {
      "image/png": "[encoded data removed]",
      "text/plain": [
       "<Figure size 432x288 with 1 Axes>"
      ]
     },
     "metadata": {
      "needs_background": "light"
     },
     "output_type": "display_data"
    },
    {
     "data": {
      "image/png": "[encoded data removed]",
      "text/plain": [
       "<Figure size 432x288 with 1 Axes>"
      ]
     },
     "metadata": {
      "needs_background": "light"
     },
     "output_type": "display_data"
    }
   ],
   "source": [
    "for col in df.select_dtypes(include='object').columns:\n",
    "    plt.figure()\n",
    "    sns.barplot(data=df,y='CurrentProfile',x=col)"
   ]
  },
  {
   "cell_type": "code",
   "execution_count": 96,
   "id": "d9e8a019-1342-4009-af96-bede60219e0a",
   "metadata": {},
   "outputs": [
    {
     "data": {
      "text/plain": [
       "Designation\n",
       "AVP               4.0\n",
       "Executive         2.0\n",
       "Manager           4.0\n",
       "Senior Manager    7.0\n",
       "VP                6.0\n",
       "Name: CurrentProfile, dtype: float64"
      ]
     },
     "execution_count": 96,
     "metadata": {},
     "output_type": "execute_result"
    }
   ],
   "source": [
    "df.groupby('Designation').median()['CurrentProfile']"
   ]
  },
  {
   "cell_type": "code",
   "execution_count": 97,
   "id": "b37772b1-41ec-49a8-8e17-03c7f2263e3f",
   "metadata": {},
   "outputs": [],
   "source": [
    "def fill_currentprofile(Designation,CurrentProfile):\n",
    "    if pd.isna(CurrentProfile):\n",
    "        if Designation=='AVP':\n",
    "            ab=7.0\n",
    "        elif Designation=='Executive':\n",
    "            ab=2.0\n",
    "        elif Designation=='Manager':\n",
    "            ab=4.0\n",
    "        elif Designation=='Senior Manager':\n",
    "            ab=7.0\n",
    "        elif Designation=='VP':\n",
    "            ab=8.0\n",
    "    else:\n",
    "        ab=CurrentProfile\n",
    "    return ab"
   ]
  },
  {
   "cell_type": "code",
   "execution_count": 98,
   "id": "240f73a0-5fcc-4d39-bc24-1cb3689e9eeb",
   "metadata": {},
   "outputs": [],
   "source": [
    "df['CurrentProfile']=df.apply(lambda x: fill_currentprofile(x['Designation'], x['CurrentProfile']), axis=1)"
   ]
  },
  {
   "cell_type": "code",
   "execution_count": 99,
   "id": "59ddb394-3579-4bb2-ae99-faf1b6fdace7",
   "metadata": {},
   "outputs": [
    {
     "data": {
      "text/plain": [
       "EmployeeID             0\n",
       "Attrition              0\n",
       "Age                    0\n",
       "TravelProfile          0\n",
       "Department             0\n",
       "HomeToWork             0\n",
       "EducationField         0\n",
       "Gender                 0\n",
       "HourlnWeek             0\n",
       "Involvement            0\n",
       "WorkLifeBalance        0\n",
       "Designation            0\n",
       "JobSatisfaction        0\n",
       "ESOPs                  0\n",
       "NumCompaniesWorked     0\n",
       "OverTime               0\n",
       "SalaryHikelastYear     0\n",
       "WorkExperience         0\n",
       "LastPromotion          0\n",
       "CurrentProfile         0\n",
       "MaritalStatus          0\n",
       "MonthlyIncome         86\n",
       "dtype: int64"
      ]
     },
     "execution_count": 99,
     "metadata": {},
     "output_type": "execute_result"
    }
   ],
   "source": [
    "df.isna().sum()"
   ]
  },
  {
   "cell_type": "markdown",
   "id": "b1c09fc8-7a27-457a-a229-4a3e63d52c1c",
   "metadata": {},
   "source": [
    "# MonthlyIncome Impute"
   ]
  },
  {
   "cell_type": "code",
   "execution_count": 100,
   "id": "9b2ff6a7-bcd0-479f-b3b3-27de485eb46e",
   "metadata": {},
   "outputs": [
    {
     "data": {
      "text/plain": [
       "count     4441.000000\n",
       "mean     21198.410943\n",
       "std       4316.496348\n",
       "min      16009.000000\n",
       "25%      18211.000000\n",
       "50%      19723.000000\n",
       "75%      22655.000000\n",
       "max      35973.000000\n",
       "Name: MonthlyIncome, dtype: float64"
      ]
     },
     "execution_count": 100,
     "metadata": {},
     "output_type": "execute_result"
    }
   ],
   "source": [
    "df['MonthlyIncome'].describe()"
   ]
  },
  {
   "cell_type": "code",
   "execution_count": 101,
   "id": "423983dd-14df-4cb1-982d-02e98a958d17",
   "metadata": {},
   "outputs": [
    {
     "data": {
      "image/png": "[encoded data removed]",
      "text/plain": [
       "<Figure size 432x288 with 1 Axes>"
      ]
     },
     "metadata": {
      "needs_background": "light"
     },
     "output_type": "display_data"
    },
    {
     "data": {
      "image/png": "[encoded data removed]",
      "text/plain": [
       "<Figure size 432x288 with 1 Axes>"
      ]
     },
     "metadata": {
      "needs_background": "light"
     },
     "output_type": "display_data"
    },
    {
     "data": {
      "image/png": "[encoded data removed]",
      "text/plain": [
       "<Figure size 432x288 with 1 Axes>"
      ]
     },
     "metadata": {
      "needs_background": "light"
     },
     "output_type": "display_data"
    },
    {
     "data": {
      "image/png": "[encoded data removed]",
      "text/plain": [
       "<Figure size 432x288 with 1 Axes>"
      ]
     },
     "metadata": {
      "needs_background": "light"
     },
     "output_type": "display_data"
    },
    {
     "data": {
      "image/png": "[encoded data removed]",
      "text/plain": [
       "<Figure size 432x288 with 1 Axes>"
      ]
     },
     "metadata": {
      "needs_background": "light"
     },
     "output_type": "display_data"
    },
    {
     "data": {
      "image/png": "[encoded data removed]",
      "text/plain": [
       "<Figure size 432x288 with 1 Axes>"
      ]
     },
     "metadata": {
      "needs_background": "light"
     },
     "output_type": "display_data"
    }
   ],
   "source": [
    "for col in df.select_dtypes(include='object').columns:\n",
    "    plt.figure()\n",
    "    sns.barplot(data=df,y='MonthlyIncome',x=col)"
   ]
  },
  {
   "cell_type": "code",
   "execution_count": 102,
   "id": "295f98f3-2ffb-477b-b857-7ac409fe8fba",
   "metadata": {},
   "outputs": [
    {
     "data": {
      "text/plain": [
       "Designation\n",
       "AVP               31012.966981\n",
       "Executive         18158.685828\n",
       "Manager           20922.706006\n",
       "Senior Manager    25281.491446\n",
       "VP                34601.852941\n",
       "Name: MonthlyIncome, dtype: float64"
      ]
     },
     "execution_count": 102,
     "metadata": {},
     "output_type": "execute_result"
    }
   ],
   "source": [
    "df.groupby('Designation').mean()['MonthlyIncome']"
   ]
  },
  {
   "cell_type": "code",
   "execution_count": 103,
   "id": "7fa1dfb0-30f6-4a5c-b360-66d3c18ef0dc",
   "metadata": {},
   "outputs": [
    {
     "data": {
      "text/plain": [
       "Designation\n",
       "AVP               31429.5\n",
       "Executive         18140.0\n",
       "Manager           20528.5\n",
       "Senior Manager    25221.0\n",
       "VP                34561.5\n",
       "Name: MonthlyIncome, dtype: float64"
      ]
     },
     "execution_count": 103,
     "metadata": {},
     "output_type": "execute_result"
    }
   ],
   "source": [
    "df.groupby('Designation').median()['MonthlyIncome']"
   ]
  },
  {
   "cell_type": "code",
   "execution_count": 104,
   "id": "3efc8ccb-55b9-4db0-a1a6-d4f142396e08",
   "metadata": {},
   "outputs": [
    {
     "data": {
      "text/plain": [
       "<AxesSubplot:xlabel='MonthlyIncome'>"
      ]
     },
     "execution_count": 104,
     "metadata": {},
     "output_type": "execute_result"
    },
    {
     "data": {
      "image/png": "[encoded data removed]",
      "text/plain": [
       "<Figure size 432x288 with 1 Axes>"
      ]
     },
     "metadata": {
      "needs_background": "light"
     },
     "output_type": "display_data"
    }
   ],
   "source": [
    "sns.boxplot(df['MonthlyIncome'])"
   ]
  },
  {
   "cell_type": "code",
   "execution_count": 105,
   "id": "e8e48bea-ff8c-4722-8f83-e162322a046b",
   "metadata": {},
   "outputs": [],
   "source": [
    "def fill_currentmi(Designation,MonthlyIncome):\n",
    "    if pd.isna(MonthlyIncome):\n",
    "        if Designation=='AVP':\n",
    "            ab=31307.0\n",
    "        elif Designation=='Executive':\n",
    "            ab=18145.0\n",
    "        elif Designation=='Manager':\n",
    "            ab=20765.0\n",
    "        elif Designation=='Senior Manager':\n",
    "            ab=25333.0\n",
    "        elif Designation=='VP':\n",
    "            ab=34609.5\n",
    "    else:\n",
    "        ab=MonthlyIncome\n",
    "    return ab"
   ]
  },
  {
   "cell_type": "code",
   "execution_count": 106,
   "id": "1d269372-a412-4cda-bc56-c3f8a79d36cd",
   "metadata": {},
   "outputs": [],
   "source": [
    "df['MonthlyIncome']=df.apply(lambda x: fill_currentmi(x['Designation'], x['MonthlyIncome']), axis=1)"
   ]
  },
  {
   "cell_type": "code",
   "execution_count": 107,
   "id": "bef6f52b-8787-4635-a95b-2ca790bf082d",
   "metadata": {},
   "outputs": [
    {
     "data": {
      "text/plain": [
       "EmployeeID            0\n",
       "Attrition             0\n",
       "Age                   0\n",
       "TravelProfile         0\n",
       "Department            0\n",
       "HomeToWork            0\n",
       "EducationField        0\n",
       "Gender                0\n",
       "HourlnWeek            0\n",
       "Involvement           0\n",
       "WorkLifeBalance       0\n",
       "Designation           0\n",
       "JobSatisfaction       0\n",
       "ESOPs                 0\n",
       "NumCompaniesWorked    0\n",
       "OverTime              0\n",
       "SalaryHikelastYear    0\n",
       "WorkExperience        0\n",
       "LastPromotion         0\n",
       "CurrentProfile        0\n",
       "MaritalStatus         0\n",
       "MonthlyIncome         0\n",
       "dtype: int64"
      ]
     },
     "execution_count": 107,
     "metadata": {},
     "output_type": "execute_result"
    }
   ],
   "source": [
    "df.isna().sum()"
   ]
  },
  {
   "cell_type": "code",
   "execution_count": 108,
   "id": "96f7b065-d538-40b1-ba96-cc5ec008ac9d",
   "metadata": {},
   "outputs": [],
   "source": [
    "df=pd.get_dummies(df,drop_first=True)"
   ]
  },
  {
   "cell_type": "code",
   "execution_count": 109,
   "id": "91012da9-d224-4213-a352-863338050fd3",
   "metadata": {},
   "outputs": [
    {
     "data": {
      "text/html": [
       "<div>\n",
       "<style scoped>\n",
       "    .dataframe tbody tr th:only-of-type {\n",
       "        vertical-align: middle;\n",
       "    }\n",
       "\n",
       "    .dataframe tbody tr th {\n",
       "        vertical-align: top;\n",
       "    }\n",
       "\n",
       "    .dataframe thead th {\n",
       "        text-align: right;\n",
       "    }\n",
       "</style>\n",
       "<table border=\"1\" class=\"dataframe\">\n",
       "  <thead>\n",
       "    <tr style=\"text-align: right;\">\n",
       "      <th></th>\n",
       "      <th>EmployeeID</th>\n",
       "      <th>Attrition</th>\n",
       "      <th>Age</th>\n",
       "      <th>HomeToWork</th>\n",
       "      <th>HourlnWeek</th>\n",
       "      <th>Involvement</th>\n",
       "      <th>WorkLifeBalance</th>\n",
       "      <th>JobSatisfaction</th>\n",
       "      <th>ESOPs</th>\n",
       "      <th>NumCompaniesWorked</th>\n",
       "      <th>...</th>\n",
       "      <th>EducationField_Marketing Diploma</th>\n",
       "      <th>EducationField_Other</th>\n",
       "      <th>EducationField_Statistics</th>\n",
       "      <th>Gender_Male</th>\n",
       "      <th>Designation_Executive</th>\n",
       "      <th>Designation_Manager</th>\n",
       "      <th>Designation_Senior Manager</th>\n",
       "      <th>Designation_VP</th>\n",
       "      <th>MaritalStatus_Married</th>\n",
       "      <th>MaritalStatus_Single</th>\n",
       "    </tr>\n",
       "  </thead>\n",
       "  <tbody>\n",
       "    <tr>\n",
       "      <th>0</th>\n",
       "      <td>5110001.0</td>\n",
       "      <td>0.0</td>\n",
       "      <td>35.0</td>\n",
       "      <td>5.0</td>\n",
       "      <td>69.0</td>\n",
       "      <td>1.0</td>\n",
       "      <td>1.0</td>\n",
       "      <td>1.0</td>\n",
       "      <td>1.0</td>\n",
       "      <td>1.0</td>\n",
       "      <td>...</td>\n",
       "      <td>0</td>\n",
       "      <td>0</td>\n",
       "      <td>0</td>\n",
       "      <td>1</td>\n",
       "      <td>1</td>\n",
       "      <td>0</td>\n",
       "      <td>0</td>\n",
       "      <td>0</td>\n",
       "      <td>1</td>\n",
       "      <td>0</td>\n",
       "    </tr>\n",
       "    <tr>\n",
       "      <th>1</th>\n",
       "      <td>5110002.0</td>\n",
       "      <td>1.0</td>\n",
       "      <td>32.0</td>\n",
       "      <td>5.0</td>\n",
       "      <td>62.0</td>\n",
       "      <td>4.0</td>\n",
       "      <td>3.0</td>\n",
       "      <td>2.0</td>\n",
       "      <td>0.0</td>\n",
       "      <td>8.0</td>\n",
       "      <td>...</td>\n",
       "      <td>0</td>\n",
       "      <td>0</td>\n",
       "      <td>1</td>\n",
       "      <td>0</td>\n",
       "      <td>1</td>\n",
       "      <td>0</td>\n",
       "      <td>0</td>\n",
       "      <td>0</td>\n",
       "      <td>0</td>\n",
       "      <td>1</td>\n",
       "    </tr>\n",
       "    <tr>\n",
       "      <th>2</th>\n",
       "      <td>5110003.0</td>\n",
       "      <td>0.0</td>\n",
       "      <td>31.0</td>\n",
       "      <td>5.0</td>\n",
       "      <td>45.0</td>\n",
       "      <td>5.0</td>\n",
       "      <td>3.0</td>\n",
       "      <td>2.0</td>\n",
       "      <td>1.0</td>\n",
       "      <td>3.0</td>\n",
       "      <td>...</td>\n",
       "      <td>0</td>\n",
       "      <td>0</td>\n",
       "      <td>1</td>\n",
       "      <td>0</td>\n",
       "      <td>0</td>\n",
       "      <td>1</td>\n",
       "      <td>0</td>\n",
       "      <td>0</td>\n",
       "      <td>0</td>\n",
       "      <td>1</td>\n",
       "    </tr>\n",
       "    <tr>\n",
       "      <th>3</th>\n",
       "      <td>5110004.0</td>\n",
       "      <td>0.0</td>\n",
       "      <td>34.0</td>\n",
       "      <td>10.0</td>\n",
       "      <td>32.0</td>\n",
       "      <td>3.0</td>\n",
       "      <td>2.0</td>\n",
       "      <td>4.0</td>\n",
       "      <td>1.0</td>\n",
       "      <td>1.0</td>\n",
       "      <td>...</td>\n",
       "      <td>0</td>\n",
       "      <td>0</td>\n",
       "      <td>1</td>\n",
       "      <td>0</td>\n",
       "      <td>0</td>\n",
       "      <td>1</td>\n",
       "      <td>0</td>\n",
       "      <td>0</td>\n",
       "      <td>0</td>\n",
       "      <td>0</td>\n",
       "    </tr>\n",
       "    <tr>\n",
       "      <th>4</th>\n",
       "      <td>5110005.0</td>\n",
       "      <td>0.0</td>\n",
       "      <td>37.0</td>\n",
       "      <td>27.0</td>\n",
       "      <td>49.0</td>\n",
       "      <td>3.0</td>\n",
       "      <td>4.0</td>\n",
       "      <td>4.0</td>\n",
       "      <td>1.0</td>\n",
       "      <td>8.0</td>\n",
       "      <td>...</td>\n",
       "      <td>0</td>\n",
       "      <td>0</td>\n",
       "      <td>1</td>\n",
       "      <td>0</td>\n",
       "      <td>0</td>\n",
       "      <td>1</td>\n",
       "      <td>0</td>\n",
       "      <td>0</td>\n",
       "      <td>0</td>\n",
       "      <td>0</td>\n",
       "    </tr>\n",
       "  </tbody>\n",
       "</table>\n",
       "<p>5 rows × 32 columns</p>\n",
       "</div>"
      ],
      "text/plain": [
       "   EmployeeID  Attrition   Age  HomeToWork  HourlnWeek  Involvement  \\\n",
       "0   5110001.0        0.0  35.0         5.0        69.0          1.0   \n",
       "1   5110002.0        1.0  32.0         5.0        62.0          4.0   \n",
       "2   5110003.0        0.0  31.0         5.0        45.0          5.0   \n",
       "3   5110004.0        0.0  34.0        10.0        32.0          3.0   \n",
       "4   5110005.0        0.0  37.0        27.0        49.0          3.0   \n",
       "\n",
       "   WorkLifeBalance  JobSatisfaction  ESOPs  NumCompaniesWorked  ...  \\\n",
       "0              1.0              1.0    1.0                 1.0  ...   \n",
       "1              3.0              2.0    0.0                 8.0  ...   \n",
       "2              3.0              2.0    1.0                 3.0  ...   \n",
       "3              2.0              4.0    1.0                 1.0  ...   \n",
       "4              4.0              4.0    1.0                 8.0  ...   \n",
       "\n",
       "   EducationField_Marketing Diploma  EducationField_Other  \\\n",
       "0                                 0                     0   \n",
       "1                                 0                     0   \n",
       "2                                 0                     0   \n",
       "3                                 0                     0   \n",
       "4                                 0                     0   \n",
       "\n",
       "   EducationField_Statistics  Gender_Male  Designation_Executive  \\\n",
       "0                          0            1                      1   \n",
       "1                          1            0                      1   \n",
       "2                          1            0                      0   \n",
       "3                          1            0                      0   \n",
       "4                          1            0                      0   \n",
       "\n",
       "   Designation_Manager  Designation_Senior Manager  Designation_VP  \\\n",
       "0                    0                           0               0   \n",
       "1                    0                           0               0   \n",
       "2                    1                           0               0   \n",
       "3                    1                           0               0   \n",
       "4                    1                           0               0   \n",
       "\n",
       "   MaritalStatus_Married  MaritalStatus_Single  \n",
       "0                      1                     0  \n",
       "1                      0                     1  \n",
       "2                      0                     1  \n",
       "3                      0                     0  \n",
       "4                      0                     0  \n",
       "\n",
       "[5 rows x 32 columns]"
      ]
     },
     "execution_count": 109,
     "metadata": {},
     "output_type": "execute_result"
    }
   ],
   "source": [
    "df.head()"
   ]
  }
 ],
 "metadata": {
  "kernelspec": {
   "display_name": "Python 3 (ipykernel)",
   "language": "python",
   "name": "python3"
  },
  "language_info": {
   "codemirror_mode": {
    "name": "ipython",
    "version": 3
   },
   "file_extension": ".py",
   "mimetype": "text/x-python",
   "name": "python",
   "nbconvert_exporter": "python",
   "pygments_lexer": "ipython3",
   "version": "3.9.7"
  }
 },
 "nbformat": 4,
 "nbformat_minor": 5
}

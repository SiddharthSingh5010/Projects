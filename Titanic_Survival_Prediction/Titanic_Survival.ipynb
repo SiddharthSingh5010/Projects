{
 "cells": [
  {
   "cell_type": "markdown",
   "id": "410cb870-b707-420a-ac59-d87da885bb3e",
   "metadata": {},
   "source": [
    "### Siddharth Singh \n",
    "- siddharthsingh5010@gmail.com\n",
    "- shashikant.singh501@gmail.com"
   ]
  },
  {
   "cell_type": "markdown",
   "id": "cca51263-fb32-4730-acd7-37562a313643",
   "metadata": {},
   "source": [
    "# Importing Important libraries "
   ]
  },
  {
   "cell_type": "code",
   "execution_count": 1,
   "id": "9b2a0648-d9c3-4531-8c3f-0f8c09e856b2",
   "metadata": {},
   "outputs": [
    {
     "name": "stderr",
     "output_type": "stream",
     "text": [
      "C:\\Users\\Siddharth\\anaconda3\\lib\\site-packages\\xgboost\\compat.py:36: FutureWarning: pandas.Int64Index is deprecated and will be removed from pandas in a future version. Use pandas.Index with the appropriate dtype instead.\n",
      "  from pandas import MultiIndex, Int64Index\n"
     ]
    }
   ],
   "source": [
    "import pandas as pd\n",
    "import numpy as np\n",
    "import seaborn as sns\n",
    "import matplotlib.pyplot as plt\n",
    "from IPython.display import Image\n",
    "\n",
    "from scipy import stats\n",
    "import re\n",
    "from scipy.stats import zscore\n",
    "from sklearn.preprocessing import StandardScaler\n",
    "\n",
    "from sklearn.model_selection import train_test_split,cross_val_score\n",
    "\n",
    "from sklearn.ensemble import RandomForestClassifier\n",
    "from sklearn.svm import SVC\n",
    "from sklearn.linear_model import SGDClassifier\n",
    "from sklearn.linear_model import LogisticRegression\n",
    "import xgboost\n",
    "from sklearn.neighbors import KNeighborsClassifier\n",
    "from catboost import CatBoostClassifier\n",
    "\n",
    "from sklearn.metrics import accuracy_score,classification_report,confusion_matrix,f1_score\n",
    "\n",
    "%matplotlib inline\n",
    "from warnings import filterwarnings\n",
    "filterwarnings('ignore')\n",
    "\n",
    "import os\n",
    "for dirname, _, filenames in os.walk('/kaggle/input'):\n",
    "    for filename in filenames:\n",
    "        print(os.path.join(dirname, filename))"
   ]
  },
  {
   "cell_type": "markdown",
   "id": "523fdcac-2de0-4f54-a008-80d37d658304",
   "metadata": {},
   "source": [
    "# Loading Train and Test Dataset"
   ]
  },
  {
   "cell_type": "code",
   "execution_count": 2,
   "id": "8d36d638-7117-4ac5-9273-a6c423693fd4",
   "metadata": {},
   "outputs": [],
   "source": [
    "df_train=pd.read_csv('train.csv')\n",
    "df_test=pd.read_csv('test.csv')"
   ]
  },
  {
   "cell_type": "markdown",
   "id": "4e013153-55ba-401e-a0a0-ba1af4bda381",
   "metadata": {},
   "source": [
    "# Creating Combined Dataframe"
   ]
  },
  {
   "cell_type": "code",
   "execution_count": 3,
   "id": "4e12a710-8e7e-4517-944a-dd145312e71f",
   "metadata": {},
   "outputs": [],
   "source": [
    "df_combine=pd.concat([df_train,df_test])"
   ]
  },
  {
   "cell_type": "markdown",
   "id": "5c1f512b-0c36-4658-9d1e-48c4a534b397",
   "metadata": {},
   "source": [
    "# Exploratory Data Analysis"
   ]
  },
  {
   "cell_type": "markdown",
   "id": "6270d604-2087-446f-91b5-f7c4c3b91e28",
   "metadata": {},
   "source": [
    "## Train Dataset "
   ]
  },
  {
   "cell_type": "code",
   "execution_count": 4,
   "id": "e610cd08-a1d7-4351-b3d0-64e01543fef5",
   "metadata": {},
   "outputs": [
    {
     "data": {
      "text/plain": [
       "(891, 12)"
      ]
     },
     "execution_count": 4,
     "metadata": {},
     "output_type": "execute_result"
    }
   ],
   "source": [
    "df_train.shape"
   ]
  },
  {
   "cell_type": "code",
   "execution_count": 5,
   "id": "a9d84fd9-d628-41d0-953b-b7b2d1f5186a",
   "metadata": {},
   "outputs": [
    {
     "data": {
      "text/plain": [
       "PassengerId      0\n",
       "Survived         0\n",
       "Pclass           0\n",
       "Name             0\n",
       "Sex              0\n",
       "Age            177\n",
       "SibSp            0\n",
       "Parch            0\n",
       "Ticket           0\n",
       "Fare             0\n",
       "Cabin          687\n",
       "Embarked         2\n",
       "dtype: int64"
      ]
     },
     "execution_count": 5,
     "metadata": {},
     "output_type": "execute_result"
    }
   ],
   "source": [
    "df_train.isna().sum()"
   ]
  },
  {
   "cell_type": "markdown",
   "id": "a3fe9c27-2998-414c-9429-b17be41401cf",
   "metadata": {},
   "source": [
    "There are 177 null values in Age i.e 19.86% and 687 null values in Cabin i.e 77%. We will be imputing Age null records. Since there is high null rate in Cabin so we dropping Cabin column. There are 2 null values in Embarked, we will be imputing them too.\n"
   ]
  },
  {
   "cell_type": "code",
   "execution_count": 6,
   "id": "ae960635-a32a-479d-8d26-93fa5f3465c2",
   "metadata": {},
   "outputs": [
    {
     "data": {
      "text/html": [
       "<div>\n",
       "<style scoped>\n",
       "    .dataframe tbody tr th:only-of-type {\n",
       "        vertical-align: middle;\n",
       "    }\n",
       "\n",
       "    .dataframe tbody tr th {\n",
       "        vertical-align: top;\n",
       "    }\n",
       "\n",
       "    .dataframe thead th {\n",
       "        text-align: right;\n",
       "    }\n",
       "</style>\n",
       "<table border=\"1\" class=\"dataframe\">\n",
       "  <thead>\n",
       "    <tr style=\"text-align: right;\">\n",
       "      <th></th>\n",
       "      <th>PassengerId</th>\n",
       "      <th>Survived</th>\n",
       "      <th>Pclass</th>\n",
       "      <th>Name</th>\n",
       "      <th>Sex</th>\n",
       "      <th>Age</th>\n",
       "      <th>SibSp</th>\n",
       "      <th>Parch</th>\n",
       "      <th>Ticket</th>\n",
       "      <th>Fare</th>\n",
       "      <th>Cabin</th>\n",
       "      <th>Embarked</th>\n",
       "    </tr>\n",
       "  </thead>\n",
       "  <tbody>\n",
       "    <tr>\n",
       "      <th>count</th>\n",
       "      <td>891.000000</td>\n",
       "      <td>891.000000</td>\n",
       "      <td>891.000000</td>\n",
       "      <td>891</td>\n",
       "      <td>891</td>\n",
       "      <td>714.000000</td>\n",
       "      <td>891.000000</td>\n",
       "      <td>891.000000</td>\n",
       "      <td>891</td>\n",
       "      <td>891.000000</td>\n",
       "      <td>204</td>\n",
       "      <td>889</td>\n",
       "    </tr>\n",
       "    <tr>\n",
       "      <th>unique</th>\n",
       "      <td>NaN</td>\n",
       "      <td>NaN</td>\n",
       "      <td>NaN</td>\n",
       "      <td>891</td>\n",
       "      <td>2</td>\n",
       "      <td>NaN</td>\n",
       "      <td>NaN</td>\n",
       "      <td>NaN</td>\n",
       "      <td>681</td>\n",
       "      <td>NaN</td>\n",
       "      <td>147</td>\n",
       "      <td>3</td>\n",
       "    </tr>\n",
       "    <tr>\n",
       "      <th>top</th>\n",
       "      <td>NaN</td>\n",
       "      <td>NaN</td>\n",
       "      <td>NaN</td>\n",
       "      <td>Braund, Mr. Owen Harris</td>\n",
       "      <td>male</td>\n",
       "      <td>NaN</td>\n",
       "      <td>NaN</td>\n",
       "      <td>NaN</td>\n",
       "      <td>347082</td>\n",
       "      <td>NaN</td>\n",
       "      <td>B96 B98</td>\n",
       "      <td>S</td>\n",
       "    </tr>\n",
       "    <tr>\n",
       "      <th>freq</th>\n",
       "      <td>NaN</td>\n",
       "      <td>NaN</td>\n",
       "      <td>NaN</td>\n",
       "      <td>1</td>\n",
       "      <td>577</td>\n",
       "      <td>NaN</td>\n",
       "      <td>NaN</td>\n",
       "      <td>NaN</td>\n",
       "      <td>7</td>\n",
       "      <td>NaN</td>\n",
       "      <td>4</td>\n",
       "      <td>644</td>\n",
       "    </tr>\n",
       "    <tr>\n",
       "      <th>mean</th>\n",
       "      <td>446.000000</td>\n",
       "      <td>0.383838</td>\n",
       "      <td>2.308642</td>\n",
       "      <td>NaN</td>\n",
       "      <td>NaN</td>\n",
       "      <td>29.699118</td>\n",
       "      <td>0.523008</td>\n",
       "      <td>0.381594</td>\n",
       "      <td>NaN</td>\n",
       "      <td>32.204208</td>\n",
       "      <td>NaN</td>\n",
       "      <td>NaN</td>\n",
       "    </tr>\n",
       "    <tr>\n",
       "      <th>std</th>\n",
       "      <td>257.353842</td>\n",
       "      <td>0.486592</td>\n",
       "      <td>0.836071</td>\n",
       "      <td>NaN</td>\n",
       "      <td>NaN</td>\n",
       "      <td>14.526497</td>\n",
       "      <td>1.102743</td>\n",
       "      <td>0.806057</td>\n",
       "      <td>NaN</td>\n",
       "      <td>49.693429</td>\n",
       "      <td>NaN</td>\n",
       "      <td>NaN</td>\n",
       "    </tr>\n",
       "    <tr>\n",
       "      <th>min</th>\n",
       "      <td>1.000000</td>\n",
       "      <td>0.000000</td>\n",
       "      <td>1.000000</td>\n",
       "      <td>NaN</td>\n",
       "      <td>NaN</td>\n",
       "      <td>0.420000</td>\n",
       "      <td>0.000000</td>\n",
       "      <td>0.000000</td>\n",
       "      <td>NaN</td>\n",
       "      <td>0.000000</td>\n",
       "      <td>NaN</td>\n",
       "      <td>NaN</td>\n",
       "    </tr>\n",
       "    <tr>\n",
       "      <th>25%</th>\n",
       "      <td>223.500000</td>\n",
       "      <td>0.000000</td>\n",
       "      <td>2.000000</td>\n",
       "      <td>NaN</td>\n",
       "      <td>NaN</td>\n",
       "      <td>20.125000</td>\n",
       "      <td>0.000000</td>\n",
       "      <td>0.000000</td>\n",
       "      <td>NaN</td>\n",
       "      <td>7.910400</td>\n",
       "      <td>NaN</td>\n",
       "      <td>NaN</td>\n",
       "    </tr>\n",
       "    <tr>\n",
       "      <th>50%</th>\n",
       "      <td>446.000000</td>\n",
       "      <td>0.000000</td>\n",
       "      <td>3.000000</td>\n",
       "      <td>NaN</td>\n",
       "      <td>NaN</td>\n",
       "      <td>28.000000</td>\n",
       "      <td>0.000000</td>\n",
       "      <td>0.000000</td>\n",
       "      <td>NaN</td>\n",
       "      <td>14.454200</td>\n",
       "      <td>NaN</td>\n",
       "      <td>NaN</td>\n",
       "    </tr>\n",
       "    <tr>\n",
       "      <th>75%</th>\n",
       "      <td>668.500000</td>\n",
       "      <td>1.000000</td>\n",
       "      <td>3.000000</td>\n",
       "      <td>NaN</td>\n",
       "      <td>NaN</td>\n",
       "      <td>38.000000</td>\n",
       "      <td>1.000000</td>\n",
       "      <td>0.000000</td>\n",
       "      <td>NaN</td>\n",
       "      <td>31.000000</td>\n",
       "      <td>NaN</td>\n",
       "      <td>NaN</td>\n",
       "    </tr>\n",
       "    <tr>\n",
       "      <th>max</th>\n",
       "      <td>891.000000</td>\n",
       "      <td>1.000000</td>\n",
       "      <td>3.000000</td>\n",
       "      <td>NaN</td>\n",
       "      <td>NaN</td>\n",
       "      <td>80.000000</td>\n",
       "      <td>8.000000</td>\n",
       "      <td>6.000000</td>\n",
       "      <td>NaN</td>\n",
       "      <td>512.329200</td>\n",
       "      <td>NaN</td>\n",
       "      <td>NaN</td>\n",
       "    </tr>\n",
       "  </tbody>\n",
       "</table>\n",
       "</div>"
      ],
      "text/plain": [
       "        PassengerId    Survived      Pclass                     Name   Sex  \\\n",
       "count    891.000000  891.000000  891.000000                      891   891   \n",
       "unique          NaN         NaN         NaN                      891     2   \n",
       "top             NaN         NaN         NaN  Braund, Mr. Owen Harris  male   \n",
       "freq            NaN         NaN         NaN                        1   577   \n",
       "mean     446.000000    0.383838    2.308642                      NaN   NaN   \n",
       "std      257.353842    0.486592    0.836071                      NaN   NaN   \n",
       "min        1.000000    0.000000    1.000000                      NaN   NaN   \n",
       "25%      223.500000    0.000000    2.000000                      NaN   NaN   \n",
       "50%      446.000000    0.000000    3.000000                      NaN   NaN   \n",
       "75%      668.500000    1.000000    3.000000                      NaN   NaN   \n",
       "max      891.000000    1.000000    3.000000                      NaN   NaN   \n",
       "\n",
       "               Age       SibSp       Parch  Ticket        Fare    Cabin  \\\n",
       "count   714.000000  891.000000  891.000000     891  891.000000      204   \n",
       "unique         NaN         NaN         NaN     681         NaN      147   \n",
       "top            NaN         NaN         NaN  347082         NaN  B96 B98   \n",
       "freq           NaN         NaN         NaN       7         NaN        4   \n",
       "mean     29.699118    0.523008    0.381594     NaN   32.204208      NaN   \n",
       "std      14.526497    1.102743    0.806057     NaN   49.693429      NaN   \n",
       "min       0.420000    0.000000    0.000000     NaN    0.000000      NaN   \n",
       "25%      20.125000    0.000000    0.000000     NaN    7.910400      NaN   \n",
       "50%      28.000000    0.000000    0.000000     NaN   14.454200      NaN   \n",
       "75%      38.000000    1.000000    0.000000     NaN   31.000000      NaN   \n",
       "max      80.000000    8.000000    6.000000     NaN  512.329200      NaN   \n",
       "\n",
       "       Embarked  \n",
       "count       889  \n",
       "unique        3  \n",
       "top           S  \n",
       "freq        644  \n",
       "mean        NaN  \n",
       "std         NaN  \n",
       "min         NaN  \n",
       "25%         NaN  \n",
       "50%         NaN  \n",
       "75%         NaN  \n",
       "max         NaN  "
      ]
     },
     "execution_count": 6,
     "metadata": {},
     "output_type": "execute_result"
    }
   ],
   "source": [
    "df_train.describe(include='all')"
   ]
  },
  {
   "cell_type": "code",
   "execution_count": 7,
   "id": "326fda6c-acca-438f-b706-078841316fab",
   "metadata": {},
   "outputs": [
    {
     "data": {
      "text/plain": [
       "Index(['PassengerId', 'Survived', 'Pclass', 'Name', 'Sex', 'Age', 'SibSp',\n",
       "       'Parch', 'Ticket', 'Fare', 'Cabin', 'Embarked'],\n",
       "      dtype='object')"
      ]
     },
     "execution_count": 7,
     "metadata": {},
     "output_type": "execute_result"
    }
   ],
   "source": [
    "df_train.columns"
   ]
  },
  {
   "cell_type": "code",
   "execution_count": 8,
   "id": "e2422ad7-4583-443e-b52b-a152ef1abb71",
   "metadata": {},
   "outputs": [
    {
     "data": {
      "image/png": "[encoded data removed]",
      "text/plain": [
       "<Figure size 432x288 with 1 Axes>"
      ]
     },
     "metadata": {
      "needs_background": "light"
     },
     "output_type": "display_data"
    }
   ],
   "source": [
    "sns.countplot(df_train['Survived']);"
   ]
  },
  {
   "cell_type": "markdown",
   "id": "ddbeea7a-df24-4b32-9ce2-85fac804b935",
   "metadata": {},
   "source": [
    "There is fair distribution of target class"
   ]
  },
  {
   "cell_type": "code",
   "execution_count": 9,
   "id": "40b6989a-f542-4041-8436-949e28ae537a",
   "metadata": {},
   "outputs": [
    {
     "data": {
      "image/png": "[encoded data removed]",
      "text/plain": [
       "<Figure size 432x288 with 1 Axes>"
      ]
     },
     "metadata": {
      "needs_background": "light"
     },
     "output_type": "display_data"
    }
   ],
   "source": [
    "sns.countplot(df_train['Pclass']);"
   ]
  },
  {
   "cell_type": "code",
   "execution_count": 10,
   "id": "59e3b833-9096-4343-aae0-a76fbb000cb2",
   "metadata": {},
   "outputs": [
    {
     "data": {
      "image/png": "[encoded data removed]",
      "text/plain": [
       "<Figure size 432x288 with 1 Axes>"
      ]
     },
     "metadata": {
      "needs_background": "light"
     },
     "output_type": "display_data"
    }
   ],
   "source": [
    "sns.countplot(df_train['Pclass'],hue=df_train['Survived']);"
   ]
  },
  {
   "cell_type": "code",
   "execution_count": 11,
   "id": "38f5b9ee-02ad-4bc8-a1ca-7c049357ed6f",
   "metadata": {},
   "outputs": [
    {
     "data": {
      "image/png": "[encoded data removed]",
      "text/plain": [
       "<Figure size 432x288 with 1 Axes>"
      ]
     },
     "metadata": {
      "needs_background": "light"
     },
     "output_type": "display_data"
    }
   ],
   "source": [
    "sns.countplot(df_train['Sex']);"
   ]
  },
  {
   "cell_type": "code",
   "execution_count": 12,
   "id": "1b5dffa5-be5f-4f70-9634-59627e96b007",
   "metadata": {},
   "outputs": [
    {
     "data": {
      "image/png": "[encoded data removed]",
      "text/plain": [
       "<Figure size 432x288 with 1 Axes>"
      ]
     },
     "metadata": {
      "needs_background": "light"
     },
     "output_type": "display_data"
    }
   ],
   "source": [
    "sns.countplot(df_train['Sex'],hue=df_train['Survived']);"
   ]
  },
  {
   "cell_type": "markdown",
   "id": "1a6e284e-e917-4f76-8662-1ddd803a5cd7",
   "metadata": {},
   "source": [
    "Female survived more than male, Proof that many Jacks died for their Roses :D  "
   ]
  },
  {
   "cell_type": "code",
   "execution_count": 13,
   "id": "a7016b72-c022-4acd-bcb7-7c6579437c16",
   "metadata": {},
   "outputs": [
    {
     "data": {
      "image/png": "[encoded data removed]",
      "text/plain": [
       "<Figure size 432x288 with 1 Axes>"
      ]
     },
     "metadata": {
      "needs_background": "light"
     },
     "output_type": "display_data"
    }
   ],
   "source": [
    "sns.histplot(df_train['Age'],kde=True);"
   ]
  },
  {
   "cell_type": "code",
   "execution_count": 14,
   "id": "d49bb575-d6a0-4919-9e30-c62dbbf0b27e",
   "metadata": {},
   "outputs": [
    {
     "data": {
      "image/png": "[encoded data removed]",
      "text/plain": [
       "<Figure size 432x288 with 1 Axes>"
      ]
     },
     "metadata": {
      "needs_background": "light"
     },
     "output_type": "display_data"
    }
   ],
   "source": [
    "sns.boxenplot(df_train['Age']);"
   ]
  },
  {
   "cell_type": "markdown",
   "id": "12399916-8b52-4ecf-963e-5a5cd4a3e8c5",
   "metadata": {},
   "source": [
    "Age is right skewed. We can use box cox transformation to treat this. Also there are outliers present in it which need to be treated"
   ]
  },
  {
   "cell_type": "code",
   "execution_count": 15,
   "id": "8eb4bbd7-4c19-4578-a6bc-6ea7e761720b",
   "metadata": {},
   "outputs": [
    {
     "data": {
      "image/png": "[encoded data removed]",
      "text/plain": [
       "<Figure size 432x288 with 1 Axes>"
      ]
     },
     "metadata": {
      "needs_background": "light"
     },
     "output_type": "display_data"
    }
   ],
   "source": [
    "sns.countplot(df_train['SibSp'],hue=df_train['Survived']);"
   ]
  },
  {
   "cell_type": "code",
   "execution_count": 16,
   "id": "2ab8f11f-24fd-42de-90b0-3d80712de270",
   "metadata": {},
   "outputs": [
    {
     "data": {
      "image/png": "[encoded data removed]",
      "text/plain": [
       "<Figure size 432x288 with 1 Axes>"
      ]
     },
     "metadata": {
      "needs_background": "light"
     },
     "output_type": "display_data"
    }
   ],
   "source": [
    "sns.countplot(df_train['Parch'],hue=df_train['Survived']);"
   ]
  },
  {
   "cell_type": "markdown",
   "id": "b01c413b-ebe1-4cb9-aa16-e8ff9e1646d0",
   "metadata": {},
   "source": [
    "High number of passengers are traveling alone. We can create number of relative feature from these two."
   ]
  },
  {
   "cell_type": "code",
   "execution_count": 17,
   "id": "77969055-3bf3-4f6a-b98b-2a4d19a3f1e5",
   "metadata": {},
   "outputs": [
    {
     "data": {
      "text/plain": [
       "Parch\n",
       "0    0.343658\n",
       "1    0.550847\n",
       "2    0.500000\n",
       "3    0.600000\n",
       "4    0.000000\n",
       "5    0.200000\n",
       "6    0.000000\n",
       "Name: Survived, dtype: float64"
      ]
     },
     "execution_count": 17,
     "metadata": {},
     "output_type": "execute_result"
    }
   ],
   "source": [
    "df_train.groupby(['Parch']).mean()['Survived']"
   ]
  },
  {
   "cell_type": "code",
   "execution_count": 18,
   "id": "173591f5-146d-48f5-8ed7-22681b2c6d59",
   "metadata": {},
   "outputs": [
    {
     "data": {
      "text/plain": [
       "SibSp\n",
       "0    0.345395\n",
       "1    0.535885\n",
       "2    0.464286\n",
       "3    0.250000\n",
       "4    0.166667\n",
       "5    0.000000\n",
       "8    0.000000\n",
       "Name: Survived, dtype: float64"
      ]
     },
     "execution_count": 18,
     "metadata": {},
     "output_type": "execute_result"
    }
   ],
   "source": [
    "df_train.groupby(['SibSp']).mean()['Survived']"
   ]
  },
  {
   "cell_type": "markdown",
   "id": "acce7ff3-a24e-4bd7-bd77-28f18156132c",
   "metadata": {},
   "source": [
    "Also with increasing number of relative there is decline in survival rate."
   ]
  },
  {
   "cell_type": "code",
   "execution_count": 19,
   "id": "bdab6fe4-9fae-4db0-bf74-b0c83c37092c",
   "metadata": {},
   "outputs": [
    {
     "data": {
      "image/png": "[encoded data removed]",
      "text/plain": [
       "<Figure size 432x288 with 1 Axes>"
      ]
     },
     "metadata": {
      "needs_background": "light"
     },
     "output_type": "display_data"
    }
   ],
   "source": [
    "sns.histplot(df_train['Fare']);"
   ]
  },
  {
   "cell_type": "code",
   "execution_count": 20,
   "id": "78d4c7ec-72d7-45b7-b1ac-1654780a2486",
   "metadata": {},
   "outputs": [
    {
     "data": {
      "image/png": "[encoded data removed]",
      "text/plain": [
       "<Figure size 432x288 with 1 Axes>"
      ]
     },
     "metadata": {
      "needs_background": "light"
     },
     "output_type": "display_data"
    }
   ],
   "source": [
    "sns.boxenplot(df_train['Fare']);"
   ]
  },
  {
   "cell_type": "markdown",
   "id": "bcf1d389-d0fd-42a1-ba1b-e6e0a7ddc7b8",
   "metadata": {},
   "source": [
    "There are outleirs present in Fare which need to be treated."
   ]
  },
  {
   "cell_type": "code",
   "execution_count": 21,
   "id": "c3c190d9-cb36-4004-a261-55941a770842",
   "metadata": {},
   "outputs": [
    {
     "data": {
      "image/png": "[encoded data removed]",
      "text/plain": [
       "<Figure size 432x288 with 1 Axes>"
      ]
     },
     "metadata": {
      "needs_background": "light"
     },
     "output_type": "display_data"
    }
   ],
   "source": [
    "sns.countplot(df_train['Embarked']);"
   ]
  },
  {
   "cell_type": "markdown",
   "id": "68573f23-b7cd-4e9b-a4db-754561c37aad",
   "metadata": {},
   "source": [
    "# Extracting Information from Combined Dataset"
   ]
  },
  {
   "cell_type": "code",
   "execution_count": 22,
   "id": "b60b29d3-4dd1-4244-b659-34f4c6e6b488",
   "metadata": {},
   "outputs": [
    {
     "data": {
      "text/html": [
       "<div>\n",
       "<style scoped>\n",
       "    .dataframe tbody tr th:only-of-type {\n",
       "        vertical-align: middle;\n",
       "    }\n",
       "\n",
       "    .dataframe tbody tr th {\n",
       "        vertical-align: top;\n",
       "    }\n",
       "\n",
       "    .dataframe thead th {\n",
       "        text-align: right;\n",
       "    }\n",
       "</style>\n",
       "<table border=\"1\" class=\"dataframe\">\n",
       "  <thead>\n",
       "    <tr style=\"text-align: right;\">\n",
       "      <th></th>\n",
       "      <th>Pclass</th>\n",
       "      <th>Age</th>\n",
       "    </tr>\n",
       "  </thead>\n",
       "  <tbody>\n",
       "    <tr>\n",
       "      <th>0</th>\n",
       "      <td>1</td>\n",
       "      <td>39.0</td>\n",
       "    </tr>\n",
       "    <tr>\n",
       "      <th>1</th>\n",
       "      <td>2</td>\n",
       "      <td>29.0</td>\n",
       "    </tr>\n",
       "    <tr>\n",
       "      <th>2</th>\n",
       "      <td>3</td>\n",
       "      <td>24.0</td>\n",
       "    </tr>\n",
       "  </tbody>\n",
       "</table>\n",
       "</div>"
      ],
      "text/plain": [
       "   Pclass   Age\n",
       "0       1  39.0\n",
       "1       2  29.0\n",
       "2       3  24.0"
      ]
     },
     "execution_count": 22,
     "metadata": {},
     "output_type": "execute_result"
    }
   ],
   "source": [
    "df_combine.groupby(['Pclass']).median()['Age'].reset_index()"
   ]
  },
  {
   "cell_type": "code",
   "execution_count": 23,
   "id": "e74f0461-dfc3-4be8-ae47-d0855dab9207",
   "metadata": {},
   "outputs": [
    {
     "data": {
      "text/html": [
       "<div>\n",
       "<style scoped>\n",
       "    .dataframe tbody tr th:only-of-type {\n",
       "        vertical-align: middle;\n",
       "    }\n",
       "\n",
       "    .dataframe tbody tr th {\n",
       "        vertical-align: top;\n",
       "    }\n",
       "\n",
       "    .dataframe thead th {\n",
       "        text-align: right;\n",
       "    }\n",
       "</style>\n",
       "<table border=\"1\" class=\"dataframe\">\n",
       "  <thead>\n",
       "    <tr style=\"text-align: right;\">\n",
       "      <th></th>\n",
       "      <th>Pclass</th>\n",
       "      <th>Sex</th>\n",
       "      <th>Age</th>\n",
       "    </tr>\n",
       "  </thead>\n",
       "  <tbody>\n",
       "    <tr>\n",
       "      <th>0</th>\n",
       "      <td>1</td>\n",
       "      <td>female</td>\n",
       "      <td>36.0</td>\n",
       "    </tr>\n",
       "    <tr>\n",
       "      <th>1</th>\n",
       "      <td>1</td>\n",
       "      <td>male</td>\n",
       "      <td>42.0</td>\n",
       "    </tr>\n",
       "    <tr>\n",
       "      <th>2</th>\n",
       "      <td>2</td>\n",
       "      <td>female</td>\n",
       "      <td>28.0</td>\n",
       "    </tr>\n",
       "    <tr>\n",
       "      <th>3</th>\n",
       "      <td>2</td>\n",
       "      <td>male</td>\n",
       "      <td>29.5</td>\n",
       "    </tr>\n",
       "    <tr>\n",
       "      <th>4</th>\n",
       "      <td>3</td>\n",
       "      <td>female</td>\n",
       "      <td>22.0</td>\n",
       "    </tr>\n",
       "    <tr>\n",
       "      <th>5</th>\n",
       "      <td>3</td>\n",
       "      <td>male</td>\n",
       "      <td>25.0</td>\n",
       "    </tr>\n",
       "  </tbody>\n",
       "</table>\n",
       "</div>"
      ],
      "text/plain": [
       "   Pclass     Sex   Age\n",
       "0       1  female  36.0\n",
       "1       1    male  42.0\n",
       "2       2  female  28.0\n",
       "3       2    male  29.5\n",
       "4       3  female  22.0\n",
       "5       3    male  25.0"
      ]
     },
     "execution_count": 23,
     "metadata": {},
     "output_type": "execute_result"
    }
   ],
   "source": [
    "df_combine.groupby(['Pclass','Sex']).median()['Age'].reset_index()"
   ]
  },
  {
   "cell_type": "markdown",
   "id": "560ced8d-8c9d-4ffc-bc83-fae24a3a52b1",
   "metadata": {},
   "source": [
    "Both Male and Female age is lower in Pclass 3 and increases toward Pclass 1."
   ]
  },
  {
   "cell_type": "code",
   "execution_count": 24,
   "id": "a9e4902d-4790-4c49-8695-6a18c852a827",
   "metadata": {},
   "outputs": [],
   "source": [
    "age_median=df_combine['Age'].dropna().median()\n",
    "age_mean=df_combine['Age'].dropna().mean()\n",
    "age_std=df_combine['Age'].dropna().std()\n",
    "fare_median=df_combine['Fare'].dropna().median()\n",
    "fare_mean=df_combine['Fare'].dropna().mean()\n",
    "fare_std=df_combine['Fare'].dropna().std()"
   ]
  },
  {
   "cell_type": "code",
   "execution_count": 25,
   "id": "949641d2-5b88-4421-977f-18d2d00421f5",
   "metadata": {},
   "outputs": [
    {
     "name": "stdout",
     "output_type": "stream",
     "text": [
      "Median Age : 28.0\n",
      "Mean Age : 29.881137667304014\n",
      "Std Age : 14.413493211271334\n",
      "Median Fare : 14.4542\n",
      "Mean Fare : 33.2954792813456\n",
      "Std Fare : 51.75866823917414\n"
     ]
    }
   ],
   "source": [
    "print('Median Age : {}'.format(age_median))\n",
    "print('Mean Age : {}'.format(age_mean))\n",
    "print('Std Age : {}'.format(age_std))\n",
    "print('Median Fare : {}'.format(fare_median))\n",
    "print('Mean Fare : {}'.format(fare_mean))\n",
    "print('Std Fare : {}'.format(fare_std))"
   ]
  },
  {
   "cell_type": "code",
   "execution_count": 26,
   "id": "006678c3-9f81-4940-a865-c7ed5e4bf46b",
   "metadata": {},
   "outputs": [
    {
     "data": {
      "text/html": [
       "<div>\n",
       "<style scoped>\n",
       "    .dataframe tbody tr th:only-of-type {\n",
       "        vertical-align: middle;\n",
       "    }\n",
       "\n",
       "    .dataframe tbody tr th {\n",
       "        vertical-align: top;\n",
       "    }\n",
       "\n",
       "    .dataframe thead th {\n",
       "        text-align: right;\n",
       "    }\n",
       "</style>\n",
       "<table border=\"1\" class=\"dataframe\">\n",
       "  <thead>\n",
       "    <tr style=\"text-align: right;\">\n",
       "      <th></th>\n",
       "      <th>PassengerId</th>\n",
       "      <th>Survived</th>\n",
       "      <th>Pclass</th>\n",
       "      <th>Name</th>\n",
       "      <th>Sex</th>\n",
       "      <th>Age</th>\n",
       "      <th>SibSp</th>\n",
       "      <th>Parch</th>\n",
       "      <th>Ticket</th>\n",
       "      <th>Fare</th>\n",
       "      <th>Cabin</th>\n",
       "      <th>Embarked</th>\n",
       "    </tr>\n",
       "  </thead>\n",
       "  <tbody>\n",
       "    <tr>\n",
       "      <th>0</th>\n",
       "      <td>1</td>\n",
       "      <td>0.0</td>\n",
       "      <td>3</td>\n",
       "      <td>Braund, Mr. Owen Harris</td>\n",
       "      <td>male</td>\n",
       "      <td>22.0</td>\n",
       "      <td>1</td>\n",
       "      <td>0</td>\n",
       "      <td>A/5 21171</td>\n",
       "      <td>7.2500</td>\n",
       "      <td>NaN</td>\n",
       "      <td>S</td>\n",
       "    </tr>\n",
       "    <tr>\n",
       "      <th>1</th>\n",
       "      <td>2</td>\n",
       "      <td>1.0</td>\n",
       "      <td>1</td>\n",
       "      <td>Cumings, Mrs. John Bradley (Florence Briggs Th...</td>\n",
       "      <td>female</td>\n",
       "      <td>38.0</td>\n",
       "      <td>1</td>\n",
       "      <td>0</td>\n",
       "      <td>PC 17599</td>\n",
       "      <td>71.2833</td>\n",
       "      <td>C85</td>\n",
       "      <td>C</td>\n",
       "    </tr>\n",
       "    <tr>\n",
       "      <th>2</th>\n",
       "      <td>3</td>\n",
       "      <td>1.0</td>\n",
       "      <td>3</td>\n",
       "      <td>Heikkinen, Miss. Laina</td>\n",
       "      <td>female</td>\n",
       "      <td>26.0</td>\n",
       "      <td>0</td>\n",
       "      <td>0</td>\n",
       "      <td>STON/O2. 3101282</td>\n",
       "      <td>7.9250</td>\n",
       "      <td>NaN</td>\n",
       "      <td>S</td>\n",
       "    </tr>\n",
       "    <tr>\n",
       "      <th>3</th>\n",
       "      <td>4</td>\n",
       "      <td>1.0</td>\n",
       "      <td>1</td>\n",
       "      <td>Futrelle, Mrs. Jacques Heath (Lily May Peel)</td>\n",
       "      <td>female</td>\n",
       "      <td>35.0</td>\n",
       "      <td>1</td>\n",
       "      <td>0</td>\n",
       "      <td>113803</td>\n",
       "      <td>53.1000</td>\n",
       "      <td>C123</td>\n",
       "      <td>S</td>\n",
       "    </tr>\n",
       "    <tr>\n",
       "      <th>4</th>\n",
       "      <td>5</td>\n",
       "      <td>0.0</td>\n",
       "      <td>3</td>\n",
       "      <td>Allen, Mr. William Henry</td>\n",
       "      <td>male</td>\n",
       "      <td>35.0</td>\n",
       "      <td>0</td>\n",
       "      <td>0</td>\n",
       "      <td>373450</td>\n",
       "      <td>8.0500</td>\n",
       "      <td>NaN</td>\n",
       "      <td>S</td>\n",
       "    </tr>\n",
       "  </tbody>\n",
       "</table>\n",
       "</div>"
      ],
      "text/plain": [
       "   PassengerId  Survived  Pclass  \\\n",
       "0            1       0.0       3   \n",
       "1            2       1.0       1   \n",
       "2            3       1.0       3   \n",
       "3            4       1.0       1   \n",
       "4            5       0.0       3   \n",
       "\n",
       "                                                Name     Sex   Age  SibSp  \\\n",
       "0                            Braund, Mr. Owen Harris    male  22.0      1   \n",
       "1  Cumings, Mrs. John Bradley (Florence Briggs Th...  female  38.0      1   \n",
       "2                             Heikkinen, Miss. Laina  female  26.0      0   \n",
       "3       Futrelle, Mrs. Jacques Heath (Lily May Peel)  female  35.0      1   \n",
       "4                           Allen, Mr. William Henry    male  35.0      0   \n",
       "\n",
       "   Parch            Ticket     Fare Cabin Embarked  \n",
       "0      0         A/5 21171   7.2500   NaN        S  \n",
       "1      0          PC 17599  71.2833   C85        C  \n",
       "2      0  STON/O2. 3101282   7.9250   NaN        S  \n",
       "3      0            113803  53.1000  C123        S  \n",
       "4      0            373450   8.0500   NaN        S  "
      ]
     },
     "execution_count": 26,
     "metadata": {},
     "output_type": "execute_result"
    }
   ],
   "source": [
    "df_combine.head()"
   ]
  },
  {
   "cell_type": "code",
   "execution_count": 27,
   "id": "250617fd-68a1-4aba-89a8-ef2476acda1a",
   "metadata": {},
   "outputs": [
    {
     "data": {
      "text/plain": [
       "S    914\n",
       "C    270\n",
       "Q    123\n",
       "Name: Embarked, dtype: int64"
      ]
     },
     "execution_count": 27,
     "metadata": {},
     "output_type": "execute_result"
    }
   ],
   "source": [
    "df_combine['Embarked'].value_counts()"
   ]
  },
  {
   "cell_type": "code",
   "execution_count": 28,
   "id": "8e0e676f-be70-418d-aadb-7d2645663ebc",
   "metadata": {},
   "outputs": [
    {
     "data": {
      "text/plain": [
       "Embarked\n",
       "C    28.51875\n",
       "Q     7.75000\n",
       "S    13.00000\n",
       "Name: Fare, dtype: float64"
      ]
     },
     "execution_count": 28,
     "metadata": {},
     "output_type": "execute_result"
    }
   ],
   "source": [
    "df_combine.groupby('Embarked').median()['Fare']"
   ]
  },
  {
   "cell_type": "code",
   "execution_count": 29,
   "id": "ed97c2c8-2989-4221-8bbc-6f20a33c2ade",
   "metadata": {},
   "outputs": [],
   "source": [
    "# Treat Outliers\n",
    "def treat_outliers(df1,colname,newcolname):\n",
    "    df=df1.copy()\n",
    "    Q1,Q3=df[colname].quantile([0.25,0.75])\n",
    "    IQR=Q3-Q1\n",
    "    UL=Q3+1.5*IQR\n",
    "    LL=Q1-1.5*IQR\n",
    "    df[newcolname]=np.where(df[colname]>UL,UL,df[colname])\n",
    "    df[newcolname]=np.where(df[colname]<LL,LL,df[colname])\n",
    "    return df"
   ]
  },
  {
   "cell_type": "code",
   "execution_count": 30,
   "id": "4a80017e-25f4-4395-9ee9-0dd13465083a",
   "metadata": {},
   "outputs": [],
   "source": [
    "# Count Letter, Number and Symbols in Ticket \n",
    "def lcount(ticket,rtype):\n",
    "    letter_count=0\n",
    "    number_count=0\n",
    "    symbol_count=0\n",
    "    for character in ticket:\n",
    "            if character.isalpha():\n",
    "                letter_count += 1\n",
    "            elif character.isnumeric():\n",
    "                number_count += 1\n",
    "            elif character == \" \":\n",
    "                pass\n",
    "            else:\n",
    "                symbol_count += 1\n",
    "    if rtype==1:\n",
    "        return letter_count\n",
    "    elif rtype==2:\n",
    "        return number_count\n",
    "    else:\n",
    "        return symbol_count"
   ]
  },
  {
   "cell_type": "markdown",
   "id": "ab625bcb-0ba9-4b68-9a1a-0ab3d2b96dcd",
   "metadata": {},
   "source": [
    "# Processing Data Function"
   ]
  },
  {
   "cell_type": "code",
   "execution_count": 31,
   "id": "1adf881e-bf80-4ea5-9aee-92c568126f74",
   "metadata": {},
   "outputs": [],
   "source": [
    "def process_data(df1,train=True):\n",
    "    df=df1.copy() \n",
    "    df['Age']=df['Age'].fillna(age_median)\n",
    "    df['Fare']=df['Fare'].fillna(45) # Imputed Fare more than mean\n",
    "    df['Embarked'].replace({'Q':1,'S':2,'C':3},inplace=True)\n",
    "    df['Sex'].replace({'male':1,'female':0},inplace=True)\n",
    "    df['Embarked'].fillna(2,inplace=True)\n",
    "    df['family']=df.SibSp+df.Parch+1\n",
    "    df['pfamily']=df['family']*df['Pclass']\n",
    "    df['Age*pclass']=df['Age']*df['Pclass']\n",
    "    \n",
    "    df['Ticket'].fillna(\"A\",inplace=True)\n",
    "    df['Ticket_L']=df['Ticket'].apply(lambda x:lcount(x,1))\n",
    "    df['Ticket_N']=df['Ticket'].apply(lambda x:lcount(x,2))\n",
    "    df['Ticket_S']=df['Ticket'].apply(lambda x:lcount(x,3))\n",
    "    \n",
    "    df['TicketL*embarked']=df['Ticket_L']*df['Embarked']\n",
    "    df['TicketN*embarked']=df['Ticket_N']*df['Embarked']\n",
    "    df['TicketS*embarked']=df['Ticket_S']*df['Embarked']\n",
    "\n",
    "    df['Ticket']=df['Ticket'].apply(lambda x:len(x))\n",
    "    \n",
    "    # Treating outliers in Age and Fare\n",
    "    df=treat_outliers(df,'Age','Age')\n",
    "    df=treat_outliers(df,'Fare','Fare')\n",
    "\n",
    "    # Dropping PassengerId, Name and Cabin\n",
    "    df.drop(['PassengerId','Name','Cabin'],axis=1,inplace=True)\n",
    "    df=pd.get_dummies(df)\n",
    "    \n",
    "    return df"
   ]
  },
  {
   "cell_type": "markdown",
   "id": "cab81952-097f-4d6e-9d0e-010cf918bdfe",
   "metadata": {},
   "source": [
    "# Train Set "
   ]
  },
  {
   "cell_type": "code",
   "execution_count": 32,
   "id": "9fcf7cb6-1621-49d5-922e-48fe67c20f92",
   "metadata": {},
   "outputs": [],
   "source": [
    "train=process_data(df_train)"
   ]
  },
  {
   "cell_type": "code",
   "execution_count": 33,
   "id": "e1e299b8-21b6-4147-bdcc-3a2525016f88",
   "metadata": {},
   "outputs": [
    {
     "data": {
      "text/html": [
       "<div>\n",
       "<style scoped>\n",
       "    .dataframe tbody tr th:only-of-type {\n",
       "        vertical-align: middle;\n",
       "    }\n",
       "\n",
       "    .dataframe tbody tr th {\n",
       "        vertical-align: top;\n",
       "    }\n",
       "\n",
       "    .dataframe thead th {\n",
       "        text-align: right;\n",
       "    }\n",
       "</style>\n",
       "<table border=\"1\" class=\"dataframe\">\n",
       "  <thead>\n",
       "    <tr style=\"text-align: right;\">\n",
       "      <th></th>\n",
       "      <th>Survived</th>\n",
       "      <th>Pclass</th>\n",
       "      <th>Sex</th>\n",
       "      <th>Age</th>\n",
       "      <th>SibSp</th>\n",
       "      <th>Parch</th>\n",
       "      <th>Ticket</th>\n",
       "      <th>Fare</th>\n",
       "      <th>Embarked</th>\n",
       "      <th>family</th>\n",
       "      <th>pfamily</th>\n",
       "      <th>Age*pclass</th>\n",
       "      <th>Ticket_L</th>\n",
       "      <th>Ticket_N</th>\n",
       "      <th>Ticket_S</th>\n",
       "      <th>TicketL*embarked</th>\n",
       "      <th>TicketN*embarked</th>\n",
       "      <th>TicketS*embarked</th>\n",
       "    </tr>\n",
       "  </thead>\n",
       "  <tbody>\n",
       "    <tr>\n",
       "      <th>0</th>\n",
       "      <td>0</td>\n",
       "      <td>3</td>\n",
       "      <td>1</td>\n",
       "      <td>22.0</td>\n",
       "      <td>1</td>\n",
       "      <td>0</td>\n",
       "      <td>9</td>\n",
       "      <td>7.2500</td>\n",
       "      <td>2.0</td>\n",
       "      <td>2</td>\n",
       "      <td>6</td>\n",
       "      <td>66.0</td>\n",
       "      <td>1</td>\n",
       "      <td>6</td>\n",
       "      <td>1</td>\n",
       "      <td>2.0</td>\n",
       "      <td>12.0</td>\n",
       "      <td>2.0</td>\n",
       "    </tr>\n",
       "    <tr>\n",
       "      <th>1</th>\n",
       "      <td>1</td>\n",
       "      <td>1</td>\n",
       "      <td>0</td>\n",
       "      <td>38.0</td>\n",
       "      <td>1</td>\n",
       "      <td>0</td>\n",
       "      <td>8</td>\n",
       "      <td>65.6344</td>\n",
       "      <td>3.0</td>\n",
       "      <td>2</td>\n",
       "      <td>2</td>\n",
       "      <td>38.0</td>\n",
       "      <td>2</td>\n",
       "      <td>5</td>\n",
       "      <td>0</td>\n",
       "      <td>6.0</td>\n",
       "      <td>15.0</td>\n",
       "      <td>0.0</td>\n",
       "    </tr>\n",
       "    <tr>\n",
       "      <th>2</th>\n",
       "      <td>1</td>\n",
       "      <td>3</td>\n",
       "      <td>0</td>\n",
       "      <td>26.0</td>\n",
       "      <td>0</td>\n",
       "      <td>0</td>\n",
       "      <td>16</td>\n",
       "      <td>7.9250</td>\n",
       "      <td>2.0</td>\n",
       "      <td>1</td>\n",
       "      <td>3</td>\n",
       "      <td>78.0</td>\n",
       "      <td>5</td>\n",
       "      <td>8</td>\n",
       "      <td>2</td>\n",
       "      <td>10.0</td>\n",
       "      <td>16.0</td>\n",
       "      <td>4.0</td>\n",
       "    </tr>\n",
       "    <tr>\n",
       "      <th>3</th>\n",
       "      <td>1</td>\n",
       "      <td>1</td>\n",
       "      <td>0</td>\n",
       "      <td>35.0</td>\n",
       "      <td>1</td>\n",
       "      <td>0</td>\n",
       "      <td>6</td>\n",
       "      <td>53.1000</td>\n",
       "      <td>2.0</td>\n",
       "      <td>2</td>\n",
       "      <td>2</td>\n",
       "      <td>35.0</td>\n",
       "      <td>0</td>\n",
       "      <td>6</td>\n",
       "      <td>0</td>\n",
       "      <td>0.0</td>\n",
       "      <td>12.0</td>\n",
       "      <td>0.0</td>\n",
       "    </tr>\n",
       "    <tr>\n",
       "      <th>4</th>\n",
       "      <td>0</td>\n",
       "      <td>3</td>\n",
       "      <td>1</td>\n",
       "      <td>35.0</td>\n",
       "      <td>0</td>\n",
       "      <td>0</td>\n",
       "      <td>6</td>\n",
       "      <td>8.0500</td>\n",
       "      <td>2.0</td>\n",
       "      <td>1</td>\n",
       "      <td>3</td>\n",
       "      <td>105.0</td>\n",
       "      <td>0</td>\n",
       "      <td>6</td>\n",
       "      <td>0</td>\n",
       "      <td>0.0</td>\n",
       "      <td>12.0</td>\n",
       "      <td>0.0</td>\n",
       "    </tr>\n",
       "  </tbody>\n",
       "</table>\n",
       "</div>"
      ],
      "text/plain": [
       "   Survived  Pclass  Sex   Age  SibSp  Parch  Ticket     Fare  Embarked  \\\n",
       "0         0       3    1  22.0      1      0       9   7.2500       2.0   \n",
       "1         1       1    0  38.0      1      0       8  65.6344       3.0   \n",
       "2         1       3    0  26.0      0      0      16   7.9250       2.0   \n",
       "3         1       1    0  35.0      1      0       6  53.1000       2.0   \n",
       "4         0       3    1  35.0      0      0       6   8.0500       2.0   \n",
       "\n",
       "   family  pfamily  Age*pclass  Ticket_L  Ticket_N  Ticket_S  \\\n",
       "0       2        6        66.0         1         6         1   \n",
       "1       2        2        38.0         2         5         0   \n",
       "2       1        3        78.0         5         8         2   \n",
       "3       2        2        35.0         0         6         0   \n",
       "4       1        3       105.0         0         6         0   \n",
       "\n",
       "   TicketL*embarked  TicketN*embarked  TicketS*embarked  \n",
       "0               2.0              12.0               2.0  \n",
       "1               6.0              15.0               0.0  \n",
       "2              10.0              16.0               4.0  \n",
       "3               0.0              12.0               0.0  \n",
       "4               0.0              12.0               0.0  "
      ]
     },
     "execution_count": 33,
     "metadata": {},
     "output_type": "execute_result"
    }
   ],
   "source": [
    "train.head()"
   ]
  },
  {
   "cell_type": "code",
   "execution_count": 34,
   "id": "03caa94c-8459-417c-8bdc-6c85f5605397",
   "metadata": {},
   "outputs": [
    {
     "data": {
      "text/plain": [
       "Survived            0\n",
       "Pclass              0\n",
       "Sex                 0\n",
       "Age                 0\n",
       "SibSp               0\n",
       "Parch               0\n",
       "Ticket              0\n",
       "Fare                0\n",
       "Embarked            0\n",
       "family              0\n",
       "pfamily             0\n",
       "Age*pclass          0\n",
       "Ticket_L            0\n",
       "Ticket_N            0\n",
       "Ticket_S            0\n",
       "TicketL*embarked    0\n",
       "TicketN*embarked    0\n",
       "TicketS*embarked    0\n",
       "dtype: int64"
      ]
     },
     "execution_count": 34,
     "metadata": {},
     "output_type": "execute_result"
    }
   ],
   "source": [
    "train.isna().sum()"
   ]
  },
  {
   "cell_type": "markdown",
   "id": "21766063-f429-4919-8f86-36819b2cd491",
   "metadata": {},
   "source": [
    "# Defining X and y "
   ]
  },
  {
   "cell_type": "code",
   "execution_count": 35,
   "id": "ea9ca7f9-4e66-4ba5-9f0d-6b0448513c94",
   "metadata": {},
   "outputs": [],
   "source": [
    "X=train.drop('Survived',axis=1)\n",
    "y=train['Survived']"
   ]
  },
  {
   "cell_type": "markdown",
   "id": "c4a90956-109e-4719-aded-588eb3598959",
   "metadata": {},
   "source": [
    "## Scaling using Standard Scaler"
   ]
  },
  {
   "cell_type": "code",
   "execution_count": 36,
   "id": "3a4b309b-9ec6-44a3-b26b-e0aa7a2515c7",
   "metadata": {},
   "outputs": [],
   "source": [
    "sc=StandardScaler()\n",
    "X_scaled= pd.DataFrame(sc.fit_transform(X),columns=X.columns)"
   ]
  },
  {
   "cell_type": "markdown",
   "id": "a95505dc-de33-4e65-8931-28519967d17e",
   "metadata": {},
   "source": [
    "## Train Test Split"
   ]
  },
  {
   "cell_type": "code",
   "execution_count": 37,
   "id": "b8fe19e5-3508-4fab-8751-e18d938dd66e",
   "metadata": {},
   "outputs": [],
   "source": [
    "X_train, X_test, y_train, y_test=train_test_split(X_scaled,y,test_size=0.25,random_state=42)"
   ]
  },
  {
   "cell_type": "markdown",
   "id": "af38f347-b10b-48f8-b7db-13742a99f359",
   "metadata": {},
   "source": [
    "## Make Predictions Function"
   ]
  },
  {
   "cell_type": "code",
   "execution_count": 38,
   "id": "bcefa2eb-16bd-4da3-a40c-2b4e977fbc3f",
   "metadata": {},
   "outputs": [],
   "source": [
    "df_model=pd.DataFrame(columns=['ModelName','Params','TrainAccuracy','TestAccuracy','CVTrain','CVTest','F1Score'])"
   ]
  },
  {
   "cell_type": "code",
   "execution_count": 39,
   "id": "b00589a9-0687-41dc-9743-4a491ecdd9e5",
   "metadata": {},
   "outputs": [],
   "source": [
    "def make_predictions(model,modelname,params):\n",
    "    global df_model\n",
    "    model.fit(X_train,y_train)\n",
    "    y_train_pred=model.predict(X_train)\n",
    "    acc_train=accuracy_score(y_train,y_train_pred)\n",
    "    y_test_pred=model.predict(X_test)\n",
    "    acc_test=accuracy_score(y_test,y_test_pred)\n",
    "    CVtrain=np.mean(cross_val_score(model,X_train,y_train,cv=3))\n",
    "    CVtest=np.mean(cross_val_score(model,X_test,y_test,cv=3))\n",
    "    F1Score=f1_score(y_test,y_test_pred)\n",
    "    r={'ModelName':modelname,'Params':params,'TrainAccuracy':acc_train,'TestAccuracy':acc_test,'CVTrain':CVtrain,'CVTest':CVtest,'F1Score':F1Score}\n",
    "    df_model=df_model.append(r,ignore_index=True)"
   ]
  },
  {
   "cell_type": "markdown",
   "id": "02183b5d-71ec-47b9-af77-2a4a7c75d6cf",
   "metadata": {},
   "source": [
    "# RandomForestClassifier"
   ]
  },
  {
   "cell_type": "code",
   "execution_count": 40,
   "id": "21ea3e15-2e09-4dd3-9144-5e9318538b30",
   "metadata": {},
   "outputs": [],
   "source": [
    "rf_clf=RandomForestClassifier(n_estimators=200,random_state=42)"
   ]
  },
  {
   "cell_type": "code",
   "execution_count": 41,
   "id": "8c7913b2-c12c-4609-bff0-9e5c703e5ebe",
   "metadata": {},
   "outputs": [],
   "source": [
    "make_predictions(rf_clf,'RandomForest','n_estimator=200')"
   ]
  },
  {
   "cell_type": "code",
   "execution_count": 42,
   "id": "9d9cde0d-481d-4ac5-bf44-532460975469",
   "metadata": {},
   "outputs": [
    {
     "data": {
      "text/html": [
       "<div>\n",
       "<style scoped>\n",
       "    .dataframe tbody tr th:only-of-type {\n",
       "        vertical-align: middle;\n",
       "    }\n",
       "\n",
       "    .dataframe tbody tr th {\n",
       "        vertical-align: top;\n",
       "    }\n",
       "\n",
       "    .dataframe thead th {\n",
       "        text-align: right;\n",
       "    }\n",
       "</style>\n",
       "<table border=\"1\" class=\"dataframe\">\n",
       "  <thead>\n",
       "    <tr style=\"text-align: right;\">\n",
       "      <th></th>\n",
       "      <th>ModelName</th>\n",
       "      <th>Params</th>\n",
       "      <th>TrainAccuracy</th>\n",
       "      <th>TestAccuracy</th>\n",
       "      <th>CVTrain</th>\n",
       "      <th>CVTest</th>\n",
       "      <th>F1Score</th>\n",
       "    </tr>\n",
       "  </thead>\n",
       "  <tbody>\n",
       "    <tr>\n",
       "      <th>0</th>\n",
       "      <td>RandomForest</td>\n",
       "      <td>n_estimator=200</td>\n",
       "      <td>0.988024</td>\n",
       "      <td>0.780269</td>\n",
       "      <td>0.800913</td>\n",
       "      <td>0.825105</td>\n",
       "      <td>0.723164</td>\n",
       "    </tr>\n",
       "  </tbody>\n",
       "</table>\n",
       "</div>"
      ],
      "text/plain": [
       "      ModelName           Params TrainAccuracy TestAccuracy   CVTrain  \\\n",
       "0  RandomForest  n_estimator=200      0.988024     0.780269  0.800913   \n",
       "\n",
       "     CVTest   F1Score  \n",
       "0  0.825105  0.723164  "
      ]
     },
     "execution_count": 42,
     "metadata": {},
     "output_type": "execute_result"
    }
   ],
   "source": [
    "df_model"
   ]
  },
  {
   "cell_type": "markdown",
   "id": "c6569e63-1c89-414d-9d6a-f05f1cdeb6a5",
   "metadata": {},
   "source": [
    "# SVM"
   ]
  },
  {
   "cell_type": "code",
   "execution_count": 43,
   "id": "d734ef72-61bf-4a58-a788-483db0877dc0",
   "metadata": {},
   "outputs": [],
   "source": [
    "svm_clf = SVC(gamma=\"auto\")"
   ]
  },
  {
   "cell_type": "code",
   "execution_count": 44,
   "id": "55e3db7d-d68d-4561-af2a-d9867f64be83",
   "metadata": {},
   "outputs": [],
   "source": [
    "make_predictions(svm_clf,'SVM','gamma=auto')"
   ]
  },
  {
   "cell_type": "code",
   "execution_count": 45,
   "id": "4a32eb9a-f32f-4654-b2be-42df5c7b11a0",
   "metadata": {},
   "outputs": [
    {
     "data": {
      "text/html": [
       "<div>\n",
       "<style scoped>\n",
       "    .dataframe tbody tr th:only-of-type {\n",
       "        vertical-align: middle;\n",
       "    }\n",
       "\n",
       "    .dataframe tbody tr th {\n",
       "        vertical-align: top;\n",
       "    }\n",
       "\n",
       "    .dataframe thead th {\n",
       "        text-align: right;\n",
       "    }\n",
       "</style>\n",
       "<table border=\"1\" class=\"dataframe\">\n",
       "  <thead>\n",
       "    <tr style=\"text-align: right;\">\n",
       "      <th></th>\n",
       "      <th>ModelName</th>\n",
       "      <th>Params</th>\n",
       "      <th>TrainAccuracy</th>\n",
       "      <th>TestAccuracy</th>\n",
       "      <th>CVTrain</th>\n",
       "      <th>CVTest</th>\n",
       "      <th>F1Score</th>\n",
       "    </tr>\n",
       "  </thead>\n",
       "  <tbody>\n",
       "    <tr>\n",
       "      <th>0</th>\n",
       "      <td>RandomForest</td>\n",
       "      <td>n_estimator=200</td>\n",
       "      <td>0.988024</td>\n",
       "      <td>0.780269</td>\n",
       "      <td>0.800913</td>\n",
       "      <td>0.825105</td>\n",
       "      <td>0.723164</td>\n",
       "    </tr>\n",
       "    <tr>\n",
       "      <th>1</th>\n",
       "      <td>SVM</td>\n",
       "      <td>gamma=auto</td>\n",
       "      <td>0.83982</td>\n",
       "      <td>0.820628</td>\n",
       "      <td>0.811397</td>\n",
       "      <td>0.807027</td>\n",
       "      <td>0.761905</td>\n",
       "    </tr>\n",
       "  </tbody>\n",
       "</table>\n",
       "</div>"
      ],
      "text/plain": [
       "      ModelName           Params TrainAccuracy TestAccuracy   CVTrain  \\\n",
       "0  RandomForest  n_estimator=200      0.988024     0.780269  0.800913   \n",
       "1           SVM       gamma=auto       0.83982     0.820628  0.811397   \n",
       "\n",
       "     CVTest   F1Score  \n",
       "0  0.825105  0.723164  \n",
       "1  0.807027  0.761905  "
      ]
     },
     "execution_count": 45,
     "metadata": {},
     "output_type": "execute_result"
    }
   ],
   "source": [
    "df_model"
   ]
  },
  {
   "cell_type": "markdown",
   "id": "633aabe3-4ff2-4226-bfbc-b48c7fccb90a",
   "metadata": {},
   "source": [
    "# SGD"
   ]
  },
  {
   "cell_type": "code",
   "execution_count": 46,
   "id": "13789c26-feda-4476-be6d-8205eed2828d",
   "metadata": {},
   "outputs": [],
   "source": [
    "sgd_clf=SGDClassifier()"
   ]
  },
  {
   "cell_type": "code",
   "execution_count": 47,
   "id": "fa27a942-f4cc-4617-a331-ac3f5ae24262",
   "metadata": {},
   "outputs": [],
   "source": [
    "make_predictions(sgd_clf,'SGD','')"
   ]
  },
  {
   "cell_type": "code",
   "execution_count": 48,
   "id": "ba016352-c896-4616-ab9b-433991bb2342",
   "metadata": {},
   "outputs": [
    {
     "data": {
      "text/html": [
       "<div>\n",
       "<style scoped>\n",
       "    .dataframe tbody tr th:only-of-type {\n",
       "        vertical-align: middle;\n",
       "    }\n",
       "\n",
       "    .dataframe tbody tr th {\n",
       "        vertical-align: top;\n",
       "    }\n",
       "\n",
       "    .dataframe thead th {\n",
       "        text-align: right;\n",
       "    }\n",
       "</style>\n",
       "<table border=\"1\" class=\"dataframe\">\n",
       "  <thead>\n",
       "    <tr style=\"text-align: right;\">\n",
       "      <th></th>\n",
       "      <th>ModelName</th>\n",
       "      <th>Params</th>\n",
       "      <th>TrainAccuracy</th>\n",
       "      <th>TestAccuracy</th>\n",
       "      <th>CVTrain</th>\n",
       "      <th>CVTest</th>\n",
       "      <th>F1Score</th>\n",
       "    </tr>\n",
       "  </thead>\n",
       "  <tbody>\n",
       "    <tr>\n",
       "      <th>0</th>\n",
       "      <td>RandomForest</td>\n",
       "      <td>n_estimator=200</td>\n",
       "      <td>0.988024</td>\n",
       "      <td>0.780269</td>\n",
       "      <td>0.800913</td>\n",
       "      <td>0.825105</td>\n",
       "      <td>0.723164</td>\n",
       "    </tr>\n",
       "    <tr>\n",
       "      <th>1</th>\n",
       "      <td>SVM</td>\n",
       "      <td>gamma=auto</td>\n",
       "      <td>0.83982</td>\n",
       "      <td>0.820628</td>\n",
       "      <td>0.811397</td>\n",
       "      <td>0.807027</td>\n",
       "      <td>0.761905</td>\n",
       "    </tr>\n",
       "    <tr>\n",
       "      <th>2</th>\n",
       "      <td>SGD</td>\n",
       "      <td></td>\n",
       "      <td>0.785928</td>\n",
       "      <td>0.834081</td>\n",
       "      <td>0.72905</td>\n",
       "      <td>0.712733</td>\n",
       "      <td>0.783626</td>\n",
       "    </tr>\n",
       "  </tbody>\n",
       "</table>\n",
       "</div>"
      ],
      "text/plain": [
       "      ModelName           Params TrainAccuracy TestAccuracy   CVTrain  \\\n",
       "0  RandomForest  n_estimator=200      0.988024     0.780269  0.800913   \n",
       "1           SVM       gamma=auto       0.83982     0.820628  0.811397   \n",
       "2           SGD                       0.785928     0.834081   0.72905   \n",
       "\n",
       "     CVTest   F1Score  \n",
       "0  0.825105  0.723164  \n",
       "1  0.807027  0.761905  \n",
       "2  0.712733  0.783626  "
      ]
     },
     "execution_count": 48,
     "metadata": {},
     "output_type": "execute_result"
    }
   ],
   "source": [
    "df_model"
   ]
  },
  {
   "cell_type": "markdown",
   "id": "e5f8531b-601d-4ff9-a143-40b69604f847",
   "metadata": {},
   "source": [
    "# Logistic Regression"
   ]
  },
  {
   "cell_type": "code",
   "execution_count": 49,
   "id": "65e7f4d9-e351-4073-af01-014bcff9ae63",
   "metadata": {},
   "outputs": [],
   "source": [
    "lr_clf=LogisticRegression()"
   ]
  },
  {
   "cell_type": "code",
   "execution_count": 50,
   "id": "e07fad6b-de96-484f-9f98-099a233275ab",
   "metadata": {},
   "outputs": [],
   "source": [
    "make_predictions(lr_clf,'Logistic Regression','')"
   ]
  },
  {
   "cell_type": "code",
   "execution_count": 51,
   "id": "0db53626-e6b5-4586-937c-84aaa3dc05b5",
   "metadata": {},
   "outputs": [
    {
     "data": {
      "text/html": [
       "<div>\n",
       "<style scoped>\n",
       "    .dataframe tbody tr th:only-of-type {\n",
       "        vertical-align: middle;\n",
       "    }\n",
       "\n",
       "    .dataframe tbody tr th {\n",
       "        vertical-align: top;\n",
       "    }\n",
       "\n",
       "    .dataframe thead th {\n",
       "        text-align: right;\n",
       "    }\n",
       "</style>\n",
       "<table border=\"1\" class=\"dataframe\">\n",
       "  <thead>\n",
       "    <tr style=\"text-align: right;\">\n",
       "      <th></th>\n",
       "      <th>ModelName</th>\n",
       "      <th>Params</th>\n",
       "      <th>TrainAccuracy</th>\n",
       "      <th>TestAccuracy</th>\n",
       "      <th>CVTrain</th>\n",
       "      <th>CVTest</th>\n",
       "      <th>F1Score</th>\n",
       "    </tr>\n",
       "  </thead>\n",
       "  <tbody>\n",
       "    <tr>\n",
       "      <th>0</th>\n",
       "      <td>RandomForest</td>\n",
       "      <td>n_estimator=200</td>\n",
       "      <td>0.988024</td>\n",
       "      <td>0.780269</td>\n",
       "      <td>0.800913</td>\n",
       "      <td>0.825105</td>\n",
       "      <td>0.723164</td>\n",
       "    </tr>\n",
       "    <tr>\n",
       "      <th>1</th>\n",
       "      <td>SVM</td>\n",
       "      <td>gamma=auto</td>\n",
       "      <td>0.83982</td>\n",
       "      <td>0.820628</td>\n",
       "      <td>0.811397</td>\n",
       "      <td>0.807027</td>\n",
       "      <td>0.761905</td>\n",
       "    </tr>\n",
       "    <tr>\n",
       "      <th>2</th>\n",
       "      <td>SGD</td>\n",
       "      <td></td>\n",
       "      <td>0.785928</td>\n",
       "      <td>0.834081</td>\n",
       "      <td>0.72905</td>\n",
       "      <td>0.712733</td>\n",
       "      <td>0.783626</td>\n",
       "    </tr>\n",
       "    <tr>\n",
       "      <th>3</th>\n",
       "      <td>Logistic Regression</td>\n",
       "      <td></td>\n",
       "      <td>0.806886</td>\n",
       "      <td>0.807175</td>\n",
       "      <td>0.7814</td>\n",
       "      <td>0.806967</td>\n",
       "      <td>0.745562</td>\n",
       "    </tr>\n",
       "  </tbody>\n",
       "</table>\n",
       "</div>"
      ],
      "text/plain": [
       "             ModelName           Params TrainAccuracy TestAccuracy   CVTrain  \\\n",
       "0         RandomForest  n_estimator=200      0.988024     0.780269  0.800913   \n",
       "1                  SVM       gamma=auto       0.83982     0.820628  0.811397   \n",
       "2                  SGD                       0.785928     0.834081   0.72905   \n",
       "3  Logistic Regression                       0.806886     0.807175    0.7814   \n",
       "\n",
       "     CVTest   F1Score  \n",
       "0  0.825105  0.723164  \n",
       "1  0.807027  0.761905  \n",
       "2  0.712733  0.783626  \n",
       "3  0.806967  0.745562  "
      ]
     },
     "execution_count": 51,
     "metadata": {},
     "output_type": "execute_result"
    }
   ],
   "source": [
    "df_model"
   ]
  },
  {
   "cell_type": "markdown",
   "id": "9bfe791a-a54e-45c0-af16-05a9d08f5e5e",
   "metadata": {},
   "source": [
    "# XGBoost"
   ]
  },
  {
   "cell_type": "code",
   "execution_count": 52,
   "id": "3111402d-5905-4dd8-ae35-1e57058c7e88",
   "metadata": {},
   "outputs": [],
   "source": [
    "xgb_clf=xgboost.XGBClassifier()"
   ]
  },
  {
   "cell_type": "code",
   "execution_count": 53,
   "id": "0fa7cc65-bd2c-478a-b969-17f6afc87085",
   "metadata": {},
   "outputs": [
    {
     "name": "stdout",
     "output_type": "stream",
     "text": [
      "[01:50:01] WARNING: C:/Users/Administrator/workspace/xgboost-win64_release_1.5.1/src/learner.cc:1115: Starting in XGBoost 1.3.0, the default evaluation metric used with the objective 'binary:logistic' was changed from 'error' to 'logloss'. Explicitly set eval_metric if you'd like to restore the old behavior.\n",
      "[01:50:02] WARNING: C:/Users/Administrator/workspace/xgboost-win64_release_1.5.1/src/learner.cc:1115: Starting in XGBoost 1.3.0, the default evaluation metric used with the objective 'binary:logistic' was changed from 'error' to 'logloss'. Explicitly set eval_metric if you'd like to restore the old behavior.\n",
      "[01:50:02] WARNING: C:/Users/Administrator/workspace/xgboost-win64_release_1.5.1/src/learner.cc:1115: Starting in XGBoost 1.3.0, the default evaluation metric used with the objective 'binary:logistic' was changed from 'error' to 'logloss'. Explicitly set eval_metric if you'd like to restore the old behavior.\n",
      "[01:50:02] WARNING: C:/Users/Administrator/workspace/xgboost-win64_release_1.5.1/src/learner.cc:1115: Starting in XGBoost 1.3.0, the default evaluation metric used with the objective 'binary:logistic' was changed from 'error' to 'logloss'. Explicitly set eval_metric if you'd like to restore the old behavior.\n",
      "[01:50:02] WARNING: C:/Users/Administrator/workspace/xgboost-win64_release_1.5.1/src/learner.cc:1115: Starting in XGBoost 1.3.0, the default evaluation metric used with the objective 'binary:logistic' was changed from 'error' to 'logloss'. Explicitly set eval_metric if you'd like to restore the old behavior.\n",
      "[01:50:02] WARNING: C:/Users/Administrator/workspace/xgboost-win64_release_1.5.1/src/learner.cc:1115: Starting in XGBoost 1.3.0, the default evaluation metric used with the objective 'binary:logistic' was changed from 'error' to 'logloss'. Explicitly set eval_metric if you'd like to restore the old behavior.\n",
      "[01:50:02] WARNING: C:/Users/Administrator/workspace/xgboost-win64_release_1.5.1/src/learner.cc:1115: Starting in XGBoost 1.3.0, the default evaluation metric used with the objective 'binary:logistic' was changed from 'error' to 'logloss'. Explicitly set eval_metric if you'd like to restore the old behavior.\n"
     ]
    }
   ],
   "source": [
    "make_predictions(xgb_clf,'XGBoost','')"
   ]
  },
  {
   "cell_type": "code",
   "execution_count": 54,
   "id": "efd4a321-3253-4fae-8c3d-baa6296732e1",
   "metadata": {},
   "outputs": [
    {
     "data": {
      "text/html": [
       "<div>\n",
       "<style scoped>\n",
       "    .dataframe tbody tr th:only-of-type {\n",
       "        vertical-align: middle;\n",
       "    }\n",
       "\n",
       "    .dataframe tbody tr th {\n",
       "        vertical-align: top;\n",
       "    }\n",
       "\n",
       "    .dataframe thead th {\n",
       "        text-align: right;\n",
       "    }\n",
       "</style>\n",
       "<table border=\"1\" class=\"dataframe\">\n",
       "  <thead>\n",
       "    <tr style=\"text-align: right;\">\n",
       "      <th></th>\n",
       "      <th>ModelName</th>\n",
       "      <th>Params</th>\n",
       "      <th>TrainAccuracy</th>\n",
       "      <th>TestAccuracy</th>\n",
       "      <th>CVTrain</th>\n",
       "      <th>CVTest</th>\n",
       "      <th>F1Score</th>\n",
       "    </tr>\n",
       "  </thead>\n",
       "  <tbody>\n",
       "    <tr>\n",
       "      <th>0</th>\n",
       "      <td>RandomForest</td>\n",
       "      <td>n_estimator=200</td>\n",
       "      <td>0.988024</td>\n",
       "      <td>0.780269</td>\n",
       "      <td>0.800913</td>\n",
       "      <td>0.825105</td>\n",
       "      <td>0.723164</td>\n",
       "    </tr>\n",
       "    <tr>\n",
       "      <th>1</th>\n",
       "      <td>SVM</td>\n",
       "      <td>gamma=auto</td>\n",
       "      <td>0.83982</td>\n",
       "      <td>0.820628</td>\n",
       "      <td>0.811397</td>\n",
       "      <td>0.807027</td>\n",
       "      <td>0.761905</td>\n",
       "    </tr>\n",
       "    <tr>\n",
       "      <th>2</th>\n",
       "      <td>SGD</td>\n",
       "      <td></td>\n",
       "      <td>0.785928</td>\n",
       "      <td>0.834081</td>\n",
       "      <td>0.72905</td>\n",
       "      <td>0.712733</td>\n",
       "      <td>0.783626</td>\n",
       "    </tr>\n",
       "    <tr>\n",
       "      <th>3</th>\n",
       "      <td>Logistic Regression</td>\n",
       "      <td></td>\n",
       "      <td>0.806886</td>\n",
       "      <td>0.807175</td>\n",
       "      <td>0.7814</td>\n",
       "      <td>0.806967</td>\n",
       "      <td>0.745562</td>\n",
       "    </tr>\n",
       "    <tr>\n",
       "      <th>4</th>\n",
       "      <td>XGBoost</td>\n",
       "      <td></td>\n",
       "      <td>0.98503</td>\n",
       "      <td>0.780269</td>\n",
       "      <td>0.796435</td>\n",
       "      <td>0.816156</td>\n",
       "      <td>0.729282</td>\n",
       "    </tr>\n",
       "  </tbody>\n",
       "</table>\n",
       "</div>"
      ],
      "text/plain": [
       "             ModelName           Params TrainAccuracy TestAccuracy   CVTrain  \\\n",
       "0         RandomForest  n_estimator=200      0.988024     0.780269  0.800913   \n",
       "1                  SVM       gamma=auto       0.83982     0.820628  0.811397   \n",
       "2                  SGD                       0.785928     0.834081   0.72905   \n",
       "3  Logistic Regression                       0.806886     0.807175    0.7814   \n",
       "4              XGBoost                        0.98503     0.780269  0.796435   \n",
       "\n",
       "     CVTest   F1Score  \n",
       "0  0.825105  0.723164  \n",
       "1  0.807027  0.761905  \n",
       "2  0.712733  0.783626  \n",
       "3  0.806967  0.745562  \n",
       "4  0.816156  0.729282  "
      ]
     },
     "execution_count": 54,
     "metadata": {},
     "output_type": "execute_result"
    }
   ],
   "source": [
    "df_model"
   ]
  },
  {
   "cell_type": "markdown",
   "id": "6de81bc3-d25d-40e3-9957-2e34dae12ef0",
   "metadata": {},
   "source": [
    "# KNNClassifier"
   ]
  },
  {
   "cell_type": "code",
   "execution_count": 55,
   "id": "4aa67513-a0b1-46c5-a2ef-632978c526d6",
   "metadata": {},
   "outputs": [],
   "source": [
    "knn_clf=KNeighborsClassifier()"
   ]
  },
  {
   "cell_type": "code",
   "execution_count": 56,
   "id": "4249d371-408a-48ac-ba0b-8c98bd7e4735",
   "metadata": {},
   "outputs": [],
   "source": [
    "make_predictions(knn_clf,'KNeighborsClassifier','')"
   ]
  },
  {
   "cell_type": "code",
   "execution_count": 57,
   "id": "78821efe-5adf-44e8-935f-1d999eda5015",
   "metadata": {},
   "outputs": [
    {
     "data": {
      "text/html": [
       "<div>\n",
       "<style scoped>\n",
       "    .dataframe tbody tr th:only-of-type {\n",
       "        vertical-align: middle;\n",
       "    }\n",
       "\n",
       "    .dataframe tbody tr th {\n",
       "        vertical-align: top;\n",
       "    }\n",
       "\n",
       "    .dataframe thead th {\n",
       "        text-align: right;\n",
       "    }\n",
       "</style>\n",
       "<table border=\"1\" class=\"dataframe\">\n",
       "  <thead>\n",
       "    <tr style=\"text-align: right;\">\n",
       "      <th></th>\n",
       "      <th>ModelName</th>\n",
       "      <th>Params</th>\n",
       "      <th>TrainAccuracy</th>\n",
       "      <th>TestAccuracy</th>\n",
       "      <th>CVTrain</th>\n",
       "      <th>CVTest</th>\n",
       "      <th>F1Score</th>\n",
       "    </tr>\n",
       "  </thead>\n",
       "  <tbody>\n",
       "    <tr>\n",
       "      <th>0</th>\n",
       "      <td>RandomForest</td>\n",
       "      <td>n_estimator=200</td>\n",
       "      <td>0.988024</td>\n",
       "      <td>0.780269</td>\n",
       "      <td>0.800913</td>\n",
       "      <td>0.825105</td>\n",
       "      <td>0.723164</td>\n",
       "    </tr>\n",
       "    <tr>\n",
       "      <th>1</th>\n",
       "      <td>SVM</td>\n",
       "      <td>gamma=auto</td>\n",
       "      <td>0.83982</td>\n",
       "      <td>0.820628</td>\n",
       "      <td>0.811397</td>\n",
       "      <td>0.807027</td>\n",
       "      <td>0.761905</td>\n",
       "    </tr>\n",
       "    <tr>\n",
       "      <th>2</th>\n",
       "      <td>SGD</td>\n",
       "      <td></td>\n",
       "      <td>0.785928</td>\n",
       "      <td>0.834081</td>\n",
       "      <td>0.72905</td>\n",
       "      <td>0.712733</td>\n",
       "      <td>0.783626</td>\n",
       "    </tr>\n",
       "    <tr>\n",
       "      <th>3</th>\n",
       "      <td>Logistic Regression</td>\n",
       "      <td></td>\n",
       "      <td>0.806886</td>\n",
       "      <td>0.807175</td>\n",
       "      <td>0.7814</td>\n",
       "      <td>0.806967</td>\n",
       "      <td>0.745562</td>\n",
       "    </tr>\n",
       "    <tr>\n",
       "      <th>4</th>\n",
       "      <td>XGBoost</td>\n",
       "      <td></td>\n",
       "      <td>0.98503</td>\n",
       "      <td>0.780269</td>\n",
       "      <td>0.796435</td>\n",
       "      <td>0.816156</td>\n",
       "      <td>0.729282</td>\n",
       "    </tr>\n",
       "    <tr>\n",
       "      <th>5</th>\n",
       "      <td>KNeighborsClassifier</td>\n",
       "      <td></td>\n",
       "      <td>0.853293</td>\n",
       "      <td>0.7713</td>\n",
       "      <td>0.78445</td>\n",
       "      <td>0.793694</td>\n",
       "      <td>0.715084</td>\n",
       "    </tr>\n",
       "  </tbody>\n",
       "</table>\n",
       "</div>"
      ],
      "text/plain": [
       "              ModelName           Params TrainAccuracy TestAccuracy   CVTrain  \\\n",
       "0          RandomForest  n_estimator=200      0.988024     0.780269  0.800913   \n",
       "1                   SVM       gamma=auto       0.83982     0.820628  0.811397   \n",
       "2                   SGD                       0.785928     0.834081   0.72905   \n",
       "3   Logistic Regression                       0.806886     0.807175    0.7814   \n",
       "4               XGBoost                        0.98503     0.780269  0.796435   \n",
       "5  KNeighborsClassifier                       0.853293       0.7713   0.78445   \n",
       "\n",
       "     CVTest   F1Score  \n",
       "0  0.825105  0.723164  \n",
       "1  0.807027  0.761905  \n",
       "2  0.712733  0.783626  \n",
       "3  0.806967  0.745562  \n",
       "4  0.816156  0.729282  \n",
       "5  0.793694  0.715084  "
      ]
     },
     "execution_count": 57,
     "metadata": {},
     "output_type": "execute_result"
    }
   ],
   "source": [
    "df_model"
   ]
  },
  {
   "cell_type": "markdown",
   "id": "cea7cdc1-7901-4fe6-90da-fd6bc5e5d698",
   "metadata": {},
   "source": [
    "# CatBoost Classifier"
   ]
  },
  {
   "cell_type": "code",
   "execution_count": 58,
   "id": "f1455aea-9956-45cd-af73-bf3c3d195225",
   "metadata": {},
   "outputs": [],
   "source": [
    "cat_clf=CatBoostClassifier(silent=True)"
   ]
  },
  {
   "cell_type": "code",
   "execution_count": 59,
   "id": "956c544d-9cf5-4e60-a006-b6f165e77644",
   "metadata": {},
   "outputs": [],
   "source": [
    "make_predictions(cat_clf,'CatBoostClf','')"
   ]
  },
  {
   "cell_type": "code",
   "execution_count": 60,
   "id": "19e38d63-f2d2-41ab-8ac1-50ef36ca9ca5",
   "metadata": {},
   "outputs": [
    {
     "data": {
      "text/html": [
       "<div>\n",
       "<style scoped>\n",
       "    .dataframe tbody tr th:only-of-type {\n",
       "        vertical-align: middle;\n",
       "    }\n",
       "\n",
       "    .dataframe tbody tr th {\n",
       "        vertical-align: top;\n",
       "    }\n",
       "\n",
       "    .dataframe thead th {\n",
       "        text-align: right;\n",
       "    }\n",
       "</style>\n",
       "<table border=\"1\" class=\"dataframe\">\n",
       "  <thead>\n",
       "    <tr style=\"text-align: right;\">\n",
       "      <th></th>\n",
       "      <th>ModelName</th>\n",
       "      <th>Params</th>\n",
       "      <th>TrainAccuracy</th>\n",
       "      <th>TestAccuracy</th>\n",
       "      <th>CVTrain</th>\n",
       "      <th>CVTest</th>\n",
       "      <th>F1Score</th>\n",
       "    </tr>\n",
       "  </thead>\n",
       "  <tbody>\n",
       "    <tr>\n",
       "      <th>0</th>\n",
       "      <td>RandomForest</td>\n",
       "      <td>n_estimator=200</td>\n",
       "      <td>0.988024</td>\n",
       "      <td>0.780269</td>\n",
       "      <td>0.800913</td>\n",
       "      <td>0.825105</td>\n",
       "      <td>0.723164</td>\n",
       "    </tr>\n",
       "    <tr>\n",
       "      <th>1</th>\n",
       "      <td>SVM</td>\n",
       "      <td>gamma=auto</td>\n",
       "      <td>0.83982</td>\n",
       "      <td>0.820628</td>\n",
       "      <td>0.811397</td>\n",
       "      <td>0.807027</td>\n",
       "      <td>0.761905</td>\n",
       "    </tr>\n",
       "    <tr>\n",
       "      <th>2</th>\n",
       "      <td>SGD</td>\n",
       "      <td></td>\n",
       "      <td>0.785928</td>\n",
       "      <td>0.834081</td>\n",
       "      <td>0.72905</td>\n",
       "      <td>0.712733</td>\n",
       "      <td>0.783626</td>\n",
       "    </tr>\n",
       "    <tr>\n",
       "      <th>3</th>\n",
       "      <td>Logistic Regression</td>\n",
       "      <td></td>\n",
       "      <td>0.806886</td>\n",
       "      <td>0.807175</td>\n",
       "      <td>0.7814</td>\n",
       "      <td>0.806967</td>\n",
       "      <td>0.745562</td>\n",
       "    </tr>\n",
       "    <tr>\n",
       "      <th>4</th>\n",
       "      <td>XGBoost</td>\n",
       "      <td></td>\n",
       "      <td>0.98503</td>\n",
       "      <td>0.780269</td>\n",
       "      <td>0.796435</td>\n",
       "      <td>0.816156</td>\n",
       "      <td>0.729282</td>\n",
       "    </tr>\n",
       "    <tr>\n",
       "      <th>5</th>\n",
       "      <td>KNeighborsClassifier</td>\n",
       "      <td></td>\n",
       "      <td>0.853293</td>\n",
       "      <td>0.7713</td>\n",
       "      <td>0.78445</td>\n",
       "      <td>0.793694</td>\n",
       "      <td>0.715084</td>\n",
       "    </tr>\n",
       "    <tr>\n",
       "      <th>6</th>\n",
       "      <td>CatBoostClf</td>\n",
       "      <td></td>\n",
       "      <td>0.92515</td>\n",
       "      <td>0.820628</td>\n",
       "      <td>0.814373</td>\n",
       "      <td>0.807087</td>\n",
       "      <td>0.756098</td>\n",
       "    </tr>\n",
       "  </tbody>\n",
       "</table>\n",
       "</div>"
      ],
      "text/plain": [
       "              ModelName           Params TrainAccuracy TestAccuracy   CVTrain  \\\n",
       "0          RandomForest  n_estimator=200      0.988024     0.780269  0.800913   \n",
       "1                   SVM       gamma=auto       0.83982     0.820628  0.811397   \n",
       "2                   SGD                       0.785928     0.834081   0.72905   \n",
       "3   Logistic Regression                       0.806886     0.807175    0.7814   \n",
       "4               XGBoost                        0.98503     0.780269  0.796435   \n",
       "5  KNeighborsClassifier                       0.853293       0.7713   0.78445   \n",
       "6           CatBoostClf                        0.92515     0.820628  0.814373   \n",
       "\n",
       "     CVTest   F1Score  \n",
       "0  0.825105  0.723164  \n",
       "1  0.807027  0.761905  \n",
       "2  0.712733  0.783626  \n",
       "3  0.806967  0.745562  \n",
       "4  0.816156  0.729282  \n",
       "5  0.793694  0.715084  \n",
       "6  0.807087  0.756098  "
      ]
     },
     "execution_count": 60,
     "metadata": {},
     "output_type": "execute_result"
    }
   ],
   "source": [
    "df_model"
   ]
  },
  {
   "cell_type": "code",
   "execution_count": 61,
   "id": "5b4154fa-1340-41d4-b20a-968af5e8b4e0",
   "metadata": {},
   "outputs": [
    {
     "data": {
      "text/html": [
       "<div>\n",
       "<style scoped>\n",
       "    .dataframe tbody tr th:only-of-type {\n",
       "        vertical-align: middle;\n",
       "    }\n",
       "\n",
       "    .dataframe tbody tr th {\n",
       "        vertical-align: top;\n",
       "    }\n",
       "\n",
       "    .dataframe thead th {\n",
       "        text-align: right;\n",
       "    }\n",
       "</style>\n",
       "<table border=\"1\" class=\"dataframe\">\n",
       "  <thead>\n",
       "    <tr style=\"text-align: right;\">\n",
       "      <th></th>\n",
       "      <th>ModelName</th>\n",
       "      <th>Params</th>\n",
       "      <th>TrainAccuracy</th>\n",
       "      <th>TestAccuracy</th>\n",
       "      <th>CVTrain</th>\n",
       "      <th>CVTest</th>\n",
       "      <th>F1Score</th>\n",
       "    </tr>\n",
       "  </thead>\n",
       "  <tbody>\n",
       "    <tr>\n",
       "      <th>6</th>\n",
       "      <td>CatBoostClf</td>\n",
       "      <td></td>\n",
       "      <td>0.92515</td>\n",
       "      <td>0.820628</td>\n",
       "      <td>0.814373</td>\n",
       "      <td>0.807087</td>\n",
       "      <td>0.756098</td>\n",
       "    </tr>\n",
       "    <tr>\n",
       "      <th>1</th>\n",
       "      <td>SVM</td>\n",
       "      <td>gamma=auto</td>\n",
       "      <td>0.83982</td>\n",
       "      <td>0.820628</td>\n",
       "      <td>0.811397</td>\n",
       "      <td>0.807027</td>\n",
       "      <td>0.761905</td>\n",
       "    </tr>\n",
       "    <tr>\n",
       "      <th>0</th>\n",
       "      <td>RandomForest</td>\n",
       "      <td>n_estimator=200</td>\n",
       "      <td>0.988024</td>\n",
       "      <td>0.780269</td>\n",
       "      <td>0.800913</td>\n",
       "      <td>0.825105</td>\n",
       "      <td>0.723164</td>\n",
       "    </tr>\n",
       "    <tr>\n",
       "      <th>4</th>\n",
       "      <td>XGBoost</td>\n",
       "      <td></td>\n",
       "      <td>0.98503</td>\n",
       "      <td>0.780269</td>\n",
       "      <td>0.796435</td>\n",
       "      <td>0.816156</td>\n",
       "      <td>0.729282</td>\n",
       "    </tr>\n",
       "    <tr>\n",
       "      <th>5</th>\n",
       "      <td>KNeighborsClassifier</td>\n",
       "      <td></td>\n",
       "      <td>0.853293</td>\n",
       "      <td>0.7713</td>\n",
       "      <td>0.78445</td>\n",
       "      <td>0.793694</td>\n",
       "      <td>0.715084</td>\n",
       "    </tr>\n",
       "    <tr>\n",
       "      <th>3</th>\n",
       "      <td>Logistic Regression</td>\n",
       "      <td></td>\n",
       "      <td>0.806886</td>\n",
       "      <td>0.807175</td>\n",
       "      <td>0.7814</td>\n",
       "      <td>0.806967</td>\n",
       "      <td>0.745562</td>\n",
       "    </tr>\n",
       "    <tr>\n",
       "      <th>2</th>\n",
       "      <td>SGD</td>\n",
       "      <td></td>\n",
       "      <td>0.785928</td>\n",
       "      <td>0.834081</td>\n",
       "      <td>0.72905</td>\n",
       "      <td>0.712733</td>\n",
       "      <td>0.783626</td>\n",
       "    </tr>\n",
       "  </tbody>\n",
       "</table>\n",
       "</div>"
      ],
      "text/plain": [
       "              ModelName           Params TrainAccuracy TestAccuracy   CVTrain  \\\n",
       "6           CatBoostClf                        0.92515     0.820628  0.814373   \n",
       "1                   SVM       gamma=auto       0.83982     0.820628  0.811397   \n",
       "0          RandomForest  n_estimator=200      0.988024     0.780269  0.800913   \n",
       "4               XGBoost                        0.98503     0.780269  0.796435   \n",
       "5  KNeighborsClassifier                       0.853293       0.7713   0.78445   \n",
       "3   Logistic Regression                       0.806886     0.807175    0.7814   \n",
       "2                   SGD                       0.785928     0.834081   0.72905   \n",
       "\n",
       "     CVTest   F1Score  \n",
       "6  0.807087  0.756098  \n",
       "1  0.807027  0.761905  \n",
       "0  0.825105  0.723164  \n",
       "4  0.816156  0.729282  \n",
       "5  0.793694  0.715084  \n",
       "3  0.806967  0.745562  \n",
       "2  0.712733  0.783626  "
      ]
     },
     "execution_count": 61,
     "metadata": {},
     "output_type": "execute_result"
    }
   ],
   "source": [
    "df_model.sort_values('CVTrain',ascending=False)"
   ]
  },
  {
   "cell_type": "markdown",
   "id": "8007ec9b-8e3b-40e2-96f1-8895426f9022",
   "metadata": {},
   "source": [
    "CatBoostClassifier is performing better than all others. Top 3 Models are CatBoost,SVM,KNN"
   ]
  },
  {
   "cell_type": "markdown",
   "id": "6384a47d-382e-4057-aca4-0f0de99d105c",
   "metadata": {},
   "source": [
    "# Train Dataset "
   ]
  },
  {
   "cell_type": "code",
   "execution_count": 62,
   "id": "7dd17c6f-cdc4-471d-af13-9aefd2471ce8",
   "metadata": {},
   "outputs": [],
   "source": [
    "test_raw=pd.read_csv('test.csv')"
   ]
  },
  {
   "cell_type": "code",
   "execution_count": 63,
   "id": "edd0f622-316f-4b38-b4eb-765a122aab8c",
   "metadata": {},
   "outputs": [],
   "source": [
    "test_df=process_data(test_raw)"
   ]
  },
  {
   "cell_type": "code",
   "execution_count": 64,
   "id": "138c60e4-450d-44bd-ab6f-ce4c20cbe712",
   "metadata": {},
   "outputs": [],
   "source": [
    "sc=StandardScaler()\n",
    "test_scaled=sc.fit_transform(test_df)"
   ]
  },
  {
   "cell_type": "markdown",
   "id": "afce6214-0c2b-4191-bcf1-d767918505c0",
   "metadata": {},
   "source": [
    "# Ensembling Top 4 Models"
   ]
  },
  {
   "cell_type": "code",
   "execution_count": 65,
   "id": "15c3697a-1079-4929-ae71-82b76da5ff2d",
   "metadata": {},
   "outputs": [],
   "source": [
    "testlabels_pred_cat=cat_clf.predict(test_scaled)\n",
    "testlabels_pred_svm=svm_clf.predict(test_scaled)\n",
    "testlabels_pred_knn=knn_clf.predict(test_scaled)\n",
    "testlabels_pred_xgb=xgb_clf.predict(test_scaled)"
   ]
  },
  {
   "cell_type": "code",
   "execution_count": 66,
   "id": "0a58f48b-e887-4823-8b7d-c8eff2338e58",
   "metadata": {},
   "outputs": [],
   "source": [
    "test_lables=(2*testlabels_pred_cat+1.2*testlabels_pred_svm+1.1*testlabels_pred_xgb+0.7*testlabels_pred_knn)/4"
   ]
  },
  {
   "cell_type": "code",
   "execution_count": 67,
   "id": "1fe1820d-1d6a-407e-a18d-0da818eb9fd4",
   "metadata": {},
   "outputs": [],
   "source": [
    "test_lables=np.where(test_lables>0.7,1,0)"
   ]
  },
  {
   "cell_type": "code",
   "execution_count": 68,
   "id": "fb3c7616-c66c-42b0-ac49-eb21a76b3f0a",
   "metadata": {},
   "outputs": [],
   "source": [
    "test_raw['Survived']=test_lables"
   ]
  },
  {
   "cell_type": "code",
   "execution_count": 69,
   "id": "28b96a05-005e-40c8-a27d-57c64e3a0b50",
   "metadata": {},
   "outputs": [],
   "source": [
    "test_raw=test_raw[['PassengerId','Survived']]"
   ]
  },
  {
   "cell_type": "code",
   "execution_count": 70,
   "id": "483f5bf1-0e40-46c9-94f0-9764d415a6c3",
   "metadata": {},
   "outputs": [],
   "source": [
    "test_raw.to_csv('Submission_Siddharth.csv',index=False)"
   ]
  },
  {
   "cell_type": "code",
   "execution_count": 71,
   "id": "917fa463-954b-40be-b4e2-d1cbb0c39f1b",
   "metadata": {},
   "outputs": [
    {
     "data": {
      "image/jpeg": "[encoded data removed]",
      "text/plain": [
       "<IPython.core.display.Image object>"
      ]
     },
     "execution_count": 71,
     "metadata": {},
     "output_type": "execute_result"
    }
   ],
   "source": [
    "Image(filename='score.jpg') "
   ]
  },
  {
   "cell_type": "markdown",
   "id": "64d4a88d-9e60-441c-95d0-c792a666a098",
   "metadata": {},
   "source": [
    "# Thank You"
   ]
  },
  {
   "cell_type": "code",
   "execution_count": null,
   "id": "c77a4887-caf2-4313-b202-bba1d2ab7e20",
   "metadata": {},
   "outputs": [],
   "source": []
  }
 ],
 "metadata": {
  "kernelspec": {
   "display_name": "Python 3 (ipykernel)",
   "language": "python",
   "name": "python3"
  },
  "language_info": {
   "codemirror_mode": {
    "name": "ipython",
    "version": 3
   },
   "file_extension": ".py",
   "mimetype": "text/x-python",
   "name": "python",
   "nbconvert_exporter": "python",
   "pygments_lexer": "ipython3",
   "version": "3.9.7"
  }
 },
 "nbformat": 4,
 "nbformat_minor": 5
}
